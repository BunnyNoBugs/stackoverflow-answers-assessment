{
 "cells": [
  {
   "cell_type": "code",
   "id": "initial_id",
   "metadata": {
    "collapsed": true,
    "ExecuteTime": {
     "end_time": "2025-04-21T13:12:18.803862Z",
     "start_time": "2025-04-21T13:12:18.792559Z"
    }
   },
   "source": "import pandas as pd",
   "outputs": [],
   "execution_count": 2
  },
  {
   "metadata": {
    "ExecuteTime": {
     "end_time": "2025-04-21T13:23:57.484932Z",
     "start_time": "2025-04-21T13:23:57.453239Z"
    }
   },
   "cell_type": "code",
   "source": "bib = pd.read_csv('NLP4Code.csv')",
   "id": "d74d74cbff2c8c4b",
   "outputs": [],
   "execution_count": 14
  },
  {
   "metadata": {
    "ExecuteTime": {
     "end_time": "2025-04-21T13:25:06.938708Z",
     "start_time": "2025-04-21T13:25:06.923120Z"
    }
   },
   "cell_type": "code",
   "source": "bib[bib['Abstract Note'].isna()]['Abstract Note'].apply(str)",
   "id": "a0ad7673f97b54af",
   "outputs": [
    {
     "data": {
      "text/plain": [
       "41    nan\n",
       "64    nan\n",
       "66    nan\n",
       "67    nan\n",
       "69    nan\n",
       "72    nan\n",
       "73    nan\n",
       "Name: Abstract Note, dtype: object"
      ]
     },
     "execution_count": 24,
     "metadata": {},
     "output_type": "execute_result"
    }
   ],
   "execution_count": 24
  },
  {
   "metadata": {
    "ExecuteTime": {
     "end_time": "2025-04-21T13:27:49.810396Z",
     "start_time": "2025-04-21T13:27:49.784241Z"
    }
   },
   "cell_type": "code",
   "source": "abstracts = bib.apply(lambda x: '\\n'.join([x['Title'], str(x['Author']), f\"Year: {str(x['Publication Year']).split('.')[0]}\", 'Abstract:', str(x['Abstract Note'])]), axis=1)",
   "id": "48a73739bec2fa46",
   "outputs": [],
   "execution_count": 35
  },
  {
   "metadata": {
    "ExecuteTime": {
     "end_time": "2025-04-21T13:27:50.358387Z",
     "start_time": "2025-04-21T13:27:50.342834Z"
    }
   },
   "cell_type": "code",
   "source": "abstracts = '\\n\\n'.join(abstracts)",
   "id": "26c106c0384e56e4",
   "outputs": [],
   "execution_count": 36
  },
  {
   "metadata": {
    "ExecuteTime": {
     "end_time": "2025-04-21T13:27:50.756807Z",
     "start_time": "2025-04-21T13:27:50.726919Z"
    }
   },
   "cell_type": "code",
   "source": [
    "with open('nlp4code.txt', 'w', encoding='utf-8') as f:\n",
    "    f.write(abstracts)"
   ],
   "id": "9b054f61a2abf20",
   "outputs": [],
   "execution_count": 37
  },
  {
   "metadata": {},
   "cell_type": "code",
   "outputs": [],
   "execution_count": null,
   "source": "",
   "id": "c63df64968b255c6"
  }
 ],
 "metadata": {
  "kernelspec": {
   "display_name": "Python 3",
   "language": "python",
   "name": "python3"
  },
  "language_info": {
   "codemirror_mode": {
    "name": "ipython",
    "version": 2
   },
   "file_extension": ".py",
   "mimetype": "text/x-python",
   "name": "python",
   "nbconvert_exporter": "python",
   "pygments_lexer": "ipython2",
   "version": "2.7.6"
  }
 },
 "nbformat": 4,
 "nbformat_minor": 5
}
