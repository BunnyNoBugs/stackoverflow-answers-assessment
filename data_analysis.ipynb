{
 "cells": [
  {
   "metadata": {},
   "cell_type": "markdown",
   "source": "# Dalip data analysis",
   "id": "70157e8821ce84b0"
  },
  {
   "metadata": {
    "collapsed": true,
    "ExecuteTime": {
     "end_time": "2025-03-14T18:53:44.734625Z",
     "start_time": "2025-03-14T18:53:44.720286Z"
    }
   },
   "cell_type": "code",
   "outputs": [],
   "execution_count": 3,
   "source": [
    "import pandas as pd\n",
    "import seaborn as sns"
   ],
   "id": "initial_id"
  },
  {
   "metadata": {
    "ExecuteTime": {
     "end_time": "2025-03-14T18:53:45.350332Z",
     "start_time": "2025-03-14T18:53:44.783149Z"
    }
   },
   "cell_type": "code",
   "source": "so_df = pd.read_csv('data/stackoverflow_1_50000.csv')",
   "id": "3e3449d0e5e7ac1b",
   "outputs": [],
   "execution_count": 4
  },
  {
   "metadata": {
    "ExecuteTime": {
     "end_time": "2025-03-14T18:53:45.414439Z",
     "start_time": "2025-03-14T18:53:45.380296Z"
    }
   },
   "cell_type": "code",
   "source": "so_df.head()",
   "id": "88c835855e0689cf",
   "outputs": [
    {
     "data": {
      "text/plain": [
       "   Id  PostTypeId  AcceptedAnswerId  ParentId         CreationDate  Score  \\\n",
       "0   4           1               7.0       NaN  2008-07-31 21:42:52    117   \n",
       "1   6           1              31.0       NaN  2008-07-31 22:08:08     33   \n",
       "2   7           2               NaN       4.0  2008-07-31 22:17:57    111   \n",
       "3   8           1             162.0       NaN  2008-07-31 23:33:19     17   \n",
       "4   9           1            1404.0       NaN  2008-07-31 23:40:59    272   \n",
       "\n",
       "   ViewCount                                               Body  OwnerUserId  \\\n",
       "0     8739.0  <p>I'm new to C#, and I want to use a track-ba...          8.0   \n",
       "1     2761.0  <p>I have an absolutely positioned <code>div</...          9.0   \n",
       "2        NaN  <p>An explicit cast to double isn't necessary....          9.0   \n",
       "3     1405.0  <p>Are there any conversion tools for porting ...          9.0   \n",
       "4    74315.0  <p>Given a <code>DateTime</code> representing ...          1.0   \n",
       "\n",
       "  OwnerDisplayName  ...         LastEditDate     LastActivityDate  \\\n",
       "0              NaN  ...  2012-02-26 13:46:05  2012-03-06 08:07:53   \n",
       "1              NaN  ...  2012-02-26 13:47:20  2012-02-26 13:47:20   \n",
       "2              NaN  ...  2010-02-02 19:38:14  2010-02-02 19:38:14   \n",
       "3              NaN  ...  2012-02-26 13:49:17  2012-02-26 13:49:17   \n",
       "4              NaN  ...  2012-02-26 13:50:29  2012-02-26 13:50:29   \n",
       "\n",
       "                                               Title  \\\n",
       "0  When setting a form's opacity should I use a d...   \n",
       "1  Why doesn't the percentage width child in abso...   \n",
       "2                                                NaN   \n",
       "3  Are there any conversion tools for porting Vis...   \n",
       "4            How do I calculate someone's age in C#?   \n",
       "\n",
       "                                     Tags AnswerCount CommentCount  \\\n",
       "0          <c#><winforms><forms><opacity>        12.0         16.0   \n",
       "1  <html><css><css3><internet-explorer-7>         5.0          5.0   \n",
       "2                                     NaN         NaN          2.0   \n",
       "3                      <c#><j#><visualj#>         3.0          0.0   \n",
       "4              <c#><.net><math><datetime>        31.0          5.0   \n",
       "\n",
       "   FavoriteCount  ClosedDate   CommunityOwnedDate RowNum  \n",
       "0           13.0         NaN                  NaN      1  \n",
       "1            2.0         NaN                  NaN      2  \n",
       "2            NaN         NaN                  NaN      3  \n",
       "3            1.0         NaN                  NaN      4  \n",
       "4          132.0         NaN  2011-08-16 19:40:43      5  \n",
       "\n",
       "[5 rows x 22 columns]"
      ],
      "text/html": [
       "<div>\n",
       "<style scoped>\n",
       "    .dataframe tbody tr th:only-of-type {\n",
       "        vertical-align: middle;\n",
       "    }\n",
       "\n",
       "    .dataframe tbody tr th {\n",
       "        vertical-align: top;\n",
       "    }\n",
       "\n",
       "    .dataframe thead th {\n",
       "        text-align: right;\n",
       "    }\n",
       "</style>\n",
       "<table border=\"1\" class=\"dataframe\">\n",
       "  <thead>\n",
       "    <tr style=\"text-align: right;\">\n",
       "      <th></th>\n",
       "      <th>Id</th>\n",
       "      <th>PostTypeId</th>\n",
       "      <th>AcceptedAnswerId</th>\n",
       "      <th>ParentId</th>\n",
       "      <th>CreationDate</th>\n",
       "      <th>Score</th>\n",
       "      <th>ViewCount</th>\n",
       "      <th>Body</th>\n",
       "      <th>OwnerUserId</th>\n",
       "      <th>OwnerDisplayName</th>\n",
       "      <th>...</th>\n",
       "      <th>LastEditDate</th>\n",
       "      <th>LastActivityDate</th>\n",
       "      <th>Title</th>\n",
       "      <th>Tags</th>\n",
       "      <th>AnswerCount</th>\n",
       "      <th>CommentCount</th>\n",
       "      <th>FavoriteCount</th>\n",
       "      <th>ClosedDate</th>\n",
       "      <th>CommunityOwnedDate</th>\n",
       "      <th>RowNum</th>\n",
       "    </tr>\n",
       "  </thead>\n",
       "  <tbody>\n",
       "    <tr>\n",
       "      <th>0</th>\n",
       "      <td>4</td>\n",
       "      <td>1</td>\n",
       "      <td>7.0</td>\n",
       "      <td>NaN</td>\n",
       "      <td>2008-07-31 21:42:52</td>\n",
       "      <td>117</td>\n",
       "      <td>8739.0</td>\n",
       "      <td>&lt;p&gt;I'm new to C#, and I want to use a track-ba...</td>\n",
       "      <td>8.0</td>\n",
       "      <td>NaN</td>\n",
       "      <td>...</td>\n",
       "      <td>2012-02-26 13:46:05</td>\n",
       "      <td>2012-03-06 08:07:53</td>\n",
       "      <td>When setting a form's opacity should I use a d...</td>\n",
       "      <td>&lt;c#&gt;&lt;winforms&gt;&lt;forms&gt;&lt;opacity&gt;</td>\n",
       "      <td>12.0</td>\n",
       "      <td>16.0</td>\n",
       "      <td>13.0</td>\n",
       "      <td>NaN</td>\n",
       "      <td>NaN</td>\n",
       "      <td>1</td>\n",
       "    </tr>\n",
       "    <tr>\n",
       "      <th>1</th>\n",
       "      <td>6</td>\n",
       "      <td>1</td>\n",
       "      <td>31.0</td>\n",
       "      <td>NaN</td>\n",
       "      <td>2008-07-31 22:08:08</td>\n",
       "      <td>33</td>\n",
       "      <td>2761.0</td>\n",
       "      <td>&lt;p&gt;I have an absolutely positioned &lt;code&gt;div&lt;/...</td>\n",
       "      <td>9.0</td>\n",
       "      <td>NaN</td>\n",
       "      <td>...</td>\n",
       "      <td>2012-02-26 13:47:20</td>\n",
       "      <td>2012-02-26 13:47:20</td>\n",
       "      <td>Why doesn't the percentage width child in abso...</td>\n",
       "      <td>&lt;html&gt;&lt;css&gt;&lt;css3&gt;&lt;internet-explorer-7&gt;</td>\n",
       "      <td>5.0</td>\n",
       "      <td>5.0</td>\n",
       "      <td>2.0</td>\n",
       "      <td>NaN</td>\n",
       "      <td>NaN</td>\n",
       "      <td>2</td>\n",
       "    </tr>\n",
       "    <tr>\n",
       "      <th>2</th>\n",
       "      <td>7</td>\n",
       "      <td>2</td>\n",
       "      <td>NaN</td>\n",
       "      <td>4.0</td>\n",
       "      <td>2008-07-31 22:17:57</td>\n",
       "      <td>111</td>\n",
       "      <td>NaN</td>\n",
       "      <td>&lt;p&gt;An explicit cast to double isn't necessary....</td>\n",
       "      <td>9.0</td>\n",
       "      <td>NaN</td>\n",
       "      <td>...</td>\n",
       "      <td>2010-02-02 19:38:14</td>\n",
       "      <td>2010-02-02 19:38:14</td>\n",
       "      <td>NaN</td>\n",
       "      <td>NaN</td>\n",
       "      <td>NaN</td>\n",
       "      <td>2.0</td>\n",
       "      <td>NaN</td>\n",
       "      <td>NaN</td>\n",
       "      <td>NaN</td>\n",
       "      <td>3</td>\n",
       "    </tr>\n",
       "    <tr>\n",
       "      <th>3</th>\n",
       "      <td>8</td>\n",
       "      <td>1</td>\n",
       "      <td>162.0</td>\n",
       "      <td>NaN</td>\n",
       "      <td>2008-07-31 23:33:19</td>\n",
       "      <td>17</td>\n",
       "      <td>1405.0</td>\n",
       "      <td>&lt;p&gt;Are there any conversion tools for porting ...</td>\n",
       "      <td>9.0</td>\n",
       "      <td>NaN</td>\n",
       "      <td>...</td>\n",
       "      <td>2012-02-26 13:49:17</td>\n",
       "      <td>2012-02-26 13:49:17</td>\n",
       "      <td>Are there any conversion tools for porting Vis...</td>\n",
       "      <td>&lt;c#&gt;&lt;j#&gt;&lt;visualj#&gt;</td>\n",
       "      <td>3.0</td>\n",
       "      <td>0.0</td>\n",
       "      <td>1.0</td>\n",
       "      <td>NaN</td>\n",
       "      <td>NaN</td>\n",
       "      <td>4</td>\n",
       "    </tr>\n",
       "    <tr>\n",
       "      <th>4</th>\n",
       "      <td>9</td>\n",
       "      <td>1</td>\n",
       "      <td>1404.0</td>\n",
       "      <td>NaN</td>\n",
       "      <td>2008-07-31 23:40:59</td>\n",
       "      <td>272</td>\n",
       "      <td>74315.0</td>\n",
       "      <td>&lt;p&gt;Given a &lt;code&gt;DateTime&lt;/code&gt; representing ...</td>\n",
       "      <td>1.0</td>\n",
       "      <td>NaN</td>\n",
       "      <td>...</td>\n",
       "      <td>2012-02-26 13:50:29</td>\n",
       "      <td>2012-02-26 13:50:29</td>\n",
       "      <td>How do I calculate someone's age in C#?</td>\n",
       "      <td>&lt;c#&gt;&lt;.net&gt;&lt;math&gt;&lt;datetime&gt;</td>\n",
       "      <td>31.0</td>\n",
       "      <td>5.0</td>\n",
       "      <td>132.0</td>\n",
       "      <td>NaN</td>\n",
       "      <td>2011-08-16 19:40:43</td>\n",
       "      <td>5</td>\n",
       "    </tr>\n",
       "  </tbody>\n",
       "</table>\n",
       "<p>5 rows × 22 columns</p>\n",
       "</div>"
      ]
     },
     "execution_count": 5,
     "metadata": {},
     "output_type": "execute_result"
    }
   ],
   "execution_count": 5
  },
  {
   "metadata": {
    "ExecuteTime": {
     "end_time": "2025-03-10T13:46:34.236261Z",
     "start_time": "2025-03-10T13:46:34.216262Z"
    }
   },
   "cell_type": "code",
   "source": "so_df['PostTypeId'].value_counts()",
   "id": "e80c62f257a750e2",
   "outputs": [
    {
     "data": {
      "text/plain": [
       "2    41100\n",
       "1     8900\n",
       "Name: PostTypeId, dtype: int64"
      ]
     },
     "execution_count": 15,
     "metadata": {},
     "output_type": "execute_result"
    }
   ],
   "execution_count": 15
  },
  {
   "metadata": {
    "ExecuteTime": {
     "end_time": "2025-03-10T13:46:22.444649Z",
     "start_time": "2025-03-10T13:46:22.435662Z"
    }
   },
   "cell_type": "code",
   "source": "so_df['PostTypeId'].value_counts(normalize=True)",
   "id": "62ccbf98c4ee2e5",
   "outputs": [
    {
     "data": {
      "text/plain": [
       "2    0.822\n",
       "1    0.178\n",
       "Name: PostTypeId, dtype: float64"
      ]
     },
     "execution_count": 13,
     "metadata": {},
     "output_type": "execute_result"
    }
   ],
   "execution_count": 13
  },
  {
   "metadata": {
    "ExecuteTime": {
     "end_time": "2025-03-10T13:54:48.510496Z",
     "start_time": "2025-03-10T13:54:48.496474Z"
    }
   },
   "cell_type": "code",
   "source": "so_df['ParentId'].describe()",
   "id": "9687733fea148657",
   "outputs": [
    {
     "data": {
      "text/plain": [
       "count     41100.000000\n",
       "mean      34584.406886\n",
       "std       22898.676696\n",
       "min           4.000000\n",
       "25%       16074.000000\n",
       "50%       34396.500000\n",
       "75%       52598.000000\n",
       "max      654275.000000\n",
       "Name: ParentId, dtype: float64"
      ]
     },
     "execution_count": 33,
     "metadata": {},
     "output_type": "execute_result"
    }
   ],
   "execution_count": 33
  },
  {
   "metadata": {
    "ExecuteTime": {
     "end_time": "2025-03-10T13:58:08.232945Z",
     "start_time": "2025-03-10T13:58:08.220946Z"
    }
   },
   "cell_type": "code",
   "source": "so_df['ParentId'].quantile(0.95)",
   "id": "6da0759bad0e3c6e",
   "outputs": [
    {
     "data": {
      "text/plain": [
       "66164.04999999999"
      ]
     },
     "execution_count": 38,
     "metadata": {},
     "output_type": "execute_result"
    }
   ],
   "execution_count": 38
  },
  {
   "metadata": {
    "ExecuteTime": {
     "end_time": "2025-03-10T14:05:43.976450Z",
     "start_time": "2025-03-10T14:05:43.832354Z"
    }
   },
   "cell_type": "code",
   "source": "so_df['ParentId'].loc[lambda x: x < 100000].hist()",
   "id": "71090f14079cdd3e",
   "outputs": [
    {
     "data": {
      "text/plain": [
       "<AxesSubplot:>"
      ]
     },
     "execution_count": 42,
     "metadata": {},
     "output_type": "execute_result"
    },
    {
     "data": {
      "text/plain": [
       "<Figure size 432x288 with 1 Axes>"
      ],
      "image/png": "[encoded data removed]"
     },
     "metadata": {
      "needs_background": "light"
     },
     "output_type": "display_data"
    }
   ],
   "execution_count": 42
  },
  {
   "metadata": {
    "ExecuteTime": {
     "end_time": "2025-03-10T14:08:04.213309Z",
     "start_time": "2025-03-10T14:08:03.970279Z"
    }
   },
   "cell_type": "code",
   "source": "sns.violinplot(data=so_df[so_df['ParentId'] < 100000], x='ParentId')",
   "id": "7c5c294c3973de68",
   "outputs": [
    {
     "data": {
      "text/plain": [
       "<AxesSubplot:xlabel='ParentId'>"
      ]
     },
     "execution_count": 46,
     "metadata": {},
     "output_type": "execute_result"
    },
    {
     "data": {
      "text/plain": [
       "<Figure size 432x288 with 1 Axes>"
      ],
      "image/png": "[encoded data removed]"
     },
     "metadata": {
      "needs_background": "light"
     },
     "output_type": "display_data"
    }
   ],
   "execution_count": 46
  },
  {
   "metadata": {
    "ExecuteTime": {
     "end_time": "2025-03-14T19:00:44.826182Z",
     "start_time": "2025-03-14T19:00:44.813148Z"
    }
   },
   "cell_type": "code",
   "source": [
    "from bs4 import BeautifulSoup\n",
    "\n",
    "def clean_html(html_doc):\n",
    "    soup = BeautifulSoup(html_doc, 'html.parser')\n",
    "    return soup.get_text()"
   ],
   "id": "7e7b722938e94f65",
   "outputs": [],
   "execution_count": 9
  },
  {
   "metadata": {
    "ExecuteTime": {
     "end_time": "2025-03-14T19:00:50.360234Z",
     "start_time": "2025-03-14T19:00:50.355270Z"
    }
   },
   "cell_type": "code",
   "source": "clean_html('<a>asdf</a><b>asdf</b>')",
   "id": "b5595fd280db7f08",
   "outputs": [
    {
     "data": {
      "text/plain": [
       "'asdfasdf'"
      ]
     },
     "execution_count": 11,
     "metadata": {},
     "output_type": "execute_result"
    }
   ],
   "execution_count": 11
  },
  {
   "metadata": {
    "ExecuteTime": {
     "end_time": "2025-03-14T18:54:25.089178Z",
     "start_time": "2025-03-14T18:54:25.083178Z"
    }
   },
   "cell_type": "code",
   "source": "so_df['Body'][0]",
   "id": "70be7df14391f0",
   "outputs": [
    {
     "data": {
      "text/plain": [
       "\"<p>I'm new to C#, and I want to use a track-bar to change a form's opacity.</p>\\n\\n<p>This is my code:</p>\\n\\n<pre><code>decimal trans = trackBar1.Value / 5000;\\nthis.Opacity = trans;\\n</code></pre>\\n\\n<p>When I try to build it, I get this error:</p>\\n\\n<blockquote>\\n  <p>Cannot implicitly convert type 'decimal' to 'double'</p>\\n</blockquote>\\n\\n<p>I tried making <code>trans</code> a double, but then the control doesn't work. This code worked fine for me in VB.NET. </p>\\n\\n<p>What do I need to do differently?</p>\\n\""
      ]
     },
     "execution_count": 7,
     "metadata": {},
     "output_type": "execute_result"
    }
   ],
   "execution_count": 7
  },
  {
   "metadata": {
    "ExecuteTime": {
     "end_time": "2025-03-14T18:54:06.712275Z",
     "start_time": "2025-03-14T18:54:06.704273Z"
    }
   },
   "cell_type": "code",
   "source": "preprocess_html(so_df['Body'][0])",
   "id": "9d0feb7fc37fc10a",
   "outputs": [
    {
     "data": {
      "text/plain": [
       "\"I'm new to C#, and I want to use a track-bar to change a form's opacity.\\nThis is my code:\\ndecimal trans = trackBar1.Value / 5000;\\nthis.Opacity = trans;\\n\\nWhen I try to build it, I get this error:\\n\\nCannot implicitly convert type 'decimal' to 'double'\\n\\nI tried making trans a double, but then the control doesn't work. This code worked fine for me in VB.NET. \\nWhat do I need to do differently?\\n\""
      ]
     },
     "execution_count": 6,
     "metadata": {},
     "output_type": "execute_result"
    }
   ],
   "execution_count": 6
  },
  {
   "metadata": {},
   "cell_type": "markdown",
   "source": "## Answers number ",
   "id": "b0d6a4179a4c931a"
  },
  {
   "metadata": {
    "ExecuteTime": {
     "end_time": "2025-03-17T13:55:33.527898Z",
     "start_time": "2025-03-17T13:55:33.497701Z"
    }
   },
   "cell_type": "code",
   "source": [
    "from utils.dataset_creation import get_all_csv_files\n",
    "import pandas as pd\n",
    "from tqdm import tqdm"
   ],
   "id": "1e7017ef8bf563ea",
   "outputs": [],
   "execution_count": 1
  },
  {
   "metadata": {
    "ExecuteTime": {
     "end_time": "2025-03-17T14:01:17.781135Z",
     "start_time": "2025-03-17T13:59:06.528916Z"
    }
   },
   "cell_type": "code",
   "source": [
    "csv_files = get_all_csv_files('data')\n",
    "\n",
    "parent_counts = pd.Series(dtype=int)\n",
    "post_type_counts = pd.Series(dtype=int)\n",
    "for file in tqdm(csv_files):\n",
    "    so_data = pd.read_csv(file)\n",
    "    parent_counts = parent_counts.add(so_data['ParentId'].value_counts(), fill_value=0)\n",
    "    post_type_counts = post_type_counts.add(so_data['PostTypeId'].value_counts(), fill_value=0)"
   ],
   "id": "44d9b14f24430ff5",
   "outputs": [
    {
     "name": "stderr",
     "output_type": "stream",
     "text": [
      " 92%|█████████▏| 159/172 [01:57<00:13,  1.02s/it]<ipython-input-5-248317d4dbba>:6: DtypeWarning: Columns (11) have mixed types. Specify dtype option on import or set low_memory=False.\n",
      "  so_data = pd.read_csv(file)\n",
      " 95%|█████████▌| 164/172 [02:02<00:08,  1.05s/it]<ipython-input-5-248317d4dbba>:6: DtypeWarning: Columns (11) have mixed types. Specify dtype option on import or set low_memory=False.\n",
      "  so_data = pd.read_csv(file)\n",
      " 97%|█████████▋| 166/172 [02:05<00:06,  1.07s/it]<ipython-input-5-248317d4dbba>:6: DtypeWarning: Columns (11) have mixed types. Specify dtype option on import or set low_memory=False.\n",
      "  so_data = pd.read_csv(file)\n",
      "100%|██████████| 172/172 [02:11<00:00,  1.31it/s]\n"
     ]
    }
   ],
   "execution_count": 5
  },
  {
   "metadata": {
    "ExecuteTime": {
     "end_time": "2025-03-17T14:01:36.945822Z",
     "start_time": "2025-03-17T14:01:36.930212Z"
    }
   },
   "cell_type": "code",
   "source": "len(parent_counts)",
   "id": "b6cbb2f0f778833a",
   "outputs": [
    {
     "data": {
      "text/plain": [
       "2558752"
      ]
     },
     "execution_count": 8,
     "metadata": {},
     "output_type": "execute_result"
    }
   ],
   "execution_count": 8
  },
  {
   "metadata": {
    "ExecuteTime": {
     "end_time": "2025-03-17T14:01:17.914725Z",
     "start_time": "2025-03-17T14:01:17.899097Z"
    }
   },
   "cell_type": "code",
   "source": "post_type_counts",
   "id": "ad5e173c9ed4c6fd",
   "outputs": [
    {
     "data": {
      "text/plain": [
       "1    2785896.0\n",
       "2    5769773.0\n",
       "3        167.0\n",
       "4       9662.0\n",
       "5       9662.0\n",
       "6        119.0\n",
       "7          1.0\n",
       "dtype: float64"
      ]
     },
     "execution_count": 7,
     "metadata": {},
     "output_type": "execute_result"
    }
   ],
   "execution_count": 7
  },
  {
   "metadata": {
    "ExecuteTime": {
     "end_time": "2025-03-17T16:16:43.818535Z",
     "start_time": "2025-03-17T16:16:43.787267Z"
    }
   },
   "cell_type": "code",
   "source": "(parent_counts >= 4).value_counts()",
   "id": "32115180b240e3ad",
   "outputs": [
    {
     "data": {
      "text/plain": [
       "False    2163093\n",
       "True      395659\n",
       "dtype: int64"
      ]
     },
     "execution_count": 17,
     "metadata": {},
     "output_type": "execute_result"
    }
   ],
   "execution_count": 17
  },
  {
   "metadata": {},
   "cell_type": "markdown",
   "source": "## Dalip dataset recreation",
   "id": "b97a2bdf16ddab89"
  },
  {
   "metadata": {
    "ExecuteTime": {
     "end_time": "2025-03-17T16:40:43.361986Z",
     "start_time": "2025-03-17T16:40:43.346360Z"
    }
   },
   "cell_type": "code",
   "source": [
    "import pandas as pd\n",
    "import numpy as np"
   ],
   "id": "6ba3fbc3dd652261",
   "outputs": [],
   "execution_count": 46
  },
  {
   "metadata": {
    "ExecuteTime": {
     "end_time": "2025-03-17T16:19:43.015250Z",
     "start_time": "2025-03-17T16:19:42.973217Z"
    }
   },
   "cell_type": "code",
   "source": "dalip_results = pd.read_csv('data/dalip_stackoverflow_results/MV_results_stack.txt')",
   "id": "799876015e87bd1e",
   "outputs": [],
   "execution_count": 19
  },
  {
   "metadata": {
    "ExecuteTime": {
     "end_time": "2025-03-17T16:53:13.316146Z",
     "start_time": "2025-03-17T16:53:13.309125Z"
    }
   },
   "cell_type": "code",
   "source": [
    "dalip_post_ids = np.hstack([dalip_results['id'], dalip_results['qid'].unique()])\n",
    "dalip_post_ids = pd.DataFrame({'Id': dalip_post_ids})"
   ],
   "id": "2b2f099f085aa6c0",
   "outputs": [],
   "execution_count": 66
  },
  {
   "metadata": {
    "ExecuteTime": {
     "end_time": "2025-03-17T16:58:42.362723Z",
     "start_time": "2025-03-17T16:57:07.178011Z"
    }
   },
   "cell_type": "code",
   "source": [
    "csv_files = get_all_csv_files('data/dalip_stackoverflow')\n",
    "dalip_dataset = []\n",
    "\n",
    "for file in tqdm(csv_files):\n",
    "    so_data = pd.read_csv(file)\n",
    "    dalip_dataset.append(so_data.merge(dalip_post_ids, on='Id'))\n",
    "dalip_dataset_df = pd.concat(dalip_dataset)"
   ],
   "id": "ed680a3aada5e071",
   "outputs": [
    {
     "name": "stderr",
     "output_type": "stream",
     "text": [
      " 92%|█████████▏| 159/172 [01:27<00:08,  1.62it/s]<ipython-input-76-d47b64a1e4d2>:5: DtypeWarning: Columns (11) have mixed types. Specify dtype option on import or set low_memory=False.\n",
      "  so_data = pd.read_csv(file)\n",
      " 95%|█████████▌| 164/172 [01:30<00:04,  1.65it/s]<ipython-input-76-d47b64a1e4d2>:5: DtypeWarning: Columns (11) have mixed types. Specify dtype option on import or set low_memory=False.\n",
      "  so_data = pd.read_csv(file)\n",
      " 97%|█████████▋| 166/172 [01:32<00:03,  1.61it/s]<ipython-input-76-d47b64a1e4d2>:5: DtypeWarning: Columns (11) have mixed types. Specify dtype option on import or set low_memory=False.\n",
      "  so_data = pd.read_csv(file)\n",
      "100%|██████████| 172/172 [01:35<00:00,  1.81it/s]\n"
     ]
    }
   ],
   "execution_count": 76
  },
  {
   "metadata": {
    "ExecuteTime": {
     "end_time": "2025-03-17T16:58:44.781343Z",
     "start_time": "2025-03-17T16:58:43.543039Z"
    }
   },
   "cell_type": "code",
   "source": "dalip_dataset_df.to_csv('data/dalip_stackoverflow_dataset/dalip_stackoverflow_dataset.csv', index=False)",
   "id": "9d11f8f775c2739a",
   "outputs": [],
   "execution_count": 77
  }
 ],
 "metadata": {
  "kernelspec": {
   "display_name": "Python 3",
   "language": "python",
   "name": "python3"
  },
  "language_info": {
   "codemirror_mode": {
    "name": "ipython",
    "version": 2
   },
   "file_extension": ".py",
   "mimetype": "text/x-python",
   "name": "python",
   "nbconvert_exporter": "python",
   "pygments_lexer": "ipython2",
   "version": "2.7.6"
  }
 },
 "nbformat": 4,
 "nbformat_minor": 5
}
