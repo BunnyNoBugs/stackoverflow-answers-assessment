{
 "cells": [
  {
   "cell_type": "code",
   "id": "initial_id",
   "metadata": {
    "collapsed": true,
    "ExecuteTime": {
     "end_time": "2025-04-25T12:29:32.821842Z",
     "start_time": "2025-04-25T12:29:29.259041Z"
    }
   },
   "source": [
    "import wandb\n",
    "import pandas as pd\n",
    "from math import ceil"
   ],
   "outputs": [],
   "execution_count": 1
  },
  {
   "metadata": {
    "ExecuteTime": {
     "end_time": "2025-04-25T12:29:33.859973Z",
     "start_time": "2025-04-25T12:29:33.828727Z"
    }
   },
   "cell_type": "code",
   "source": "api = wandb.Api()",
   "id": "12268899ceb79d70",
   "outputs": [],
   "execution_count": 2
  },
  {
   "metadata": {
    "ExecuteTime": {
     "end_time": "2025-04-25T13:00:22.755042Z",
     "start_time": "2025-04-25T13:00:22.723881Z"
    }
   },
   "cell_type": "code",
   "source": [
    "RUN_ID = '0r84jtur'\n",
    "RUN_PATH = f'bunnynobugs/dalip-stackoverflow-answer-ranking/{RUN_ID}'"
   ],
   "id": "ab355257a650e190",
   "outputs": [],
   "execution_count": 44
  },
  {
   "metadata": {
    "ExecuteTime": {
     "end_time": "2025-04-25T12:29:34.827892Z",
     "start_time": "2025-04-25T12:29:33.906851Z"
    }
   },
   "cell_type": "code",
   "source": "run = api.run(RUN_PATH)",
   "id": "6b3b9ef02c6637fb",
   "outputs": [],
   "execution_count": 4
  },
  {
   "metadata": {
    "ExecuteTime": {
     "end_time": "2025-04-25T13:07:31.716066Z",
     "start_time": "2025-04-25T13:07:31.684816Z"
    }
   },
   "cell_type": "code",
   "source": "run.config",
   "id": "56ba77c896fa84a1",
   "outputs": [
    {
     "data": {
      "text/plain": [
       "{'bf16': False,\n",
       " 'fp16': False,\n",
       " 'fsdp': [],\n",
       " 'seed': 42,\n",
       " 'tf32': None,\n",
       " 'debug': [],\n",
       " 'optim': 'adamw_torch',\n",
       " 'do_eval': True,\n",
       " 'loss_fn': 'MSE',\n",
       " 'no_cuda': False,\n",
       " 'tp_size': 0,\n",
       " 'use_cpu': False,\n",
       " 'do_train': False,\n",
       " 'run_name': '/home/stackoverflow-answer-assessment/models/dalip/bi-encoder/bi-encoder_SOBertBase_mean',\n",
       " 'use_ipex': False,\n",
       " 'adafactor': False,\n",
       " 'data_seed': None,\n",
       " 'deepspeed': None,\n",
       " 'hub_token': '<HUB_TOKEN>',\n",
       " 'log_level': 'passive',\n",
       " 'max_steps': -1,\n",
       " 'ray_scope': 'last',\n",
       " 'report_to': ['wandb'],\n",
       " 'adam_beta1': 0.9,\n",
       " 'adam_beta2': 0.999,\n",
       " 'do_predict': False,\n",
       " 'eval_delay': 0,\n",
       " 'eval_steps': 2135,\n",
       " 'local_rank': 0,\n",
       " 'model_name': 'SOBertBase',\n",
       " 'optim_args': None,\n",
       " 'output_dir': '/home/stackoverflow-answer-assessment/models/dalip/bi-encoder/bi-encoder_SOBertBase_mean',\n",
       " 'past_index': -1,\n",
       " 'save_steps': 500,\n",
       " 'vectorizer': {'max_length': 1024,\n",
       "  'embeddings_pooling': 'mean',\n",
       "  'vectorization_type': 'embeddings'},\n",
       " 'ddp_backend': None,\n",
       " 'ddp_timeout': 1800,\n",
       " 'fsdp_config': {'xla': False,\n",
       "  'xla_fsdp_v2': False,\n",
       "  'min_num_params': 0,\n",
       "  'xla_fsdp_grad_ckpt': False},\n",
       " 'label_names': None,\n",
       " 'logging_dir': '/home/stackoverflow-answer-assessment/models/dalip/bi-encoder/bi-encoder_SOBertBase_mean/runs/Apr23_22-09-03_nlp4code-stack-overflow',\n",
       " 'push_to_hub': False,\n",
       " 'torchdynamo': None,\n",
       " 'adam_epsilon': 1e-08,\n",
       " 'disable_tqdm': False,\n",
       " 'fp16_backend': 'auto',\n",
       " 'hub_model_id': None,\n",
       " 'hub_strategy': 'every_save',\n",
       " 'warmup_ratio': 0,\n",
       " 'warmup_steps': 0,\n",
       " 'weight_decay': 0.01,\n",
       " 'eval_on_start': False,\n",
       " 'eval_strategy': 'steps',\n",
       " 'jit_mode_eval': False,\n",
       " 'learning_rate': 2e-05,\n",
       " 'logging_steps': 1,\n",
       " 'max_grad_norm': 1,\n",
       " 'mp_parameters': '',\n",
       " 'preprocessing': {'answer_columns': ['answer_body'],\n",
       "  'question_columns': ['question_title', 'question_body'],\n",
       "  'preserve_html_tags': ['code']},\n",
       " 'save_strategy': 'epoch',\n",
       " 'torch_compile': False,\n",
       " 'tpu_num_cores': None,\n",
       " 'bf16_full_eval': False,\n",
       " 'fp16_full_eval': False,\n",
       " 'fp16_opt_level': 'O1',\n",
       " 'use_mps_device': False,\n",
       " 'group_by_length': False,\n",
       " 'hub_always_push': False,\n",
       " 'save_only_model': False,\n",
       " 'full_determinism': False,\n",
       " 'hub_private_repo': None,\n",
       " 'ignore_data_skip': False,\n",
       " 'log_on_each_node': True,\n",
       " 'logging_strategy': 'steps',\n",
       " 'num_train_epochs': 5,\n",
       " 'save_safetensors': True,\n",
       " 'save_total_limit': 1,\n",
       " 'use_liger_kernel': False,\n",
       " 'ddp_bucket_cap_mb': None,\n",
       " 'greater_is_better': None,\n",
       " 'log_level_replica': 'warning',\n",
       " 'lr_scheduler_type': 'linear',\n",
       " 'push_to_hub_token': '<PUSH_TO_HUB_TOKEN>',\n",
       " 'save_on_each_node': False,\n",
       " 'tpu_metrics_debug': False,\n",
       " 'accelerator_config': {'even_batches': True,\n",
       "  'non_blocking': False,\n",
       "  'split_batches': False,\n",
       "  'dispatch_batches': None,\n",
       "  'use_seedable_sampler': True,\n",
       "  'gradient_accumulation_kwargs': None},\n",
       " 'batch_eval_metrics': False,\n",
       " 'length_column_name': 'length',\n",
       " 'logging_first_step': False,\n",
       " 'torch_compile_mode': None,\n",
       " 'fsdp_min_num_params': 0,\n",
       " 'include_for_metrics': [],\n",
       " 'neftune_noise_alpha': None,\n",
       " 'skip_memory_metrics': True,\n",
       " 'auto_find_batch_size': False,\n",
       " 'dataloader_drop_last': False,\n",
       " 'optim_target_modules': None,\n",
       " 'overwrite_output_dir': False,\n",
       " 'prediction_loss_only': False,\n",
       " 'push_to_hub_model_id': None,\n",
       " 'dataloader_pin_memory': True,\n",
       " 'ddp_broadcast_buffers': None,\n",
       " 'metric_for_best_model': None,\n",
       " 'remove_unused_columns': False,\n",
       " 'torch_compile_backend': None,\n",
       " 'dataloader_num_workers': 0,\n",
       " 'eval_do_concat_batches': True,\n",
       " 'eval_use_gather_object': False,\n",
       " 'gradient_checkpointing': False,\n",
       " 'half_precision_backend': 'auto',\n",
       " 'label_smoothing_factor': 0,\n",
       " 'load_best_model_at_end': False,\n",
       " 'logging_nan_inf_filter': True,\n",
       " 'resume_from_checkpoint': None,\n",
       " 'eval_accumulation_steps': None,\n",
       " 'per_gpu_eval_batch_size': None,\n",
       " 'torch_empty_cache_steps': None,\n",
       " 'per_gpu_train_batch_size': None,\n",
       " 'push_to_hub_organization': None,\n",
       " 'include_tokens_per_second': False,\n",
       " 'dataloader_prefetch_factor': None,\n",
       " 'ddp_find_unused_parameters': None,\n",
       " 'include_inputs_for_metrics': False,\n",
       " 'per_device_eval_batch_size': 4,\n",
       " 'use_legacy_prediction_loop': False,\n",
       " 'gradient_accumulation_steps': 1,\n",
       " 'per_device_train_batch_size': 2,\n",
       " 'average_tokens_across_devices': False,\n",
       " 'dataloader_persistent_workers': False,\n",
       " 'gradient_checkpointing_kwargs': None,\n",
       " 'include_num_input_tokens_seen': False,\n",
       " 'fsdp_transformer_layer_cls_to_wrap': None,\n",
       " 'restore_callback_states_from_checkpoint': False}"
      ]
     },
     "execution_count": 46,
     "metadata": {},
     "output_type": "execute_result"
    }
   ],
   "execution_count": 46
  },
  {
   "metadata": {
    "ExecuteTime": {
     "end_time": "2025-04-25T12:29:35.156455Z",
     "start_time": "2025-04-25T12:29:34.859062Z"
    }
   },
   "cell_type": "code",
   "source": "history = run.scan_history()",
   "id": "8cbe5427c6f06b31",
   "outputs": [],
   "execution_count": 5
  },
  {
   "metadata": {
    "ExecuteTime": {
     "end_time": "2025-04-25T12:30:31.621889Z",
     "start_time": "2025-04-25T12:29:38.569449Z"
    }
   },
   "cell_type": "code",
   "source": [
    "%%time\n",
    "\n",
    "history_df = pd.DataFrame(history)"
   ],
   "id": "eb93d9f5c4967632",
   "outputs": [],
   "execution_count": 6
  },
  {
   "metadata": {
    "ExecuteTime": {
     "end_time": "2025-04-25T12:55:31.956913Z",
     "start_time": "2025-04-25T12:55:31.941282Z"
    }
   },
   "cell_type": "code",
   "source": [
    "SMOOTHING = 'EMA'\n",
    "EMA_ALPHA = 0.2\n",
    "FILTER_TRAIN_STEPS = int(42700 / run.config['per_device_train_batch_size'] / 100)"
   ],
   "id": "20c5051466a07f1b",
   "outputs": [],
   "execution_count": 34
  },
  {
   "metadata": {
    "ExecuteTime": {
     "end_time": "2025-04-25T12:41:39.321692Z",
     "start_time": "2025-04-25T12:41:39.306061Z"
    }
   },
   "cell_type": "code",
   "source": [
    "if SMOOTHING == 'EMA':\n",
    "    history_df['train/loss_smoothed'] = history_df['train/loss'].ewm(alpha=EMA_ALPHA, ignore_na=True).mean()"
   ],
   "id": "ea7e375bc2cd1233",
   "outputs": [],
   "execution_count": 18
  },
  {
   "metadata": {
    "ExecuteTime": {
     "end_time": "2025-04-25T12:41:40.967919Z",
     "start_time": "2025-04-25T12:41:40.884193Z"
    }
   },
   "cell_type": "code",
   "source": "history_df['train/epoch_n'] = history_df['train/epoch'].apply(lambda x: ceil(x) if pd.notna(x) else None)",
   "id": "3635285b8d359320",
   "outputs": [],
   "execution_count": 19
  },
  {
   "metadata": {
    "ExecuteTime": {
     "end_time": "2025-04-25T12:41:46.251934Z",
     "start_time": "2025-04-25T12:41:46.189405Z"
    }
   },
   "cell_type": "code",
   "source": "history_df[history_df['train/loss'].notna()].groupby('train/epoch_n')['train/loss'].describe()",
   "id": "6bf7cbe2a64e9496",
   "outputs": [
    {
     "data": {
      "text/plain": [
       "                 count       mean          std     min       25%      50%  \\\n",
       "train/epoch_n                                                               \n",
       "1.0            21350.0  64.939950  1212.448913  0.0000  0.803025  1.92960   \n",
       "2.0            21350.0  62.853734  1200.612481  0.0000  0.713825  1.76995   \n",
       "3.0            21350.0  61.356804  1187.052408  0.0000  0.587350  1.59955   \n",
       "4.0            21350.0  59.599701  1178.272678  0.0001  0.442800  1.32565   \n",
       "5.0            21350.0  58.070111  1169.750128  0.0000  0.340050  1.06660   \n",
       "\n",
       "                    75%          max  \n",
       "train/epoch_n                         \n",
       "1.0            5.731825  126732.8438  \n",
       "2.0            5.356675  126593.8125  \n",
       "3.0            5.161600  125259.0859  \n",
       "4.0            4.550650  124922.0391  \n",
       "5.0            3.952600  124146.7188  "
      ],
      "text/html": [
       "<div>\n",
       "<style scoped>\n",
       "    .dataframe tbody tr th:only-of-type {\n",
       "        vertical-align: middle;\n",
       "    }\n",
       "\n",
       "    .dataframe tbody tr th {\n",
       "        vertical-align: top;\n",
       "    }\n",
       "\n",
       "    .dataframe thead th {\n",
       "        text-align: right;\n",
       "    }\n",
       "</style>\n",
       "<table border=\"1\" class=\"dataframe\">\n",
       "  <thead>\n",
       "    <tr style=\"text-align: right;\">\n",
       "      <th></th>\n",
       "      <th>count</th>\n",
       "      <th>mean</th>\n",
       "      <th>std</th>\n",
       "      <th>min</th>\n",
       "      <th>25%</th>\n",
       "      <th>50%</th>\n",
       "      <th>75%</th>\n",
       "      <th>max</th>\n",
       "    </tr>\n",
       "    <tr>\n",
       "      <th>train/epoch_n</th>\n",
       "      <th></th>\n",
       "      <th></th>\n",
       "      <th></th>\n",
       "      <th></th>\n",
       "      <th></th>\n",
       "      <th></th>\n",
       "      <th></th>\n",
       "      <th></th>\n",
       "    </tr>\n",
       "  </thead>\n",
       "  <tbody>\n",
       "    <tr>\n",
       "      <th>1.0</th>\n",
       "      <td>21350.0</td>\n",
       "      <td>64.939950</td>\n",
       "      <td>1212.448913</td>\n",
       "      <td>0.0000</td>\n",
       "      <td>0.803025</td>\n",
       "      <td>1.92960</td>\n",
       "      <td>5.731825</td>\n",
       "      <td>126732.8438</td>\n",
       "    </tr>\n",
       "    <tr>\n",
       "      <th>2.0</th>\n",
       "      <td>21350.0</td>\n",
       "      <td>62.853734</td>\n",
       "      <td>1200.612481</td>\n",
       "      <td>0.0000</td>\n",
       "      <td>0.713825</td>\n",
       "      <td>1.76995</td>\n",
       "      <td>5.356675</td>\n",
       "      <td>126593.8125</td>\n",
       "    </tr>\n",
       "    <tr>\n",
       "      <th>3.0</th>\n",
       "      <td>21350.0</td>\n",
       "      <td>61.356804</td>\n",
       "      <td>1187.052408</td>\n",
       "      <td>0.0000</td>\n",
       "      <td>0.587350</td>\n",
       "      <td>1.59955</td>\n",
       "      <td>5.161600</td>\n",
       "      <td>125259.0859</td>\n",
       "    </tr>\n",
       "    <tr>\n",
       "      <th>4.0</th>\n",
       "      <td>21350.0</td>\n",
       "      <td>59.599701</td>\n",
       "      <td>1178.272678</td>\n",
       "      <td>0.0001</td>\n",
       "      <td>0.442800</td>\n",
       "      <td>1.32565</td>\n",
       "      <td>4.550650</td>\n",
       "      <td>124922.0391</td>\n",
       "    </tr>\n",
       "    <tr>\n",
       "      <th>5.0</th>\n",
       "      <td>21350.0</td>\n",
       "      <td>58.070111</td>\n",
       "      <td>1169.750128</td>\n",
       "      <td>0.0000</td>\n",
       "      <td>0.340050</td>\n",
       "      <td>1.06660</td>\n",
       "      <td>3.952600</td>\n",
       "      <td>124146.7188</td>\n",
       "    </tr>\n",
       "  </tbody>\n",
       "</table>\n",
       "</div>"
      ]
     },
     "execution_count": 20,
     "metadata": {},
     "output_type": "execute_result"
    }
   ],
   "execution_count": 20
  },
  {
   "metadata": {
    "ExecuteTime": {
     "end_time": "2025-04-25T12:41:50.258463Z",
     "start_time": "2025-04-25T12:41:50.211594Z"
    }
   },
   "cell_type": "code",
   "source": "history_df[history_df['train/loss_smoothed'].notna()].groupby('train/epoch_n')['train/loss_smoothed'].describe()",
   "id": "eccdf30e5b342161",
   "outputs": [
    {
     "data": {
      "text/plain": [
       "                 count       mean         std       min       25%        50%  \\\n",
       "train/epoch_n                                                                  \n",
       "1.0            21360.0  64.982545  404.918381  0.731255  5.452129  11.304883   \n",
       "2.0            21360.0  62.833794  399.530048  0.519517  4.971293  10.254780   \n",
       "3.0            21360.0  61.327229  397.326665  0.683436  4.671099   9.827064   \n",
       "4.0            21360.0  59.756386  392.432500  0.536420  4.211477   8.966593   \n",
       "5.0            21359.0  58.062655  392.302635  0.502443  3.731302   8.108627   \n",
       "\n",
       "                     75%           max  \n",
       "train/epoch_n                           \n",
       "1.0            29.047424  25351.550753  \n",
       "2.0            27.244362  25321.536818  \n",
       "3.0            26.841517  25147.938840  \n",
       "4.0            23.732771  24991.611454  \n",
       "5.0            22.552133  24832.424213  "
      ],
      "text/html": [
       "<div>\n",
       "<style scoped>\n",
       "    .dataframe tbody tr th:only-of-type {\n",
       "        vertical-align: middle;\n",
       "    }\n",
       "\n",
       "    .dataframe tbody tr th {\n",
       "        vertical-align: top;\n",
       "    }\n",
       "\n",
       "    .dataframe thead th {\n",
       "        text-align: right;\n",
       "    }\n",
       "</style>\n",
       "<table border=\"1\" class=\"dataframe\">\n",
       "  <thead>\n",
       "    <tr style=\"text-align: right;\">\n",
       "      <th></th>\n",
       "      <th>count</th>\n",
       "      <th>mean</th>\n",
       "      <th>std</th>\n",
       "      <th>min</th>\n",
       "      <th>25%</th>\n",
       "      <th>50%</th>\n",
       "      <th>75%</th>\n",
       "      <th>max</th>\n",
       "    </tr>\n",
       "    <tr>\n",
       "      <th>train/epoch_n</th>\n",
       "      <th></th>\n",
       "      <th></th>\n",
       "      <th></th>\n",
       "      <th></th>\n",
       "      <th></th>\n",
       "      <th></th>\n",
       "      <th></th>\n",
       "      <th></th>\n",
       "    </tr>\n",
       "  </thead>\n",
       "  <tbody>\n",
       "    <tr>\n",
       "      <th>1.0</th>\n",
       "      <td>21360.0</td>\n",
       "      <td>64.982545</td>\n",
       "      <td>404.918381</td>\n",
       "      <td>0.731255</td>\n",
       "      <td>5.452129</td>\n",
       "      <td>11.304883</td>\n",
       "      <td>29.047424</td>\n",
       "      <td>25351.550753</td>\n",
       "    </tr>\n",
       "    <tr>\n",
       "      <th>2.0</th>\n",
       "      <td>21360.0</td>\n",
       "      <td>62.833794</td>\n",
       "      <td>399.530048</td>\n",
       "      <td>0.519517</td>\n",
       "      <td>4.971293</td>\n",
       "      <td>10.254780</td>\n",
       "      <td>27.244362</td>\n",
       "      <td>25321.536818</td>\n",
       "    </tr>\n",
       "    <tr>\n",
       "      <th>3.0</th>\n",
       "      <td>21360.0</td>\n",
       "      <td>61.327229</td>\n",
       "      <td>397.326665</td>\n",
       "      <td>0.683436</td>\n",
       "      <td>4.671099</td>\n",
       "      <td>9.827064</td>\n",
       "      <td>26.841517</td>\n",
       "      <td>25147.938840</td>\n",
       "    </tr>\n",
       "    <tr>\n",
       "      <th>4.0</th>\n",
       "      <td>21360.0</td>\n",
       "      <td>59.756386</td>\n",
       "      <td>392.432500</td>\n",
       "      <td>0.536420</td>\n",
       "      <td>4.211477</td>\n",
       "      <td>8.966593</td>\n",
       "      <td>23.732771</td>\n",
       "      <td>24991.611454</td>\n",
       "    </tr>\n",
       "    <tr>\n",
       "      <th>5.0</th>\n",
       "      <td>21359.0</td>\n",
       "      <td>58.062655</td>\n",
       "      <td>392.302635</td>\n",
       "      <td>0.502443</td>\n",
       "      <td>3.731302</td>\n",
       "      <td>8.108627</td>\n",
       "      <td>22.552133</td>\n",
       "      <td>24832.424213</td>\n",
       "    </tr>\n",
       "  </tbody>\n",
       "</table>\n",
       "</div>"
      ]
     },
     "execution_count": 21,
     "metadata": {},
     "output_type": "execute_result"
    }
   ],
   "execution_count": 21
  },
  {
   "metadata": {
    "ExecuteTime": {
     "end_time": "2025-04-25T12:58:03.142854Z",
     "start_time": "2025-04-25T12:57:59.442005Z"
    }
   },
   "cell_type": "code",
   "source": [
    "filtered_history_idxs = []\n",
    "\n",
    "for idx, row in history_df.iterrows():\n",
    "    if pd.notna(row['eval/loss']):\n",
    "        filtered_history_idxs.append(idx)\n",
    "    elif pd.notna(row['train/loss']):\n",
    "        if row['train/global_step'] % FILTER_TRAIN_STEPS == 0:\n",
    "            filtered_history_idxs.append(idx)\n",
    "\n",
    "filtered_history_df = history_df.iloc[filtered_history_idxs]"
   ],
   "id": "45427c17d0f68462",
   "outputs": [],
   "execution_count": 42
  },
  {
   "metadata": {
    "ExecuteTime": {
     "end_time": "2025-04-25T13:00:44.607055Z",
     "start_time": "2025-04-25T13:00:44.581517Z"
    }
   },
   "cell_type": "code",
   "source": "filtered_history_df.to_csv(f'wandb/wandb_runs/wandb_run_{RUN_ID}_filtered.csv', index=False)",
   "id": "3a62b54ca43a09a7",
   "outputs": [],
   "execution_count": 45
  },
  {
   "metadata": {
    "ExecuteTime": {
     "end_time": "2025-04-25T13:43:04.988715Z",
     "start_time": "2025-04-25T13:43:04.973079Z"
    }
   },
   "cell_type": "code",
   "source": [
    "import matplotlib.pyplot as plt\n",
    "from scipy.ndimage import gaussian_filter1d"
   ],
   "id": "eba86ddd1ef26b6a",
   "outputs": [],
   "execution_count": 71
  },
  {
   "metadata": {
    "ExecuteTime": {
     "end_time": "2025-04-25T13:27:38.743319Z",
     "start_time": "2025-04-25T13:27:38.571442Z"
    }
   },
   "cell_type": "code",
   "source": "history_df[history_df['eval/loss'].notna()]['eval/loss'].plot()",
   "id": "3f7576044925732e",
   "outputs": [
    {
     "data": {
      "text/plain": [
       "<AxesSubplot:>"
      ]
     },
     "execution_count": 52,
     "metadata": {},
     "output_type": "execute_result"
    },
    {
     "data": {
      "text/plain": [
       "<Figure size 432x288 with 1 Axes>"
      ],
      "image/png": "[encoded data removed]"
     },
     "metadata": {},
     "output_type": "display_data"
    }
   ],
   "execution_count": 52
  },
  {
   "metadata": {
    "ExecuteTime": {
     "end_time": "2025-04-25T13:39:20.539011Z",
     "start_time": "2025-04-25T13:39:20.388751Z"
    }
   },
   "cell_type": "code",
   "source": "history_df[history_df['eval/loss'].notna()]['eval/ndcg@1_g.exponential_d.logarithmic'].plot()",
   "id": "652756991536f7aa",
   "outputs": [
    {
     "data": {
      "text/plain": [
       "<AxesSubplot:>"
      ]
     },
     "execution_count": 62,
     "metadata": {},
     "output_type": "execute_result"
    },
    {
     "data": {
      "text/plain": [
       "<Figure size 432x288 with 1 Axes>"
      ],
      "image/png": "[encoded data removed]"
     },
     "metadata": {},
     "output_type": "display_data"
    }
   ],
   "execution_count": 62
  },
  {
   "metadata": {
    "ExecuteTime": {
     "end_time": "2025-04-25T13:48:37.326617Z",
     "start_time": "2025-04-25T13:48:37.275314Z"
    }
   },
   "cell_type": "code",
   "source": "history_df['train/loss_gaussian'] = gaussian_filter1d(history_df['train/loss'], sigma=100)",
   "id": "3fba81c52bb12829",
   "outputs": [],
   "execution_count": 122
  },
  {
   "metadata": {
    "ExecuteTime": {
     "end_time": "2025-04-25T13:48:37.668841Z",
     "start_time": "2025-04-25T13:48:37.402493Z"
    }
   },
   "cell_type": "code",
   "source": "history_df[history_df['train/loss'] <= 50]['train/loss'].plot()",
   "id": "1c3cd9a48097e665",
   "outputs": [
    {
     "data": {
      "text/plain": [
       "<AxesSubplot:>"
      ]
     },
     "execution_count": 123,
     "metadata": {},
     "output_type": "execute_result"
    },
    {
     "data": {
      "text/plain": [
       "<Figure size 432x288 with 1 Axes>"
      ],
      "image/png": "[encoded data removed]"
     },
     "metadata": {},
     "output_type": "display_data"
    }
   ],
   "execution_count": 123
  },
  {
   "metadata": {
    "ExecuteTime": {
     "end_time": "2025-04-25T13:48:37.825092Z",
     "start_time": "2025-04-25T13:48:37.700105Z"
    }
   },
   "cell_type": "code",
   "source": "history_df[history_df['train/loss_gaussian'] <= 20]['train/loss_gaussian'].plot()",
   "id": "b5b389cd6387c0e8",
   "outputs": [
    {
     "data": {
      "text/plain": [
       "<AxesSubplot:>"
      ]
     },
     "execution_count": 124,
     "metadata": {},
     "output_type": "execute_result"
    },
    {
     "data": {
      "text/plain": [
       "<Figure size 432x288 with 1 Axes>"
      ],
      "image/png": "[encoded data removed]"
     },
     "metadata": {},
     "output_type": "display_data"
    }
   ],
   "execution_count": 124
  },
  {
   "metadata": {},
   "cell_type": "code",
   "outputs": [],
   "execution_count": null,
   "source": "",
   "id": "e4cdd962ace9cfcf"
  }
 ],
 "metadata": {
  "kernelspec": {
   "display_name": "Python 3",
   "language": "python",
   "name": "python3"
  },
  "language_info": {
   "codemirror_mode": {
    "name": "ipython",
    "version": 2
   },
   "file_extension": ".py",
   "mimetype": "text/x-python",
   "name": "python",
   "nbconvert_exporter": "python",
   "pygments_lexer": "ipython2",
   "version": "2.7.6"
  }
 },
 "nbformat": 4,
 "nbformat_minor": 5
}
