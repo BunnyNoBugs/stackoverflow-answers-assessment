{
 "cells": [
  {
   "metadata": {},
   "cell_type": "markdown",
   "source": "# TF-IDF baseline",
   "id": "580dd89b5f1d37d0"
  },
  {
   "metadata": {},
   "cell_type": "markdown",
   "source": "## Data loading",
   "id": "621a719f57dec49b"
  },
  {
   "metadata": {
    "ExecuteTime": {
     "end_time": "2025-05-05T11:52:03.364900Z",
     "start_time": "2025-05-05T11:52:03.332830Z"
    }
   },
   "cell_type": "code",
   "source": [
    "from datasets import load_from_disk\n",
    "from src.utils.config_management import CONFIG"
   ],
   "id": "7f57fe86f1cec5f3",
   "outputs": [],
   "execution_count": 53
  },
  {
   "metadata": {
    "ExecuteTime": {
     "end_time": "2025-05-05T11:52:05.245594Z",
     "start_time": "2025-05-05T11:52:03.454877Z"
    }
   },
   "cell_type": "code",
   "source": "hf_dataset = load_from_disk(CONFIG['paths']['data']['dalip_hf_dataset'])",
   "id": "6ccaf05549e14b85",
   "outputs": [],
   "execution_count": 54
  },
  {
   "metadata": {
    "ExecuteTime": {
     "end_time": "2025-05-05T11:52:05.318470Z",
     "start_time": "2025-05-05T11:52:05.287223Z"
    }
   },
   "cell_type": "code",
   "source": "hf_dataset",
   "id": "2b84529bce8892c6",
   "outputs": [
    {
     "data": {
      "text/plain": [
       "DatasetDict({\n",
       "    train: Dataset({\n",
       "        features: ['answer_id', 'question_id', 'answer_creation_date', 'answer_score', 'answer_normalized_score', 'answer_log_normalized_score', 'answer_body', 'answer_last_edit_date', 'answer_last_activity_date', 'answer_comment_count', 'answer_community_owned_date', 'question_creation_date', 'question_score', 'question_view_count', 'question_body', 'question_last_edit_date', 'question_last_activity_date', 'question_title', 'question_tags', 'question_answer_count', 'question_comment_count', 'question_favorite_count', 'question_closed_date', 'question_community_owned_date', 'answer_accepted'],\n",
       "        num_rows: 42700\n",
       "    })\n",
       "    test: Dataset({\n",
       "        features: ['answer_id', 'question_id', 'answer_creation_date', 'answer_score', 'answer_normalized_score', 'answer_log_normalized_score', 'answer_body', 'answer_last_edit_date', 'answer_last_activity_date', 'answer_comment_count', 'answer_community_owned_date', 'question_creation_date', 'question_score', 'question_view_count', 'question_body', 'question_last_edit_date', 'question_last_activity_date', 'question_title', 'question_tags', 'question_answer_count', 'question_comment_count', 'question_favorite_count', 'question_closed_date', 'question_community_owned_date', 'answer_accepted'],\n",
       "        num_rows: 10563\n",
       "    })\n",
       "})"
      ]
     },
     "execution_count": 55,
     "metadata": {},
     "output_type": "execute_result"
    }
   ],
   "execution_count": 55
  },
  {
   "metadata": {},
   "cell_type": "markdown",
   "source": "## Data preprocessing",
   "id": "a559134473da9e90"
  },
  {
   "metadata": {
    "ExecuteTime": {
     "end_time": "2025-05-03T21:56:20.067939Z",
     "start_time": "2025-05-03T21:56:19.914086Z"
    }
   },
   "cell_type": "code",
   "source": "from src.utils.text_preprocessing import Preprocessor",
   "id": "16c170e7dccf8097",
   "outputs": [],
   "execution_count": 5
  },
  {
   "metadata": {
    "ExecuteTime": {
     "end_time": "2025-05-03T21:56:20.144978Z",
     "start_time": "2025-05-03T21:56:20.131827Z"
    }
   },
   "cell_type": "code",
   "source": "preprocessor = Preprocessor()",
   "id": "ed7568fb52b27ca6",
   "outputs": [],
   "execution_count": 7
  },
  {
   "metadata": {
    "ExecuteTime": {
     "end_time": "2025-05-03T21:56:20.777853Z",
     "start_time": "2025-05-03T21:56:20.187978Z"
    }
   },
   "cell_type": "code",
   "source": "hf_dataset = hf_dataset.map(preprocessor, batched=True)",
   "id": "677422195885b2e0",
   "outputs": [],
   "execution_count": 8
  },
  {
   "metadata": {
    "ExecuteTime": {
     "end_time": "2025-05-03T21:56:20.808949Z",
     "start_time": "2025-05-03T21:56:20.794950Z"
    }
   },
   "cell_type": "code",
   "source": "hf_dataset",
   "id": "2de5f8553505d00",
   "outputs": [
    {
     "data": {
      "text/plain": [
       "DatasetDict({\n",
       "    train: Dataset({\n",
       "        features: ['answer_id', 'question_id', 'answer_creation_date', 'answer_score', 'answer_normalized_score', 'answer_log_normalized_score', 'answer_body', 'answer_last_edit_date', 'answer_last_activity_date', 'answer_comment_count', 'answer_community_owned_date', 'question_creation_date', 'question_score', 'question_view_count', 'question_body', 'question_last_edit_date', 'question_last_activity_date', 'question_title', 'question_tags', 'question_answer_count', 'question_comment_count', 'question_favorite_count', 'question_closed_date', 'question_community_owned_date', 'answer_accepted', 'question_text', 'answer_text'],\n",
       "        num_rows: 42700\n",
       "    })\n",
       "    test: Dataset({\n",
       "        features: ['answer_id', 'question_id', 'answer_creation_date', 'answer_score', 'answer_normalized_score', 'answer_log_normalized_score', 'answer_body', 'answer_last_edit_date', 'answer_last_activity_date', 'answer_comment_count', 'answer_community_owned_date', 'question_creation_date', 'question_score', 'question_view_count', 'question_body', 'question_last_edit_date', 'question_last_activity_date', 'question_title', 'question_tags', 'question_answer_count', 'question_comment_count', 'question_favorite_count', 'question_closed_date', 'question_community_owned_date', 'answer_accepted', 'question_text', 'answer_text'],\n",
       "        num_rows: 10563\n",
       "    })\n",
       "})"
      ]
     },
     "execution_count": 9,
     "metadata": {},
     "output_type": "execute_result"
    }
   ],
   "execution_count": 9
  },
  {
   "metadata": {},
   "cell_type": "markdown",
   "source": "## Model training",
   "id": "b9dfa269b9fb1ac7"
  },
  {
   "metadata": {
    "ExecuteTime": {
     "end_time": "2025-05-03T21:56:21.483230Z",
     "start_time": "2025-05-03T21:56:20.855926Z"
    }
   },
   "cell_type": "code",
   "source": [
    "import pandas as pd\n",
    "from sklearn.feature_extraction.text import TfidfVectorizer\n",
    "import scipy\n",
    "from sklearn.linear_model import LinearRegression\n",
    "from sklearn.ensemble import GradientBoostingRegressor"
   ],
   "id": "1cc4553cb58d1f2d",
   "outputs": [],
   "execution_count": 10
  },
  {
   "metadata": {
    "ExecuteTime": {
     "end_time": "2025-05-03T21:56:21.514032Z",
     "start_time": "2025-05-03T21:56:21.499038Z"
    }
   },
   "cell_type": "code",
   "source": "vectorizer = TfidfVectorizer(max_features=10000, stop_words=None)",
   "id": "3d9b88cf01d01426",
   "outputs": [],
   "execution_count": 11
  },
  {
   "metadata": {
    "ExecuteTime": {
     "end_time": "2025-05-03T21:56:21.544376Z",
     "start_time": "2025-05-03T21:56:21.531370Z"
    }
   },
   "cell_type": "code",
   "source": [
    "def vectorize_qa_pairs(vectorizer, hf_dataset):\n",
    "    vectorizer.fit(hf_dataset['train']['question_text'] + hf_dataset['train']['answer_text'])\n",
    "    \n",
    "    train_questions_vect = vectorizer.transform(hf_dataset['train']['question_text'])\n",
    "    train_answers_vect = vectorizer.transform(hf_dataset['train']['answer_text'])\n",
    "\n",
    "    \n",
    "    test_questions_vect = vectorizer.transform(hf_dataset['test']['question_text'])\n",
    "    test_answers_vect = vectorizer.transform(hf_dataset['test']['answer_text'])\n",
    "    \n",
    "    if hf_dataset['train']['question_text'][0]:\n",
    "        X_train = scipy.sparse.hstack([train_questions_vect, train_answers_vect])\n",
    "        X_test = scipy.sparse.hstack([test_questions_vect, test_answers_vect])\n",
    "    else:\n",
    "        X_train = train_answers_vect\n",
    "        X_test = test_answers_vect\n",
    "    \n",
    "    return X_train, X_test"
   ],
   "id": "d39183f5222d6994",
   "outputs": [],
   "execution_count": 12
  },
  {
   "metadata": {
    "ExecuteTime": {
     "end_time": "2025-05-03T21:56:34.709670Z",
     "start_time": "2025-05-03T21:56:21.576379Z"
    }
   },
   "cell_type": "code",
   "source": [
    "X_train, X_test = vectorize_qa_pairs(vectorizer, hf_dataset)\n",
    "X_train"
   ],
   "id": "2bc2cc4685c849c9",
   "outputs": [
    {
     "data": {
      "text/plain": [
       "<42700x20000 sparse matrix of type '<class 'numpy.float64'>'\n",
       "\twith 4784584 stored elements in Compressed Sparse Row format>"
      ]
     },
     "execution_count": 13,
     "metadata": {},
     "output_type": "execute_result"
    }
   ],
   "execution_count": 13
  },
  {
   "metadata": {
    "ExecuteTime": {
     "end_time": "2025-05-03T22:13:13.336340Z",
     "start_time": "2025-05-03T22:13:02.895348Z"
    }
   },
   "cell_type": "code",
   "source": "train_targets_df = pd.DataFrame(hf_dataset['train']).select_dtypes(exclude=['object'])",
   "id": "c936e8f61197450e",
   "outputs": [],
   "execution_count": 33
  },
  {
   "metadata": {
    "ExecuteTime": {
     "end_time": "2025-05-03T22:13:26.436512Z",
     "start_time": "2025-05-03T22:13:23.802693Z"
    }
   },
   "cell_type": "code",
   "source": [
    "train_targets_df['answer_standardized_score'] = train_targets_df.groupby('question_id')['answer_score'].transform(\n",
    "    lambda x: x - x.mean() / x.std() if x.std() > 0 else 0)"
   ],
   "id": "3629a55ee5afade4",
   "outputs": [],
   "execution_count": 34
  },
  {
   "metadata": {
    "ExecuteTime": {
     "end_time": "2025-05-03T22:19:18.536498Z",
     "start_time": "2025-05-03T22:18:50.619434Z"
    }
   },
   "cell_type": "code",
   "source": [
    "%%time\n",
    "\n",
    "TARGET_COL = 'answer_log_normalized_score'\n",
    "\n",
    "regression_model = LinearRegression()\n",
    "regression_model.fit(X_train, train_targets_df[TARGET_COL])"
   ],
   "id": "2eb12d2abe377728",
   "outputs": [
    {
     "name": "stdout",
     "output_type": "stream",
     "text": [
      "Wall time: 27.9 s\n"
     ]
    },
    {
     "data": {
      "text/plain": [
       "LinearRegression()"
      ],
      "text/html": [
       "<style>#sk-container-id-2 {color: black;background-color: white;}#sk-container-id-2 pre{padding: 0;}#sk-container-id-2 div.sk-toggleable {background-color: white;}#sk-container-id-2 label.sk-toggleable__label {cursor: pointer;display: block;width: 100%;margin-bottom: 0;padding: 0.3em;box-sizing: border-box;text-align: center;}#sk-container-id-2 label.sk-toggleable__label-arrow:before {content: \"▸\";float: left;margin-right: 0.25em;color: #696969;}#sk-container-id-2 label.sk-toggleable__label-arrow:hover:before {color: black;}#sk-container-id-2 div.sk-estimator:hover label.sk-toggleable__label-arrow:before {color: black;}#sk-container-id-2 div.sk-toggleable__content {max-height: 0;max-width: 0;overflow: hidden;text-align: left;background-color: #f0f8ff;}#sk-container-id-2 div.sk-toggleable__content pre {margin: 0.2em;color: black;border-radius: 0.25em;background-color: #f0f8ff;}#sk-container-id-2 input.sk-toggleable__control:checked~div.sk-toggleable__content {max-height: 200px;max-width: 100%;overflow: auto;}#sk-container-id-2 input.sk-toggleable__control:checked~label.sk-toggleable__label-arrow:before {content: \"▾\";}#sk-container-id-2 div.sk-estimator input.sk-toggleable__control:checked~label.sk-toggleable__label {background-color: #d4ebff;}#sk-container-id-2 div.sk-label input.sk-toggleable__control:checked~label.sk-toggleable__label {background-color: #d4ebff;}#sk-container-id-2 input.sk-hidden--visually {border: 0;clip: rect(1px 1px 1px 1px);clip: rect(1px, 1px, 1px, 1px);height: 1px;margin: -1px;overflow: hidden;padding: 0;position: absolute;width: 1px;}#sk-container-id-2 div.sk-estimator {font-family: monospace;background-color: #f0f8ff;border: 1px dotted black;border-radius: 0.25em;box-sizing: border-box;margin-bottom: 0.5em;}#sk-container-id-2 div.sk-estimator:hover {background-color: #d4ebff;}#sk-container-id-2 div.sk-parallel-item::after {content: \"\";width: 100%;border-bottom: 1px solid gray;flex-grow: 1;}#sk-container-id-2 div.sk-label:hover label.sk-toggleable__label {background-color: #d4ebff;}#sk-container-id-2 div.sk-serial::before {content: \"\";position: absolute;border-left: 1px solid gray;box-sizing: border-box;top: 0;bottom: 0;left: 50%;z-index: 0;}#sk-container-id-2 div.sk-serial {display: flex;flex-direction: column;align-items: center;background-color: white;padding-right: 0.2em;padding-left: 0.2em;position: relative;}#sk-container-id-2 div.sk-item {position: relative;z-index: 1;}#sk-container-id-2 div.sk-parallel {display: flex;align-items: stretch;justify-content: center;background-color: white;position: relative;}#sk-container-id-2 div.sk-item::before, #sk-container-id-2 div.sk-parallel-item::before {content: \"\";position: absolute;border-left: 1px solid gray;box-sizing: border-box;top: 0;bottom: 0;left: 50%;z-index: -1;}#sk-container-id-2 div.sk-parallel-item {display: flex;flex-direction: column;z-index: 1;position: relative;background-color: white;}#sk-container-id-2 div.sk-parallel-item:first-child::after {align-self: flex-end;width: 50%;}#sk-container-id-2 div.sk-parallel-item:last-child::after {align-self: flex-start;width: 50%;}#sk-container-id-2 div.sk-parallel-item:only-child::after {width: 0;}#sk-container-id-2 div.sk-dashed-wrapped {border: 1px dashed gray;margin: 0 0.4em 0.5em 0.4em;box-sizing: border-box;padding-bottom: 0.4em;background-color: white;}#sk-container-id-2 div.sk-label label {font-family: monospace;font-weight: bold;display: inline-block;line-height: 1.2em;}#sk-container-id-2 div.sk-label-container {text-align: center;}#sk-container-id-2 div.sk-container {/* jupyter's `normalize.less` sets `[hidden] { display: none; }` but bootstrap.min.css set `[hidden] { display: none !important; }` so we also need the `!important` here to be able to override the default hidden behavior on the sphinx rendered scikit-learn.org. See: https://github.com/scikit-learn/scikit-learn/issues/21755 */display: inline-block !important;position: relative;}#sk-container-id-2 div.sk-text-repr-fallback {display: none;}</style><div id=\"sk-container-id-2\" class=\"sk-top-container\"><div class=\"sk-text-repr-fallback\"><pre>LinearRegression()</pre><b>In a Jupyter environment, please rerun this cell to show the HTML representation or trust the notebook. <br />On GitHub, the HTML representation is unable to render, please try loading this page with nbviewer.org.</b></div><div class=\"sk-container\" hidden><div class=\"sk-item\"><div class=\"sk-estimator sk-toggleable\"><input class=\"sk-toggleable__control sk-hidden--visually\" id=\"sk-estimator-id-2\" type=\"checkbox\" checked><label for=\"sk-estimator-id-2\" class=\"sk-toggleable__label sk-toggleable__label-arrow\">LinearRegression</label><div class=\"sk-toggleable__content\"><pre>LinearRegression()</pre></div></div></div></div></div>"
      ]
     },
     "execution_count": 47,
     "metadata": {},
     "output_type": "execute_result"
    }
   ],
   "execution_count": 47
  },
  {
   "metadata": {},
   "cell_type": "markdown",
   "source": "## Evaluation",
   "id": "9c4e7cd47218baec"
  },
  {
   "metadata": {
    "ExecuteTime": {
     "end_time": "2025-05-03T22:14:02.648366Z",
     "start_time": "2025-05-03T22:14:00.593360Z"
    }
   },
   "cell_type": "code",
   "source": [
    "import matplotlib.pyplot as plt\n",
    "import pandas as pd\n",
    "import wandb\n",
    "from collections import defaultdict\n",
    "from src.evaluation import RankingEvaluator"
   ],
   "id": "5227a97356852f40",
   "outputs": [],
   "execution_count": 36
  },
  {
   "metadata": {
    "ExecuteTime": {
     "end_time": "2025-05-03T22:14:02.694363Z",
     "start_time": "2025-05-03T22:14:02.679360Z"
    }
   },
   "cell_type": "code",
   "source": [
    "wandb_config = defaultdict(dict)\n",
    "\n",
    "wandb_config['preprocessing'] = preprocessor.__dict__\n",
    "\n",
    "wandb_config['vectorizer'] = vectorizer.get_params()\n",
    "\n",
    "wandb_config['regression_model'] = defaultdict(dict)\n",
    "wandb_config['regression_model']['regressor_type'] = str(regression_model)\n",
    "wandb_config['regression_model']['n_features'] = regression_model.n_features_in_\n",
    "wandb_config['regression_model']['params'][str(regression_model)] = regression_model.get_params()\n",
    "\n",
    "wandb_config['target'] = TARGET_COL\n",
    "\n",
    "wandb_config"
   ],
   "id": "2ca2f3677bd82348",
   "outputs": [
    {
     "data": {
      "text/plain": [
       "defaultdict(dict,\n",
       "            {'preprocessing': {'question_columns': ['question_title',\n",
       "               'question_body'],\n",
       "              'answer_columns': ['answer_body'],\n",
       "              'preserve_html_tags': None},\n",
       "             'vectorizer': {'analyzer': 'word',\n",
       "              'binary': False,\n",
       "              'decode_error': 'strict',\n",
       "              'dtype': numpy.float64,\n",
       "              'encoding': 'utf-8',\n",
       "              'input': 'content',\n",
       "              'lowercase': True,\n",
       "              'max_df': 1.0,\n",
       "              'max_features': 10000,\n",
       "              'min_df': 1,\n",
       "              'ngram_range': (1, 1),\n",
       "              'norm': 'l2',\n",
       "              'preprocessor': None,\n",
       "              'smooth_idf': True,\n",
       "              'stop_words': None,\n",
       "              'strip_accents': None,\n",
       "              'sublinear_tf': False,\n",
       "              'token_pattern': '(?u)\\\\b\\\\w\\\\w+\\\\b',\n",
       "              'tokenizer': None,\n",
       "              'use_idf': True,\n",
       "              'vocabulary': None},\n",
       "             'regression_model': defaultdict(dict,\n",
       "                         {'regressor_type': 'LinearRegression()',\n",
       "                          'n_features': 20000,\n",
       "                          'params': {'LinearRegression()': {'copy_X': True,\n",
       "                            'fit_intercept': True,\n",
       "                            'n_jobs': None,\n",
       "                            'positive': False}}}),\n",
       "             'target': 'answer_standardized_score'})"
      ]
     },
     "execution_count": 37,
     "metadata": {},
     "output_type": "execute_result"
    }
   ],
   "execution_count": 37
  },
  {
   "metadata": {
    "ExecuteTime": {
     "end_time": "2025-05-03T17:28:47.036046Z",
     "start_time": "2025-05-03T17:28:40.121345Z"
    }
   },
   "cell_type": "code",
   "source": [
    "run = wandb.init(\n",
    "    project='dalip-stackoverflow-answer-ranking',\n",
    "    config=wandb_config,\n",
    "    tags=['tfidf', 'baseline']\n",
    ")"
   ],
   "id": "cb0d5bd07c466895",
   "outputs": [
    {
     "name": "stderr",
     "output_type": "stream",
     "text": [
      "\u001B[34m\u001B[1mwandb\u001B[0m: Using wandb-core as the SDK backend.  Please refer to https://wandb.me/wandb-core for more information.\n",
      "\u001B[34m\u001B[1mwandb\u001B[0m: Currently logged in as: \u001B[33mbunnynobugs\u001B[0m to \u001B[32mhttps://api.wandb.ai\u001B[0m. Use \u001B[1m`wandb login --relogin`\u001B[0m to force relogin\n"
     ]
    },
    {
     "data": {
      "text/plain": [
       "<IPython.core.display.HTML object>"
      ],
      "text/html": [
       "creating run (0.1s)"
      ]
     },
     "metadata": {},
     "output_type": "display_data"
    },
    {
     "data": {
      "text/plain": [
       "<IPython.core.display.HTML object>"
      ],
      "text/html": [
       "Tracking run with wandb version 0.19.9"
      ]
     },
     "metadata": {},
     "output_type": "display_data"
    },
    {
     "data": {
      "text/plain": [
       "<IPython.core.display.HTML object>"
      ],
      "text/html": [
       "Run data is saved locally in <code>C:\\Users\\User\\Женя\\GitHub\\stack-overflow-answers-assessment\\wandb\\run-20250503_202842-azftllem</code>"
      ]
     },
     "metadata": {},
     "output_type": "display_data"
    },
    {
     "data": {
      "text/plain": [
       "<IPython.core.display.HTML object>"
      ],
      "text/html": [
       "Syncing run <strong><a href='https://wandb.ai/bunnynobugs/dalip-stackoverflow-answer-ranking/runs/azftllem' target=\"_blank\">astral-dragon-105</a></strong> to <a href='https://wandb.ai/bunnynobugs/dalip-stackoverflow-answer-ranking' target=\"_blank\">Weights & Biases</a> (<a href='https://wandb.me/developer-guide' target=\"_blank\">docs</a>)<br>"
      ]
     },
     "metadata": {},
     "output_type": "display_data"
    },
    {
     "data": {
      "text/plain": [
       "<IPython.core.display.HTML object>"
      ],
      "text/html": [
       " View project at <a href='https://wandb.ai/bunnynobugs/dalip-stackoverflow-answer-ranking' target=\"_blank\">https://wandb.ai/bunnynobugs/dalip-stackoverflow-answer-ranking</a>"
      ]
     },
     "metadata": {},
     "output_type": "display_data"
    },
    {
     "data": {
      "text/plain": [
       "<IPython.core.display.HTML object>"
      ],
      "text/html": [
       " View run at <a href='https://wandb.ai/bunnynobugs/dalip-stackoverflow-answer-ranking/runs/azftllem' target=\"_blank\">https://wandb.ai/bunnynobugs/dalip-stackoverflow-answer-ranking/runs/azftllem</a>"
      ]
     },
     "metadata": {},
     "output_type": "display_data"
    }
   ],
   "execution_count": 67
  },
  {
   "metadata": {
    "ExecuteTime": {
     "end_time": "2025-05-03T22:19:18.737293Z",
     "start_time": "2025-05-03T22:19:18.568939Z"
    }
   },
   "cell_type": "code",
   "source": [
    "if isinstance(regression_model, LinearRegression):\n",
    "    plt.plot(regression_model.coef_)"
   ],
   "id": "eb3c570631f0a0f9",
   "outputs": [
    {
     "data": {
      "text/plain": [
       "<Figure size 432x288 with 1 Axes>"
      ],
      "image/png": "[encoded data removed]"
     },
     "metadata": {},
     "output_type": "display_data"
    }
   ],
   "execution_count": 48
  },
  {
   "metadata": {},
   "cell_type": "markdown",
   "source": "### Compute metrics",
   "id": "ca1bc5881e7e2ae1"
  },
  {
   "metadata": {
    "ExecuteTime": {
     "end_time": "2025-05-03T22:14:15.718553Z",
     "start_time": "2025-05-03T22:14:15.705574Z"
    }
   },
   "cell_type": "code",
   "source": "targets = hf_dataset['test']['answer_normalized_score']",
   "id": "15c62343b104a872",
   "outputs": [],
   "execution_count": 39
  },
  {
   "metadata": {
    "ExecuteTime": {
     "end_time": "2025-05-03T22:14:16.152407Z",
     "start_time": "2025-05-03T22:14:16.140408Z"
    }
   },
   "cell_type": "code",
   "source": "predictions = regression_model.predict(X_test)",
   "id": "c6006d9123c02e85",
   "outputs": [],
   "execution_count": 40
  },
  {
   "metadata": {
    "ExecuteTime": {
     "end_time": "2025-05-03T22:14:58.901042Z",
     "start_time": "2025-05-03T22:14:58.877037Z"
    }
   },
   "cell_type": "code",
   "source": "pd.Series(predictions).describe()",
   "id": "9e38efc53408126e",
   "outputs": [
    {
     "data": {
      "text/plain": [
       "count    10563.000000\n",
       "mean         1.896571\n",
       "std         14.488272\n",
       "min       -186.832871\n",
       "25%         -7.198578\n",
       "50%          1.472467\n",
       "75%         10.555554\n",
       "max         70.133316\n",
       "dtype: float64"
      ]
     },
     "execution_count": 45,
     "metadata": {},
     "output_type": "execute_result"
    }
   ],
   "execution_count": 45
  },
  {
   "metadata": {
    "ExecuteTime": {
     "end_time": "2025-05-03T22:14:20.154839Z",
     "start_time": "2025-05-03T22:14:20.142829Z"
    }
   },
   "cell_type": "code",
   "source": "test_question_ids = hf_dataset['test']['question_id']",
   "id": "e2138e2ef4304159",
   "outputs": [],
   "execution_count": 41
  },
  {
   "metadata": {
    "ExecuteTime": {
     "end_time": "2025-05-03T22:14:21.238701Z",
     "start_time": "2025-05-03T22:14:21.227691Z"
    }
   },
   "cell_type": "code",
   "source": [
    "evaluator = RankingEvaluator(ndcg_k=list(range(1, 11)), \n",
    "                             ndcg_gain_func='exponential', ndcg_discount_func='logarithmic')"
   ],
   "id": "8aa3b29474c94e74",
   "outputs": [],
   "execution_count": 42
  },
  {
   "metadata": {
    "ExecuteTime": {
     "end_time": "2025-05-03T22:15:45.681322Z",
     "start_time": "2025-05-03T22:15:45.113815Z"
    }
   },
   "cell_type": "code",
   "source": [
    "metrics = evaluator(targets, predictions, test_question_ids)\n",
    "if TARGET_COL not in ['answer_score', 'answer_normalized_score']:\n",
    "    metrics.pop('mae')\n",
    "metrics"
   ],
   "id": "3dbe5f15868ac1f1",
   "outputs": [
    {
     "data": {
      "text/plain": [
       "{'ndcg@1_g.exponential_d.logarithmic': 0.4112655473491954,\n",
       " 'ndcg@2_g.exponential_d.logarithmic': 0.5260027985848199,\n",
       " 'ndcg@3_g.exponential_d.logarithmic': 0.6149206341222822,\n",
       " 'ndcg@4_g.exponential_d.logarithmic': 0.6878475191002182,\n",
       " 'ndcg@5_g.exponential_d.logarithmic': 0.7169507117082768,\n",
       " 'ndcg@6_g.exponential_d.logarithmic': 0.7303784194398815,\n",
       " 'ndcg@7_g.exponential_d.logarithmic': 0.7354268111056361,\n",
       " 'ndcg@8_g.exponential_d.logarithmic': 0.738884223959666,\n",
       " 'ndcg@9_g.exponential_d.logarithmic': 0.7414698342654205,\n",
       " 'ndcg@10_g.exponential_d.logarithmic': 0.7420603482302048,\n",
       " 'hit_rate@1': 0.2802056555269923}"
      ]
     },
     "execution_count": 46,
     "metadata": {},
     "output_type": "execute_result"
    }
   ],
   "execution_count": 46
  },
  {
   "metadata": {
    "ExecuteTime": {
     "end_time": "2025-05-03T17:29:22.777Z",
     "start_time": "2025-05-03T17:29:22.754052Z"
    }
   },
   "cell_type": "code",
   "source": "wandb.log(metrics)",
   "id": "6d4936c0ab949e3",
   "outputs": [],
   "execution_count": 76
  },
  {
   "metadata": {},
   "cell_type": "markdown",
   "source": "### Log predictions",
   "id": "b2f02273097e4d2a"
  },
  {
   "metadata": {
    "ExecuteTime": {
     "end_time": "2025-05-03T17:29:26.728510Z",
     "start_time": "2025-05-03T17:29:26.687062Z"
    }
   },
   "cell_type": "code",
   "source": [
    "predictions_df = pd.DataFrame()\n",
    "predictions_df['answer_id'] = hf_dataset['test']['answer_id']\n",
    "predictions_df['answer_normalized_score'] = hf_dataset['test']['answer_normalized_score']\n",
    "predictions_df['predicted_score'] = predictions"
   ],
   "id": "6a4ccb4b1fe84939",
   "outputs": [],
   "execution_count": 77
  },
  {
   "metadata": {
    "ExecuteTime": {
     "end_time": "2025-05-03T17:29:30.174012Z",
     "start_time": "2025-05-03T17:29:28.173571Z"
    }
   },
   "cell_type": "code",
   "source": "wandb.log({'predictions_table': wandb.Table(dataframe=predictions_df)})",
   "id": "cadeacfde212b39",
   "outputs": [],
   "execution_count": 78
  },
  {
   "metadata": {
    "ExecuteTime": {
     "end_time": "2025-05-03T17:29:32.960685Z",
     "start_time": "2025-05-03T17:29:30.199010Z"
    }
   },
   "cell_type": "code",
   "source": "run.finish()",
   "id": "8a697ea64e697900",
   "outputs": [
    {
     "data": {
      "text/plain": [
       "<IPython.core.display.HTML object>"
      ],
      "text/html": []
     },
     "metadata": {},
     "output_type": "display_data"
    },
    {
     "data": {
      "text/plain": [
       "<IPython.core.display.HTML object>"
      ],
      "text/html": [
       "<br>    <style><br>        .wandb-row {<br>            display: flex;<br>            flex-direction: row;<br>            flex-wrap: wrap;<br>            justify-content: flex-start;<br>            width: 100%;<br>        }<br>        .wandb-col {<br>            display: flex;<br>            flex-direction: column;<br>            flex-basis: 100%;<br>            flex: 1;<br>            padding: 10px;<br>        }<br>    </style><br><div class=\"wandb-row\"><div class=\"wandb-col\"><h3>Run history:</h3><br/><table class=\"wandb\"><tr><td>hit_rate@1</td><td>▁</td></tr><tr><td>ndcg@10_g.exponential_d.logarithmic</td><td>▁</td></tr><tr><td>ndcg@1_g.exponential_d.logarithmic</td><td>▁</td></tr><tr><td>ndcg@2_g.exponential_d.logarithmic</td><td>▁</td></tr><tr><td>ndcg@3_g.exponential_d.logarithmic</td><td>▁</td></tr><tr><td>ndcg@4_g.exponential_d.logarithmic</td><td>▁</td></tr><tr><td>ndcg@5_g.exponential_d.logarithmic</td><td>▁</td></tr><tr><td>ndcg@6_g.exponential_d.logarithmic</td><td>▁</td></tr><tr><td>ndcg@7_g.exponential_d.logarithmic</td><td>▁</td></tr><tr><td>ndcg@8_g.exponential_d.logarithmic</td><td>▁</td></tr><tr><td>ndcg@9_g.exponential_d.logarithmic</td><td>▁</td></tr></table><br/></div><div class=\"wandb-col\"><h3>Run summary:</h3><br/><table class=\"wandb\"><tr><td>hit_rate@1</td><td>0.30026</td></tr><tr><td>ndcg@10_g.exponential_d.logarithmic</td><td>0.74869</td></tr><tr><td>ndcg@1_g.exponential_d.logarithmic</td><td>0.43007</td></tr><tr><td>ndcg@2_g.exponential_d.logarithmic</td><td>0.53443</td></tr><tr><td>ndcg@3_g.exponential_d.logarithmic</td><td>0.62446</td></tr><tr><td>ndcg@4_g.exponential_d.logarithmic</td><td>0.69415</td></tr><tr><td>ndcg@5_g.exponential_d.logarithmic</td><td>0.72281</td></tr><tr><td>ndcg@6_g.exponential_d.logarithmic</td><td>0.73737</td></tr><tr><td>ndcg@7_g.exponential_d.logarithmic</td><td>0.74241</td></tr><tr><td>ndcg@8_g.exponential_d.logarithmic</td><td>0.74609</td></tr><tr><td>ndcg@9_g.exponential_d.logarithmic</td><td>0.74749</td></tr></table><br/></div></div>"
      ]
     },
     "metadata": {},
     "output_type": "display_data"
    },
    {
     "data": {
      "text/plain": [
       "<IPython.core.display.HTML object>"
      ],
      "text/html": [
       " View run <strong style=\"color:#cdcd00\">astral-dragon-105</strong> at: <a href='https://wandb.ai/bunnynobugs/dalip-stackoverflow-answer-ranking/runs/azftllem' target=\"_blank\">https://wandb.ai/bunnynobugs/dalip-stackoverflow-answer-ranking/runs/azftllem</a><br> View project at: <a href='https://wandb.ai/bunnynobugs/dalip-stackoverflow-answer-ranking' target=\"_blank\">https://wandb.ai/bunnynobugs/dalip-stackoverflow-answer-ranking</a><br>Synced 5 W&B file(s), 1 media file(s), 2 artifact file(s) and 0 other file(s)"
      ]
     },
     "metadata": {},
     "output_type": "display_data"
    },
    {
     "data": {
      "text/plain": [
       "<IPython.core.display.HTML object>"
      ],
      "text/html": [
       "Find logs at: <code>.\\wandb\\run-20250503_202842-azftllem\\logs</code>"
      ]
     },
     "metadata": {},
     "output_type": "display_data"
    }
   ],
   "execution_count": 79
  },
  {
   "metadata": {
    "ExecuteTime": {
     "end_time": "2025-04-12T17:25:43.337450Z",
     "start_time": "2025-04-12T17:25:43.322425Z"
    }
   },
   "cell_type": "code",
   "source": "",
   "id": "f0b8553f75d90330",
   "outputs": [],
   "execution_count": null
  }
 ],
 "metadata": {
  "kernelspec": {
   "display_name": "Python 3",
   "language": "python",
   "name": "python3"
  },
  "language_info": {
   "codemirror_mode": {
    "name": "ipython",
    "version": 2
   },
   "file_extension": ".py",
   "mimetype": "text/x-python",
   "name": "python",
   "nbconvert_exporter": "python",
   "pygments_lexer": "ipython2",
   "version": "2.7.6"
  }
 },
 "nbformat": 4,
 "nbformat_minor": 5
}
