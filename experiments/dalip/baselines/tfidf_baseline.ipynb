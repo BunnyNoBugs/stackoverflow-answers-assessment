{
 "cells": [
  {
   "metadata": {},
   "cell_type": "markdown",
   "source": "# TF-IDF baseline",
   "id": "580dd89b5f1d37d0"
  },
  {
   "metadata": {},
   "cell_type": "markdown",
   "source": "## Data loading",
   "id": "621a719f57dec49b"
  },
  {
   "metadata": {
    "ExecuteTime": {
     "end_time": "2025-04-12T17:25:22.689416Z",
     "start_time": "2025-04-12T17:25:22.673791Z"
    }
   },
   "cell_type": "code",
   "outputs": [],
   "execution_count": 30,
   "source": [
    "from datasets import load_from_disk\n",
    "from src.utils.config_management import CONFIG"
   ],
   "id": "7f57fe86f1cec5f3"
  },
  {
   "metadata": {
    "ExecuteTime": {
     "end_time": "2025-04-12T17:25:23.126507Z",
     "start_time": "2025-04-12T17:25:22.692910Z"
    }
   },
   "cell_type": "code",
   "source": "hf_dataset = load_from_disk(CONFIG['paths']['data']['dalip_hf_dataset'])",
   "id": "6ccaf05549e14b85",
   "outputs": [],
   "execution_count": 31
  },
  {
   "metadata": {
    "ExecuteTime": {
     "end_time": "2025-04-12T17:25:23.160961Z",
     "start_time": "2025-04-12T17:25:23.145369Z"
    }
   },
   "cell_type": "code",
   "source": "hf_dataset",
   "id": "2b84529bce8892c6",
   "outputs": [
    {
     "data": {
      "text/plain": [
       "DatasetDict({\n",
       "    train: Dataset({\n",
       "        features: ['answer_id', 'question_id', 'answer_creation_date', 'answer_score', 'answer_normalized_score', 'answer_log_normalized_score', 'answer_body', 'answer_last_edit_date', 'answer_last_activity_date', 'answer_comment_count', 'answer_community_owned_date', 'question_creation_date', 'question_score', 'question_view_count', 'question_body', 'question_last_edit_date', 'question_last_activity_date', 'question_title', 'question_tags', 'question_answer_count', 'question_comment_count', 'question_favorite_count', 'question_closed_date', 'question_community_owned_date', 'answer_accepted'],\n",
       "        num_rows: 42700\n",
       "    })\n",
       "    test: Dataset({\n",
       "        features: ['answer_id', 'question_id', 'answer_creation_date', 'answer_score', 'answer_normalized_score', 'answer_log_normalized_score', 'answer_body', 'answer_last_edit_date', 'answer_last_activity_date', 'answer_comment_count', 'answer_community_owned_date', 'question_creation_date', 'question_score', 'question_view_count', 'question_body', 'question_last_edit_date', 'question_last_activity_date', 'question_title', 'question_tags', 'question_answer_count', 'question_comment_count', 'question_favorite_count', 'question_closed_date', 'question_community_owned_date', 'answer_accepted'],\n",
       "        num_rows: 10563\n",
       "    })\n",
       "})"
      ]
     },
     "execution_count": 32,
     "metadata": {},
     "output_type": "execute_result"
    }
   ],
   "execution_count": 32
  },
  {
   "metadata": {},
   "cell_type": "markdown",
   "source": "## Data preprocessing",
   "id": "a559134473da9e90"
  },
  {
   "metadata": {
    "ExecuteTime": {
     "end_time": "2025-04-12T17:25:23.284827Z",
     "start_time": "2025-04-12T17:25:23.269242Z"
    }
   },
   "cell_type": "code",
   "source": "from src.utils.text_preprocessing import Preprocessor",
   "id": "16c170e7dccf8097",
   "outputs": [],
   "execution_count": 33
  },
  {
   "metadata": {
    "ExecuteTime": {
     "end_time": "2025-04-12T17:25:23.379468Z",
     "start_time": "2025-04-12T17:25:23.350672Z"
    }
   },
   "cell_type": "code",
   "source": "TARGET_COL = 'answer_normalized_score'",
   "id": "1fece3caeff09c0c",
   "outputs": [],
   "execution_count": 34
  },
  {
   "metadata": {
    "ExecuteTime": {
     "end_time": "2025-04-12T17:25:23.440731Z",
     "start_time": "2025-04-12T17:25:23.426392Z"
    }
   },
   "cell_type": "code",
   "source": "preprocessor = Preprocessor(question_columns=None)",
   "id": "ed7568fb52b27ca6",
   "outputs": [],
   "execution_count": 35
  },
  {
   "metadata": {
    "ExecuteTime": {
     "end_time": "2025-04-12T17:25:24.058762Z",
     "start_time": "2025-04-12T17:25:23.444708Z"
    }
   },
   "cell_type": "code",
   "source": "hf_dataset = hf_dataset.map(preprocessor, batched=True)",
   "id": "677422195885b2e0",
   "outputs": [],
   "execution_count": 36
  },
  {
   "metadata": {
    "ExecuteTime": {
     "end_time": "2025-04-12T17:25:24.105585Z",
     "start_time": "2025-04-12T17:25:24.089961Z"
    }
   },
   "cell_type": "code",
   "source": "hf_dataset",
   "id": "2de5f8553505d00",
   "outputs": [
    {
     "data": {
      "text/plain": [
       "DatasetDict({\n",
       "    train: Dataset({\n",
       "        features: ['answer_id', 'question_id', 'answer_creation_date', 'answer_score', 'answer_normalized_score', 'answer_log_normalized_score', 'answer_body', 'answer_last_edit_date', 'answer_last_activity_date', 'answer_comment_count', 'answer_community_owned_date', 'question_creation_date', 'question_score', 'question_view_count', 'question_body', 'question_last_edit_date', 'question_last_activity_date', 'question_title', 'question_tags', 'question_answer_count', 'question_comment_count', 'question_favorite_count', 'question_closed_date', 'question_community_owned_date', 'answer_accepted', 'question_text', 'answer_text'],\n",
       "        num_rows: 42700\n",
       "    })\n",
       "    test: Dataset({\n",
       "        features: ['answer_id', 'question_id', 'answer_creation_date', 'answer_score', 'answer_normalized_score', 'answer_log_normalized_score', 'answer_body', 'answer_last_edit_date', 'answer_last_activity_date', 'answer_comment_count', 'answer_community_owned_date', 'question_creation_date', 'question_score', 'question_view_count', 'question_body', 'question_last_edit_date', 'question_last_activity_date', 'question_title', 'question_tags', 'question_answer_count', 'question_comment_count', 'question_favorite_count', 'question_closed_date', 'question_community_owned_date', 'answer_accepted', 'question_text', 'answer_text'],\n",
       "        num_rows: 10563\n",
       "    })\n",
       "})"
      ]
     },
     "execution_count": 37,
     "metadata": {},
     "output_type": "execute_result"
    }
   ],
   "execution_count": 37
  },
  {
   "metadata": {},
   "cell_type": "markdown",
   "source": "## Model training",
   "id": "b9dfa269b9fb1ac7"
  },
  {
   "metadata": {
    "ExecuteTime": {
     "end_time": "2025-04-12T17:25:24.249935Z",
     "start_time": "2025-04-12T17:25:24.242114Z"
    }
   },
   "cell_type": "code",
   "source": [
    "from sklearn.feature_extraction.text import TfidfVectorizer\n",
    "import scipy\n",
    "from sklearn.linear_model import LinearRegression\n",
    "from sklearn.ensemble import GradientBoostingRegressor"
   ],
   "id": "1cc4553cb58d1f2d",
   "outputs": [],
   "execution_count": 38
  },
  {
   "metadata": {
    "ExecuteTime": {
     "end_time": "2025-04-12T17:25:24.281428Z",
     "start_time": "2025-04-12T17:25:24.270429Z"
    }
   },
   "cell_type": "code",
   "source": "vectorizer = TfidfVectorizer(max_features=10000, stop_words=None)",
   "id": "3d9b88cf01d01426",
   "outputs": [],
   "execution_count": 39
  },
  {
   "metadata": {
    "ExecuteTime": {
     "end_time": "2025-04-12T17:25:24.327652Z",
     "start_time": "2025-04-12T17:25:24.317555Z"
    }
   },
   "cell_type": "code",
   "source": [
    "def vectorize_qa_pairs(vectorizer, hf_dataset):\n",
    "    vectorizer.fit(hf_dataset['train']['question_text'] + hf_dataset['train']['answer_text'])\n",
    "    \n",
    "    train_questions_vect = vectorizer.transform(hf_dataset['train']['question_text'])\n",
    "    train_answers_vect = vectorizer.transform(hf_dataset['train']['answer_text'])\n",
    "\n",
    "    \n",
    "    test_questions_vect = vectorizer.transform(hf_dataset['test']['question_text'])\n",
    "    test_answers_vect = vectorizer.transform(hf_dataset['test']['answer_text'])\n",
    "    \n",
    "    if hf_dataset['train']['question_text'][0]:\n",
    "        X_train = scipy.sparse.hstack([train_questions_vect, train_answers_vect])\n",
    "        X_test = scipy.sparse.hstack([test_questions_vect, test_answers_vect])\n",
    "    else:\n",
    "        X_train = train_answers_vect\n",
    "        X_test = test_answers_vect\n",
    "    \n",
    "    return X_train, X_test"
   ],
   "id": "d39183f5222d6994",
   "outputs": [],
   "execution_count": 40
  },
  {
   "metadata": {
    "ExecuteTime": {
     "end_time": "2025-04-12T17:25:29.099762Z",
     "start_time": "2025-04-12T17:25:24.333104Z"
    }
   },
   "cell_type": "code",
   "source": [
    "X_train, X_test = vectorize_qa_pairs(vectorizer, hf_dataset)\n",
    "X_train"
   ],
   "id": "2bc2cc4685c849c9",
   "outputs": [
    {
     "data": {
      "text/plain": [
       "<42700x10000 sparse matrix of type '<class 'numpy.float64'>'\n",
       "\twith 1971726 stored elements in Compressed Sparse Row format>"
      ]
     },
     "execution_count": 41,
     "metadata": {},
     "output_type": "execute_result"
    }
   ],
   "execution_count": 41
  },
  {
   "metadata": {
    "ExecuteTime": {
     "end_time": "2025-04-12T17:25:34.545179Z",
     "start_time": "2025-04-12T17:25:29.111135Z"
    }
   },
   "cell_type": "code",
   "source": [
    "%%time\n",
    "\n",
    "regression_model = LinearRegression()\n",
    "regression_model.fit(X_train, hf_dataset['train'][TARGET_COL])"
   ],
   "id": "2eb12d2abe377728",
   "outputs": [
    {
     "name": "stdout",
     "output_type": "stream",
     "text": [
      "Wall time: 5.43 s\n"
     ]
    },
    {
     "data": {
      "text/plain": [
       "LinearRegression()"
      ],
      "text/html": [
       "<style>#sk-container-id-2 {color: black;background-color: white;}#sk-container-id-2 pre{padding: 0;}#sk-container-id-2 div.sk-toggleable {background-color: white;}#sk-container-id-2 label.sk-toggleable__label {cursor: pointer;display: block;width: 100%;margin-bottom: 0;padding: 0.3em;box-sizing: border-box;text-align: center;}#sk-container-id-2 label.sk-toggleable__label-arrow:before {content: \"▸\";float: left;margin-right: 0.25em;color: #696969;}#sk-container-id-2 label.sk-toggleable__label-arrow:hover:before {color: black;}#sk-container-id-2 div.sk-estimator:hover label.sk-toggleable__label-arrow:before {color: black;}#sk-container-id-2 div.sk-toggleable__content {max-height: 0;max-width: 0;overflow: hidden;text-align: left;background-color: #f0f8ff;}#sk-container-id-2 div.sk-toggleable__content pre {margin: 0.2em;color: black;border-radius: 0.25em;background-color: #f0f8ff;}#sk-container-id-2 input.sk-toggleable__control:checked~div.sk-toggleable__content {max-height: 200px;max-width: 100%;overflow: auto;}#sk-container-id-2 input.sk-toggleable__control:checked~label.sk-toggleable__label-arrow:before {content: \"▾\";}#sk-container-id-2 div.sk-estimator input.sk-toggleable__control:checked~label.sk-toggleable__label {background-color: #d4ebff;}#sk-container-id-2 div.sk-label input.sk-toggleable__control:checked~label.sk-toggleable__label {background-color: #d4ebff;}#sk-container-id-2 input.sk-hidden--visually {border: 0;clip: rect(1px 1px 1px 1px);clip: rect(1px, 1px, 1px, 1px);height: 1px;margin: -1px;overflow: hidden;padding: 0;position: absolute;width: 1px;}#sk-container-id-2 div.sk-estimator {font-family: monospace;background-color: #f0f8ff;border: 1px dotted black;border-radius: 0.25em;box-sizing: border-box;margin-bottom: 0.5em;}#sk-container-id-2 div.sk-estimator:hover {background-color: #d4ebff;}#sk-container-id-2 div.sk-parallel-item::after {content: \"\";width: 100%;border-bottom: 1px solid gray;flex-grow: 1;}#sk-container-id-2 div.sk-label:hover label.sk-toggleable__label {background-color: #d4ebff;}#sk-container-id-2 div.sk-serial::before {content: \"\";position: absolute;border-left: 1px solid gray;box-sizing: border-box;top: 0;bottom: 0;left: 50%;z-index: 0;}#sk-container-id-2 div.sk-serial {display: flex;flex-direction: column;align-items: center;background-color: white;padding-right: 0.2em;padding-left: 0.2em;position: relative;}#sk-container-id-2 div.sk-item {position: relative;z-index: 1;}#sk-container-id-2 div.sk-parallel {display: flex;align-items: stretch;justify-content: center;background-color: white;position: relative;}#sk-container-id-2 div.sk-item::before, #sk-container-id-2 div.sk-parallel-item::before {content: \"\";position: absolute;border-left: 1px solid gray;box-sizing: border-box;top: 0;bottom: 0;left: 50%;z-index: -1;}#sk-container-id-2 div.sk-parallel-item {display: flex;flex-direction: column;z-index: 1;position: relative;background-color: white;}#sk-container-id-2 div.sk-parallel-item:first-child::after {align-self: flex-end;width: 50%;}#sk-container-id-2 div.sk-parallel-item:last-child::after {align-self: flex-start;width: 50%;}#sk-container-id-2 div.sk-parallel-item:only-child::after {width: 0;}#sk-container-id-2 div.sk-dashed-wrapped {border: 1px dashed gray;margin: 0 0.4em 0.5em 0.4em;box-sizing: border-box;padding-bottom: 0.4em;background-color: white;}#sk-container-id-2 div.sk-label label {font-family: monospace;font-weight: bold;display: inline-block;line-height: 1.2em;}#sk-container-id-2 div.sk-label-container {text-align: center;}#sk-container-id-2 div.sk-container {/* jupyter's `normalize.less` sets `[hidden] { display: none; }` but bootstrap.min.css set `[hidden] { display: none !important; }` so we also need the `!important` here to be able to override the default hidden behavior on the sphinx rendered scikit-learn.org. See: https://github.com/scikit-learn/scikit-learn/issues/21755 */display: inline-block !important;position: relative;}#sk-container-id-2 div.sk-text-repr-fallback {display: none;}</style><div id=\"sk-container-id-2\" class=\"sk-top-container\"><div class=\"sk-text-repr-fallback\"><pre>LinearRegression()</pre><b>In a Jupyter environment, please rerun this cell to show the HTML representation or trust the notebook. <br />On GitHub, the HTML representation is unable to render, please try loading this page with nbviewer.org.</b></div><div class=\"sk-container\" hidden><div class=\"sk-item\"><div class=\"sk-estimator sk-toggleable\"><input class=\"sk-toggleable__control sk-hidden--visually\" id=\"sk-estimator-id-2\" type=\"checkbox\" checked><label for=\"sk-estimator-id-2\" class=\"sk-toggleable__label sk-toggleable__label-arrow\">LinearRegression</label><div class=\"sk-toggleable__content\"><pre>LinearRegression()</pre></div></div></div></div></div>"
      ]
     },
     "execution_count": 42,
     "metadata": {},
     "output_type": "execute_result"
    }
   ],
   "execution_count": 42
  },
  {
   "metadata": {},
   "cell_type": "markdown",
   "source": "## Evaluation",
   "id": "9c4e7cd47218baec"
  },
  {
   "metadata": {
    "ExecuteTime": {
     "end_time": "2025-04-12T17:25:34.623678Z",
     "start_time": "2025-04-12T17:25:34.617510Z"
    }
   },
   "cell_type": "code",
   "source": [
    "import matplotlib.pyplot as plt\n",
    "import pandas as pd\n",
    "import wandb\n",
    "from collections import defaultdict\n",
    "from src.evaluation import RankingEvaluator"
   ],
   "id": "5227a97356852f40",
   "outputs": [],
   "execution_count": 43
  },
  {
   "metadata": {
    "ExecuteTime": {
     "end_time": "2025-04-12T17:25:34.655689Z",
     "start_time": "2025-04-12T17:25:34.640680Z"
    }
   },
   "cell_type": "code",
   "source": [
    "wandb_config = defaultdict(dict)\n",
    "\n",
    "wandb_config['preprocessing'] = preprocessor.__dict__\n",
    "\n",
    "wandb_config['vectorizer'] = vectorizer.get_params()\n",
    "\n",
    "wandb_config['regression_model'] = defaultdict(dict)\n",
    "wandb_config['regression_model']['regressor_type'] = str(regression_model)\n",
    "wandb_config['regression_model']['n_features'] = regression_model.n_features_in_\n",
    "wandb_config['regression_model']['params'][str(regression_model)] = regression_model.get_params()\n",
    "\n",
    "wandb_config"
   ],
   "id": "2ca2f3677bd82348",
   "outputs": [
    {
     "data": {
      "text/plain": [
       "defaultdict(dict,\n",
       "            {'preprocessing': {'question_columns': [],\n",
       "              'answer_columns': ['answer_body']},\n",
       "             'vectorizer': {'analyzer': 'word',\n",
       "              'binary': False,\n",
       "              'decode_error': 'strict',\n",
       "              'dtype': numpy.float64,\n",
       "              'encoding': 'utf-8',\n",
       "              'input': 'content',\n",
       "              'lowercase': True,\n",
       "              'max_df': 1.0,\n",
       "              'max_features': 10000,\n",
       "              'min_df': 1,\n",
       "              'ngram_range': (1, 1),\n",
       "              'norm': 'l2',\n",
       "              'preprocessor': None,\n",
       "              'smooth_idf': True,\n",
       "              'stop_words': None,\n",
       "              'strip_accents': None,\n",
       "              'sublinear_tf': False,\n",
       "              'token_pattern': '(?u)\\\\b\\\\w\\\\w+\\\\b',\n",
       "              'tokenizer': None,\n",
       "              'use_idf': True,\n",
       "              'vocabulary': None},\n",
       "             'regression_model': defaultdict(dict,\n",
       "                         {'regressor_type': 'LinearRegression()',\n",
       "                          'n_features': 10000,\n",
       "                          'params': {'LinearRegression()': {'copy_X': True,\n",
       "                            'fit_intercept': True,\n",
       "                            'n_jobs': None,\n",
       "                            'positive': False}}})})"
      ]
     },
     "execution_count": 44,
     "metadata": {},
     "output_type": "execute_result"
    }
   ],
   "execution_count": 44
  },
  {
   "metadata": {
    "ExecuteTime": {
     "end_time": "2025-04-12T17:25:36.343671Z",
     "start_time": "2025-04-12T17:25:34.693733Z"
    }
   },
   "cell_type": "code",
   "source": [
    "run = wandb.init(\n",
    "    project='dalip-stackoverflow-answer-ranking',\n",
    "    config=wandb_config,\n",
    "    tags=['tfidf', 'baseline']\n",
    ")"
   ],
   "id": "cb0d5bd07c466895",
   "outputs": [
    {
     "data": {
      "text/plain": [
       "<IPython.core.display.HTML object>"
      ],
      "text/html": [
       "Tracking run with wandb version 0.19.9"
      ]
     },
     "metadata": {},
     "output_type": "display_data"
    },
    {
     "data": {
      "text/plain": [
       "<IPython.core.display.HTML object>"
      ],
      "text/html": [
       "Run data is saved locally in <code>C:\\Users\\User\\Женя\\GitHub\\stack-overflow-answers-assessment\\experiments\\dalip\\wandb\\run-20250412_202534-eb1y7l2o</code>"
      ]
     },
     "metadata": {},
     "output_type": "display_data"
    },
    {
     "data": {
      "text/plain": [
       "<IPython.core.display.HTML object>"
      ],
      "text/html": [
       "Syncing run <strong><a href='https://wandb.ai/bunnynobugs/dalip-stackoverflow-answer-ranking/runs/eb1y7l2o' target=\"_blank\">vague-glade-11</a></strong> to <a href='https://wandb.ai/bunnynobugs/dalip-stackoverflow-answer-ranking' target=\"_blank\">Weights & Biases</a> (<a href='https://wandb.me/developer-guide' target=\"_blank\">docs</a>)<br>"
      ]
     },
     "metadata": {},
     "output_type": "display_data"
    },
    {
     "data": {
      "text/plain": [
       "<IPython.core.display.HTML object>"
      ],
      "text/html": [
       " View project at <a href='https://wandb.ai/bunnynobugs/dalip-stackoverflow-answer-ranking' target=\"_blank\">https://wandb.ai/bunnynobugs/dalip-stackoverflow-answer-ranking</a>"
      ]
     },
     "metadata": {},
     "output_type": "display_data"
    },
    {
     "data": {
      "text/plain": [
       "<IPython.core.display.HTML object>"
      ],
      "text/html": [
       " View run at <a href='https://wandb.ai/bunnynobugs/dalip-stackoverflow-answer-ranking/runs/eb1y7l2o' target=\"_blank\">https://wandb.ai/bunnynobugs/dalip-stackoverflow-answer-ranking/runs/eb1y7l2o</a>"
      ]
     },
     "metadata": {},
     "output_type": "display_data"
    }
   ],
   "execution_count": 45
  },
  {
   "metadata": {
    "ExecuteTime": {
     "end_time": "2025-04-12T17:25:36.498055Z",
     "start_time": "2025-04-12T17:25:36.364669Z"
    }
   },
   "cell_type": "code",
   "source": [
    "if isinstance(regression_model, LinearRegression):\n",
    "    plt.plot(regression_model.coef_)"
   ],
   "id": "eb3c570631f0a0f9",
   "outputs": [
    {
     "data": {
      "text/plain": [
       "<Figure size 432x288 with 1 Axes>"
      ],
      "image/png": "[encoded data removed]"
     },
     "metadata": {},
     "output_type": "display_data"
    }
   ],
   "execution_count": 46
  },
  {
   "metadata": {},
   "cell_type": "markdown",
   "source": "### Compute metrics",
   "id": "ca1bc5881e7e2ae1"
  },
  {
   "metadata": {
    "ExecuteTime": {
     "end_time": "2025-04-12T17:25:36.529099Z",
     "start_time": "2025-04-12T17:25:36.514788Z"
    }
   },
   "cell_type": "code",
   "source": "targets = hf_dataset['test'][TARGET_COL]",
   "id": "15c62343b104a872",
   "outputs": [],
   "execution_count": 47
  },
  {
   "metadata": {
    "ExecuteTime": {
     "end_time": "2025-04-12T17:25:36.559456Z",
     "start_time": "2025-04-12T17:25:36.545018Z"
    }
   },
   "cell_type": "code",
   "source": "predictions = regression_model.predict(X_test)",
   "id": "c6006d9123c02e85",
   "outputs": [],
   "execution_count": 48
  },
  {
   "metadata": {
    "ExecuteTime": {
     "end_time": "2025-04-12T17:25:36.607486Z",
     "start_time": "2025-04-12T17:25:36.577784Z"
    }
   },
   "cell_type": "code",
   "source": "test_question_ids = hf_dataset['test']['question_id']",
   "id": "e2138e2ef4304159",
   "outputs": [],
   "execution_count": 49
  },
  {
   "metadata": {
    "ExecuteTime": {
     "end_time": "2025-04-12T17:25:36.646015Z",
     "start_time": "2025-04-12T17:25:36.631429Z"
    }
   },
   "cell_type": "code",
   "source": [
    "evaluator = RankingEvaluator(ndcg_k=list(range(1, 11)), \n",
    "                             ndcg_gain_func='exponential', ndcg_discount_func='logarithmic')"
   ],
   "id": "8aa3b29474c94e74",
   "outputs": [],
   "execution_count": 50
  },
  {
   "metadata": {
    "ExecuteTime": {
     "end_time": "2025-04-12T17:25:37.136112Z",
     "start_time": "2025-04-12T17:25:36.661826Z"
    }
   },
   "cell_type": "code",
   "source": [
    "metrics = evaluator(targets, predictions, test_question_ids)\n",
    "if TARGET_COL == 'answer_log_normalized_score':\n",
    "    metrics.pop('mae')\n",
    "metrics"
   ],
   "id": "3dbe5f15868ac1f1",
   "outputs": [
    {
     "data": {
      "text/plain": [
       "{'ndcg@1_g.exponential_d.logarithmic': 0.42647828738590576,\n",
       " 'ndcg@2_g.exponential_d.logarithmic': 0.5225414712938128,\n",
       " 'ndcg@3_g.exponential_d.logarithmic': 0.6129505605631049,\n",
       " 'ndcg@4_g.exponential_d.logarithmic': 0.6855750970500493,\n",
       " 'ndcg@5_g.exponential_d.logarithmic': 0.7171577634097573,\n",
       " 'ndcg@6_g.exponential_d.logarithmic': 0.7298446701795359,\n",
       " 'ndcg@7_g.exponential_d.logarithmic': 0.7354202722567263,\n",
       " 'ndcg@8_g.exponential_d.logarithmic': 0.7388563472811498,\n",
       " 'ndcg@9_g.exponential_d.logarithmic': 0.7415039418297953,\n",
       " 'ndcg@10_g.exponential_d.logarithmic': 0.7432822820036253,\n",
       " 'mae': 4.1878960670860135,\n",
       " 'hit_rate@1': 0.2982005141388175}"
      ]
     },
     "execution_count": 51,
     "metadata": {},
     "output_type": "execute_result"
    }
   ],
   "execution_count": 51
  },
  {
   "metadata": {
    "ExecuteTime": {
     "end_time": "2025-04-12T17:25:37.181911Z",
     "start_time": "2025-04-12T17:25:37.156112Z"
    }
   },
   "cell_type": "code",
   "source": "wandb.log(metrics)",
   "id": "6d4936c0ab949e3",
   "outputs": [],
   "execution_count": 52
  },
  {
   "metadata": {},
   "cell_type": "markdown",
   "source": "### Log predictions",
   "id": "b2f02273097e4d2a"
  },
  {
   "metadata": {
    "ExecuteTime": {
     "end_time": "2025-04-12T17:25:37.249415Z",
     "start_time": "2025-04-12T17:25:37.214204Z"
    }
   },
   "cell_type": "code",
   "source": [
    "predictions_df = pd.DataFrame()\n",
    "predictions_df['answer_id'] = hf_dataset['test']['answer_id']\n",
    "predictions_df['answer_normalized_score'] = hf_dataset['test']['answer_normalized_score']\n",
    "predictions_df['predicted_score'] = predictions"
   ],
   "id": "6a4ccb4b1fe84939",
   "outputs": [],
   "execution_count": 53
  },
  {
   "metadata": {
    "ExecuteTime": {
     "end_time": "2025-04-12T17:25:38.399474Z",
     "start_time": "2025-04-12T17:25:37.266355Z"
    }
   },
   "cell_type": "code",
   "source": "wandb.log({'predictions_table': wandb.Table(dataframe=predictions_df)})",
   "id": "cadeacfde212b39",
   "outputs": [],
   "execution_count": 54
  },
  {
   "metadata": {
    "ExecuteTime": {
     "end_time": "2025-04-12T17:25:43.305426Z",
     "start_time": "2025-04-12T17:25:38.416637Z"
    }
   },
   "cell_type": "code",
   "source": "run.finish()",
   "id": "8a697ea64e697900",
   "outputs": [
    {
     "data": {
      "text/plain": [
       "<IPython.core.display.HTML object>"
      ],
      "text/html": []
     },
     "metadata": {},
     "output_type": "display_data"
    },
    {
     "data": {
      "text/plain": [
       "<IPython.core.display.HTML object>"
      ],
      "text/html": [
       "<br>    <style><br>        .wandb-row {<br>            display: flex;<br>            flex-direction: row;<br>            flex-wrap: wrap;<br>            justify-content: flex-start;<br>            width: 100%;<br>        }<br>        .wandb-col {<br>            display: flex;<br>            flex-direction: column;<br>            flex-basis: 100%;<br>            flex: 1;<br>            padding: 10px;<br>        }<br>    </style><br><div class=\"wandb-row\"><div class=\"wandb-col\"><h3>Run history:</h3><br/><table class=\"wandb\"><tr><td>hit_rate@1</td><td>▁</td></tr><tr><td>mae</td><td>▁</td></tr><tr><td>ndcg@10_g.exponential_d.logarithmic</td><td>▁</td></tr><tr><td>ndcg@1_g.exponential_d.logarithmic</td><td>▁</td></tr><tr><td>ndcg@2_g.exponential_d.logarithmic</td><td>▁</td></tr><tr><td>ndcg@3_g.exponential_d.logarithmic</td><td>▁</td></tr><tr><td>ndcg@4_g.exponential_d.logarithmic</td><td>▁</td></tr><tr><td>ndcg@5_g.exponential_d.logarithmic</td><td>▁</td></tr><tr><td>ndcg@6_g.exponential_d.logarithmic</td><td>▁</td></tr><tr><td>ndcg@7_g.exponential_d.logarithmic</td><td>▁</td></tr><tr><td>ndcg@8_g.exponential_d.logarithmic</td><td>▁</td></tr><tr><td>ndcg@9_g.exponential_d.logarithmic</td><td>▁</td></tr></table><br/></div><div class=\"wandb-col\"><h3>Run summary:</h3><br/><table class=\"wandb\"><tr><td>hit_rate@1</td><td>0.2982</td></tr><tr><td>mae</td><td>4.1879</td></tr><tr><td>ndcg@10_g.exponential_d.logarithmic</td><td>0.74328</td></tr><tr><td>ndcg@1_g.exponential_d.logarithmic</td><td>0.42648</td></tr><tr><td>ndcg@2_g.exponential_d.logarithmic</td><td>0.52254</td></tr><tr><td>ndcg@3_g.exponential_d.logarithmic</td><td>0.61295</td></tr><tr><td>ndcg@4_g.exponential_d.logarithmic</td><td>0.68558</td></tr><tr><td>ndcg@5_g.exponential_d.logarithmic</td><td>0.71716</td></tr><tr><td>ndcg@6_g.exponential_d.logarithmic</td><td>0.72984</td></tr><tr><td>ndcg@7_g.exponential_d.logarithmic</td><td>0.73542</td></tr><tr><td>ndcg@8_g.exponential_d.logarithmic</td><td>0.73886</td></tr><tr><td>ndcg@9_g.exponential_d.logarithmic</td><td>0.7415</td></tr></table><br/></div></div>"
      ]
     },
     "metadata": {},
     "output_type": "display_data"
    },
    {
     "data": {
      "text/plain": [
       "<IPython.core.display.HTML object>"
      ],
      "text/html": [
       " View run <strong style=\"color:#cdcd00\">vague-glade-11</strong> at: <a href='https://wandb.ai/bunnynobugs/dalip-stackoverflow-answer-ranking/runs/eb1y7l2o' target=\"_blank\">https://wandb.ai/bunnynobugs/dalip-stackoverflow-answer-ranking/runs/eb1y7l2o</a><br> View project at: <a href='https://wandb.ai/bunnynobugs/dalip-stackoverflow-answer-ranking' target=\"_blank\">https://wandb.ai/bunnynobugs/dalip-stackoverflow-answer-ranking</a><br>Synced 5 W&B file(s), 1 media file(s), 2 artifact file(s) and 0 other file(s)"
      ]
     },
     "metadata": {},
     "output_type": "display_data"
    },
    {
     "data": {
      "text/plain": [
       "<IPython.core.display.HTML object>"
      ],
      "text/html": [
       "Find logs at: <code>.\\wandb\\run-20250412_202534-eb1y7l2o\\logs</code>"
      ]
     },
     "metadata": {},
     "output_type": "display_data"
    }
   ],
   "execution_count": 55
  },
  {
   "metadata": {
    "ExecuteTime": {
     "end_time": "2025-04-12T17:25:43.337450Z",
     "start_time": "2025-04-12T17:25:43.322425Z"
    }
   },
   "cell_type": "code",
   "source": "",
   "id": "f0b8553f75d90330",
   "outputs": [],
   "execution_count": null
  }
 ],
 "metadata": {
  "kernelspec": {
   "display_name": "Python 3",
   "language": "python",
   "name": "python3"
  },
  "language_info": {
   "codemirror_mode": {
    "name": "ipython",
    "version": 2
   },
   "file_extension": ".py",
   "mimetype": "text/x-python",
   "name": "python",
   "nbconvert_exporter": "python",
   "pygments_lexer": "ipython2",
   "version": "2.7.6"
  }
 },
 "nbformat": 4,
 "nbformat_minor": 5
}
