{
 "cells": [
  {
   "metadata": {},
   "cell_type": "markdown",
   "source": "# Random baseline",
   "id": "580dd89b5f1d37d0"
  },
  {
   "metadata": {
    "ExecuteTime": {
     "end_time": "2025-04-11T17:20:13.061778Z",
     "start_time": "2025-04-11T17:20:12.467787Z"
    }
   },
   "cell_type": "code",
   "source": [
    "from datasets import load_from_disk\n",
    "from src.utils.config_management import CONFIG"
   ],
   "id": "7f57fe86f1cec5f3",
   "outputs": [],
   "execution_count": 1
  },
  {
   "metadata": {},
   "cell_type": "markdown",
   "source": "## Data loading",
   "id": "621a719f57dec49b"
  },
  {
   "metadata": {
    "ExecuteTime": {
     "end_time": "2025-04-11T17:20:13.097769Z",
     "start_time": "2025-04-11T17:20:13.061778Z"
    }
   },
   "cell_type": "code",
   "source": "hf_dataset = load_from_disk(CONFIG['paths']['data']['dalip_hf_dataset'])",
   "id": "6ccaf05549e14b85",
   "outputs": [],
   "execution_count": 2
  },
  {
   "metadata": {
    "ExecuteTime": {
     "end_time": "2025-04-11T17:20:14.169082Z",
     "start_time": "2025-04-11T17:20:14.157761Z"
    }
   },
   "cell_type": "code",
   "source": "hf_dataset",
   "id": "2b84529bce8892c6",
   "outputs": [
    {
     "data": {
      "text/plain": [
       "DatasetDict({\n",
       "    train: Dataset({\n",
       "        features: ['answer_id', 'question_id', 'answer_creation_date', 'answer_score', 'answer_normalized_score', 'answer_log_normalized_score', 'answer_body', 'answer_last_edit_date', 'answer_last_activity_date', 'answer_comment_count', 'answer_community_owned_date', 'question_creation_date', 'question_score', 'question_view_count', 'question_body', 'question_last_edit_date', 'question_last_activity_date', 'question_title', 'question_tags', 'question_answer_count', 'question_comment_count', 'question_favorite_count', 'question_closed_date', 'question_community_owned_date', 'answer_accepted'],\n",
       "        num_rows: 42700\n",
       "    })\n",
       "    test: Dataset({\n",
       "        features: ['answer_id', 'question_id', 'answer_creation_date', 'answer_score', 'answer_normalized_score', 'answer_log_normalized_score', 'answer_body', 'answer_last_edit_date', 'answer_last_activity_date', 'answer_comment_count', 'answer_community_owned_date', 'question_creation_date', 'question_score', 'question_view_count', 'question_body', 'question_last_edit_date', 'question_last_activity_date', 'question_title', 'question_tags', 'question_answer_count', 'question_comment_count', 'question_favorite_count', 'question_closed_date', 'question_community_owned_date', 'answer_accepted'],\n",
       "        num_rows: 10563\n",
       "    })\n",
       "})"
      ]
     },
     "execution_count": 3,
     "metadata": {},
     "output_type": "execute_result"
    }
   ],
   "execution_count": 3
  },
  {
   "metadata": {},
   "cell_type": "markdown",
   "source": "## Create predictions",
   "id": "b9dfa269b9fb1ac7"
  },
  {
   "metadata": {
    "ExecuteTime": {
     "end_time": "2025-04-11T17:20:14.267751Z",
     "start_time": "2025-04-11T17:20:14.256775Z"
    }
   },
   "cell_type": "code",
   "source": "import numpy as np",
   "id": "d2a85985b549b41d",
   "outputs": [],
   "execution_count": 4
  },
  {
   "metadata": {
    "ExecuteTime": {
     "end_time": "2025-04-11T17:20:14.327362Z",
     "start_time": "2025-04-11T17:20:14.311705Z"
    }
   },
   "cell_type": "code",
   "source": "TARGET_COL = 'answer_normalized_score'",
   "id": "ea86d3d1bca1bc29",
   "outputs": [],
   "execution_count": 5
  },
  {
   "metadata": {
    "ExecuteTime": {
     "end_time": "2025-04-11T17:20:14.755858Z",
     "start_time": "2025-04-11T17:20:14.732707Z"
    }
   },
   "cell_type": "code",
   "source": [
    "y_train = hf_dataset['train'][TARGET_COL]\n",
    "y_test = hf_dataset['test'][TARGET_COL]"
   ],
   "id": "15c62343b104a872",
   "outputs": [],
   "execution_count": 6
  },
  {
   "metadata": {
    "ExecuteTime": {
     "end_time": "2025-04-11T17:20:19.045239Z",
     "start_time": "2025-04-11T17:20:19.029614Z"
    }
   },
   "cell_type": "code",
   "source": [
    "np.random.seed(42)\n",
    "predictions = np.random.choice(y_train, len(y_test), replace=True)"
   ],
   "id": "fe8abc386196d902",
   "outputs": [],
   "execution_count": 7
  },
  {
   "metadata": {},
   "cell_type": "markdown",
   "source": "## Evaluation",
   "id": "9c4e7cd47218baec"
  },
  {
   "metadata": {
    "ExecuteTime": {
     "end_time": "2025-04-11T17:20:26.373832Z",
     "start_time": "2025-04-11T17:20:24.429412Z"
    }
   },
   "cell_type": "code",
   "source": [
    "import pandas as pd\n",
    "import wandb\n",
    "from collections import defaultdict\n",
    "from src.evaluation import RankingEvaluator"
   ],
   "id": "5227a97356852f40",
   "outputs": [],
   "execution_count": 8
  },
  {
   "metadata": {
    "ExecuteTime": {
     "end_time": "2025-04-11T17:24:30.639652Z",
     "start_time": "2025-04-11T17:24:30.623933Z"
    }
   },
   "cell_type": "code",
   "source": [
    "wandb_config = defaultdict(dict)\n",
    "\n",
    "wandb_config['regression_model']['regressor_type'] = 'random sampling'\n",
    "\n",
    "wandb_config"
   ],
   "id": "2ca2f3677bd82348",
   "outputs": [
    {
     "data": {
      "text/plain": [
       "defaultdict(dict,\n",
       "            {'regression_model': {'regressor_type': 'constant prediction'}})"
      ]
     },
     "execution_count": 24,
     "metadata": {},
     "output_type": "execute_result"
    }
   ],
   "execution_count": 24
  },
  {
   "metadata": {
    "ExecuteTime": {
     "end_time": "2025-04-11T17:24:39.046132Z",
     "start_time": "2025-04-11T17:24:37.831614Z"
    }
   },
   "cell_type": "code",
   "source": [
    "run = wandb.init(\n",
    "    project='dalip-stackoverflow-answer-ranking',\n",
    "    config=wandb_config,\n",
    "    tags=['random', 'baseline']\n",
    ")"
   ],
   "id": "cb0d5bd07c466895",
   "outputs": [
    {
     "data": {
      "text/plain": [
       "<IPython.core.display.HTML object>"
      ],
      "text/html": [
       "Tracking run with wandb version 0.19.9"
      ]
     },
     "metadata": {},
     "output_type": "display_data"
    },
    {
     "data": {
      "text/plain": [
       "<IPython.core.display.HTML object>"
      ],
      "text/html": [
       "Run data is saved locally in <code>C:\\Users\\User\\Женя\\GitHub\\stack-overflow-answers-assessment\\experiments\\dalip\\wandb\\run-20250411_202437-4pz3bwe3</code>"
      ]
     },
     "metadata": {},
     "output_type": "display_data"
    },
    {
     "data": {
      "text/plain": [
       "<IPython.core.display.HTML object>"
      ],
      "text/html": [
       "Syncing run <strong><a href='https://wandb.ai/bunnynobugs/dalip-stackoverflow-answer-ranking/runs/4pz3bwe3' target=\"_blank\">sleek-donkey-9</a></strong> to <a href='https://wandb.ai/bunnynobugs/dalip-stackoverflow-answer-ranking' target=\"_blank\">Weights & Biases</a> (<a href='https://wandb.me/developer-guide' target=\"_blank\">docs</a>)<br>"
      ]
     },
     "metadata": {},
     "output_type": "display_data"
    },
    {
     "data": {
      "text/plain": [
       "<IPython.core.display.HTML object>"
      ],
      "text/html": [
       " View project at <a href='https://wandb.ai/bunnynobugs/dalip-stackoverflow-answer-ranking' target=\"_blank\">https://wandb.ai/bunnynobugs/dalip-stackoverflow-answer-ranking</a>"
      ]
     },
     "metadata": {},
     "output_type": "display_data"
    },
    {
     "data": {
      "text/plain": [
       "<IPython.core.display.HTML object>"
      ],
      "text/html": [
       " View run at <a href='https://wandb.ai/bunnynobugs/dalip-stackoverflow-answer-ranking/runs/4pz3bwe3' target=\"_blank\">https://wandb.ai/bunnynobugs/dalip-stackoverflow-answer-ranking/runs/4pz3bwe3</a>"
      ]
     },
     "metadata": {},
     "output_type": "display_data"
    }
   ],
   "execution_count": 25
  },
  {
   "metadata": {},
   "cell_type": "markdown",
   "source": "### Compute metrics",
   "id": "ca1bc5881e7e2ae1"
  },
  {
   "metadata": {
    "ExecuteTime": {
     "end_time": "2025-04-11T17:24:42.474627Z",
     "start_time": "2025-04-11T17:24:42.430361Z"
    }
   },
   "cell_type": "code",
   "source": "test_question_ids = hf_dataset['test']['question_id']",
   "id": "e2138e2ef4304159",
   "outputs": [],
   "execution_count": 26
  },
  {
   "metadata": {
    "ExecuteTime": {
     "end_time": "2025-04-11T17:24:43.209125Z",
     "start_time": "2025-04-11T17:24:43.204561Z"
    }
   },
   "cell_type": "code",
   "source": [
    "evaluator = RankingEvaluator(ndcg_k=list(range(1, 11)), \n",
    "                             ndcg_gain_func='exponential', ndcg_discount_func='logarithmic')"
   ],
   "id": "8aa3b29474c94e74",
   "outputs": [],
   "execution_count": 27
  },
  {
   "metadata": {
    "ExecuteTime": {
     "end_time": "2025-04-11T17:24:44.452816Z",
     "start_time": "2025-04-11T17:24:43.954170Z"
    }
   },
   "cell_type": "code",
   "source": [
    "metrics = evaluator(y_test, predictions, test_question_ids)\n",
    "if TARGET_COL == 'answer_log_normalized_score':\n",
    "    metrics.pop('mae')\n",
    "metrics"
   ],
   "id": "fb5c96e23808968e",
   "outputs": [
    {
     "data": {
      "text/plain": [
       "{'ndcg@1_g.exponential_d.logarithmic': 0.2967333440571086,\n",
       " 'ndcg@2_g.exponential_d.logarithmic': 0.39102355292621294,\n",
       " 'ndcg@3_g.exponential_d.logarithmic': 0.49051441038311916,\n",
       " 'ndcg@4_g.exponential_d.logarithmic': 0.5935327457991202,\n",
       " 'ndcg@5_g.exponential_d.logarithmic': 0.6363236504851059,\n",
       " 'ndcg@6_g.exponential_d.logarithmic': 0.6547649174390316,\n",
       " 'ndcg@7_g.exponential_d.logarithmic': 0.6637396364657419,\n",
       " 'ndcg@8_g.exponential_d.logarithmic': 0.6686781532230255,\n",
       " 'ndcg@9_g.exponential_d.logarithmic': 0.6722785237330156,\n",
       " 'ndcg@10_g.exponential_d.logarithmic': 0.6737536205493905,\n",
       " 'mae': 18.44135188866799,\n",
       " 'hit_rate@1': 0.36349614395886887}"
      ]
     },
     "execution_count": 29,
     "metadata": {},
     "output_type": "execute_result"
    }
   ],
   "execution_count": 29
  },
  {
   "metadata": {
    "ExecuteTime": {
     "end_time": "2025-04-11T17:24:45.977598Z",
     "start_time": "2025-04-11T17:24:45.950961Z"
    }
   },
   "cell_type": "code",
   "source": "wandb.log(metrics)",
   "id": "6d4936c0ab949e3",
   "outputs": [],
   "execution_count": 30
  },
  {
   "metadata": {},
   "cell_type": "markdown",
   "source": "### Log predictions",
   "id": "b2f02273097e4d2a"
  },
  {
   "metadata": {
    "ExecuteTime": {
     "end_time": "2025-04-11T17:24:46.781205Z",
     "start_time": "2025-04-11T17:24:46.738684Z"
    }
   },
   "cell_type": "code",
   "source": [
    "predictions_df = pd.DataFrame()\n",
    "predictions_df['answer_id'] = hf_dataset['test']['answer_id']\n",
    "predictions_df['answer_normalized_score'] = hf_dataset['test']['answer_normalized_score']\n",
    "predictions_df['predicted_score'] = predictions"
   ],
   "id": "6a4ccb4b1fe84939",
   "outputs": [],
   "execution_count": 31
  },
  {
   "metadata": {
    "ExecuteTime": {
     "end_time": "2025-04-11T17:24:48.189127Z",
     "start_time": "2025-04-11T17:24:47.080173Z"
    }
   },
   "cell_type": "code",
   "source": "wandb.log({'predictions_table': wandb.Table(dataframe=predictions_df)})",
   "id": "cadeacfde212b39",
   "outputs": [],
   "execution_count": 32
  },
  {
   "metadata": {
    "ExecuteTime": {
     "end_time": "2025-04-11T17:24:51.457510Z",
     "start_time": "2025-04-11T17:24:48.198616Z"
    }
   },
   "cell_type": "code",
   "source": "run.finish()",
   "id": "8a697ea64e697900",
   "outputs": [
    {
     "data": {
      "text/plain": [
       "<IPython.core.display.HTML object>"
      ],
      "text/html": []
     },
     "metadata": {},
     "output_type": "display_data"
    },
    {
     "data": {
      "text/plain": [
       "<IPython.core.display.HTML object>"
      ],
      "text/html": [
       "<br>    <style><br>        .wandb-row {<br>            display: flex;<br>            flex-direction: row;<br>            flex-wrap: wrap;<br>            justify-content: flex-start;<br>            width: 100%;<br>        }<br>        .wandb-col {<br>            display: flex;<br>            flex-direction: column;<br>            flex-basis: 100%;<br>            flex: 1;<br>            padding: 10px;<br>        }<br>    </style><br><div class=\"wandb-row\"><div class=\"wandb-col\"><h3>Run history:</h3><br/><table class=\"wandb\"><tr><td>hit_rate@1</td><td>▁</td></tr><tr><td>mae</td><td>▁</td></tr><tr><td>ndcg@10_g.exponential_d.logarithmic</td><td>▁</td></tr><tr><td>ndcg@1_g.exponential_d.logarithmic</td><td>▁</td></tr><tr><td>ndcg@2_g.exponential_d.logarithmic</td><td>▁</td></tr><tr><td>ndcg@3_g.exponential_d.logarithmic</td><td>▁</td></tr><tr><td>ndcg@4_g.exponential_d.logarithmic</td><td>▁</td></tr><tr><td>ndcg@5_g.exponential_d.logarithmic</td><td>▁</td></tr><tr><td>ndcg@6_g.exponential_d.logarithmic</td><td>▁</td></tr><tr><td>ndcg@7_g.exponential_d.logarithmic</td><td>▁</td></tr><tr><td>ndcg@8_g.exponential_d.logarithmic</td><td>▁</td></tr><tr><td>ndcg@9_g.exponential_d.logarithmic</td><td>▁</td></tr></table><br/></div><div class=\"wandb-col\"><h3>Run summary:</h3><br/><table class=\"wandb\"><tr><td>hit_rate@1</td><td>0.3635</td></tr><tr><td>mae</td><td>18.44135</td></tr><tr><td>ndcg@10_g.exponential_d.logarithmic</td><td>0.67375</td></tr><tr><td>ndcg@1_g.exponential_d.logarithmic</td><td>0.29673</td></tr><tr><td>ndcg@2_g.exponential_d.logarithmic</td><td>0.39102</td></tr><tr><td>ndcg@3_g.exponential_d.logarithmic</td><td>0.49051</td></tr><tr><td>ndcg@4_g.exponential_d.logarithmic</td><td>0.59353</td></tr><tr><td>ndcg@5_g.exponential_d.logarithmic</td><td>0.63632</td></tr><tr><td>ndcg@6_g.exponential_d.logarithmic</td><td>0.65476</td></tr><tr><td>ndcg@7_g.exponential_d.logarithmic</td><td>0.66374</td></tr><tr><td>ndcg@8_g.exponential_d.logarithmic</td><td>0.66868</td></tr><tr><td>ndcg@9_g.exponential_d.logarithmic</td><td>0.67228</td></tr></table><br/></div></div>"
      ]
     },
     "metadata": {},
     "output_type": "display_data"
    },
    {
     "data": {
      "text/plain": [
       "<IPython.core.display.HTML object>"
      ],
      "text/html": [
       " View run <strong style=\"color:#cdcd00\">sleek-donkey-9</strong> at: <a href='https://wandb.ai/bunnynobugs/dalip-stackoverflow-answer-ranking/runs/4pz3bwe3' target=\"_blank\">https://wandb.ai/bunnynobugs/dalip-stackoverflow-answer-ranking/runs/4pz3bwe3</a><br> View project at: <a href='https://wandb.ai/bunnynobugs/dalip-stackoverflow-answer-ranking' target=\"_blank\">https://wandb.ai/bunnynobugs/dalip-stackoverflow-answer-ranking</a><br>Synced 5 W&B file(s), 1 media file(s), 2 artifact file(s) and 0 other file(s)"
      ]
     },
     "metadata": {},
     "output_type": "display_data"
    },
    {
     "data": {
      "text/plain": [
       "<IPython.core.display.HTML object>"
      ],
      "text/html": [
       "Find logs at: <code>.\\wandb\\run-20250411_202437-4pz3bwe3\\logs</code>"
      ]
     },
     "metadata": {},
     "output_type": "display_data"
    }
   ],
   "execution_count": 33
  },
  {
   "metadata": {},
   "cell_type": "code",
   "outputs": [],
   "execution_count": null,
   "source": "",
   "id": "6d8be8e67ac19fe1"
  }
 ],
 "metadata": {
  "kernelspec": {
   "display_name": "Python 3",
   "language": "python",
   "name": "python3"
  },
  "language_info": {
   "codemirror_mode": {
    "name": "ipython",
    "version": 2
   },
   "file_extension": ".py",
   "mimetype": "text/x-python",
   "name": "python",
   "nbconvert_exporter": "python",
   "pygments_lexer": "ipython2",
   "version": "2.7.6"
  }
 },
 "nbformat": 4,
 "nbformat_minor": 5
}
