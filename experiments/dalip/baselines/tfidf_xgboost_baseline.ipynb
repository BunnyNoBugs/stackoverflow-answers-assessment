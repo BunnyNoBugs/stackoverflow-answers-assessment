{
 "cells": [
  {
   "metadata": {},
   "cell_type": "markdown",
   "source": "# TF-IDF baseline",
   "id": "580dd89b5f1d37d0"
  },
  {
   "metadata": {},
   "cell_type": "markdown",
   "source": "## Data loading",
   "id": "621a719f57dec49b"
  },
  {
   "metadata": {
    "ExecuteTime": {
     "end_time": "2025-05-14T19:08:00.857498Z",
     "start_time": "2025-05-14T19:08:00.840500Z"
    }
   },
   "cell_type": "code",
   "source": [
    "from datasets import load_from_disk\n",
    "from src.utils.config_management import CONFIG"
   ],
   "id": "7f57fe86f1cec5f3",
   "outputs": [],
   "execution_count": 28
  },
  {
   "metadata": {
    "ExecuteTime": {
     "end_time": "2025-05-14T19:08:00.920504Z",
     "start_time": "2025-05-14T19:08:00.890479Z"
    }
   },
   "cell_type": "code",
   "source": "hf_dataset = load_from_disk(CONFIG['paths']['data']['dalip_hf_dataset'])",
   "id": "6ccaf05549e14b85",
   "outputs": [],
   "execution_count": 29
  },
  {
   "metadata": {
    "ExecuteTime": {
     "end_time": "2025-05-14T19:08:00.966759Z",
     "start_time": "2025-05-14T19:08:00.952353Z"
    }
   },
   "cell_type": "code",
   "source": "hf_dataset",
   "id": "2b84529bce8892c6",
   "outputs": [
    {
     "data": {
      "text/plain": [
       "DatasetDict({\n",
       "    train: Dataset({\n",
       "        features: ['answer_id', 'question_id', 'answer_creation_date', 'answer_score', 'answer_normalized_score', 'answer_log_normalized_score', 'answer_body', 'answer_last_edit_date', 'answer_last_activity_date', 'answer_comment_count', 'answer_community_owned_date', 'question_creation_date', 'question_score', 'question_view_count', 'question_body', 'question_last_edit_date', 'question_last_activity_date', 'question_title', 'question_tags', 'question_answer_count', 'question_comment_count', 'question_favorite_count', 'question_closed_date', 'question_community_owned_date', 'answer_accepted'],\n",
       "        num_rows: 42700\n",
       "    })\n",
       "    test: Dataset({\n",
       "        features: ['answer_id', 'question_id', 'answer_creation_date', 'answer_score', 'answer_normalized_score', 'answer_log_normalized_score', 'answer_body', 'answer_last_edit_date', 'answer_last_activity_date', 'answer_comment_count', 'answer_community_owned_date', 'question_creation_date', 'question_score', 'question_view_count', 'question_body', 'question_last_edit_date', 'question_last_activity_date', 'question_title', 'question_tags', 'question_answer_count', 'question_comment_count', 'question_favorite_count', 'question_closed_date', 'question_community_owned_date', 'answer_accepted'],\n",
       "        num_rows: 10563\n",
       "    })\n",
       "})"
      ]
     },
     "execution_count": 30,
     "metadata": {},
     "output_type": "execute_result"
    }
   ],
   "execution_count": 30
  },
  {
   "metadata": {},
   "cell_type": "markdown",
   "source": "## Data preprocessing",
   "id": "a559134473da9e90"
  },
  {
   "metadata": {
    "ExecuteTime": {
     "end_time": "2025-05-14T19:08:01.014765Z",
     "start_time": "2025-05-14T19:08:00.999765Z"
    }
   },
   "cell_type": "code",
   "source": "from src.utils.text_preprocessing import Preprocessor",
   "id": "16c170e7dccf8097",
   "outputs": [],
   "execution_count": 31
  },
  {
   "metadata": {
    "ExecuteTime": {
     "end_time": "2025-05-14T19:08:01.045317Z",
     "start_time": "2025-05-14T19:08:01.030762Z"
    }
   },
   "cell_type": "code",
   "source": "preprocessor = Preprocessor()",
   "id": "ed7568fb52b27ca6",
   "outputs": [],
   "execution_count": 32
  },
  {
   "metadata": {
    "ExecuteTime": {
     "end_time": "2025-05-14T19:08:01.124316Z",
     "start_time": "2025-05-14T19:08:01.082323Z"
    }
   },
   "cell_type": "code",
   "source": "hf_dataset = hf_dataset.map(preprocessor, batched=True)",
   "id": "677422195885b2e0",
   "outputs": [],
   "execution_count": 33
  },
  {
   "metadata": {
    "ExecuteTime": {
     "end_time": "2025-05-14T19:08:01.171203Z",
     "start_time": "2025-05-14T19:08:01.156166Z"
    }
   },
   "cell_type": "code",
   "source": "hf_dataset",
   "id": "2de5f8553505d00",
   "outputs": [
    {
     "data": {
      "text/plain": [
       "DatasetDict({\n",
       "    train: Dataset({\n",
       "        features: ['answer_id', 'question_id', 'answer_creation_date', 'answer_score', 'answer_normalized_score', 'answer_log_normalized_score', 'answer_body', 'answer_last_edit_date', 'answer_last_activity_date', 'answer_comment_count', 'answer_community_owned_date', 'question_creation_date', 'question_score', 'question_view_count', 'question_body', 'question_last_edit_date', 'question_last_activity_date', 'question_title', 'question_tags', 'question_answer_count', 'question_comment_count', 'question_favorite_count', 'question_closed_date', 'question_community_owned_date', 'answer_accepted', 'question_text', 'answer_text'],\n",
       "        num_rows: 42700\n",
       "    })\n",
       "    test: Dataset({\n",
       "        features: ['answer_id', 'question_id', 'answer_creation_date', 'answer_score', 'answer_normalized_score', 'answer_log_normalized_score', 'answer_body', 'answer_last_edit_date', 'answer_last_activity_date', 'answer_comment_count', 'answer_community_owned_date', 'question_creation_date', 'question_score', 'question_view_count', 'question_body', 'question_last_edit_date', 'question_last_activity_date', 'question_title', 'question_tags', 'question_answer_count', 'question_comment_count', 'question_favorite_count', 'question_closed_date', 'question_community_owned_date', 'answer_accepted', 'question_text', 'answer_text'],\n",
       "        num_rows: 10563\n",
       "    })\n",
       "})"
      ]
     },
     "execution_count": 34,
     "metadata": {},
     "output_type": "execute_result"
    }
   ],
   "execution_count": 34
  },
  {
   "metadata": {
    "ExecuteTime": {
     "end_time": "2025-05-14T19:08:01.219198Z",
     "start_time": "2025-05-14T19:08:01.204177Z"
    }
   },
   "cell_type": "code",
   "source": "hf_dataset['train'] = hf_dataset['train'].sort('question_id')",
   "id": "2cf1b45a3b0c3861",
   "outputs": [],
   "execution_count": 35
  },
  {
   "metadata": {},
   "cell_type": "markdown",
   "source": "## Model training",
   "id": "b9dfa269b9fb1ac7"
  },
  {
   "metadata": {
    "ExecuteTime": {
     "end_time": "2025-05-14T19:08:01.265557Z",
     "start_time": "2025-05-14T19:08:01.255748Z"
    }
   },
   "cell_type": "code",
   "source": [
    "from sklearn.feature_extraction.text import TfidfVectorizer\n",
    "import scipy\n",
    "import pandas as pd\n",
    "import xgboost as xgb"
   ],
   "id": "1cc4553cb58d1f2d",
   "outputs": [],
   "execution_count": 36
  },
  {
   "metadata": {
    "ExecuteTime": {
     "end_time": "2025-05-14T19:08:01.328105Z",
     "start_time": "2025-05-14T19:08:01.313104Z"
    }
   },
   "cell_type": "code",
   "source": "vectorizer = TfidfVectorizer(max_features=None, stop_words=None)",
   "id": "3d9b88cf01d01426",
   "outputs": [],
   "execution_count": 37
  },
  {
   "metadata": {
    "ExecuteTime": {
     "end_time": "2025-05-14T19:08:01.375023Z",
     "start_time": "2025-05-14T19:08:01.361097Z"
    }
   },
   "cell_type": "code",
   "source": [
    "def vectorize_qa_pairs(vectorizer, hf_dataset):\n",
    "    vectorizer.fit(hf_dataset['train']['question_text'] + hf_dataset['train']['answer_text'])\n",
    "    \n",
    "    train_questions_vect = vectorizer.transform(hf_dataset['train']['question_text'])\n",
    "    train_answers_vect = vectorizer.transform(hf_dataset['train']['answer_text'])\n",
    "\n",
    "    \n",
    "    test_questions_vect = vectorizer.transform(hf_dataset['test']['question_text'])\n",
    "    test_answers_vect = vectorizer.transform(hf_dataset['test']['answer_text'])\n",
    "    \n",
    "    if hf_dataset['train']['question_text'][0]:\n",
    "        X_train = scipy.sparse.hstack([train_questions_vect, train_answers_vect])\n",
    "        X_test = scipy.sparse.hstack([test_questions_vect, test_answers_vect])\n",
    "    else:\n",
    "        X_train = train_answers_vect\n",
    "        X_test = test_answers_vect\n",
    "    \n",
    "    return X_train, X_test"
   ],
   "id": "d39183f5222d6994",
   "outputs": [],
   "execution_count": 38
  },
  {
   "metadata": {
    "ExecuteTime": {
     "end_time": "2025-05-14T19:08:13.082855Z",
     "start_time": "2025-05-14T19:08:01.409024Z"
    }
   },
   "cell_type": "code",
   "source": [
    "X_train, X_test = vectorize_qa_pairs(vectorizer, hf_dataset)\n",
    "X_train"
   ],
   "id": "2bc2cc4685c849c9",
   "outputs": [
    {
     "data": {
      "text/plain": [
       "<42700x193582 sparse matrix of type '<class 'numpy.float64'>'\n",
       "\twith 5116675 stored elements in Compressed Sparse Row format>"
      ]
     },
     "execution_count": 39,
     "metadata": {},
     "output_type": "execute_result"
    }
   ],
   "execution_count": 39
  },
  {
   "metadata": {
    "ExecuteTime": {
     "end_time": "2025-05-14T19:08:24.178745Z",
     "start_time": "2025-05-14T19:08:13.114841Z"
    }
   },
   "cell_type": "code",
   "source": "train_targets_df = pd.DataFrame(hf_dataset['train']).select_dtypes(exclude=['object'])",
   "id": "f530afbc9b4dd795",
   "outputs": [],
   "execution_count": 40
  },
  {
   "metadata": {
    "ExecuteTime": {
     "end_time": "2025-05-14T19:08:24.194754Z",
     "start_time": "2025-05-14T19:08:24.185747Z"
    }
   },
   "cell_type": "code",
   "source": "train_targets_df['answer_reverse_rank'] = train_targets_df.groupby('question_id')['answer_score'].rank(method='dense', ascending=True)",
   "id": "e73cdb4697b065a7",
   "outputs": [],
   "execution_count": 41
  },
  {
   "metadata": {
    "ExecuteTime": {
     "end_time": "2025-05-14T19:09:00.041738Z",
     "start_time": "2025-05-14T19:08:24.240561Z"
    }
   },
   "cell_type": "code",
   "source": [
    "TARGET_COL = 'answer_normalized_score'\n",
    "\n",
    "model = xgb.XGBRanker(\n",
    "    n_estimators=500,\n",
    "    objective='rank:ndcg',\n",
    "    lambdarank_pair_method='mean',\n",
    "    lambdarank_num_pair_per_sample=10,\n",
    "    ndcg_exp_gain=False,\n",
    "    device='cuda',\n",
    ")\n",
    "model.fit(X_train, train_targets_df[TARGET_COL], qid=hf_dataset['train']['question_id'])"
   ],
   "id": "5048750123884e17",
   "outputs": [
    {
     "data": {
      "text/plain": [
       "XGBRanker(base_score=None, booster=None, callbacks=None, colsample_bylevel=None,\n",
       "          colsample_bynode=None, colsample_bytree=None, device='cuda',\n",
       "          early_stopping_rounds=None, enable_categorical=False,\n",
       "          eval_metric=None, feature_types=None, gamma=None, grow_policy=None,\n",
       "          importance_type=None, interaction_constraints=None,\n",
       "          lambdarank_num_pair_per_sample=10, lambdarank_pair_method='mean',\n",
       "          learning_rate=None, max_bin=None, max_cat_threshold=None,\n",
       "          max_cat_to_onehot=None, max_delta_step=None, max_depth=None,\n",
       "          max_leaves=None, min_child_weight=None, missing=nan,\n",
       "          monotone_constraints=None, multi_strategy=None, n_estimators=500,\n",
       "          n_jobs=None, ...)"
      ],
      "text/html": [
       "<style>#sk-container-id-2 {color: black;background-color: white;}#sk-container-id-2 pre{padding: 0;}#sk-container-id-2 div.sk-toggleable {background-color: white;}#sk-container-id-2 label.sk-toggleable__label {cursor: pointer;display: block;width: 100%;margin-bottom: 0;padding: 0.3em;box-sizing: border-box;text-align: center;}#sk-container-id-2 label.sk-toggleable__label-arrow:before {content: \"▸\";float: left;margin-right: 0.25em;color: #696969;}#sk-container-id-2 label.sk-toggleable__label-arrow:hover:before {color: black;}#sk-container-id-2 div.sk-estimator:hover label.sk-toggleable__label-arrow:before {color: black;}#sk-container-id-2 div.sk-toggleable__content {max-height: 0;max-width: 0;overflow: hidden;text-align: left;background-color: #f0f8ff;}#sk-container-id-2 div.sk-toggleable__content pre {margin: 0.2em;color: black;border-radius: 0.25em;background-color: #f0f8ff;}#sk-container-id-2 input.sk-toggleable__control:checked~div.sk-toggleable__content {max-height: 200px;max-width: 100%;overflow: auto;}#sk-container-id-2 input.sk-toggleable__control:checked~label.sk-toggleable__label-arrow:before {content: \"▾\";}#sk-container-id-2 div.sk-estimator input.sk-toggleable__control:checked~label.sk-toggleable__label {background-color: #d4ebff;}#sk-container-id-2 div.sk-label input.sk-toggleable__control:checked~label.sk-toggleable__label {background-color: #d4ebff;}#sk-container-id-2 input.sk-hidden--visually {border: 0;clip: rect(1px 1px 1px 1px);clip: rect(1px, 1px, 1px, 1px);height: 1px;margin: -1px;overflow: hidden;padding: 0;position: absolute;width: 1px;}#sk-container-id-2 div.sk-estimator {font-family: monospace;background-color: #f0f8ff;border: 1px dotted black;border-radius: 0.25em;box-sizing: border-box;margin-bottom: 0.5em;}#sk-container-id-2 div.sk-estimator:hover {background-color: #d4ebff;}#sk-container-id-2 div.sk-parallel-item::after {content: \"\";width: 100%;border-bottom: 1px solid gray;flex-grow: 1;}#sk-container-id-2 div.sk-label:hover label.sk-toggleable__label {background-color: #d4ebff;}#sk-container-id-2 div.sk-serial::before {content: \"\";position: absolute;border-left: 1px solid gray;box-sizing: border-box;top: 0;bottom: 0;left: 50%;z-index: 0;}#sk-container-id-2 div.sk-serial {display: flex;flex-direction: column;align-items: center;background-color: white;padding-right: 0.2em;padding-left: 0.2em;position: relative;}#sk-container-id-2 div.sk-item {position: relative;z-index: 1;}#sk-container-id-2 div.sk-parallel {display: flex;align-items: stretch;justify-content: center;background-color: white;position: relative;}#sk-container-id-2 div.sk-item::before, #sk-container-id-2 div.sk-parallel-item::before {content: \"\";position: absolute;border-left: 1px solid gray;box-sizing: border-box;top: 0;bottom: 0;left: 50%;z-index: -1;}#sk-container-id-2 div.sk-parallel-item {display: flex;flex-direction: column;z-index: 1;position: relative;background-color: white;}#sk-container-id-2 div.sk-parallel-item:first-child::after {align-self: flex-end;width: 50%;}#sk-container-id-2 div.sk-parallel-item:last-child::after {align-self: flex-start;width: 50%;}#sk-container-id-2 div.sk-parallel-item:only-child::after {width: 0;}#sk-container-id-2 div.sk-dashed-wrapped {border: 1px dashed gray;margin: 0 0.4em 0.5em 0.4em;box-sizing: border-box;padding-bottom: 0.4em;background-color: white;}#sk-container-id-2 div.sk-label label {font-family: monospace;font-weight: bold;display: inline-block;line-height: 1.2em;}#sk-container-id-2 div.sk-label-container {text-align: center;}#sk-container-id-2 div.sk-container {/* jupyter's `normalize.less` sets `[hidden] { display: none; }` but bootstrap.min.css set `[hidden] { display: none !important; }` so we also need the `!important` here to be able to override the default hidden behavior on the sphinx rendered scikit-learn.org. See: https://github.com/scikit-learn/scikit-learn/issues/21755 */display: inline-block !important;position: relative;}#sk-container-id-2 div.sk-text-repr-fallback {display: none;}</style><div id=\"sk-container-id-2\" class=\"sk-top-container\"><div class=\"sk-text-repr-fallback\"><pre>XGBRanker(base_score=None, booster=None, callbacks=None, colsample_bylevel=None,\n",
       "          colsample_bynode=None, colsample_bytree=None, device=&#x27;cuda&#x27;,\n",
       "          early_stopping_rounds=None, enable_categorical=False,\n",
       "          eval_metric=None, feature_types=None, gamma=None, grow_policy=None,\n",
       "          importance_type=None, interaction_constraints=None,\n",
       "          lambdarank_num_pair_per_sample=10, lambdarank_pair_method=&#x27;mean&#x27;,\n",
       "          learning_rate=None, max_bin=None, max_cat_threshold=None,\n",
       "          max_cat_to_onehot=None, max_delta_step=None, max_depth=None,\n",
       "          max_leaves=None, min_child_weight=None, missing=nan,\n",
       "          monotone_constraints=None, multi_strategy=None, n_estimators=500,\n",
       "          n_jobs=None, ...)</pre><b>In a Jupyter environment, please rerun this cell to show the HTML representation or trust the notebook. <br />On GitHub, the HTML representation is unable to render, please try loading this page with nbviewer.org.</b></div><div class=\"sk-container\" hidden><div class=\"sk-item\"><div class=\"sk-estimator sk-toggleable\"><input class=\"sk-toggleable__control sk-hidden--visually\" id=\"sk-estimator-id-2\" type=\"checkbox\" checked><label for=\"sk-estimator-id-2\" class=\"sk-toggleable__label sk-toggleable__label-arrow\">XGBRanker</label><div class=\"sk-toggleable__content\"><pre>XGBRanker(base_score=None, booster=None, callbacks=None, colsample_bylevel=None,\n",
       "          colsample_bynode=None, colsample_bytree=None, device=&#x27;cuda&#x27;,\n",
       "          early_stopping_rounds=None, enable_categorical=False,\n",
       "          eval_metric=None, feature_types=None, gamma=None, grow_policy=None,\n",
       "          importance_type=None, interaction_constraints=None,\n",
       "          lambdarank_num_pair_per_sample=10, lambdarank_pair_method=&#x27;mean&#x27;,\n",
       "          learning_rate=None, max_bin=None, max_cat_threshold=None,\n",
       "          max_cat_to_onehot=None, max_delta_step=None, max_depth=None,\n",
       "          max_leaves=None, min_child_weight=None, missing=nan,\n",
       "          monotone_constraints=None, multi_strategy=None, n_estimators=500,\n",
       "          n_jobs=None, ...)</pre></div></div></div></div></div>"
      ]
     },
     "execution_count": 42,
     "metadata": {},
     "output_type": "execute_result"
    }
   ],
   "execution_count": 42
  },
  {
   "metadata": {},
   "cell_type": "markdown",
   "source": "## Evaluation",
   "id": "9c4e7cd47218baec"
  },
  {
   "metadata": {
    "ExecuteTime": {
     "end_time": "2025-05-14T19:09:00.105735Z",
     "start_time": "2025-05-14T19:09:00.090734Z"
    }
   },
   "cell_type": "code",
   "source": [
    "import pandas as pd\n",
    "import wandb\n",
    "from collections import defaultdict\n",
    "from src.evaluation import RankingEvaluator"
   ],
   "id": "5227a97356852f40",
   "outputs": [],
   "execution_count": 43
  },
  {
   "metadata": {
    "ExecuteTime": {
     "end_time": "2025-05-14T19:09:00.136770Z",
     "start_time": "2025-05-14T19:09:00.122735Z"
    }
   },
   "cell_type": "code",
   "source": [
    "wandb_config = defaultdict(dict)\n",
    "\n",
    "wandb_config['preprocessing'] = preprocessor.__dict__\n",
    "\n",
    "wandb_config['vectorizer'] = vectorizer.get_params()\n",
    "\n",
    "wandb_config['ranking_model'] = defaultdict(dict)\n",
    "wandb_config['ranking_model']['ranker_type'] = type(model).__name__\n",
    "wandb_config['ranking_model']['n_features'] = model.n_features_in_\n",
    "wandb_config['ranking_model']['params'][type(model).__name__] = model.get_params()\n",
    "\n",
    "wandb_config['target'] = TARGET_COL\n",
    "\n",
    "wandb_config"
   ],
   "id": "2ca2f3677bd82348",
   "outputs": [
    {
     "data": {
      "text/plain": [
       "defaultdict(dict,\n",
       "            {'preprocessing': {'question_columns': ['question_title',\n",
       "               'question_body'],\n",
       "              'answer_columns': ['answer_body'],\n",
       "              'preserve_html_tags': None},\n",
       "             'vectorizer': {'analyzer': 'word',\n",
       "              'binary': False,\n",
       "              'decode_error': 'strict',\n",
       "              'dtype': numpy.float64,\n",
       "              'encoding': 'utf-8',\n",
       "              'input': 'content',\n",
       "              'lowercase': True,\n",
       "              'max_df': 1.0,\n",
       "              'max_features': None,\n",
       "              'min_df': 1,\n",
       "              'ngram_range': (1, 1),\n",
       "              'norm': 'l2',\n",
       "              'preprocessor': None,\n",
       "              'smooth_idf': True,\n",
       "              'stop_words': None,\n",
       "              'strip_accents': None,\n",
       "              'sublinear_tf': False,\n",
       "              'token_pattern': '(?u)\\\\b\\\\w\\\\w+\\\\b',\n",
       "              'tokenizer': None,\n",
       "              'use_idf': True,\n",
       "              'vocabulary': None},\n",
       "             'ranking_model': defaultdict(dict,\n",
       "                         {'ranker_type': 'XGBRanker',\n",
       "                          'n_features': 193582,\n",
       "                          'params': {'XGBRanker': {'objective': 'rank:ndcg',\n",
       "                            'base_score': None,\n",
       "                            'booster': None,\n",
       "                            'callbacks': None,\n",
       "                            'colsample_bylevel': None,\n",
       "                            'colsample_bynode': None,\n",
       "                            'colsample_bytree': None,\n",
       "                            'device': 'cuda',\n",
       "                            'early_stopping_rounds': None,\n",
       "                            'enable_categorical': False,\n",
       "                            'eval_metric': None,\n",
       "                            'feature_types': None,\n",
       "                            'gamma': None,\n",
       "                            'grow_policy': None,\n",
       "                            'importance_type': None,\n",
       "                            'interaction_constraints': None,\n",
       "                            'learning_rate': None,\n",
       "                            'max_bin': None,\n",
       "                            'max_cat_threshold': None,\n",
       "                            'max_cat_to_onehot': None,\n",
       "                            'max_delta_step': None,\n",
       "                            'max_depth': None,\n",
       "                            'max_leaves': None,\n",
       "                            'min_child_weight': None,\n",
       "                            'missing': nan,\n",
       "                            'monotone_constraints': None,\n",
       "                            'multi_strategy': None,\n",
       "                            'n_estimators': 500,\n",
       "                            'n_jobs': None,\n",
       "                            'num_parallel_tree': None,\n",
       "                            'random_state': None,\n",
       "                            'reg_alpha': None,\n",
       "                            'reg_lambda': None,\n",
       "                            'sampling_method': None,\n",
       "                            'scale_pos_weight': None,\n",
       "                            'subsample': None,\n",
       "                            'tree_method': None,\n",
       "                            'validate_parameters': None,\n",
       "                            'verbosity': None,\n",
       "                            'lambdarank_pair_method': 'mean',\n",
       "                            'lambdarank_num_pair_per_sample': 10,\n",
       "                            'ndcg_exp_gain': False}}}),\n",
       "             'target': 'answer_normalized_score'})"
      ]
     },
     "execution_count": 44,
     "metadata": {},
     "output_type": "execute_result"
    }
   ],
   "execution_count": 44
  },
  {
   "metadata": {
    "ExecuteTime": {
     "end_time": "2025-05-14T19:09:01.837835Z",
     "start_time": "2025-05-14T19:09:00.184479Z"
    }
   },
   "cell_type": "code",
   "source": [
    "run = wandb.init(\n",
    "    project='dalip-stackoverflow-answer-ranking',\n",
    "    config=wandb_config,\n",
    "    tags=['tfidf', 'baseline', 'ranking']\n",
    ")"
   ],
   "id": "cb0d5bd07c466895",
   "outputs": [
    {
     "data": {
      "text/plain": [
       "<IPython.core.display.HTML object>"
      ],
      "text/html": [
       "Tracking run with wandb version 0.19.9"
      ]
     },
     "metadata": {},
     "output_type": "display_data"
    },
    {
     "data": {
      "text/plain": [
       "<IPython.core.display.HTML object>"
      ],
      "text/html": [
       "Run data is saved locally in <code>C:\\Users\\User\\Женя\\GitHub\\stack-overflow-answers-assessment\\wandb\\run-20250514_220900-vsii1ux1</code>"
      ]
     },
     "metadata": {},
     "output_type": "display_data"
    },
    {
     "data": {
      "text/plain": [
       "<IPython.core.display.HTML object>"
      ],
      "text/html": [
       "Syncing run <strong><a href='https://wandb.ai/bunnynobugs/dalip-stackoverflow-answer-ranking/runs/vsii1ux1' target=\"_blank\">decent-frost-131</a></strong> to <a href='https://wandb.ai/bunnynobugs/dalip-stackoverflow-answer-ranking' target=\"_blank\">Weights & Biases</a> (<a href='https://wandb.me/developer-guide' target=\"_blank\">docs</a>)<br>"
      ]
     },
     "metadata": {},
     "output_type": "display_data"
    },
    {
     "data": {
      "text/plain": [
       "<IPython.core.display.HTML object>"
      ],
      "text/html": [
       " View project at <a href='https://wandb.ai/bunnynobugs/dalip-stackoverflow-answer-ranking' target=\"_blank\">https://wandb.ai/bunnynobugs/dalip-stackoverflow-answer-ranking</a>"
      ]
     },
     "metadata": {},
     "output_type": "display_data"
    },
    {
     "data": {
      "text/plain": [
       "<IPython.core.display.HTML object>"
      ],
      "text/html": [
       " View run at <a href='https://wandb.ai/bunnynobugs/dalip-stackoverflow-answer-ranking/runs/vsii1ux1' target=\"_blank\">https://wandb.ai/bunnynobugs/dalip-stackoverflow-answer-ranking/runs/vsii1ux1</a>"
      ]
     },
     "metadata": {},
     "output_type": "display_data"
    }
   ],
   "execution_count": 45
  },
  {
   "metadata": {},
   "cell_type": "markdown",
   "source": "### Compute metrics",
   "id": "ca1bc5881e7e2ae1"
  },
  {
   "metadata": {
    "ExecuteTime": {
     "end_time": "2025-05-14T19:09:01.885636Z",
     "start_time": "2025-05-14T19:09:01.870528Z"
    }
   },
   "cell_type": "code",
   "source": [
    "targets = hf_dataset['test']['answer_normalized_score']\n",
    "test_question_ids = hf_dataset['test']['question_id']"
   ],
   "id": "15c62343b104a872",
   "outputs": [],
   "execution_count": 46
  },
  {
   "metadata": {
    "ExecuteTime": {
     "end_time": "2025-05-14T19:09:01.963405Z",
     "start_time": "2025-05-14T19:09:01.901939Z"
    }
   },
   "cell_type": "code",
   "source": "predictions = model.predict(X_test)",
   "id": "c6006d9123c02e85",
   "outputs": [],
   "execution_count": 47
  },
  {
   "metadata": {
    "ExecuteTime": {
     "end_time": "2025-05-14T19:09:02.009902Z",
     "start_time": "2025-05-14T19:09:01.996144Z"
    }
   },
   "cell_type": "code",
   "source": "pd.Series(predictions).describe()",
   "id": "9e38efc53408126e",
   "outputs": [
    {
     "data": {
      "text/plain": [
       "count    10563.000000\n",
       "mean     -4713.014160\n",
       "std       7400.028320\n",
       "min     -30030.658203\n",
       "25%      -9101.183594\n",
       "50%          0.021742\n",
       "75%          0.075802\n",
       "max         33.917713\n",
       "dtype: float64"
      ]
     },
     "execution_count": 48,
     "metadata": {},
     "output_type": "execute_result"
    }
   ],
   "execution_count": 48
  },
  {
   "metadata": {
    "ExecuteTime": {
     "end_time": "2025-05-14T19:09:02.103924Z",
     "start_time": "2025-05-14T19:09:02.089851Z"
    }
   },
   "cell_type": "code",
   "source": [
    "evaluator = RankingEvaluator(ndcg_k=list(range(1, 11)), \n",
    "                             ndcg_gain_func='exponential', ndcg_discount_func='logarithmic')"
   ],
   "id": "8aa3b29474c94e74",
   "outputs": [],
   "execution_count": 49
  },
  {
   "metadata": {
    "ExecuteTime": {
     "end_time": "2025-05-14T19:09:02.686422Z",
     "start_time": "2025-05-14T19:09:02.183811Z"
    }
   },
   "cell_type": "code",
   "source": [
    "metrics = evaluator(targets, predictions, test_question_ids)\n",
    "metrics.pop('mae')\n",
    "metrics"
   ],
   "id": "3dbe5f15868ac1f1",
   "outputs": [
    {
     "data": {
      "text/plain": [
       "{'ndcg@1_g.exponential_d.logarithmic': 0.4260181936164547,\n",
       " 'ndcg@2_g.exponential_d.logarithmic': 0.528274823619074,\n",
       " 'ndcg@3_g.exponential_d.logarithmic': 0.6118411130234743,\n",
       " 'ndcg@4_g.exponential_d.logarithmic': 0.6866535107106003,\n",
       " 'ndcg@5_g.exponential_d.logarithmic': 0.7169681603441735,\n",
       " 'ndcg@6_g.exponential_d.logarithmic': 0.7305662411954977,\n",
       " 'ndcg@7_g.exponential_d.logarithmic': 0.7371760003930563,\n",
       " 'ndcg@8_g.exponential_d.logarithmic': 0.7412628444369044,\n",
       " 'ndcg@9_g.exponential_d.logarithmic': 0.7430130050558686,\n",
       " 'ndcg@10_g.exponential_d.logarithmic': 0.7438344636526573,\n",
       " 'hit_rate@1': 0.33830334190231365}"
      ]
     },
     "execution_count": 50,
     "metadata": {},
     "output_type": "execute_result"
    }
   ],
   "execution_count": 50
  },
  {
   "metadata": {
    "ExecuteTime": {
     "end_time": "2025-05-14T19:09:02.731630Z",
     "start_time": "2025-05-14T19:09:02.719150Z"
    }
   },
   "cell_type": "code",
   "source": "wandb.log(metrics)",
   "id": "6d4936c0ab949e3",
   "outputs": [],
   "execution_count": 51
  },
  {
   "metadata": {},
   "cell_type": "markdown",
   "source": "### Log predictions",
   "id": "b2f02273097e4d2a"
  },
  {
   "metadata": {
    "ExecuteTime": {
     "end_time": "2025-05-14T19:09:02.778445Z",
     "start_time": "2025-05-14T19:09:02.749112Z"
    }
   },
   "cell_type": "code",
   "source": [
    "predictions_df = pd.DataFrame()\n",
    "predictions_df['answer_id'] = hf_dataset['test']['answer_id']\n",
    "predictions_df['answer_normalized_score'] = hf_dataset['test']['answer_normalized_score']\n",
    "predictions_df['predicted_score'] = predictions"
   ],
   "id": "6a4ccb4b1fe84939",
   "outputs": [],
   "execution_count": 52
  },
  {
   "metadata": {
    "ExecuteTime": {
     "end_time": "2025-05-14T19:09:04.141791Z",
     "start_time": "2025-05-14T19:09:02.814383Z"
    }
   },
   "cell_type": "code",
   "source": "wandb.log({'predictions_table': wandb.Table(dataframe=predictions_df)})",
   "id": "cadeacfde212b39",
   "outputs": [],
   "execution_count": 53
  },
  {
   "metadata": {
    "ExecuteTime": {
     "end_time": "2025-05-14T19:09:07.682693Z",
     "start_time": "2025-05-14T19:09:04.174810Z"
    }
   },
   "cell_type": "code",
   "source": "run.finish()",
   "id": "8a697ea64e697900",
   "outputs": [
    {
     "data": {
      "text/plain": [
       "<IPython.core.display.HTML object>"
      ],
      "text/html": []
     },
     "metadata": {},
     "output_type": "display_data"
    },
    {
     "data": {
      "text/plain": [
       "<IPython.core.display.HTML object>"
      ],
      "text/html": [
       "<br>    <style><br>        .wandb-row {<br>            display: flex;<br>            flex-direction: row;<br>            flex-wrap: wrap;<br>            justify-content: flex-start;<br>            width: 100%;<br>        }<br>        .wandb-col {<br>            display: flex;<br>            flex-direction: column;<br>            flex-basis: 100%;<br>            flex: 1;<br>            padding: 10px;<br>        }<br>    </style><br><div class=\"wandb-row\"><div class=\"wandb-col\"><h3>Run history:</h3><br/><table class=\"wandb\"><tr><td>hit_rate@1</td><td>▁</td></tr><tr><td>ndcg@10_g.exponential_d.logarithmic</td><td>▁</td></tr><tr><td>ndcg@1_g.exponential_d.logarithmic</td><td>▁</td></tr><tr><td>ndcg@2_g.exponential_d.logarithmic</td><td>▁</td></tr><tr><td>ndcg@3_g.exponential_d.logarithmic</td><td>▁</td></tr><tr><td>ndcg@4_g.exponential_d.logarithmic</td><td>▁</td></tr><tr><td>ndcg@5_g.exponential_d.logarithmic</td><td>▁</td></tr><tr><td>ndcg@6_g.exponential_d.logarithmic</td><td>▁</td></tr><tr><td>ndcg@7_g.exponential_d.logarithmic</td><td>▁</td></tr><tr><td>ndcg@8_g.exponential_d.logarithmic</td><td>▁</td></tr><tr><td>ndcg@9_g.exponential_d.logarithmic</td><td>▁</td></tr></table><br/></div><div class=\"wandb-col\"><h3>Run summary:</h3><br/><table class=\"wandb\"><tr><td>hit_rate@1</td><td>0.3383</td></tr><tr><td>ndcg@10_g.exponential_d.logarithmic</td><td>0.74383</td></tr><tr><td>ndcg@1_g.exponential_d.logarithmic</td><td>0.42602</td></tr><tr><td>ndcg@2_g.exponential_d.logarithmic</td><td>0.52827</td></tr><tr><td>ndcg@3_g.exponential_d.logarithmic</td><td>0.61184</td></tr><tr><td>ndcg@4_g.exponential_d.logarithmic</td><td>0.68665</td></tr><tr><td>ndcg@5_g.exponential_d.logarithmic</td><td>0.71697</td></tr><tr><td>ndcg@6_g.exponential_d.logarithmic</td><td>0.73057</td></tr><tr><td>ndcg@7_g.exponential_d.logarithmic</td><td>0.73718</td></tr><tr><td>ndcg@8_g.exponential_d.logarithmic</td><td>0.74126</td></tr><tr><td>ndcg@9_g.exponential_d.logarithmic</td><td>0.74301</td></tr></table><br/></div></div>"
      ]
     },
     "metadata": {},
     "output_type": "display_data"
    },
    {
     "data": {
      "text/plain": [
       "<IPython.core.display.HTML object>"
      ],
      "text/html": [
       " View run <strong style=\"color:#cdcd00\">decent-frost-131</strong> at: <a href='https://wandb.ai/bunnynobugs/dalip-stackoverflow-answer-ranking/runs/vsii1ux1' target=\"_blank\">https://wandb.ai/bunnynobugs/dalip-stackoverflow-answer-ranking/runs/vsii1ux1</a><br> View project at: <a href='https://wandb.ai/bunnynobugs/dalip-stackoverflow-answer-ranking' target=\"_blank\">https://wandb.ai/bunnynobugs/dalip-stackoverflow-answer-ranking</a><br>Synced 5 W&B file(s), 1 media file(s), 2 artifact file(s) and 0 other file(s)"
      ]
     },
     "metadata": {},
     "output_type": "display_data"
    },
    {
     "data": {
      "text/plain": [
       "<IPython.core.display.HTML object>"
      ],
      "text/html": [
       "Find logs at: <code>.\\wandb\\run-20250514_220900-vsii1ux1\\logs</code>"
      ]
     },
     "metadata": {},
     "output_type": "display_data"
    }
   ],
   "execution_count": 54
  },
  {
   "metadata": {
    "ExecuteTime": {
     "end_time": "2025-05-14T19:09:07.729984Z",
     "start_time": "2025-05-14T19:09:07.714943Z"
    }
   },
   "cell_type": "code",
   "source": "",
   "id": "f0b8553f75d90330",
   "outputs": [],
   "execution_count": null
  }
 ],
 "metadata": {
  "kernelspec": {
   "display_name": "Python 3",
   "language": "python",
   "name": "python3"
  },
  "language_info": {
   "codemirror_mode": {
    "name": "ipython",
    "version": 2
   },
   "file_extension": ".py",
   "mimetype": "text/x-python",
   "name": "python",
   "nbconvert_exporter": "python",
   "pygments_lexer": "ipython2",
   "version": "2.7.6"
  }
 },
 "nbformat": 4,
 "nbformat_minor": 5
}
