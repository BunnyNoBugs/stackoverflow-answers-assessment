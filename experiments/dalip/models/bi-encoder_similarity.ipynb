{
 "cells": [
  {
   "metadata": {},
   "cell_type": "markdown",
   "source": "# Bi-Encoder model",
   "id": "9bc0d925463af42e"
  },
  {
   "metadata": {},
   "cell_type": "markdown",
   "source": "## Data loading",
   "id": "f83bc7af753be01f"
  },
  {
   "metadata": {
    "collapsed": true,
    "ExecuteTime": {
     "end_time": "2025-04-18T19:03:54.209433Z",
     "start_time": "2025-04-18T19:03:53.183656Z"
    }
   },
   "cell_type": "code",
   "source": [
    "from datasets import load_from_disk\n",
    "from src.utils.config_management import CONFIG"
   ],
   "id": "initial_id",
   "outputs": [],
   "execution_count": 1
  },
  {
   "metadata": {
    "ExecuteTime": {
     "end_time": "2025-04-18T19:03:54.378699Z",
     "start_time": "2025-04-18T19:03:54.358658Z"
    }
   },
   "cell_type": "code",
   "source": "hf_dataset = load_from_disk(CONFIG['paths']['data']['dalip_hf_dataset'])",
   "id": "8b860895efd9c9e6",
   "outputs": [],
   "execution_count": 2
  },
  {
   "metadata": {
    "ExecuteTime": {
     "end_time": "2025-04-18T19:03:54.457831Z",
     "start_time": "2025-04-18T19:03:54.451388Z"
    }
   },
   "cell_type": "code",
   "source": "hf_dataset",
   "id": "1d2094a8ab250814",
   "outputs": [
    {
     "data": {
      "text/plain": [
       "DatasetDict({\n",
       "    train: Dataset({\n",
       "        features: ['answer_id', 'question_id', 'answer_creation_date', 'answer_score', 'answer_normalized_score', 'answer_log_normalized_score', 'answer_body', 'answer_last_edit_date', 'answer_last_activity_date', 'answer_comment_count', 'answer_community_owned_date', 'question_creation_date', 'question_score', 'question_view_count', 'question_body', 'question_last_edit_date', 'question_last_activity_date', 'question_title', 'question_tags', 'question_answer_count', 'question_comment_count', 'question_favorite_count', 'question_closed_date', 'question_community_owned_date', 'answer_accepted'],\n",
       "        num_rows: 42700\n",
       "    })\n",
       "    test: Dataset({\n",
       "        features: ['answer_id', 'question_id', 'answer_creation_date', 'answer_score', 'answer_normalized_score', 'answer_log_normalized_score', 'answer_body', 'answer_last_edit_date', 'answer_last_activity_date', 'answer_comment_count', 'answer_community_owned_date', 'question_creation_date', 'question_score', 'question_view_count', 'question_body', 'question_last_edit_date', 'question_last_activity_date', 'question_title', 'question_tags', 'question_answer_count', 'question_comment_count', 'question_favorite_count', 'question_closed_date', 'question_community_owned_date', 'answer_accepted'],\n",
       "        num_rows: 10563\n",
       "    })\n",
       "})"
      ]
     },
     "execution_count": 3,
     "metadata": {},
     "output_type": "execute_result"
    }
   ],
   "execution_count": 3
  },
  {
   "metadata": {},
   "cell_type": "markdown",
   "source": "## Data preprocessing",
   "id": "d8d1b6fc0ab91a4f"
  },
  {
   "metadata": {
    "ExecuteTime": {
     "end_time": "2025-04-18T19:03:54.613293Z",
     "start_time": "2025-04-18T19:03:54.523633Z"
    }
   },
   "cell_type": "code",
   "source": "from src.utils.text_preprocessing import Preprocessor",
   "id": "bde6798d564e3ca4",
   "outputs": [],
   "execution_count": 4
  },
  {
   "metadata": {
    "ExecuteTime": {
     "end_time": "2025-04-18T19:03:54.634048Z",
     "start_time": "2025-04-18T19:03:54.631575Z"
    }
   },
   "cell_type": "code",
   "source": "TARGET_COL = 'answer_normalized_score'",
   "id": "74325b357bf0412f",
   "outputs": [],
   "execution_count": 5
  },
  {
   "metadata": {
    "ExecuteTime": {
     "end_time": "2025-04-18T19:03:54.658123Z",
     "start_time": "2025-04-18T19:03:54.655280Z"
    }
   },
   "cell_type": "code",
   "source": "preprocessor = Preprocessor(preserve_html_tags=['code'])",
   "id": "19aa545a200e9da4",
   "outputs": [],
   "execution_count": 6
  },
  {
   "metadata": {
    "ExecuteTime": {
     "end_time": "2025-04-18T19:03:54.741218Z",
     "start_time": "2025-04-18T19:03:54.727606Z"
    }
   },
   "cell_type": "code",
   "source": "hf_dataset = hf_dataset.map(preprocessor, batched=True)",
   "id": "c31946c038001583",
   "outputs": [],
   "execution_count": 7
  },
  {
   "metadata": {
    "ExecuteTime": {
     "end_time": "2025-04-18T19:03:54.810898Z",
     "start_time": "2025-04-18T19:03:54.806943Z"
    }
   },
   "cell_type": "code",
   "source": "hf_dataset",
   "id": "bb45c826ddfb2120",
   "outputs": [
    {
     "data": {
      "text/plain": [
       "DatasetDict({\n",
       "    train: Dataset({\n",
       "        features: ['answer_id', 'question_id', 'answer_creation_date', 'answer_score', 'answer_normalized_score', 'answer_log_normalized_score', 'answer_body', 'answer_last_edit_date', 'answer_last_activity_date', 'answer_comment_count', 'answer_community_owned_date', 'question_creation_date', 'question_score', 'question_view_count', 'question_body', 'question_last_edit_date', 'question_last_activity_date', 'question_title', 'question_tags', 'question_answer_count', 'question_comment_count', 'question_favorite_count', 'question_closed_date', 'question_community_owned_date', 'answer_accepted', 'question_text', 'answer_text'],\n",
       "        num_rows: 42700\n",
       "    })\n",
       "    test: Dataset({\n",
       "        features: ['answer_id', 'question_id', 'answer_creation_date', 'answer_score', 'answer_normalized_score', 'answer_log_normalized_score', 'answer_body', 'answer_last_edit_date', 'answer_last_activity_date', 'answer_comment_count', 'answer_community_owned_date', 'question_creation_date', 'question_score', 'question_view_count', 'question_body', 'question_last_edit_date', 'question_last_activity_date', 'question_title', 'question_tags', 'question_answer_count', 'question_comment_count', 'question_favorite_count', 'question_closed_date', 'question_community_owned_date', 'answer_accepted', 'question_text', 'answer_text'],\n",
       "        num_rows: 10563\n",
       "    })\n",
       "})"
      ]
     },
     "execution_count": 8,
     "metadata": {},
     "output_type": "execute_result"
    }
   ],
   "execution_count": 8
  },
  {
   "metadata": {},
   "cell_type": "markdown",
   "source": "## Model inference",
   "id": "e01a1cf187b23113"
  },
  {
   "metadata": {
    "ExecuteTime": {
     "end_time": "2025-04-18T19:04:00.884737Z",
     "start_time": "2025-04-18T19:03:54.843196Z"
    }
   },
   "cell_type": "code",
   "source": [
    "from transformers import MegatronBertModel, PreTrainedTokenizerFast\n",
    "from tqdm import tqdm\n",
    "from torch.utils.data import DataLoader\n",
    "import torch\n",
    "import pandas as pd"
   ],
   "id": "183ebda9ae4bfd6",
   "outputs": [
    {
     "name": "stderr",
     "output_type": "stream",
     "text": [
      "2025-04-18 19:03:58.907277: I tensorflow/core/util/port.cc:113] oneDNN custom operations are on. You may see slightly different numerical results due to floating-point round-off errors from different computation orders. To turn them off, set the environment variable `TF_ENABLE_ONEDNN_OPTS=0`.\n",
      "2025-04-18 19:03:58.975137: E external/local_xla/xla/stream_executor/cuda/cuda_dnn.cc:9261] Unable to register cuDNN factory: Attempting to register factory for plugin cuDNN when one has already been registered\n",
      "2025-04-18 19:03:58.975194: E external/local_xla/xla/stream_executor/cuda/cuda_fft.cc:607] Unable to register cuFFT factory: Attempting to register factory for plugin cuFFT when one has already been registered\n",
      "2025-04-18 19:03:58.978202: E external/local_xla/xla/stream_executor/cuda/cuda_blas.cc:1515] Unable to register cuBLAS factory: Attempting to register factory for plugin cuBLAS when one has already been registered\n",
      "2025-04-18 19:03:58.991847: I tensorflow/core/platform/cpu_feature_guard.cc:182] This TensorFlow binary is optimized to use available CPU instructions in performance-critical operations.\n",
      "To enable the following instructions: AVX2 AVX512F AVX512_VNNI FMA, in other operations, rebuild TensorFlow with the appropriate compiler flags.\n",
      "2025-04-18 19:04:00.074028: W tensorflow/compiler/tf2tensorrt/utils/py_utils.cc:38] TF-TRT Warning: Could not find TensorRT\n"
     ]
    }
   ],
   "execution_count": 9
  },
  {
   "metadata": {
    "ExecuteTime": {
     "end_time": "2025-04-18T19:04:00.941644Z",
     "start_time": "2025-04-18T19:04:00.904861Z"
    }
   },
   "cell_type": "code",
   "source": [
    "device = 'cuda' if torch.cuda.is_available() else 'cpu'\n",
    "\n",
    "MODEL_PATH = 'mmukh/SOBertBase'\n",
    "MODEL_NAME = MODEL_PATH.split('/')[-1]\n",
    "BATCH_SIZE = 4\n",
    "EMBEDDINGS_POOLING = 'mean'"
   ],
   "id": "4a3a7f4277fcf934",
   "outputs": [],
   "execution_count": 10
  },
  {
   "metadata": {
    "ExecuteTime": {
     "end_time": "2025-04-18T19:04:02.170580Z",
     "start_time": "2025-04-18T19:04:00.964050Z"
    }
   },
   "cell_type": "code",
   "source": [
    "model = MegatronBertModel.from_pretrained(MODEL_PATH).to(device)\n",
    "model.eval();"
   ],
   "id": "d708c871f488c053",
   "outputs": [
    {
     "name": "stderr",
     "output_type": "stream",
     "text": [
      "Some weights of MegatronBertModel were not initialized from the model checkpoint at mmukh/SOBertBase and are newly initialized: ['embeddings.token_type_embeddings.weight', 'pooler.dense.bias', 'pooler.dense.weight']\n",
      "You should probably TRAIN this model on a down-stream task to be able to use it for predictions and inference.\n"
     ]
    }
   ],
   "execution_count": 11
  },
  {
   "metadata": {
    "ExecuteTime": {
     "end_time": "2025-04-18T19:04:02.557901Z",
     "start_time": "2025-04-18T19:04:02.190401Z"
    }
   },
   "cell_type": "code",
   "source": [
    "tokenizer = PreTrainedTokenizerFast.from_pretrained(MODEL_PATH)\n",
    "if not tokenizer.pad_token:\n",
    "    pad_token_id = model.embeddings.word_embeddings.padding_idx\n",
    "    print(f'Setting pad token id to {pad_token_id}...')\n",
    "    tokenizer.pad_token_id = pad_token_id\n",
    "    print(f'Pad token set to {tokenizer.pad_token}')"
   ],
   "id": "1e8512aeb230d124",
   "outputs": [
    {
     "name": "stdout",
     "output_type": "stream",
     "text": [
      "Setting pad token id to 0...\n",
      "Pad token set to <unk>\n"
     ]
    }
   ],
   "execution_count": 12
  },
  {
   "metadata": {
    "ExecuteTime": {
     "end_time": "2025-04-18T19:04:02.639642Z",
     "start_time": "2025-04-18T19:04:02.635180Z"
    }
   },
   "cell_type": "code",
   "source": [
    "def get_sentence_embeddings(tokenized_inputs, pooling):\n",
    "    with torch.no_grad():\n",
    "        outputs = model(**tokenized_inputs)\n",
    "    \n",
    "    attention_mask = tokenized_inputs['attention_mask']\n",
    "    last_hidden_state = outputs.last_hidden_state\n",
    "    \n",
    "    if pooling == 'mean':\n",
    "        attention_mask_expanded = attention_mask.unsqueeze(-1).expand(last_hidden_state.size())\n",
    "        sum_embeddings = (last_hidden_state * attention_mask_expanded).sum(dim=1)\n",
    "        sum_mask = attention_mask_expanded.sum(dim=1)\n",
    "        pooled = sum_embeddings / sum_mask\n",
    "        \n",
    "    return pooled.cpu()"
   ],
   "id": "5a854a82db2c76af",
   "outputs": [],
   "execution_count": 13
  },
  {
   "metadata": {
    "ExecuteTime": {
     "end_time": "2025-04-18T19:04:02.669312Z",
     "start_time": "2025-04-18T19:04:02.666202Z"
    }
   },
   "cell_type": "code",
   "source": [
    "def tokenize_texts(texts):\n",
    "    outputs = tokenizer(texts, padding=True, truncation=True, return_tensors='pt').to(device)\n",
    "    \n",
    "    return outputs"
   ],
   "id": "b4e5b41ffdba8872",
   "outputs": [],
   "execution_count": 14
  },
  {
   "metadata": {
    "ExecuteTime": {
     "end_time": "2025-04-18T19:04:02.700829Z",
     "start_time": "2025-04-18T19:04:02.693857Z"
    }
   },
   "cell_type": "code",
   "source": [
    "def compute_question_embeddings(dataset_split):\n",
    "    def get_unique_questions_dataset(dataset_split):\n",
    "        unique_question_ids = []\n",
    "        unique_question_row_ids = []\n",
    "\n",
    "        curr_question_id = None\n",
    "        for row_id, row in enumerate(dataset_split):\n",
    "            question_id = row['question_id']\n",
    "            if question_id != curr_question_id:\n",
    "                unique_question_ids.append(question_id)\n",
    "                unique_question_row_ids.append(row_id)\n",
    "                curr_question_id = question_id\n",
    "\n",
    "        unique_questions_dataset = dataset_split.select(unique_question_row_ids)\n",
    "\n",
    "        return unique_questions_dataset\n",
    "\n",
    "    unique_questions_dataset = get_unique_questions_dataset(dataset_split)\n",
    "\n",
    "    questions_dataloader = DataLoader(unique_questions_dataset['question_text'],\n",
    "                                      batch_size=BATCH_SIZE, collate_fn=tokenize_texts)\n",
    "\n",
    "    unique_question_embeddings = []\n",
    "\n",
    "    for batch in tqdm(questions_dataloader):\n",
    "        batch_embeddings = get_sentence_embeddings(batch, pooling=EMBEDDINGS_POOLING)\n",
    "\n",
    "        unique_question_embeddings.append(batch_embeddings)\n",
    "\n",
    "    unique_question_embeddings = torch.cat(unique_question_embeddings, dim=0)\n",
    "    unique_question_embeddings = pd.DataFrame({'question_id': unique_questions_dataset['question_id'],\n",
    "                                               'embedding': unique_question_embeddings.unbind(dim=0)})\n",
    "\n",
    "    question_embeddings = pd.DataFrame({'question_id': dataset_split['question_id']})\n",
    "    question_embeddings = pd.merge(question_embeddings, unique_question_embeddings, on='question_id')\n",
    "    question_embeddings = torch.stack(question_embeddings['embedding'].tolist(), dim=0)\n",
    "\n",
    "    return question_embeddings"
   ],
   "id": "e7ac448f970dc32e",
   "outputs": [],
   "execution_count": 15
  },
  {
   "metadata": {
    "ExecuteTime": {
     "end_time": "2025-04-18T19:08:58.529183Z",
     "start_time": "2025-04-18T19:04:02.730078Z"
    }
   },
   "cell_type": "code",
   "source": "train_question_embeddings = compute_question_embeddings(hf_dataset['train'])",
   "id": "d96af545a9a76c4b",
   "outputs": [
    {
     "name": "stderr",
     "output_type": "stream",
     "text": [
      "100%|██████████| 1944/1944 [04:43<00:00,  6.87it/s]\n"
     ]
    }
   ],
   "execution_count": 16
  },
  {
   "metadata": {
    "ExecuteTime": {
     "end_time": "2025-04-18T19:10:17.778387Z",
     "start_time": "2025-04-18T19:08:58.656163Z"
    }
   },
   "cell_type": "code",
   "source": "test_question_embeddings = compute_question_embeddings(hf_dataset['test'])",
   "id": "48b03dafdd7b7766",
   "outputs": [
    {
     "name": "stderr",
     "output_type": "stream",
     "text": [
      "100%|██████████| 487/487 [01:16<00:00,  6.40it/s]\n"
     ]
    }
   ],
   "execution_count": 17
  },
  {
   "metadata": {
    "ExecuteTime": {
     "end_time": "2025-04-18T19:10:17.834522Z",
     "start_time": "2025-04-18T19:10:17.831576Z"
    }
   },
   "cell_type": "code",
   "source": [
    "# test_questions_dataloader = DataLoader(hf_dataset['test']['question_text'], batch_size=BATCH_SIZE, collate_fn=tokenize_texts)\n",
    "# \n",
    "# question_embeddings = []\n",
    "# \n",
    "# for batch in tqdm(test_questions_dataloader):\n",
    "#     batch_embeddings = get_sentence_embeddings(batch, pooling=EMBEDDINGS_POOLING)\n",
    "# \n",
    "#     question_embeddings.append(batch_embeddings)\n",
    "# \n",
    "# question_embeddings = torch.cat(question_embeddings, dim=0)"
   ],
   "id": "39dae8656859384e",
   "outputs": [],
   "execution_count": 18
  },
  {
   "metadata": {
    "ExecuteTime": {
     "end_time": "2025-04-18T19:10:17.870517Z",
     "start_time": "2025-04-18T19:10:17.866529Z"
    }
   },
   "cell_type": "code",
   "source": [
    "def compute_answer_embeddings(dataset_split):\n",
    "    answers_dataloader = DataLoader(dataset_split['answer_text'], batch_size=BATCH_SIZE, collate_fn=tokenize_texts)\n",
    "\n",
    "    answer_embeddings = []\n",
    "\n",
    "    for batch in tqdm(answers_dataloader):\n",
    "        batch_embeddings = get_sentence_embeddings(batch, pooling=EMBEDDINGS_POOLING)\n",
    "\n",
    "        answer_embeddings.append(batch_embeddings)\n",
    "\n",
    "    answer_embeddings = torch.cat(answer_embeddings, dim=0)\n",
    "\n",
    "    return answer_embeddings"
   ],
   "id": "fa6e5a385f1aa998",
   "outputs": [],
   "execution_count": 19
  },
  {
   "metadata": {
    "ExecuteTime": {
     "end_time": "2025-04-18T19:25:02.025606Z",
     "start_time": "2025-04-18T19:10:17.905395Z"
    }
   },
   "cell_type": "code",
   "source": "train_answer_embeddings = compute_answer_embeddings(hf_dataset['train'])",
   "id": "89fcbc5a814c5a45",
   "outputs": [
    {
     "name": "stderr",
     "output_type": "stream",
     "text": [
      "100%|██████████| 10675/10675 [14:43<00:00, 12.08it/s]\n"
     ]
    }
   ],
   "execution_count": 20
  },
  {
   "metadata": {
    "ExecuteTime": {
     "end_time": "2025-04-18T19:28:50.727031Z",
     "start_time": "2025-04-18T19:25:02.119703Z"
    }
   },
   "cell_type": "code",
   "source": "test_answer_embeddings = compute_answer_embeddings(hf_dataset['test'])",
   "id": "cf385bfb147f5524",
   "outputs": [
    {
     "name": "stderr",
     "output_type": "stream",
     "text": [
      "100%|██████████| 2641/2641 [03:48<00:00, 11.56it/s]\n"
     ]
    }
   ],
   "execution_count": 21
  },
  {
   "metadata": {},
   "cell_type": "markdown",
   "source": "### Dump embeddings ",
   "id": "679ce3580366f241"
  },
  {
   "metadata": {
    "ExecuteTime": {
     "end_time": "2025-04-18T19:28:50.782647Z",
     "start_time": "2025-04-18T19:28:50.778837Z"
    }
   },
   "cell_type": "code",
   "source": [
    "import pickle\n",
    "import os"
   ],
   "id": "cb619e3212f61d16",
   "outputs": [],
   "execution_count": 22
  },
  {
   "metadata": {
    "ExecuteTime": {
     "end_time": "2025-04-18T19:28:50.828813Z",
     "start_time": "2025-04-18T19:28:50.825667Z"
    }
   },
   "cell_type": "code",
   "source": [
    "embeddings = {\n",
    "    'train': {\n",
    "        'question_embeddings': train_question_embeddings,\n",
    "        'answer_embeddings': train_answer_embeddings\n",
    "    },\n",
    "    'test': {\n",
    "        'question_embeddings': test_question_embeddings,\n",
    "        'answer_embeddings': test_answer_embeddings\n",
    "    }\n",
    "}"
   ],
   "id": "7fa86155d852b93d",
   "outputs": [],
   "execution_count": 23
  },
  {
   "metadata": {
    "ExecuteTime": {
     "end_time": "2025-04-18T19:28:50.867886Z",
     "start_time": "2025-04-18T19:28:50.864842Z"
    }
   },
   "cell_type": "code",
   "source": [
    "embeddings_path = os.path.join(CONFIG['paths']['models']['dalip_embeddings'],\n",
    "                    f\"embeddings_{MODEL_NAME}_{EMBEDDINGS_POOLING}.pickle\")"
   ],
   "id": "acd306b6a60bb560",
   "outputs": [],
   "execution_count": 24
  },
  {
   "metadata": {
    "ExecuteTime": {
     "end_time": "2025-04-18T19:28:51.402056Z",
     "start_time": "2025-04-18T19:28:50.904737Z"
    }
   },
   "cell_type": "code",
   "source": [
    "with open(embeddings_path, 'wb') as f:\n",
    "    pickle.dump(embeddings, f)"
   ],
   "id": "67f6dd368375e9d3",
   "outputs": [],
   "execution_count": 25
  },
  {
   "metadata": {
    "ExecuteTime": {
     "end_time": "2025-04-18T19:28:51.439590Z",
     "start_time": "2025-04-18T19:28:51.436909Z"
    }
   },
   "cell_type": "code",
   "source": [
    "# test_question_ids = hf_dataset['test']['question_id']\n",
    "#\n",
    "# a = pd.DataFrame({'id': test_question_ids, 'emb': question_embeddings.unbind(dim=0)})\n",
    "# a['emb'] = a['emb'].apply(lambda x: tuple(x.tolist()))"
   ],
   "id": "675ed1ec7adc1cbb",
   "outputs": [],
   "execution_count": 26
  },
  {
   "metadata": {
    "ExecuteTime": {
     "end_time": "2025-04-18T19:28:51.480538Z",
     "start_time": "2025-04-18T19:28:51.477750Z"
    }
   },
   "cell_type": "code",
   "source": "# a.groupby('id')['emb'].nunique().value_counts()",
   "id": "59ff2dff6e4010b",
   "outputs": [],
   "execution_count": 27
  },
  {
   "metadata": {
    "ExecuteTime": {
     "end_time": "2025-04-18T19:28:51.515446Z",
     "start_time": "2025-04-18T19:28:51.512946Z"
    }
   },
   "cell_type": "code",
   "source": [
    "# with open(test_embeddings_path, 'rb') as f:\n",
    "#     test_embeddings = pickle.load(f)"
   ],
   "id": "eaae1cbc2b6df3bb",
   "outputs": [],
   "execution_count": 28
  },
  {
   "metadata": {},
   "cell_type": "markdown",
   "source": "## Evaluation",
   "id": "8a3f8c98703591c6"
  },
  {
   "metadata": {
    "ExecuteTime": {
     "end_time": "2025-04-18T19:28:52.352478Z",
     "start_time": "2025-04-18T19:28:51.545001Z"
    }
   },
   "cell_type": "code",
   "source": [
    "import wandb\n",
    "from collections import defaultdict\n",
    "from src.evaluation import RankingEvaluator\n",
    "import pandas as pd"
   ],
   "id": "5254b8874d3c671b",
   "outputs": [],
   "execution_count": 29
  },
  {
   "metadata": {
    "ExecuteTime": {
     "end_time": "2025-04-18T19:28:52.387762Z",
     "start_time": "2025-04-18T19:28:52.384992Z"
    }
   },
   "cell_type": "code",
   "source": "SIMILARITY_METRIC = 'cosine_similarity'",
   "id": "651db958fd09b3a6",
   "outputs": [],
   "execution_count": 30
  },
  {
   "metadata": {
    "ExecuteTime": {
     "end_time": "2025-04-18T19:28:52.500052Z",
     "start_time": "2025-04-18T19:28:52.473487Z"
    }
   },
   "cell_type": "code",
   "source": [
    "if SIMILARITY_METRIC == 'cosine_similarity':\n",
    "    predictions = torch.cosine_similarity(\n",
    "        test_question_embeddings, test_answer_embeddings).cpu().numpy()"
   ],
   "id": "f22e621917b948d2",
   "outputs": [],
   "execution_count": 31
  },
  {
   "metadata": {
    "ExecuteTime": {
     "end_time": "2025-04-18T19:28:52.575655Z",
     "start_time": "2025-04-18T19:28:52.569498Z"
    }
   },
   "cell_type": "code",
   "source": [
    "wandb_config = defaultdict(dict)\n",
    "\n",
    "wandb_config['preprocessing'] = preprocessor.__dict__\n",
    "\n",
    "wandb_config['vectorizer']['vectorization_type'] = 'embeddings'\n",
    "wandb_config['vectorizer']['embeddings_pooling'] = EMBEDDINGS_POOLING\n",
    "\n",
    "wandb_config['regression_model'] = defaultdict(dict)\n",
    "wandb_config['regression_model']['regressor_type'] = SIMILARITY_METRIC\n",
    "\n",
    "wandb_config['model_name'] = MODEL_NAME\n",
    "\n",
    "wandb_config"
   ],
   "id": "7ac4f77daa4fce72",
   "outputs": [
    {
     "data": {
      "text/plain": [
       "defaultdict(dict,\n",
       "            {'preprocessing': {'question_columns': ['question_title',\n",
       "               'question_body'],\n",
       "              'answer_columns': ['answer_body'],\n",
       "              'preserve_html_tags': ['code']},\n",
       "             'vectorizer': {'vectorization_type': 'embeddings',\n",
       "              'embeddings_pooling': 'mean'},\n",
       "             'regression_model': defaultdict(dict,\n",
       "                         {'regressor_type': 'cosine_similarity'}),\n",
       "             'model_name': 'SOBertBase'})"
      ]
     },
     "execution_count": 32,
     "metadata": {},
     "output_type": "execute_result"
    }
   ],
   "execution_count": 32
  },
  {
   "metadata": {
    "ExecuteTime": {
     "end_time": "2025-04-18T19:28:54.272135Z",
     "start_time": "2025-04-18T19:28:52.656868Z"
    }
   },
   "cell_type": "code",
   "source": [
    "run = wandb.init(\n",
    "    project='dalip-stackoverflow-answer-ranking',\n",
    "    config=wandb_config,\n",
    "    tags=['embeddings', 'similarity']\n",
    ")"
   ],
   "id": "239d090d2b1753ee",
   "outputs": [
    {
     "name": "stderr",
     "output_type": "stream",
     "text": [
      "\u001B[34m\u001B[1mwandb\u001B[0m: \u001B[32m\u001B[41mERROR\u001B[0m Failed to detect the name of this notebook. You can set it manually with the WANDB_NOTEBOOK_NAME environment variable to enable code saving.\n",
      "\u001B[34m\u001B[1mwandb\u001B[0m: Using wandb-core as the SDK backend.  Please refer to https://wandb.me/wandb-core for more information.\n",
      "\u001B[34m\u001B[1mwandb\u001B[0m: Currently logged in as: \u001B[33mbunnynobugs\u001B[0m to \u001B[32mhttps://api.wandb.ai\u001B[0m. Use \u001B[1m`wandb login --relogin`\u001B[0m to force relogin\n"
     ]
    },
    {
     "data": {
      "text/plain": [
       "<IPython.core.display.HTML object>"
      ],
      "text/html": [
       "Tracking run with wandb version 0.19.9"
      ]
     },
     "metadata": {},
     "output_type": "display_data"
    },
    {
     "data": {
      "text/plain": [
       "<IPython.core.display.HTML object>"
      ],
      "text/html": [
       "Run data is saved locally in <code>/home/stackoverflow-answer-assessment/wandb/run-20250418_192853-1o0kxn5b</code>"
      ]
     },
     "metadata": {},
     "output_type": "display_data"
    },
    {
     "data": {
      "text/plain": [
       "<IPython.core.display.HTML object>"
      ],
      "text/html": [
       "Syncing run <strong><a href='https://wandb.ai/bunnynobugs/dalip-stackoverflow-answer-ranking/runs/1o0kxn5b' target=\"_blank\">clean-dream-23</a></strong> to <a href='https://wandb.ai/bunnynobugs/dalip-stackoverflow-answer-ranking' target=\"_blank\">Weights & Biases</a> (<a href='https://wandb.me/developer-guide' target=\"_blank\">docs</a>)<br>"
      ]
     },
     "metadata": {},
     "output_type": "display_data"
    },
    {
     "data": {
      "text/plain": [
       "<IPython.core.display.HTML object>"
      ],
      "text/html": [
       " View project at <a href='https://wandb.ai/bunnynobugs/dalip-stackoverflow-answer-ranking' target=\"_blank\">https://wandb.ai/bunnynobugs/dalip-stackoverflow-answer-ranking</a>"
      ]
     },
     "metadata": {},
     "output_type": "display_data"
    },
    {
     "data": {
      "text/plain": [
       "<IPython.core.display.HTML object>"
      ],
      "text/html": [
       " View run at <a href='https://wandb.ai/bunnynobugs/dalip-stackoverflow-answer-ranking/runs/1o0kxn5b' target=\"_blank\">https://wandb.ai/bunnynobugs/dalip-stackoverflow-answer-ranking/runs/1o0kxn5b</a>"
      ]
     },
     "metadata": {},
     "output_type": "display_data"
    }
   ],
   "execution_count": 33
  },
  {
   "metadata": {},
   "cell_type": "markdown",
   "source": "### Compute metrics",
   "id": "eaed8e21d84e6ddc"
  },
  {
   "metadata": {
    "ExecuteTime": {
     "end_time": "2025-04-18T19:28:54.318195Z",
     "start_time": "2025-04-18T19:28:54.308771Z"
    }
   },
   "cell_type": "code",
   "source": "targets = hf_dataset['test'][TARGET_COL]",
   "id": "e5943f6f5f520c10",
   "outputs": [],
   "execution_count": 34
  },
  {
   "metadata": {
    "ExecuteTime": {
     "end_time": "2025-04-18T19:28:54.362842Z",
     "start_time": "2025-04-18T19:28:54.353324Z"
    }
   },
   "cell_type": "code",
   "source": "test_question_ids = hf_dataset['test']['question_id']",
   "id": "d62aa7700d4a2b52",
   "outputs": [],
   "execution_count": 35
  },
  {
   "metadata": {
    "ExecuteTime": {
     "end_time": "2025-04-18T19:28:54.402466Z",
     "start_time": "2025-04-18T19:28:54.397845Z"
    }
   },
   "cell_type": "code",
   "source": [
    "evaluator = RankingEvaluator(ndcg_k=list(range(1, 11)), \n",
    "                             ndcg_gain_func='exponential', ndcg_discount_func='logarithmic')"
   ],
   "id": "253f3c7b42c9f90b",
   "outputs": [],
   "execution_count": 36
  },
  {
   "metadata": {
    "ExecuteTime": {
     "end_time": "2025-04-18T19:28:55.093517Z",
     "start_time": "2025-04-18T19:28:54.438203Z"
    }
   },
   "cell_type": "code",
   "source": [
    "metrics = evaluator(targets, predictions, test_question_ids)\n",
    "if TARGET_COL == 'answer_log_normalized_score':\n",
    "    metrics.pop('mae')\n",
    "metrics"
   ],
   "id": "8e9033fd8ab9813d",
   "outputs": [
    {
     "data": {
      "text/plain": [
       "{'ndcg@1_g.exponential_d.logarithmic': 0.43623295567056014,\n",
       " 'ndcg@2_g.exponential_d.logarithmic': 0.5405199551966923,\n",
       " 'ndcg@3_g.exponential_d.logarithmic': 0.6283210018946189,\n",
       " 'ndcg@4_g.exponential_d.logarithmic': 0.7030367653538673,\n",
       " 'ndcg@5_g.exponential_d.logarithmic': 0.7323741428370554,\n",
       " 'ndcg@6_g.exponential_d.logarithmic': 0.7431773178434113,\n",
       " 'ndcg@7_g.exponential_d.logarithmic': 0.7477800642209043,\n",
       " 'ndcg@8_g.exponential_d.logarithmic': 0.7503184786095484,\n",
       " 'ndcg@9_g.exponential_d.logarithmic': 0.7526999141663308,\n",
       " 'ndcg@10_g.exponential_d.logarithmic': 0.7531754923844403,\n",
       " 'mae': 17.620280573472012,\n",
       " 'hit_rate@1': 0.3079691516709512}"
      ]
     },
     "execution_count": 37,
     "metadata": {},
     "output_type": "execute_result"
    }
   ],
   "execution_count": 37
  },
  {
   "metadata": {
    "ExecuteTime": {
     "end_time": "2025-04-18T19:28:55.186512Z",
     "start_time": "2025-04-18T19:28:55.182114Z"
    }
   },
   "cell_type": "code",
   "source": "wandb.log(metrics)",
   "id": "abc0ed128e1dc9da",
   "outputs": [],
   "execution_count": 38
  },
  {
   "metadata": {},
   "cell_type": "markdown",
   "source": "### Log predictions",
   "id": "958d2222e0293712"
  },
  {
   "metadata": {
    "ExecuteTime": {
     "end_time": "2025-04-18T19:28:55.250669Z",
     "start_time": "2025-04-18T19:28:55.222254Z"
    }
   },
   "cell_type": "code",
   "source": [
    "predictions_df = pd.DataFrame()\n",
    "predictions_df['answer_id'] = hf_dataset['test']['answer_id']\n",
    "predictions_df['answer_normalized_score'] = hf_dataset['test']['answer_normalized_score']\n",
    "predictions_df['predicted_score'] = predictions"
   ],
   "id": "2bf6a7ed48181a23",
   "outputs": [],
   "execution_count": 39
  },
  {
   "metadata": {
    "ExecuteTime": {
     "end_time": "2025-04-18T19:28:57.365156Z",
     "start_time": "2025-04-18T19:28:55.323589Z"
    }
   },
   "cell_type": "code",
   "source": "wandb.log({'predictions_table': wandb.Table(dataframe=predictions_df)})",
   "id": "34fd74d62d8e5133",
   "outputs": [],
   "execution_count": 40
  },
  {
   "metadata": {
    "ExecuteTime": {
     "end_time": "2025-04-18T19:28:59.055438Z",
     "start_time": "2025-04-18T19:28:57.407263Z"
    }
   },
   "cell_type": "code",
   "source": "run.finish()",
   "id": "f1659167352d5d22",
   "outputs": [
    {
     "data": {
      "text/plain": [
       "<IPython.core.display.HTML object>"
      ],
      "text/html": []
     },
     "metadata": {},
     "output_type": "display_data"
    },
    {
     "data": {
      "text/plain": [
       "<IPython.core.display.HTML object>"
      ],
      "text/html": [
       "<br>    <style><br>        .wandb-row {<br>            display: flex;<br>            flex-direction: row;<br>            flex-wrap: wrap;<br>            justify-content: flex-start;<br>            width: 100%;<br>        }<br>        .wandb-col {<br>            display: flex;<br>            flex-direction: column;<br>            flex-basis: 100%;<br>            flex: 1;<br>            padding: 10px;<br>        }<br>    </style><br><div class=\"wandb-row\"><div class=\"wandb-col\"><h3>Run history:</h3><br/><table class=\"wandb\"><tr><td>hit_rate@1</td><td>▁</td></tr><tr><td>mae</td><td>▁</td></tr><tr><td>ndcg@10_g.exponential_d.logarithmic</td><td>▁</td></tr><tr><td>ndcg@1_g.exponential_d.logarithmic</td><td>▁</td></tr><tr><td>ndcg@2_g.exponential_d.logarithmic</td><td>▁</td></tr><tr><td>ndcg@3_g.exponential_d.logarithmic</td><td>▁</td></tr><tr><td>ndcg@4_g.exponential_d.logarithmic</td><td>▁</td></tr><tr><td>ndcg@5_g.exponential_d.logarithmic</td><td>▁</td></tr><tr><td>ndcg@6_g.exponential_d.logarithmic</td><td>▁</td></tr><tr><td>ndcg@7_g.exponential_d.logarithmic</td><td>▁</td></tr><tr><td>ndcg@8_g.exponential_d.logarithmic</td><td>▁</td></tr><tr><td>ndcg@9_g.exponential_d.logarithmic</td><td>▁</td></tr></table><br/></div><div class=\"wandb-col\"><h3>Run summary:</h3><br/><table class=\"wandb\"><tr><td>hit_rate@1</td><td>0.30797</td></tr><tr><td>mae</td><td>17.62028</td></tr><tr><td>ndcg@10_g.exponential_d.logarithmic</td><td>0.75318</td></tr><tr><td>ndcg@1_g.exponential_d.logarithmic</td><td>0.43623</td></tr><tr><td>ndcg@2_g.exponential_d.logarithmic</td><td>0.54052</td></tr><tr><td>ndcg@3_g.exponential_d.logarithmic</td><td>0.62832</td></tr><tr><td>ndcg@4_g.exponential_d.logarithmic</td><td>0.70304</td></tr><tr><td>ndcg@5_g.exponential_d.logarithmic</td><td>0.73237</td></tr><tr><td>ndcg@6_g.exponential_d.logarithmic</td><td>0.74318</td></tr><tr><td>ndcg@7_g.exponential_d.logarithmic</td><td>0.74778</td></tr><tr><td>ndcg@8_g.exponential_d.logarithmic</td><td>0.75032</td></tr><tr><td>ndcg@9_g.exponential_d.logarithmic</td><td>0.7527</td></tr></table><br/></div></div>"
      ]
     },
     "metadata": {},
     "output_type": "display_data"
    },
    {
     "data": {
      "text/plain": [
       "<IPython.core.display.HTML object>"
      ],
      "text/html": [
       " View run <strong style=\"color:#cdcd00\">clean-dream-23</strong> at: <a href='https://wandb.ai/bunnynobugs/dalip-stackoverflow-answer-ranking/runs/1o0kxn5b' target=\"_blank\">https://wandb.ai/bunnynobugs/dalip-stackoverflow-answer-ranking/runs/1o0kxn5b</a><br> View project at: <a href='https://wandb.ai/bunnynobugs/dalip-stackoverflow-answer-ranking' target=\"_blank\">https://wandb.ai/bunnynobugs/dalip-stackoverflow-answer-ranking</a><br>Synced 5 W&B file(s), 1 media file(s), 2 artifact file(s) and 0 other file(s)"
      ]
     },
     "metadata": {},
     "output_type": "display_data"
    },
    {
     "data": {
      "text/plain": [
       "<IPython.core.display.HTML object>"
      ],
      "text/html": [
       "Find logs at: <code>./wandb/run-20250418_192853-1o0kxn5b/logs</code>"
      ]
     },
     "metadata": {},
     "output_type": "display_data"
    }
   ],
   "execution_count": 41
  },
  {
   "metadata": {
    "ExecuteTime": {
     "end_time": "2025-04-18T19:28:59.114677Z",
     "start_time": "2025-04-18T19:28:59.111473Z"
    }
   },
   "cell_type": "code",
   "source": "",
   "id": "f7f765e33b74a391",
   "outputs": [],
   "execution_count": null
  }
 ],
 "metadata": {
  "kernelspec": {
   "display_name": "Python 3",
   "language": "python",
   "name": "python3"
  },
  "language_info": {
   "codemirror_mode": {
    "name": "ipython",
    "version": 2
   },
   "file_extension": ".py",
   "mimetype": "text/x-python",
   "name": "python",
   "nbconvert_exporter": "python",
   "pygments_lexer": "ipython2",
   "version": "2.7.6"
  }
 },
 "nbformat": 4,
 "nbformat_minor": 5
}
