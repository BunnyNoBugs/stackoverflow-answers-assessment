{
 "cells": [
  {
   "metadata": {},
   "cell_type": "markdown",
   "source": "# Bi-Encoder model",
   "id": "9bc0d925463af42e"
  },
  {
   "metadata": {},
   "cell_type": "markdown",
   "source": "## Data loading",
   "id": "f83bc7af753be01f"
  },
  {
   "metadata": {
    "collapsed": true,
    "ExecuteTime": {
     "end_time": "2025-04-19T12:54:28.272247Z",
     "start_time": "2025-04-19T12:54:26.546414Z"
    }
   },
   "cell_type": "code",
   "source": [
    "from datasets import load_from_disk\n",
    "from src.utils.config_management import CONFIG"
   ],
   "id": "initial_id",
   "outputs": [],
   "execution_count": 2
  },
  {
   "metadata": {
    "ExecuteTime": {
     "end_time": "2025-04-19T12:54:28.879902Z",
     "start_time": "2025-04-19T12:54:28.310211Z"
    }
   },
   "cell_type": "code",
   "source": "hf_dataset = load_from_disk(CONFIG['paths']['data']['dalip_hf_dataset'])",
   "id": "8b860895efd9c9e6",
   "outputs": [],
   "execution_count": 3
  },
  {
   "metadata": {
    "ExecuteTime": {
     "end_time": "2025-04-19T12:54:28.938291Z",
     "start_time": "2025-04-19T12:54:28.922624Z"
    }
   },
   "cell_type": "code",
   "source": "hf_dataset",
   "id": "1d2094a8ab250814",
   "outputs": [
    {
     "data": {
      "text/plain": [
       "DatasetDict({\n",
       "    train: Dataset({\n",
       "        features: ['answer_id', 'question_id', 'answer_creation_date', 'answer_score', 'answer_normalized_score', 'answer_log_normalized_score', 'answer_body', 'answer_last_edit_date', 'answer_last_activity_date', 'answer_comment_count', 'answer_community_owned_date', 'question_creation_date', 'question_score', 'question_view_count', 'question_body', 'question_last_edit_date', 'question_last_activity_date', 'question_title', 'question_tags', 'question_answer_count', 'question_comment_count', 'question_favorite_count', 'question_closed_date', 'question_community_owned_date', 'answer_accepted'],\n",
       "        num_rows: 42700\n",
       "    })\n",
       "    test: Dataset({\n",
       "        features: ['answer_id', 'question_id', 'answer_creation_date', 'answer_score', 'answer_normalized_score', 'answer_log_normalized_score', 'answer_body', 'answer_last_edit_date', 'answer_last_activity_date', 'answer_comment_count', 'answer_community_owned_date', 'question_creation_date', 'question_score', 'question_view_count', 'question_body', 'question_last_edit_date', 'question_last_activity_date', 'question_title', 'question_tags', 'question_answer_count', 'question_comment_count', 'question_favorite_count', 'question_closed_date', 'question_community_owned_date', 'answer_accepted'],\n",
       "        num_rows: 10563\n",
       "    })\n",
       "})"
      ]
     },
     "execution_count": 4,
     "metadata": {},
     "output_type": "execute_result"
    }
   ],
   "execution_count": 4
  },
  {
   "metadata": {},
   "cell_type": "markdown",
   "source": "## Data preprocessing",
   "id": "d8d1b6fc0ab91a4f"
  },
  {
   "metadata": {
    "ExecuteTime": {
     "end_time": "2025-04-19T12:54:29.227297Z",
     "start_time": "2025-04-19T12:54:29.033953Z"
    }
   },
   "cell_type": "code",
   "source": "from src.utils.text_preprocessing import Preprocessor",
   "id": "bde6798d564e3ca4",
   "outputs": [],
   "execution_count": 5
  },
  {
   "metadata": {
    "ExecuteTime": {
     "end_time": "2025-04-19T12:54:29.270626Z",
     "start_time": "2025-04-19T12:54:29.254962Z"
    }
   },
   "cell_type": "code",
   "source": "TARGET_COL = 'answer_normalized_score'",
   "id": "74325b357bf0412f",
   "outputs": [],
   "execution_count": 6
  },
  {
   "metadata": {
    "ExecuteTime": {
     "end_time": "2025-04-19T12:54:29.314574Z",
     "start_time": "2025-04-19T12:54:29.298941Z"
    }
   },
   "cell_type": "code",
   "source": "preprocessor = Preprocessor(preserve_html_tags=['code'])",
   "id": "19aa545a200e9da4",
   "outputs": [],
   "execution_count": 7
  },
  {
   "metadata": {
    "ExecuteTime": {
     "end_time": "2025-04-19T12:54:30.331907Z",
     "start_time": "2025-04-19T12:54:29.358368Z"
    }
   },
   "cell_type": "code",
   "source": "hf_dataset = hf_dataset.map(preprocessor, batched=True)",
   "id": "c31946c038001583",
   "outputs": [],
   "execution_count": 8
  },
  {
   "metadata": {
    "ExecuteTime": {
     "end_time": "2025-04-19T12:54:30.439486Z",
     "start_time": "2025-04-19T12:54:30.423845Z"
    }
   },
   "cell_type": "code",
   "source": "hf_dataset",
   "id": "bb45c826ddfb2120",
   "outputs": [
    {
     "data": {
      "text/plain": [
       "DatasetDict({\n",
       "    train: Dataset({\n",
       "        features: ['answer_id', 'question_id', 'answer_creation_date', 'answer_score', 'answer_normalized_score', 'answer_log_normalized_score', 'answer_body', 'answer_last_edit_date', 'answer_last_activity_date', 'answer_comment_count', 'answer_community_owned_date', 'question_creation_date', 'question_score', 'question_view_count', 'question_body', 'question_last_edit_date', 'question_last_activity_date', 'question_title', 'question_tags', 'question_answer_count', 'question_comment_count', 'question_favorite_count', 'question_closed_date', 'question_community_owned_date', 'answer_accepted', 'question_text', 'answer_text'],\n",
       "        num_rows: 42700\n",
       "    })\n",
       "    test: Dataset({\n",
       "        features: ['answer_id', 'question_id', 'answer_creation_date', 'answer_score', 'answer_normalized_score', 'answer_log_normalized_score', 'answer_body', 'answer_last_edit_date', 'answer_last_activity_date', 'answer_comment_count', 'answer_community_owned_date', 'question_creation_date', 'question_score', 'question_view_count', 'question_body', 'question_last_edit_date', 'question_last_activity_date', 'question_title', 'question_tags', 'question_answer_count', 'question_comment_count', 'question_favorite_count', 'question_closed_date', 'question_community_owned_date', 'answer_accepted', 'question_text', 'answer_text'],\n",
       "        num_rows: 10563\n",
       "    })\n",
       "})"
      ]
     },
     "execution_count": 9,
     "metadata": {},
     "output_type": "execute_result"
    }
   ],
   "execution_count": 9
  },
  {
   "metadata": {},
   "cell_type": "markdown",
   "source": "## Model training",
   "id": "f2b8dfad2083040b"
  },
  {
   "metadata": {
    "ExecuteTime": {
     "end_time": "2025-04-19T13:07:59.398661Z",
     "start_time": "2025-04-19T13:07:59.383045Z"
    }
   },
   "cell_type": "code",
   "source": [
    "MODEL_PATH = 'mmukh/SOBertBase'\n",
    "MODEL_NAME = MODEL_PATH.split('/')[-1]\n",
    "EMBEDDINGS_POOLING = 'mean'\n",
    "EMBEDDINGS_POSTPROCESSING = 'normalize'"
   ],
   "id": "8fb29a503f411c80",
   "outputs": [],
   "execution_count": 66
  },
  {
   "metadata": {},
   "cell_type": "markdown",
   "source": "### Load embeddings",
   "id": "b9db68ebb066c836"
  },
  {
   "metadata": {
    "ExecuteTime": {
     "end_time": "2025-04-19T12:55:03.600294Z",
     "start_time": "2025-04-19T12:55:03.569041Z"
    }
   },
   "cell_type": "code",
   "source": [
    "import pickle\n",
    "import os\n",
    "import torch"
   ],
   "id": "2d124b47158ba08",
   "outputs": [],
   "execution_count": 17
  },
  {
   "metadata": {
    "ExecuteTime": {
     "end_time": "2025-04-19T12:54:30.568421Z",
     "start_time": "2025-04-19T12:54:30.564510Z"
    }
   },
   "cell_type": "code",
   "source": [
    "embeddings_path = os.path.join(CONFIG['paths']['models']['dalip_embeddings'],\n",
    "                               f\"embeddings_{MODEL_NAME}_{EMBEDDINGS_POOLING}.pickle\")"
   ],
   "id": "1d53a7dc828a8e8f",
   "outputs": [],
   "execution_count": 12
  },
  {
   "metadata": {
    "ExecuteTime": {
     "end_time": "2025-04-19T13:32:29.390410Z",
     "start_time": "2025-04-19T13:32:27.019536Z"
    }
   },
   "cell_type": "code",
   "source": [
    "with open(embeddings_path, 'rb') as f:\n",
    "    embeddings = pickle.load(f)\n",
    "\n",
    "# if EMBEDDINGS_POSTPROCESSING == 'normalize':\n",
    "#     embeddings['train']['question_embeddings'] = torch.nn.functional.normalize(embeddings['train']['question_embeddings'])\n",
    "#     embeddings['train']['answer_embeddings'] = torch.nn.functional.normalize(embeddings['train']['answer_embeddings'])\n",
    "#     embeddings['test']['question_embeddings'] = torch.nn.functional.normalize(embeddings['test']['question_embeddings'])\n",
    "#     embeddings['test']['answer_embeddings'] = torch.nn.functional.normalize(embeddings['test']['answer_embeddings'])"
   ],
   "id": "477fd01b03a93009",
   "outputs": [],
   "execution_count": 90
  },
  {
   "metadata": {},
   "cell_type": "markdown",
   "source": "### Fit regression",
   "id": "e01a1cf187b23113"
  },
  {
   "metadata": {
    "ExecuteTime": {
     "end_time": "2025-04-19T14:24:58.119679Z",
     "start_time": "2025-04-19T14:24:58.104054Z"
    }
   },
   "cell_type": "code",
   "source": [
    "from sklearn.linear_model import LinearRegression\n",
    "from sklearn.ensemble import GradientBoostingRegressor, HistGradientBoostingRegressor\n",
    "from sklearn.neural_network import MLPRegressor\n",
    "from xgboost import XGBRegressor\n",
    "import torch"
   ],
   "id": "183ebda9ae4bfd6",
   "outputs": [],
   "execution_count": 140
  },
  {
   "metadata": {
    "ExecuteTime": {
     "end_time": "2025-04-19T14:07:47.456840Z",
     "start_time": "2025-04-19T14:07:47.369800Z"
    }
   },
   "cell_type": "code",
   "source": [
    "X_train = torch.cat([embeddings['train']['question_embeddings'], embeddings['train']['answer_embeddings']], dim=1)\n",
    "# X_train = torch.nn.functional.normalize(X_train)\n",
    "X_test = torch.cat([embeddings['test']['question_embeddings'], embeddings['test']['answer_embeddings']], dim=1)\n",
    "# X_test = torch.nn.functional.normalize(X_test)\n",
    "\n",
    "y_train = hf_dataset['train'][TARGET_COL]"
   ],
   "id": "4e3fc5c9c2535850",
   "outputs": [],
   "execution_count": 126
  },
  {
   "metadata": {
    "ExecuteTime": {
     "end_time": "2025-04-19T14:07:48.514738Z",
     "start_time": "2025-04-19T14:07:48.483592Z"
    }
   },
   "cell_type": "code",
   "source": "device = 'cuda' if torch.cuda.is_available() else 'cpu'",
   "id": "62d4f8c8d3977c88",
   "outputs": [],
   "execution_count": 127
  },
  {
   "metadata": {
    "ExecuteTime": {
     "end_time": "2025-04-19T14:32:29.512755Z",
     "start_time": "2025-04-19T14:29:04.111727Z"
    }
   },
   "cell_type": "code",
   "source": [
    "%%time\n",
    "\n",
    "regression_model = MLPRegressor(hidden_layer_sizes=(512, 128), early_stopping=True, random_state=42)\n",
    "regression_model.fit(X_train, y_train)"
   ],
   "id": "523c5cb30b7814e2",
   "outputs": [
    {
     "name": "stdout",
     "output_type": "stream",
     "text": [
      "Wall time: 3min 25s\n"
     ]
    },
    {
     "data": {
      "text/plain": [
       "MLPRegressor(early_stopping=True, hidden_layer_sizes=(512, 128),\n",
       "             random_state=42)"
      ],
      "text/html": [
       "<style>#sk-container-id-10 {color: black;background-color: white;}#sk-container-id-10 pre{padding: 0;}#sk-container-id-10 div.sk-toggleable {background-color: white;}#sk-container-id-10 label.sk-toggleable__label {cursor: pointer;display: block;width: 100%;margin-bottom: 0;padding: 0.3em;box-sizing: border-box;text-align: center;}#sk-container-id-10 label.sk-toggleable__label-arrow:before {content: \"▸\";float: left;margin-right: 0.25em;color: #696969;}#sk-container-id-10 label.sk-toggleable__label-arrow:hover:before {color: black;}#sk-container-id-10 div.sk-estimator:hover label.sk-toggleable__label-arrow:before {color: black;}#sk-container-id-10 div.sk-toggleable__content {max-height: 0;max-width: 0;overflow: hidden;text-align: left;background-color: #f0f8ff;}#sk-container-id-10 div.sk-toggleable__content pre {margin: 0.2em;color: black;border-radius: 0.25em;background-color: #f0f8ff;}#sk-container-id-10 input.sk-toggleable__control:checked~div.sk-toggleable__content {max-height: 200px;max-width: 100%;overflow: auto;}#sk-container-id-10 input.sk-toggleable__control:checked~label.sk-toggleable__label-arrow:before {content: \"▾\";}#sk-container-id-10 div.sk-estimator input.sk-toggleable__control:checked~label.sk-toggleable__label {background-color: #d4ebff;}#sk-container-id-10 div.sk-label input.sk-toggleable__control:checked~label.sk-toggleable__label {background-color: #d4ebff;}#sk-container-id-10 input.sk-hidden--visually {border: 0;clip: rect(1px 1px 1px 1px);clip: rect(1px, 1px, 1px, 1px);height: 1px;margin: -1px;overflow: hidden;padding: 0;position: absolute;width: 1px;}#sk-container-id-10 div.sk-estimator {font-family: monospace;background-color: #f0f8ff;border: 1px dotted black;border-radius: 0.25em;box-sizing: border-box;margin-bottom: 0.5em;}#sk-container-id-10 div.sk-estimator:hover {background-color: #d4ebff;}#sk-container-id-10 div.sk-parallel-item::after {content: \"\";width: 100%;border-bottom: 1px solid gray;flex-grow: 1;}#sk-container-id-10 div.sk-label:hover label.sk-toggleable__label {background-color: #d4ebff;}#sk-container-id-10 div.sk-serial::before {content: \"\";position: absolute;border-left: 1px solid gray;box-sizing: border-box;top: 0;bottom: 0;left: 50%;z-index: 0;}#sk-container-id-10 div.sk-serial {display: flex;flex-direction: column;align-items: center;background-color: white;padding-right: 0.2em;padding-left: 0.2em;position: relative;}#sk-container-id-10 div.sk-item {position: relative;z-index: 1;}#sk-container-id-10 div.sk-parallel {display: flex;align-items: stretch;justify-content: center;background-color: white;position: relative;}#sk-container-id-10 div.sk-item::before, #sk-container-id-10 div.sk-parallel-item::before {content: \"\";position: absolute;border-left: 1px solid gray;box-sizing: border-box;top: 0;bottom: 0;left: 50%;z-index: -1;}#sk-container-id-10 div.sk-parallel-item {display: flex;flex-direction: column;z-index: 1;position: relative;background-color: white;}#sk-container-id-10 div.sk-parallel-item:first-child::after {align-self: flex-end;width: 50%;}#sk-container-id-10 div.sk-parallel-item:last-child::after {align-self: flex-start;width: 50%;}#sk-container-id-10 div.sk-parallel-item:only-child::after {width: 0;}#sk-container-id-10 div.sk-dashed-wrapped {border: 1px dashed gray;margin: 0 0.4em 0.5em 0.4em;box-sizing: border-box;padding-bottom: 0.4em;background-color: white;}#sk-container-id-10 div.sk-label label {font-family: monospace;font-weight: bold;display: inline-block;line-height: 1.2em;}#sk-container-id-10 div.sk-label-container {text-align: center;}#sk-container-id-10 div.sk-container {/* jupyter's `normalize.less` sets `[hidden] { display: none; }` but bootstrap.min.css set `[hidden] { display: none !important; }` so we also need the `!important` here to be able to override the default hidden behavior on the sphinx rendered scikit-learn.org. See: https://github.com/scikit-learn/scikit-learn/issues/21755 */display: inline-block !important;position: relative;}#sk-container-id-10 div.sk-text-repr-fallback {display: none;}</style><div id=\"sk-container-id-10\" class=\"sk-top-container\"><div class=\"sk-text-repr-fallback\"><pre>MLPRegressor(early_stopping=True, hidden_layer_sizes=(512, 128),\n",
       "             random_state=42)</pre><b>In a Jupyter environment, please rerun this cell to show the HTML representation or trust the notebook. <br />On GitHub, the HTML representation is unable to render, please try loading this page with nbviewer.org.</b></div><div class=\"sk-container\" hidden><div class=\"sk-item\"><div class=\"sk-estimator sk-toggleable\"><input class=\"sk-toggleable__control sk-hidden--visually\" id=\"sk-estimator-id-10\" type=\"checkbox\" checked><label for=\"sk-estimator-id-10\" class=\"sk-toggleable__label sk-toggleable__label-arrow\">MLPRegressor</label><div class=\"sk-toggleable__content\"><pre>MLPRegressor(early_stopping=True, hidden_layer_sizes=(512, 128),\n",
       "             random_state=42)</pre></div></div></div></div></div>"
      ]
     },
     "execution_count": 147,
     "metadata": {},
     "output_type": "execute_result"
    }
   ],
   "execution_count": 147
  },
  {
   "metadata": {},
   "cell_type": "markdown",
   "source": "## Evaluation",
   "id": "8a3f8c98703591c6"
  },
  {
   "metadata": {
    "ExecuteTime": {
     "end_time": "2025-04-19T13:44:06.392059Z",
     "start_time": "2025-04-19T13:44:06.376461Z"
    }
   },
   "cell_type": "code",
   "source": [
    "import wandb\n",
    "from collections import defaultdict\n",
    "from src.evaluation import RankingEvaluator\n",
    "import pandas as pd"
   ],
   "id": "5254b8874d3c671b",
   "outputs": [],
   "execution_count": 112
  },
  {
   "metadata": {
    "ExecuteTime": {
     "end_time": "2025-04-18T21:38:35.786801Z",
     "start_time": "2025-04-18T21:38:35.771688Z"
    }
   },
   "cell_type": "code",
   "source": [
    "wandb_config = defaultdict(dict)\n",
    "\n",
    "wandb_config['preprocessing'] = preprocessor.__dict__\n",
    "\n",
    "wandb_config['vectorizer']['vectorization_type'] = 'embeddings'\n",
    "wandb_config['vectorizer']['embeddings_pooling'] = EMBEDDINGS_POOLING\n",
    "\n",
    "wandb_config['regression_model'] = defaultdict(dict)\n",
    "wandb_config['regression_model']['regressor_type'] = str(regression_model)\n",
    "wandb_config['regression_model']['n_features'] = regression_model.n_features_in_\n",
    "wandb_config['regression_model']['params'][str(regression_model)] = regression_model.get_params()\n",
    "\n",
    "wandb_config['model_name'] = MODEL_NAME\n",
    "\n",
    "wandb_config"
   ],
   "id": "7ac4f77daa4fce72",
   "outputs": [
    {
     "data": {
      "text/plain": [
       "defaultdict(dict,\n",
       "            {'preprocessing': {'question_columns': ['question_title',\n",
       "               'question_body'],\n",
       "              'answer_columns': ['answer_body'],\n",
       "              'preserve_html_tags': ['code']},\n",
       "             'vectorizer': {'vectorization_type': 'embeddings',\n",
       "              'embeddings_pooling': 'mean'},\n",
       "             'regression_model': defaultdict(dict,\n",
       "                         {'regressor_type': 'LinearRegression()',\n",
       "                          'n_features': 1536,\n",
       "                          'params': {'LinearRegression()': {'copy_X': True,\n",
       "                            'fit_intercept': True,\n",
       "                            'n_jobs': None,\n",
       "                            'positive': False}}}),\n",
       "             'model_name': 'SOBertBase'})"
      ]
     },
     "execution_count": 18,
     "metadata": {},
     "output_type": "execute_result"
    }
   ],
   "execution_count": 18
  },
  {
   "metadata": {
    "ExecuteTime": {
     "end_time": "2025-04-18T21:38:37.985074Z",
     "start_time": "2025-04-18T21:38:35.812602Z"
    }
   },
   "cell_type": "code",
   "source": [
    "run = wandb.init(\n",
    "    project='dalip-stackoverflow-answer-ranking',\n",
    "    config=wandb_config,\n",
    "    tags=['embeddings', 'regression']\n",
    ")"
   ],
   "id": "239d090d2b1753ee",
   "outputs": [
    {
     "name": "stderr",
     "output_type": "stream",
     "text": [
      "\u001B[34m\u001B[1mwandb\u001B[0m: Using wandb-core as the SDK backend.  Please refer to https://wandb.me/wandb-core for more information.\n",
      "\u001B[34m\u001B[1mwandb\u001B[0m: Currently logged in as: \u001B[33mbunnynobugs\u001B[0m to \u001B[32mhttps://api.wandb.ai\u001B[0m. Use \u001B[1m`wandb login --relogin`\u001B[0m to force relogin\n"
     ]
    },
    {
     "data": {
      "text/plain": [
       "<IPython.core.display.HTML object>"
      ],
      "text/html": [
       "Tracking run with wandb version 0.19.9"
      ]
     },
     "metadata": {},
     "output_type": "display_data"
    },
    {
     "data": {
      "text/plain": [
       "<IPython.core.display.HTML object>"
      ],
      "text/html": [
       "Run data is saved locally in <code>C:\\Users\\User\\Женя\\GitHub\\stack-overflow-answers-assessment\\wandb\\run-20250419_003836-buxctkki</code>"
      ]
     },
     "metadata": {},
     "output_type": "display_data"
    },
    {
     "data": {
      "text/plain": [
       "<IPython.core.display.HTML object>"
      ],
      "text/html": [
       "Syncing run <strong><a href='https://wandb.ai/bunnynobugs/dalip-stackoverflow-answer-ranking/runs/buxctkki' target=\"_blank\">stellar-meadow-25</a></strong> to <a href='https://wandb.ai/bunnynobugs/dalip-stackoverflow-answer-ranking' target=\"_blank\">Weights & Biases</a> (<a href='https://wandb.me/developer-guide' target=\"_blank\">docs</a>)<br>"
      ]
     },
     "metadata": {},
     "output_type": "display_data"
    },
    {
     "data": {
      "text/plain": [
       "<IPython.core.display.HTML object>"
      ],
      "text/html": [
       " View project at <a href='https://wandb.ai/bunnynobugs/dalip-stackoverflow-answer-ranking' target=\"_blank\">https://wandb.ai/bunnynobugs/dalip-stackoverflow-answer-ranking</a>"
      ]
     },
     "metadata": {},
     "output_type": "display_data"
    },
    {
     "data": {
      "text/plain": [
       "<IPython.core.display.HTML object>"
      ],
      "text/html": [
       " View run at <a href='https://wandb.ai/bunnynobugs/dalip-stackoverflow-answer-ranking/runs/buxctkki' target=\"_blank\">https://wandb.ai/bunnynobugs/dalip-stackoverflow-answer-ranking/runs/buxctkki</a>"
      ]
     },
     "metadata": {},
     "output_type": "display_data"
    }
   ],
   "execution_count": 19
  },
  {
   "metadata": {},
   "cell_type": "markdown",
   "source": "### Compute metrics",
   "id": "eaed8e21d84e6ddc"
  },
  {
   "metadata": {
    "ExecuteTime": {
     "end_time": "2025-04-19T14:35:07.574708Z",
     "start_time": "2025-04-19T14:35:07.548324Z"
    }
   },
   "cell_type": "code",
   "source": "targets = hf_dataset['test'][TARGET_COL]",
   "id": "e5943f6f5f520c10",
   "outputs": [],
   "execution_count": 148
  },
  {
   "metadata": {
    "ExecuteTime": {
     "end_time": "2025-04-19T14:35:09.386631Z",
     "start_time": "2025-04-19T14:35:09.156735Z"
    }
   },
   "cell_type": "code",
   "source": "predictions = regression_model.predict(X_test)",
   "id": "14cd98aaeaf130fb",
   "outputs": [],
   "execution_count": 149
  },
  {
   "metadata": {
    "ExecuteTime": {
     "end_time": "2025-04-19T14:35:11.367277Z",
     "start_time": "2025-04-19T14:35:11.351679Z"
    }
   },
   "cell_type": "code",
   "source": "test_question_ids = hf_dataset['test']['question_id']",
   "id": "d62aa7700d4a2b52",
   "outputs": [],
   "execution_count": 150
  },
  {
   "metadata": {
    "ExecuteTime": {
     "end_time": "2025-04-19T14:35:13.194298Z",
     "start_time": "2025-04-19T14:35:13.178646Z"
    }
   },
   "cell_type": "code",
   "source": [
    "evaluator = RankingEvaluator(ndcg_k=list(range(1, 11)),\n",
    "                             ndcg_gain_func='exponential', ndcg_discount_func='logarithmic')"
   ],
   "id": "253f3c7b42c9f90b",
   "outputs": [],
   "execution_count": 151
  },
  {
   "metadata": {
    "ExecuteTime": {
     "end_time": "2025-04-19T14:35:15.650804Z",
     "start_time": "2025-04-19T14:35:15.142380Z"
    }
   },
   "cell_type": "code",
   "source": [
    "metrics = evaluator(targets, predictions, test_question_ids)\n",
    "if TARGET_COL == 'answer_log_normalized_score':\n",
    "    metrics.pop('mae')\n",
    "metrics"
   ],
   "id": "8e9033fd8ab9813d",
   "outputs": [
    {
     "data": {
      "text/plain": [
       "{'ndcg@1_g.exponential_d.logarithmic': 0.4830207522798136,\n",
       " 'ndcg@2_g.exponential_d.logarithmic': 0.5882704991821809,\n",
       " 'ndcg@3_g.exponential_d.logarithmic': 0.6734547567129939,\n",
       " 'ndcg@4_g.exponential_d.logarithmic': 0.7356214891675508,\n",
       " 'ndcg@5_g.exponential_d.logarithmic': 0.7582557664929953,\n",
       " 'ndcg@6_g.exponential_d.logarithmic': 0.7694040576011398,\n",
       " 'ndcg@7_g.exponential_d.logarithmic': 0.7736315586532834,\n",
       " 'ndcg@8_g.exponential_d.logarithmic': 0.7757015575461668,\n",
       " 'ndcg@9_g.exponential_d.logarithmic': 0.7772503209255999,\n",
       " 'ndcg@10_g.exponential_d.logarithmic': 0.7777891596216847,\n",
       " 'mae': 2.548447059053511,\n",
       " 'hit_rate@1': 0.3593830334190231}"
      ]
     },
     "execution_count": 152,
     "metadata": {},
     "output_type": "execute_result"
    }
   ],
   "execution_count": 152
  },
  {
   "metadata": {
    "ExecuteTime": {
     "end_time": "2025-04-18T21:38:38.853951Z",
     "start_time": "2025-04-18T21:38:38.840424Z"
    }
   },
   "cell_type": "code",
   "source": "wandb.log(metrics)",
   "id": "abc0ed128e1dc9da",
   "outputs": [],
   "execution_count": 25
  },
  {
   "metadata": {},
   "cell_type": "markdown",
   "source": "### Log predictions",
   "id": "958d2222e0293712"
  },
  {
   "metadata": {
    "ExecuteTime": {
     "end_time": "2025-04-18T21:38:38.891206Z",
     "start_time": "2025-04-18T21:38:38.870849Z"
    }
   },
   "cell_type": "code",
   "source": [
    "predictions_df = pd.DataFrame()\n",
    "predictions_df['answer_id'] = hf_dataset['test']['answer_id']\n",
    "predictions_df['answer_normalized_score'] = hf_dataset['test']['answer_normalized_score']\n",
    "predictions_df['predicted_score'] = predictions"
   ],
   "id": "2bf6a7ed48181a23",
   "outputs": [],
   "execution_count": 26
  },
  {
   "metadata": {
    "ExecuteTime": {
     "end_time": "2025-04-18T21:38:40.343872Z",
     "start_time": "2025-04-18T21:38:38.916225Z"
    }
   },
   "cell_type": "code",
   "source": "wandb.log({'predictions_table': wandb.Table(dataframe=predictions_df)})",
   "id": "34fd74d62d8e5133",
   "outputs": [],
   "execution_count": 27
  },
  {
   "metadata": {
    "ExecuteTime": {
     "end_time": "2025-04-18T21:38:42.505124Z",
     "start_time": "2025-04-18T21:38:40.372922Z"
    }
   },
   "cell_type": "code",
   "source": "run.finish()",
   "id": "f1659167352d5d22",
   "outputs": [
    {
     "data": {
      "text/plain": [
       "<IPython.core.display.HTML object>"
      ],
      "text/html": []
     },
     "metadata": {},
     "output_type": "display_data"
    },
    {
     "data": {
      "text/plain": [
       "<IPython.core.display.HTML object>"
      ],
      "text/html": [
       "<br>    <style><br>        .wandb-row {<br>            display: flex;<br>            flex-direction: row;<br>            flex-wrap: wrap;<br>            justify-content: flex-start;<br>            width: 100%;<br>        }<br>        .wandb-col {<br>            display: flex;<br>            flex-direction: column;<br>            flex-basis: 100%;<br>            flex: 1;<br>            padding: 10px;<br>        }<br>    </style><br><div class=\"wandb-row\"><div class=\"wandb-col\"><h3>Run history:</h3><br/><table class=\"wandb\"><tr><td>hit_rate@1</td><td>▁</td></tr><tr><td>mae</td><td>▁</td></tr><tr><td>ndcg@10_g.exponential_d.logarithmic</td><td>▁</td></tr><tr><td>ndcg@1_g.exponential_d.logarithmic</td><td>▁</td></tr><tr><td>ndcg@2_g.exponential_d.logarithmic</td><td>▁</td></tr><tr><td>ndcg@3_g.exponential_d.logarithmic</td><td>▁</td></tr><tr><td>ndcg@4_g.exponential_d.logarithmic</td><td>▁</td></tr><tr><td>ndcg@5_g.exponential_d.logarithmic</td><td>▁</td></tr><tr><td>ndcg@6_g.exponential_d.logarithmic</td><td>▁</td></tr><tr><td>ndcg@7_g.exponential_d.logarithmic</td><td>▁</td></tr><tr><td>ndcg@8_g.exponential_d.logarithmic</td><td>▁</td></tr><tr><td>ndcg@9_g.exponential_d.logarithmic</td><td>▁</td></tr></table><br/></div><div class=\"wandb-col\"><h3>Run summary:</h3><br/><table class=\"wandb\"><tr><td>hit_rate@1</td><td>0.36504</td></tr><tr><td>mae</td><td>3.03446</td></tr><tr><td>ndcg@10_g.exponential_d.logarithmic</td><td>0.7806</td></tr><tr><td>ndcg@1_g.exponential_d.logarithmic</td><td>0.48894</td></tr><tr><td>ndcg@2_g.exponential_d.logarithmic</td><td>0.58875</td></tr><tr><td>ndcg@3_g.exponential_d.logarithmic</td><td>0.67326</td></tr><tr><td>ndcg@4_g.exponential_d.logarithmic</td><td>0.73987</td></tr><tr><td>ndcg@5_g.exponential_d.logarithmic</td><td>0.76191</td></tr><tr><td>ndcg@6_g.exponential_d.logarithmic</td><td>0.77085</td></tr><tr><td>ndcg@7_g.exponential_d.logarithmic</td><td>0.77542</td></tr><tr><td>ndcg@8_g.exponential_d.logarithmic</td><td>0.77811</td></tr><tr><td>ndcg@9_g.exponential_d.logarithmic</td><td>0.77952</td></tr></table><br/></div></div>"
      ]
     },
     "metadata": {},
     "output_type": "display_data"
    },
    {
     "data": {
      "text/plain": [
       "<IPython.core.display.HTML object>"
      ],
      "text/html": [
       " View run <strong style=\"color:#cdcd00\">stellar-meadow-25</strong> at: <a href='https://wandb.ai/bunnynobugs/dalip-stackoverflow-answer-ranking/runs/buxctkki' target=\"_blank\">https://wandb.ai/bunnynobugs/dalip-stackoverflow-answer-ranking/runs/buxctkki</a><br> View project at: <a href='https://wandb.ai/bunnynobugs/dalip-stackoverflow-answer-ranking' target=\"_blank\">https://wandb.ai/bunnynobugs/dalip-stackoverflow-answer-ranking</a><br>Synced 5 W&B file(s), 1 media file(s), 2 artifact file(s) and 0 other file(s)"
      ]
     },
     "metadata": {},
     "output_type": "display_data"
    },
    {
     "data": {
      "text/plain": [
       "<IPython.core.display.HTML object>"
      ],
      "text/html": [
       "Find logs at: <code>.\\wandb\\run-20250419_003836-buxctkki\\logs</code>"
      ]
     },
     "metadata": {},
     "output_type": "display_data"
    }
   ],
   "execution_count": 28
  },
  {
   "metadata": {
    "ExecuteTime": {
     "end_time": "2025-04-18T21:38:42.551053Z",
     "start_time": "2025-04-18T21:38:42.541604Z"
    }
   },
   "cell_type": "code",
   "source": "",
   "id": "f7f765e33b74a391",
   "outputs": [],
   "execution_count": null
  }
 ],
 "metadata": {
  "kernelspec": {
   "display_name": "Python 3",
   "language": "python",
   "name": "python3"
  },
  "language_info": {
   "codemirror_mode": {
    "name": "ipython",
    "version": 2
   },
   "file_extension": ".py",
   "mimetype": "text/x-python",
   "name": "python",
   "nbconvert_exporter": "python",
   "pygments_lexer": "ipython2",
   "version": "2.7.6"
  }
 },
 "nbformat": 4,
 "nbformat_minor": 5
}
