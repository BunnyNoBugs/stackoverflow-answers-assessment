{
 "cells": [
  {
   "metadata": {},
   "cell_type": "markdown",
   "source": "# Bi-Encoder ranking model",
   "id": "9bc0d925463af42e"
  },
  {
   "metadata": {},
   "cell_type": "markdown",
   "source": "## Data loading",
   "id": "f83bc7af753be01f"
  },
  {
   "metadata": {
    "collapsed": true,
    "ExecuteTime": {
     "end_time": "2025-05-22T13:16:22.371368Z",
     "start_time": "2025-05-22T13:16:20.092993Z"
    }
   },
   "cell_type": "code",
   "source": [
    "from datasets import load_from_disk\n",
    "from src.utils.config_management import CONFIG"
   ],
   "id": "initial_id",
   "outputs": [],
   "execution_count": 1
  },
  {
   "metadata": {
    "ExecuteTime": {
     "end_time": "2025-05-22T13:16:24.025892Z",
     "start_time": "2025-05-22T13:16:23.620635Z"
    }
   },
   "cell_type": "code",
   "source": "hf_dataset = load_from_disk(CONFIG['paths']['data']['dalip_hf_dataset'])",
   "id": "8b860895efd9c9e6",
   "outputs": [],
   "execution_count": 2
  },
  {
   "metadata": {
    "ExecuteTime": {
     "end_time": "2025-05-22T13:16:24.057812Z",
     "start_time": "2025-05-22T13:16:24.042785Z"
    }
   },
   "cell_type": "code",
   "source": "hf_dataset",
   "id": "1d2094a8ab250814",
   "outputs": [
    {
     "data": {
      "text/plain": [
       "DatasetDict({\n",
       "    train: Dataset({\n",
       "        features: ['answer_id', 'question_id', 'answer_creation_date', 'answer_score', 'answer_normalized_score', 'answer_log_normalized_score', 'answer_body', 'answer_last_edit_date', 'answer_last_activity_date', 'answer_comment_count', 'answer_community_owned_date', 'question_creation_date', 'question_score', 'question_view_count', 'question_body', 'question_last_edit_date', 'question_last_activity_date', 'question_title', 'question_tags', 'question_answer_count', 'question_comment_count', 'question_favorite_count', 'question_closed_date', 'question_community_owned_date', 'answer_accepted'],\n",
       "        num_rows: 42700\n",
       "    })\n",
       "    test: Dataset({\n",
       "        features: ['answer_id', 'question_id', 'answer_creation_date', 'answer_score', 'answer_normalized_score', 'answer_log_normalized_score', 'answer_body', 'answer_last_edit_date', 'answer_last_activity_date', 'answer_comment_count', 'answer_community_owned_date', 'question_creation_date', 'question_score', 'question_view_count', 'question_body', 'question_last_edit_date', 'question_last_activity_date', 'question_title', 'question_tags', 'question_answer_count', 'question_comment_count', 'question_favorite_count', 'question_closed_date', 'question_community_owned_date', 'answer_accepted'],\n",
       "        num_rows: 10563\n",
       "    })\n",
       "})"
      ]
     },
     "execution_count": 3,
     "metadata": {},
     "output_type": "execute_result"
    }
   ],
   "execution_count": 3
  },
  {
   "metadata": {},
   "cell_type": "markdown",
   "source": "## Data preprocessing",
   "id": "d8d1b6fc0ab91a4f"
  },
  {
   "metadata": {
    "ExecuteTime": {
     "end_time": "2025-05-22T13:16:24.296034Z",
     "start_time": "2025-05-22T13:16:24.074793Z"
    }
   },
   "cell_type": "code",
   "source": "from src.utils.text_preprocessing import Preprocessor",
   "id": "bde6798d564e3ca4",
   "outputs": [],
   "execution_count": 4
  },
  {
   "metadata": {
    "ExecuteTime": {
     "end_time": "2025-05-22T13:16:24.327693Z",
     "start_time": "2025-05-22T13:16:24.312936Z"
    }
   },
   "cell_type": "code",
   "source": "preprocessor = Preprocessor(preserve_html_tags=['code'])",
   "id": "19aa545a200e9da4",
   "outputs": [],
   "execution_count": 5
  },
  {
   "metadata": {
    "ExecuteTime": {
     "end_time": "2025-05-22T13:16:25.143287Z",
     "start_time": "2025-05-22T13:16:24.343607Z"
    }
   },
   "cell_type": "code",
   "source": "hf_dataset = hf_dataset.map(preprocessor, batched=True)",
   "id": "c31946c038001583",
   "outputs": [],
   "execution_count": 6
  },
  {
   "metadata": {
    "ExecuteTime": {
     "end_time": "2025-05-22T13:16:25.175287Z",
     "start_time": "2025-05-22T13:16:25.160282Z"
    }
   },
   "cell_type": "code",
   "source": "hf_dataset",
   "id": "bb45c826ddfb2120",
   "outputs": [
    {
     "data": {
      "text/plain": [
       "DatasetDict({\n",
       "    train: Dataset({\n",
       "        features: ['answer_id', 'question_id', 'answer_creation_date', 'answer_score', 'answer_normalized_score', 'answer_log_normalized_score', 'answer_body', 'answer_last_edit_date', 'answer_last_activity_date', 'answer_comment_count', 'answer_community_owned_date', 'question_creation_date', 'question_score', 'question_view_count', 'question_body', 'question_last_edit_date', 'question_last_activity_date', 'question_title', 'question_tags', 'question_answer_count', 'question_comment_count', 'question_favorite_count', 'question_closed_date', 'question_community_owned_date', 'answer_accepted', 'question_text', 'answer_text'],\n",
       "        num_rows: 42700\n",
       "    })\n",
       "    test: Dataset({\n",
       "        features: ['answer_id', 'question_id', 'answer_creation_date', 'answer_score', 'answer_normalized_score', 'answer_log_normalized_score', 'answer_body', 'answer_last_edit_date', 'answer_last_activity_date', 'answer_comment_count', 'answer_community_owned_date', 'question_creation_date', 'question_score', 'question_view_count', 'question_body', 'question_last_edit_date', 'question_last_activity_date', 'question_title', 'question_tags', 'question_answer_count', 'question_comment_count', 'question_favorite_count', 'question_closed_date', 'question_community_owned_date', 'answer_accepted', 'question_text', 'answer_text'],\n",
       "        num_rows: 10563\n",
       "    })\n",
       "})"
      ]
     },
     "execution_count": 7,
     "metadata": {},
     "output_type": "execute_result"
    }
   ],
   "execution_count": 7
  },
  {
   "metadata": {},
   "cell_type": "markdown",
   "source": "## Model training",
   "id": "f2b8dfad2083040b"
  },
  {
   "metadata": {
    "ExecuteTime": {
     "end_time": "2025-05-22T13:16:25.222705Z",
     "start_time": "2025-05-22T13:16:25.208706Z"
    }
   },
   "cell_type": "code",
   "source": [
    "MODEL_PATH = 'mmukh/SOBertLarge'\n",
    "MODEL_NAME = MODEL_PATH.split('/')[-1]\n",
    "EMBEDDINGS_POOLING = 'mean'\n",
    "EMBEDDINGS_POSTPROCESSING = 'normalize'"
   ],
   "id": "8fb29a503f411c80",
   "outputs": [],
   "execution_count": 8
  },
  {
   "metadata": {},
   "cell_type": "markdown",
   "source": "### Load embeddings",
   "id": "b9db68ebb066c836"
  },
  {
   "metadata": {
    "ExecuteTime": {
     "end_time": "2025-05-22T13:16:25.254735Z",
     "start_time": "2025-05-22T13:16:25.239709Z"
    }
   },
   "cell_type": "code",
   "source": [
    "import pickle\n",
    "import os"
   ],
   "id": "2d124b47158ba08",
   "outputs": [],
   "execution_count": 9
  },
  {
   "metadata": {
    "ExecuteTime": {
     "end_time": "2025-05-22T13:16:25.286317Z",
     "start_time": "2025-05-22T13:16:25.271736Z"
    }
   },
   "cell_type": "code",
   "source": [
    "embeddings_path = os.path.join(CONFIG['paths']['models']['dalip_embeddings'],\n",
    "                               f\"embeddings_{MODEL_NAME}_{EMBEDDINGS_POOLING}.pickle\")"
   ],
   "id": "1d53a7dc828a8e8f",
   "outputs": [],
   "execution_count": 10
  },
  {
   "metadata": {
    "ExecuteTime": {
     "end_time": "2025-05-22T13:16:39.474797Z",
     "start_time": "2025-05-22T13:16:25.302836Z"
    }
   },
   "cell_type": "code",
   "source": [
    "with open(embeddings_path, 'rb') as f:\n",
    "    embeddings = pickle.load(f)\n",
    "\n",
    "# if EMBEDDINGS_POSTPROCESSING == 'normalize':\n",
    "#     embeddings['train']['question_embeddings'] = torch.nn.functional.normalize(embeddings['train']['question_embeddings'])\n",
    "#     embeddings['train']['answer_embeddings'] = torch.nn.functional.normalize(embeddings['train']['answer_embeddings'])\n",
    "#     embeddings['test']['question_embeddings'] = torch.nn.functional.normalize(embeddings['test']['question_embeddings'])\n",
    "#     embeddings['test']['answer_embeddings'] = torch.nn.functional.normalize(embeddings['test']['answer_embeddings'])"
   ],
   "id": "477fd01b03a93009",
   "outputs": [],
   "execution_count": 11
  },
  {
   "metadata": {},
   "cell_type": "markdown",
   "source": "### Train ranker",
   "id": "e01a1cf187b23113"
  },
  {
   "metadata": {
    "ExecuteTime": {
     "end_time": "2025-05-22T13:16:40.681117Z",
     "start_time": "2025-05-22T13:16:39.709004Z"
    }
   },
   "cell_type": "code",
   "source": [
    "import torch\n",
    "import pandas as pd\n",
    "import xgboost as xgb"
   ],
   "id": "183ebda9ae4bfd6",
   "outputs": [],
   "execution_count": 12
  },
  {
   "metadata": {
    "ExecuteTime": {
     "end_time": "2025-05-22T13:16:56.010075Z",
     "start_time": "2025-05-22T13:16:40.713530Z"
    }
   },
   "cell_type": "code",
   "source": [
    "train_targets_df = pd.DataFrame(hf_dataset['train']).select_dtypes(exclude=['object'])\n",
    "\n",
    "train_idxs_sorted = train_targets_df.sort_values('question_id').index\n",
    "train_targets_df = train_targets_df.loc[train_idxs_sorted]"
   ],
   "id": "9dd8b10023baf595",
   "outputs": [],
   "execution_count": 13
  },
  {
   "metadata": {
    "ExecuteTime": {
     "end_time": "2025-05-22T13:16:56.341242Z",
     "start_time": "2025-05-22T13:16:56.042981Z"
    }
   },
   "cell_type": "code",
   "source": [
    "X_train = torch.cat([embeddings['train']['question_embeddings'], embeddings['train']['answer_embeddings']], dim=1)\n",
    "X_train = X_train[train_idxs_sorted]\n",
    "# X_train = torch.nn.functional.normalize(X_train)\n",
    "X_test = torch.cat([embeddings['test']['question_embeddings'], embeddings['test']['answer_embeddings']], dim=1)\n",
    "# X_test = torch.nn.functional.normalize(X_test)"
   ],
   "id": "4e3fc5c9c2535850",
   "outputs": [],
   "execution_count": 14
  },
  {
   "metadata": {
    "ExecuteTime": {
     "end_time": "2025-05-22T13:16:56.404239Z",
     "start_time": "2025-05-22T13:16:56.375215Z"
    }
   },
   "cell_type": "code",
   "source": "train_targets_df['answer_reverse_rank'] = train_targets_df.groupby('question_id')['answer_score'].rank(method='dense', ascending=True)",
   "id": "3970e8649f7718a5",
   "outputs": [],
   "execution_count": 15
  },
  {
   "metadata": {
    "ExecuteTime": {
     "end_time": "2025-05-22T13:22:09.729698Z",
     "start_time": "2025-05-22T13:21:55.400786Z"
    }
   },
   "cell_type": "code",
   "source": [
    "TARGET_COL = 'answer_normalized_score'\n",
    "\n",
    "model = xgb.XGBRanker(\n",
    "    n_estimators=100,\n",
    "    objective='rank:ndcg',\n",
    "    lambdarank_pair_method='mean',\n",
    "    lambdarank_num_pair_per_sample=100,\n",
    "    ndcg_exp_gain=False,\n",
    "    device='cuda',\n",
    ")\n",
    "model.fit(X_train, train_targets_df[TARGET_COL], qid=train_targets_df['question_id'])"
   ],
   "id": "523c5cb30b7814e2",
   "outputs": [
    {
     "data": {
      "text/plain": [
       "XGBRanker(base_score=None, booster=None, callbacks=None, colsample_bylevel=None,\n",
       "          colsample_bynode=None, colsample_bytree=None, device='cuda',\n",
       "          early_stopping_rounds=None, enable_categorical=False,\n",
       "          eval_metric=None, feature_types=None, gamma=None, grow_policy=None,\n",
       "          importance_type=None, interaction_constraints=None,\n",
       "          lambdarank_num_pair_per_sample=100, lambdarank_pair_method='mean',\n",
       "          learning_rate=None, max_bin=None, max_cat_threshold=None,\n",
       "          max_cat_to_onehot=None, max_delta_step=None, max_depth=None,\n",
       "          max_leaves=None, min_child_weight=None, missing=nan,\n",
       "          monotone_constraints=None, multi_strategy=None, n_estimators=100,\n",
       "          n_jobs=None, ...)"
      ],
      "text/html": [
       "<style>#sk-container-id-1 {color: black;background-color: white;}#sk-container-id-1 pre{padding: 0;}#sk-container-id-1 div.sk-toggleable {background-color: white;}#sk-container-id-1 label.sk-toggleable__label {cursor: pointer;display: block;width: 100%;margin-bottom: 0;padding: 0.3em;box-sizing: border-box;text-align: center;}#sk-container-id-1 label.sk-toggleable__label-arrow:before {content: \"▸\";float: left;margin-right: 0.25em;color: #696969;}#sk-container-id-1 label.sk-toggleable__label-arrow:hover:before {color: black;}#sk-container-id-1 div.sk-estimator:hover label.sk-toggleable__label-arrow:before {color: black;}#sk-container-id-1 div.sk-toggleable__content {max-height: 0;max-width: 0;overflow: hidden;text-align: left;background-color: #f0f8ff;}#sk-container-id-1 div.sk-toggleable__content pre {margin: 0.2em;color: black;border-radius: 0.25em;background-color: #f0f8ff;}#sk-container-id-1 input.sk-toggleable__control:checked~div.sk-toggleable__content {max-height: 200px;max-width: 100%;overflow: auto;}#sk-container-id-1 input.sk-toggleable__control:checked~label.sk-toggleable__label-arrow:before {content: \"▾\";}#sk-container-id-1 div.sk-estimator input.sk-toggleable__control:checked~label.sk-toggleable__label {background-color: #d4ebff;}#sk-container-id-1 div.sk-label input.sk-toggleable__control:checked~label.sk-toggleable__label {background-color: #d4ebff;}#sk-container-id-1 input.sk-hidden--visually {border: 0;clip: rect(1px 1px 1px 1px);clip: rect(1px, 1px, 1px, 1px);height: 1px;margin: -1px;overflow: hidden;padding: 0;position: absolute;width: 1px;}#sk-container-id-1 div.sk-estimator {font-family: monospace;background-color: #f0f8ff;border: 1px dotted black;border-radius: 0.25em;box-sizing: border-box;margin-bottom: 0.5em;}#sk-container-id-1 div.sk-estimator:hover {background-color: #d4ebff;}#sk-container-id-1 div.sk-parallel-item::after {content: \"\";width: 100%;border-bottom: 1px solid gray;flex-grow: 1;}#sk-container-id-1 div.sk-label:hover label.sk-toggleable__label {background-color: #d4ebff;}#sk-container-id-1 div.sk-serial::before {content: \"\";position: absolute;border-left: 1px solid gray;box-sizing: border-box;top: 0;bottom: 0;left: 50%;z-index: 0;}#sk-container-id-1 div.sk-serial {display: flex;flex-direction: column;align-items: center;background-color: white;padding-right: 0.2em;padding-left: 0.2em;position: relative;}#sk-container-id-1 div.sk-item {position: relative;z-index: 1;}#sk-container-id-1 div.sk-parallel {display: flex;align-items: stretch;justify-content: center;background-color: white;position: relative;}#sk-container-id-1 div.sk-item::before, #sk-container-id-1 div.sk-parallel-item::before {content: \"\";position: absolute;border-left: 1px solid gray;box-sizing: border-box;top: 0;bottom: 0;left: 50%;z-index: -1;}#sk-container-id-1 div.sk-parallel-item {display: flex;flex-direction: column;z-index: 1;position: relative;background-color: white;}#sk-container-id-1 div.sk-parallel-item:first-child::after {align-self: flex-end;width: 50%;}#sk-container-id-1 div.sk-parallel-item:last-child::after {align-self: flex-start;width: 50%;}#sk-container-id-1 div.sk-parallel-item:only-child::after {width: 0;}#sk-container-id-1 div.sk-dashed-wrapped {border: 1px dashed gray;margin: 0 0.4em 0.5em 0.4em;box-sizing: border-box;padding-bottom: 0.4em;background-color: white;}#sk-container-id-1 div.sk-label label {font-family: monospace;font-weight: bold;display: inline-block;line-height: 1.2em;}#sk-container-id-1 div.sk-label-container {text-align: center;}#sk-container-id-1 div.sk-container {/* jupyter's `normalize.less` sets `[hidden] { display: none; }` but bootstrap.min.css set `[hidden] { display: none !important; }` so we also need the `!important` here to be able to override the default hidden behavior on the sphinx rendered scikit-learn.org. See: https://github.com/scikit-learn/scikit-learn/issues/21755 */display: inline-block !important;position: relative;}#sk-container-id-1 div.sk-text-repr-fallback {display: none;}</style><div id=\"sk-container-id-1\" class=\"sk-top-container\"><div class=\"sk-text-repr-fallback\"><pre>XGBRanker(base_score=None, booster=None, callbacks=None, colsample_bylevel=None,\n",
       "          colsample_bynode=None, colsample_bytree=None, device=&#x27;cuda&#x27;,\n",
       "          early_stopping_rounds=None, enable_categorical=False,\n",
       "          eval_metric=None, feature_types=None, gamma=None, grow_policy=None,\n",
       "          importance_type=None, interaction_constraints=None,\n",
       "          lambdarank_num_pair_per_sample=100, lambdarank_pair_method=&#x27;mean&#x27;,\n",
       "          learning_rate=None, max_bin=None, max_cat_threshold=None,\n",
       "          max_cat_to_onehot=None, max_delta_step=None, max_depth=None,\n",
       "          max_leaves=None, min_child_weight=None, missing=nan,\n",
       "          monotone_constraints=None, multi_strategy=None, n_estimators=100,\n",
       "          n_jobs=None, ...)</pre><b>In a Jupyter environment, please rerun this cell to show the HTML representation or trust the notebook. <br />On GitHub, the HTML representation is unable to render, please try loading this page with nbviewer.org.</b></div><div class=\"sk-container\" hidden><div class=\"sk-item\"><div class=\"sk-estimator sk-toggleable\"><input class=\"sk-toggleable__control sk-hidden--visually\" id=\"sk-estimator-id-1\" type=\"checkbox\" checked><label for=\"sk-estimator-id-1\" class=\"sk-toggleable__label sk-toggleable__label-arrow\">XGBRanker</label><div class=\"sk-toggleable__content\"><pre>XGBRanker(base_score=None, booster=None, callbacks=None, colsample_bylevel=None,\n",
       "          colsample_bynode=None, colsample_bytree=None, device=&#x27;cuda&#x27;,\n",
       "          early_stopping_rounds=None, enable_categorical=False,\n",
       "          eval_metric=None, feature_types=None, gamma=None, grow_policy=None,\n",
       "          importance_type=None, interaction_constraints=None,\n",
       "          lambdarank_num_pair_per_sample=100, lambdarank_pair_method=&#x27;mean&#x27;,\n",
       "          learning_rate=None, max_bin=None, max_cat_threshold=None,\n",
       "          max_cat_to_onehot=None, max_delta_step=None, max_depth=None,\n",
       "          max_leaves=None, min_child_weight=None, missing=nan,\n",
       "          monotone_constraints=None, multi_strategy=None, n_estimators=100,\n",
       "          n_jobs=None, ...)</pre></div></div></div></div></div>"
      ]
     },
     "execution_count": 17,
     "metadata": {},
     "output_type": "execute_result"
    }
   ],
   "execution_count": 17
  },
  {
   "metadata": {},
   "cell_type": "markdown",
   "source": "## Evaluation",
   "id": "8a3f8c98703591c6"
  },
  {
   "metadata": {
    "ExecuteTime": {
     "end_time": "2025-05-22T13:22:13.744189Z",
     "start_time": "2025-05-22T13:22:09.968531Z"
    }
   },
   "cell_type": "code",
   "source": [
    "import wandb\n",
    "from collections import defaultdict\n",
    "from src.evaluation import RankingEvaluator\n",
    "import pandas as pd"
   ],
   "id": "5254b8874d3c671b",
   "outputs": [],
   "execution_count": 18
  },
  {
   "metadata": {
    "ExecuteTime": {
     "end_time": "2025-05-14T18:38:05.155622Z",
     "start_time": "2025-05-14T18:38:05.140805Z"
    }
   },
   "cell_type": "code",
   "source": [
    "wandb_config = defaultdict(dict)\n",
    "\n",
    "wandb_config['preprocessing'] = preprocessor.__dict__\n",
    "\n",
    "wandb_config['vectorizer']['vectorization_type'] = 'embeddings'\n",
    "wandb_config['vectorizer']['embeddings_pooling'] = EMBEDDINGS_POOLING\n",
    "\n",
    "wandb_config['ranking_model'] = defaultdict(dict)\n",
    "wandb_config['ranking_model']['ranker_type'] = type(model).__name__\n",
    "wandb_config['ranking_model']['n_features'] = model.n_features_in_\n",
    "wandb_config['ranking_model']['params'][type(model).__name__] = model.get_params()\n",
    "\n",
    "wandb_config['model_name'] = MODEL_NAME\n",
    "\n",
    "wandb_config"
   ],
   "id": "7ac4f77daa4fce72",
   "outputs": [
    {
     "data": {
      "text/plain": [
       "defaultdict(dict,\n",
       "            {'preprocessing': {'question_columns': ['question_title',\n",
       "               'question_body'],\n",
       "              'answer_columns': ['answer_body'],\n",
       "              'preserve_html_tags': ['code']},\n",
       "             'vectorizer': {'vectorization_type': 'embeddings',\n",
       "              'embeddings_pooling': 'mean'},\n",
       "             'ranking_model': defaultdict(dict,\n",
       "                         {'ranker_type': 'XGBRanker',\n",
       "                          'n_features': 3072,\n",
       "                          'params': {'XGBRanker': {'objective': 'rank:ndcg',\n",
       "                            'base_score': None,\n",
       "                            'booster': None,\n",
       "                            'callbacks': None,\n",
       "                            'colsample_bylevel': None,\n",
       "                            'colsample_bynode': None,\n",
       "                            'colsample_bytree': None,\n",
       "                            'device': 'cuda',\n",
       "                            'early_stopping_rounds': None,\n",
       "                            'enable_categorical': False,\n",
       "                            'eval_metric': None,\n",
       "                            'feature_types': None,\n",
       "                            'gamma': None,\n",
       "                            'grow_policy': None,\n",
       "                            'importance_type': None,\n",
       "                            'interaction_constraints': None,\n",
       "                            'learning_rate': None,\n",
       "                            'max_bin': None,\n",
       "                            'max_cat_threshold': None,\n",
       "                            'max_cat_to_onehot': None,\n",
       "                            'max_delta_step': None,\n",
       "                            'max_depth': None,\n",
       "                            'max_leaves': None,\n",
       "                            'min_child_weight': None,\n",
       "                            'missing': nan,\n",
       "                            'monotone_constraints': None,\n",
       "                            'multi_strategy': None,\n",
       "                            'n_estimators': 500,\n",
       "                            'n_jobs': None,\n",
       "                            'num_parallel_tree': None,\n",
       "                            'random_state': None,\n",
       "                            'reg_alpha': None,\n",
       "                            'reg_lambda': None,\n",
       "                            'sampling_method': None,\n",
       "                            'scale_pos_weight': None,\n",
       "                            'subsample': None,\n",
       "                            'tree_method': None,\n",
       "                            'validate_parameters': None,\n",
       "                            'verbosity': None,\n",
       "                            'lambdarank_pair_method': 'mean',\n",
       "                            'lambdarank_num_pair_per_sample': 10,\n",
       "                            'ndcg_exp_gain': False}}}),\n",
       "             'model_name': 'SOBertLarge'})"
      ]
     },
     "execution_count": 93,
     "metadata": {},
     "output_type": "execute_result"
    }
   ],
   "execution_count": 93
  },
  {
   "metadata": {
    "ExecuteTime": {
     "end_time": "2025-05-14T18:38:06.813129Z",
     "start_time": "2025-05-14T18:38:05.188623Z"
    }
   },
   "cell_type": "code",
   "source": [
    "run = wandb.init(\n",
    "    project='dalip-stackoverflow-answer-ranking',\n",
    "    config=wandb_config,\n",
    "    tags=['embeddings', 'ranking']\n",
    ")"
   ],
   "id": "239d090d2b1753ee",
   "outputs": [
    {
     "data": {
      "text/plain": [
       "<IPython.core.display.HTML object>"
      ],
      "text/html": [
       "Tracking run with wandb version 0.19.9"
      ]
     },
     "metadata": {},
     "output_type": "display_data"
    },
    {
     "data": {
      "text/plain": [
       "<IPython.core.display.HTML object>"
      ],
      "text/html": [
       "Run data is saved locally in <code>C:\\Users\\User\\Женя\\GitHub\\stack-overflow-answers-assessment\\wandb\\run-20250514_213805-dovez39l</code>"
      ]
     },
     "metadata": {},
     "output_type": "display_data"
    },
    {
     "data": {
      "text/plain": [
       "<IPython.core.display.HTML object>"
      ],
      "text/html": [
       "Syncing run <strong><a href='https://wandb.ai/bunnynobugs/dalip-stackoverflow-answer-ranking/runs/dovez39l' target=\"_blank\">genial-yogurt-129</a></strong> to <a href='https://wandb.ai/bunnynobugs/dalip-stackoverflow-answer-ranking' target=\"_blank\">Weights & Biases</a> (<a href='https://wandb.me/developer-guide' target=\"_blank\">docs</a>)<br>"
      ]
     },
     "metadata": {},
     "output_type": "display_data"
    },
    {
     "data": {
      "text/plain": [
       "<IPython.core.display.HTML object>"
      ],
      "text/html": [
       " View project at <a href='https://wandb.ai/bunnynobugs/dalip-stackoverflow-answer-ranking' target=\"_blank\">https://wandb.ai/bunnynobugs/dalip-stackoverflow-answer-ranking</a>"
      ]
     },
     "metadata": {},
     "output_type": "display_data"
    },
    {
     "data": {
      "text/plain": [
       "<IPython.core.display.HTML object>"
      ],
      "text/html": [
       " View run at <a href='https://wandb.ai/bunnynobugs/dalip-stackoverflow-answer-ranking/runs/dovez39l' target=\"_blank\">https://wandb.ai/bunnynobugs/dalip-stackoverflow-answer-ranking/runs/dovez39l</a>"
      ]
     },
     "metadata": {},
     "output_type": "display_data"
    }
   ],
   "execution_count": 94
  },
  {
   "metadata": {},
   "cell_type": "markdown",
   "source": "### Compute metrics",
   "id": "eaed8e21d84e6ddc"
  },
  {
   "metadata": {
    "ExecuteTime": {
     "end_time": "2025-05-22T13:22:13.837655Z",
     "start_time": "2025-05-22T13:22:13.775409Z"
    }
   },
   "cell_type": "code",
   "source": [
    "targets = hf_dataset['test']['answer_normalized_score']\n",
    "test_question_ids = hf_dataset['test']['question_id']"
   ],
   "id": "e5943f6f5f520c10",
   "outputs": [],
   "execution_count": 19
  },
  {
   "metadata": {
    "ExecuteTime": {
     "end_time": "2025-05-22T13:22:14.499698Z",
     "start_time": "2025-05-22T13:22:13.870268Z"
    }
   },
   "cell_type": "code",
   "source": "predictions = model.predict(X_test)",
   "id": "14cd98aaeaf130fb",
   "outputs": [],
   "execution_count": 20
  },
  {
   "metadata": {
    "ExecuteTime": {
     "end_time": "2025-05-22T13:22:14.547209Z",
     "start_time": "2025-05-22T13:22:14.532699Z"
    }
   },
   "cell_type": "code",
   "source": [
    "evaluator = RankingEvaluator(ndcg_k=list(range(1, 11)),\n",
    "                             ndcg_gain_func='exponential', ndcg_discount_func='logarithmic')"
   ],
   "id": "253f3c7b42c9f90b",
   "outputs": [],
   "execution_count": 21
  },
  {
   "metadata": {
    "ExecuteTime": {
     "end_time": "2025-05-22T13:22:15.020178Z",
     "start_time": "2025-05-22T13:22:14.578220Z"
    }
   },
   "cell_type": "code",
   "source": [
    "metrics = evaluator(targets, predictions, test_question_ids)\n",
    "metrics.pop('mae')\n",
    "metrics"
   ],
   "id": "8e9033fd8ab9813d",
   "outputs": [
    {
     "data": {
      "text/plain": [
       "{'ndcg@1_g.exponential_d.logarithmic': 0.4954621748626572,\n",
       " 'ndcg@2_g.exponential_d.logarithmic': 0.5943246291952936,\n",
       " 'ndcg@3_g.exponential_d.logarithmic': 0.6781826386292512,\n",
       " 'ndcg@4_g.exponential_d.logarithmic': 0.7385195164982931,\n",
       " 'ndcg@5_g.exponential_d.logarithmic': 0.7645322460729602,\n",
       " 'ndcg@6_g.exponential_d.logarithmic': 0.773293290672338,\n",
       " 'ndcg@7_g.exponential_d.logarithmic': 0.778274797257841,\n",
       " 'ndcg@8_g.exponential_d.logarithmic': 0.7811336633630334,\n",
       " 'ndcg@9_g.exponential_d.logarithmic': 0.7824710555974302,\n",
       " 'ndcg@10_g.exponential_d.logarithmic': 0.7829575835770114,\n",
       " 'hit_rate@1': 0.3712082262210797}"
      ]
     },
     "execution_count": 22,
     "metadata": {},
     "output_type": "execute_result"
    }
   ],
   "execution_count": 22
  },
  {
   "metadata": {
    "ExecuteTime": {
     "end_time": "2025-05-14T18:38:07.898533Z",
     "start_time": "2025-05-14T18:38:07.883356Z"
    }
   },
   "cell_type": "code",
   "source": "wandb.log(metrics)",
   "id": "abc0ed128e1dc9da",
   "outputs": [],
   "execution_count": 99
  },
  {
   "metadata": {},
   "cell_type": "markdown",
   "source": "### Log predictions",
   "id": "958d2222e0293712"
  },
  {
   "metadata": {
    "ExecuteTime": {
     "end_time": "2025-05-14T18:38:07.960602Z",
     "start_time": "2025-05-14T18:38:07.931111Z"
    }
   },
   "cell_type": "code",
   "source": [
    "predictions_df = pd.DataFrame()\n",
    "predictions_df['answer_id'] = hf_dataset['test']['answer_id']\n",
    "predictions_df['answer_normalized_score'] = hf_dataset['test']['answer_normalized_score']\n",
    "predictions_df['predicted_score'] = predictions"
   ],
   "id": "2bf6a7ed48181a23",
   "outputs": [],
   "execution_count": 100
  },
  {
   "metadata": {
    "ExecuteTime": {
     "end_time": "2025-05-14T18:38:09.227572Z",
     "start_time": "2025-05-14T18:38:07.993427Z"
    }
   },
   "cell_type": "code",
   "source": "wandb.log({'predictions_table': wandb.Table(dataframe=predictions_df)})",
   "id": "34fd74d62d8e5133",
   "outputs": [],
   "execution_count": 101
  },
  {
   "metadata": {
    "ExecuteTime": {
     "end_time": "2025-05-14T18:38:12.514445Z",
     "start_time": "2025-05-14T18:38:09.260245Z"
    }
   },
   "cell_type": "code",
   "source": "run.finish()",
   "id": "f1659167352d5d22",
   "outputs": [
    {
     "data": {
      "text/plain": [
       "<IPython.core.display.HTML object>"
      ],
      "text/html": []
     },
     "metadata": {},
     "output_type": "display_data"
    },
    {
     "data": {
      "text/plain": [
       "<IPython.core.display.HTML object>"
      ],
      "text/html": [
       "<br>    <style><br>        .wandb-row {<br>            display: flex;<br>            flex-direction: row;<br>            flex-wrap: wrap;<br>            justify-content: flex-start;<br>            width: 100%;<br>        }<br>        .wandb-col {<br>            display: flex;<br>            flex-direction: column;<br>            flex-basis: 100%;<br>            flex: 1;<br>            padding: 10px;<br>        }<br>    </style><br><div class=\"wandb-row\"><div class=\"wandb-col\"><h3>Run history:</h3><br/><table class=\"wandb\"><tr><td>hit_rate@1</td><td>▁</td></tr><tr><td>ndcg@10_g.exponential_d.logarithmic</td><td>▁</td></tr><tr><td>ndcg@1_g.exponential_d.logarithmic</td><td>▁</td></tr><tr><td>ndcg@2_g.exponential_d.logarithmic</td><td>▁</td></tr><tr><td>ndcg@3_g.exponential_d.logarithmic</td><td>▁</td></tr><tr><td>ndcg@4_g.exponential_d.logarithmic</td><td>▁</td></tr><tr><td>ndcg@5_g.exponential_d.logarithmic</td><td>▁</td></tr><tr><td>ndcg@6_g.exponential_d.logarithmic</td><td>▁</td></tr><tr><td>ndcg@7_g.exponential_d.logarithmic</td><td>▁</td></tr><tr><td>ndcg@8_g.exponential_d.logarithmic</td><td>▁</td></tr><tr><td>ndcg@9_g.exponential_d.logarithmic</td><td>▁</td></tr></table><br/></div><div class=\"wandb-col\"><h3>Run summary:</h3><br/><table class=\"wandb\"><tr><td>hit_rate@1</td><td>0.38663</td></tr><tr><td>ndcg@10_g.exponential_d.logarithmic</td><td>0.78761</td></tr><tr><td>ndcg@1_g.exponential_d.logarithmic</td><td>0.50439</td></tr><tr><td>ndcg@2_g.exponential_d.logarithmic</td><td>0.60609</td></tr><tr><td>ndcg@3_g.exponential_d.logarithmic</td><td>0.68523</td></tr><tr><td>ndcg@4_g.exponential_d.logarithmic</td><td>0.74619</td></tr><tr><td>ndcg@5_g.exponential_d.logarithmic</td><td>0.76728</td></tr><tr><td>ndcg@6_g.exponential_d.logarithmic</td><td>0.77824</td></tr><tr><td>ndcg@7_g.exponential_d.logarithmic</td><td>0.78333</td></tr><tr><td>ndcg@8_g.exponential_d.logarithmic</td><td>0.78551</td></tr><tr><td>ndcg@9_g.exponential_d.logarithmic</td><td>0.78679</td></tr></table><br/></div></div>"
      ]
     },
     "metadata": {},
     "output_type": "display_data"
    },
    {
     "data": {
      "text/plain": [
       "<IPython.core.display.HTML object>"
      ],
      "text/html": [
       " View run <strong style=\"color:#cdcd00\">genial-yogurt-129</strong> at: <a href='https://wandb.ai/bunnynobugs/dalip-stackoverflow-answer-ranking/runs/dovez39l' target=\"_blank\">https://wandb.ai/bunnynobugs/dalip-stackoverflow-answer-ranking/runs/dovez39l</a><br> View project at: <a href='https://wandb.ai/bunnynobugs/dalip-stackoverflow-answer-ranking' target=\"_blank\">https://wandb.ai/bunnynobugs/dalip-stackoverflow-answer-ranking</a><br>Synced 5 W&B file(s), 1 media file(s), 2 artifact file(s) and 0 other file(s)"
      ]
     },
     "metadata": {},
     "output_type": "display_data"
    },
    {
     "data": {
      "text/plain": [
       "<IPython.core.display.HTML object>"
      ],
      "text/html": [
       "Find logs at: <code>.\\wandb\\run-20250514_213805-dovez39l\\logs</code>"
      ]
     },
     "metadata": {},
     "output_type": "display_data"
    }
   ],
   "execution_count": 102
  },
  {
   "metadata": {
    "ExecuteTime": {
     "end_time": "2025-05-14T18:38:12.562554Z",
     "start_time": "2025-05-14T18:38:12.547477Z"
    }
   },
   "cell_type": "code",
   "source": "",
   "id": "f7f765e33b74a391",
   "outputs": [],
   "execution_count": null
  }
 ],
 "metadata": {
  "kernelspec": {
   "display_name": "Python 3",
   "language": "python",
   "name": "python3"
  },
  "language_info": {
   "codemirror_mode": {
    "name": "ipython",
    "version": 2
   },
   "file_extension": ".py",
   "mimetype": "text/x-python",
   "name": "python",
   "nbconvert_exporter": "python",
   "pygments_lexer": "ipython2",
   "version": "2.7.6"
  }
 },
 "nbformat": 4,
 "nbformat_minor": 5
}
