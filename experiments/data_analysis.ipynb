{
 "cells": [
  {
   "metadata": {},
   "cell_type": "markdown",
   "source": "# Dalip data analysis",
   "id": "70157e8821ce84b0"
  },
  {
   "metadata": {},
   "cell_type": "markdown",
   "source": "## Stack Overflow data analysis",
   "id": "7260c77c6c02110e"
  },
  {
   "metadata": {
    "collapsed": true,
    "ExecuteTime": {
     "end_time": "2025-04-29T20:44:54.440142Z",
     "start_time": "2025-04-29T20:44:54.424538Z"
    }
   },
   "cell_type": "code",
   "source": [
    "import os\n",
    "\n",
    "import pandas as pd\n",
    "import seaborn as sns"
   ],
   "id": "initial_id",
   "outputs": [],
   "execution_count": 82
  },
  {
   "metadata": {
    "ExecuteTime": {
     "end_time": "2025-04-29T20:45:14.456179Z",
     "start_time": "2025-04-29T20:45:13.716933Z"
    }
   },
   "cell_type": "code",
   "source": "so_df = pd.read_csv('data/dalip_stackoverflow/stackoverflow_1_50000.csv')",
   "id": "3e3449d0e5e7ac1b",
   "outputs": [],
   "execution_count": 84
  },
  {
   "metadata": {
    "ExecuteTime": {
     "end_time": "2025-04-29T20:45:16.073338Z",
     "start_time": "2025-04-29T20:45:16.042087Z"
    }
   },
   "cell_type": "code",
   "source": "so_df.head()",
   "id": "88c835855e0689cf",
   "outputs": [
    {
     "data": {
      "text/plain": [
       "   Id  PostTypeId  AcceptedAnswerId  ParentId         CreationDate  Score  \\\n",
       "0   4           1               7.0       NaN  2008-07-31 21:42:52    117   \n",
       "1   6           1              31.0       NaN  2008-07-31 22:08:08     33   \n",
       "2   7           2               NaN       4.0  2008-07-31 22:17:57    111   \n",
       "3   8           1             162.0       NaN  2008-07-31 23:33:19     17   \n",
       "4   9           1            1404.0       NaN  2008-07-31 23:40:59    272   \n",
       "\n",
       "   ViewCount                                               Body  OwnerUserId  \\\n",
       "0     8739.0  <p>I'm new to C#, and I want to use a track-ba...          8.0   \n",
       "1     2761.0  <p>I have an absolutely positioned <code>div</...          9.0   \n",
       "2        NaN  <p>An explicit cast to double isn't necessary....          9.0   \n",
       "3     1405.0  <p>Are there any conversion tools for porting ...          9.0   \n",
       "4    74315.0  <p>Given a <code>DateTime</code> representing ...          1.0   \n",
       "\n",
       "  OwnerDisplayName  ...         LastEditDate     LastActivityDate  \\\n",
       "0              NaN  ...  2012-02-26 13:46:05  2012-03-06 08:07:53   \n",
       "1              NaN  ...  2012-02-26 13:47:20  2012-02-26 13:47:20   \n",
       "2              NaN  ...  2010-02-02 19:38:14  2010-02-02 19:38:14   \n",
       "3              NaN  ...  2012-02-26 13:49:17  2012-02-26 13:49:17   \n",
       "4              NaN  ...  2012-02-26 13:50:29  2012-02-26 13:50:29   \n",
       "\n",
       "                                               Title  \\\n",
       "0  When setting a form's opacity should I use a d...   \n",
       "1  Why doesn't the percentage width child in abso...   \n",
       "2                                                NaN   \n",
       "3  Are there any conversion tools for porting Vis...   \n",
       "4            How do I calculate someone's age in C#?   \n",
       "\n",
       "                                     Tags AnswerCount CommentCount  \\\n",
       "0          <c#><winforms><forms><opacity>        12.0         16.0   \n",
       "1  <html><css><css3><internet-explorer-7>         5.0          5.0   \n",
       "2                                     NaN         NaN          2.0   \n",
       "3                      <c#><j#><visualj#>         3.0          0.0   \n",
       "4              <c#><.net><math><datetime>        31.0          5.0   \n",
       "\n",
       "   FavoriteCount  ClosedDate   CommunityOwnedDate RowNum  \n",
       "0           13.0         NaN                  NaN      1  \n",
       "1            2.0         NaN                  NaN      2  \n",
       "2            NaN         NaN                  NaN      3  \n",
       "3            1.0         NaN                  NaN      4  \n",
       "4          132.0         NaN  2011-08-16 19:40:43      5  \n",
       "\n",
       "[5 rows x 22 columns]"
      ],
      "text/html": [
       "<div>\n",
       "<style scoped>\n",
       "    .dataframe tbody tr th:only-of-type {\n",
       "        vertical-align: middle;\n",
       "    }\n",
       "\n",
       "    .dataframe tbody tr th {\n",
       "        vertical-align: top;\n",
       "    }\n",
       "\n",
       "    .dataframe thead th {\n",
       "        text-align: right;\n",
       "    }\n",
       "</style>\n",
       "<table border=\"1\" class=\"dataframe\">\n",
       "  <thead>\n",
       "    <tr style=\"text-align: right;\">\n",
       "      <th></th>\n",
       "      <th>Id</th>\n",
       "      <th>PostTypeId</th>\n",
       "      <th>AcceptedAnswerId</th>\n",
       "      <th>ParentId</th>\n",
       "      <th>CreationDate</th>\n",
       "      <th>Score</th>\n",
       "      <th>ViewCount</th>\n",
       "      <th>Body</th>\n",
       "      <th>OwnerUserId</th>\n",
       "      <th>OwnerDisplayName</th>\n",
       "      <th>...</th>\n",
       "      <th>LastEditDate</th>\n",
       "      <th>LastActivityDate</th>\n",
       "      <th>Title</th>\n",
       "      <th>Tags</th>\n",
       "      <th>AnswerCount</th>\n",
       "      <th>CommentCount</th>\n",
       "      <th>FavoriteCount</th>\n",
       "      <th>ClosedDate</th>\n",
       "      <th>CommunityOwnedDate</th>\n",
       "      <th>RowNum</th>\n",
       "    </tr>\n",
       "  </thead>\n",
       "  <tbody>\n",
       "    <tr>\n",
       "      <th>0</th>\n",
       "      <td>4</td>\n",
       "      <td>1</td>\n",
       "      <td>7.0</td>\n",
       "      <td>NaN</td>\n",
       "      <td>2008-07-31 21:42:52</td>\n",
       "      <td>117</td>\n",
       "      <td>8739.0</td>\n",
       "      <td>&lt;p&gt;I'm new to C#, and I want to use a track-ba...</td>\n",
       "      <td>8.0</td>\n",
       "      <td>NaN</td>\n",
       "      <td>...</td>\n",
       "      <td>2012-02-26 13:46:05</td>\n",
       "      <td>2012-03-06 08:07:53</td>\n",
       "      <td>When setting a form's opacity should I use a d...</td>\n",
       "      <td>&lt;c#&gt;&lt;winforms&gt;&lt;forms&gt;&lt;opacity&gt;</td>\n",
       "      <td>12.0</td>\n",
       "      <td>16.0</td>\n",
       "      <td>13.0</td>\n",
       "      <td>NaN</td>\n",
       "      <td>NaN</td>\n",
       "      <td>1</td>\n",
       "    </tr>\n",
       "    <tr>\n",
       "      <th>1</th>\n",
       "      <td>6</td>\n",
       "      <td>1</td>\n",
       "      <td>31.0</td>\n",
       "      <td>NaN</td>\n",
       "      <td>2008-07-31 22:08:08</td>\n",
       "      <td>33</td>\n",
       "      <td>2761.0</td>\n",
       "      <td>&lt;p&gt;I have an absolutely positioned &lt;code&gt;div&lt;/...</td>\n",
       "      <td>9.0</td>\n",
       "      <td>NaN</td>\n",
       "      <td>...</td>\n",
       "      <td>2012-02-26 13:47:20</td>\n",
       "      <td>2012-02-26 13:47:20</td>\n",
       "      <td>Why doesn't the percentage width child in abso...</td>\n",
       "      <td>&lt;html&gt;&lt;css&gt;&lt;css3&gt;&lt;internet-explorer-7&gt;</td>\n",
       "      <td>5.0</td>\n",
       "      <td>5.0</td>\n",
       "      <td>2.0</td>\n",
       "      <td>NaN</td>\n",
       "      <td>NaN</td>\n",
       "      <td>2</td>\n",
       "    </tr>\n",
       "    <tr>\n",
       "      <th>2</th>\n",
       "      <td>7</td>\n",
       "      <td>2</td>\n",
       "      <td>NaN</td>\n",
       "      <td>4.0</td>\n",
       "      <td>2008-07-31 22:17:57</td>\n",
       "      <td>111</td>\n",
       "      <td>NaN</td>\n",
       "      <td>&lt;p&gt;An explicit cast to double isn't necessary....</td>\n",
       "      <td>9.0</td>\n",
       "      <td>NaN</td>\n",
       "      <td>...</td>\n",
       "      <td>2010-02-02 19:38:14</td>\n",
       "      <td>2010-02-02 19:38:14</td>\n",
       "      <td>NaN</td>\n",
       "      <td>NaN</td>\n",
       "      <td>NaN</td>\n",
       "      <td>2.0</td>\n",
       "      <td>NaN</td>\n",
       "      <td>NaN</td>\n",
       "      <td>NaN</td>\n",
       "      <td>3</td>\n",
       "    </tr>\n",
       "    <tr>\n",
       "      <th>3</th>\n",
       "      <td>8</td>\n",
       "      <td>1</td>\n",
       "      <td>162.0</td>\n",
       "      <td>NaN</td>\n",
       "      <td>2008-07-31 23:33:19</td>\n",
       "      <td>17</td>\n",
       "      <td>1405.0</td>\n",
       "      <td>&lt;p&gt;Are there any conversion tools for porting ...</td>\n",
       "      <td>9.0</td>\n",
       "      <td>NaN</td>\n",
       "      <td>...</td>\n",
       "      <td>2012-02-26 13:49:17</td>\n",
       "      <td>2012-02-26 13:49:17</td>\n",
       "      <td>Are there any conversion tools for porting Vis...</td>\n",
       "      <td>&lt;c#&gt;&lt;j#&gt;&lt;visualj#&gt;</td>\n",
       "      <td>3.0</td>\n",
       "      <td>0.0</td>\n",
       "      <td>1.0</td>\n",
       "      <td>NaN</td>\n",
       "      <td>NaN</td>\n",
       "      <td>4</td>\n",
       "    </tr>\n",
       "    <tr>\n",
       "      <th>4</th>\n",
       "      <td>9</td>\n",
       "      <td>1</td>\n",
       "      <td>1404.0</td>\n",
       "      <td>NaN</td>\n",
       "      <td>2008-07-31 23:40:59</td>\n",
       "      <td>272</td>\n",
       "      <td>74315.0</td>\n",
       "      <td>&lt;p&gt;Given a &lt;code&gt;DateTime&lt;/code&gt; representing ...</td>\n",
       "      <td>1.0</td>\n",
       "      <td>NaN</td>\n",
       "      <td>...</td>\n",
       "      <td>2012-02-26 13:50:29</td>\n",
       "      <td>2012-02-26 13:50:29</td>\n",
       "      <td>How do I calculate someone's age in C#?</td>\n",
       "      <td>&lt;c#&gt;&lt;.net&gt;&lt;math&gt;&lt;datetime&gt;</td>\n",
       "      <td>31.0</td>\n",
       "      <td>5.0</td>\n",
       "      <td>132.0</td>\n",
       "      <td>NaN</td>\n",
       "      <td>2011-08-16 19:40:43</td>\n",
       "      <td>5</td>\n",
       "    </tr>\n",
       "  </tbody>\n",
       "</table>\n",
       "<p>5 rows × 22 columns</p>\n",
       "</div>"
      ]
     },
     "execution_count": 85,
     "metadata": {},
     "output_type": "execute_result"
    }
   ],
   "execution_count": 85
  },
  {
   "metadata": {
    "ExecuteTime": {
     "end_time": "2025-03-10T13:46:34.236261Z",
     "start_time": "2025-03-10T13:46:34.216262Z"
    }
   },
   "cell_type": "code",
   "source": "so_df['PostTypeId'].value_counts()",
   "id": "e80c62f257a750e2",
   "outputs": [
    {
     "data": {
      "text/plain": [
       "2    41100\n",
       "1     8900\n",
       "Name: PostTypeId, dtype: int64"
      ]
     },
     "execution_count": 15,
     "metadata": {},
     "output_type": "execute_result"
    }
   ],
   "execution_count": 15
  },
  {
   "metadata": {
    "ExecuteTime": {
     "end_time": "2025-03-10T13:46:22.444649Z",
     "start_time": "2025-03-10T13:46:22.435662Z"
    }
   },
   "cell_type": "code",
   "source": "so_df['PostTypeId'].value_counts(normalize=True)",
   "id": "62ccbf98c4ee2e5",
   "outputs": [
    {
     "data": {
      "text/plain": [
       "2    0.822\n",
       "1    0.178\n",
       "Name: PostTypeId, dtype: float64"
      ]
     },
     "execution_count": 13,
     "metadata": {},
     "output_type": "execute_result"
    }
   ],
   "execution_count": 13
  },
  {
   "metadata": {
    "ExecuteTime": {
     "end_time": "2025-03-10T13:54:48.510496Z",
     "start_time": "2025-03-10T13:54:48.496474Z"
    }
   },
   "cell_type": "code",
   "source": "so_df['ParentId'].describe()",
   "id": "9687733fea148657",
   "outputs": [
    {
     "data": {
      "text/plain": [
       "count     41100.000000\n",
       "mean      34584.406886\n",
       "std       22898.676696\n",
       "min           4.000000\n",
       "25%       16074.000000\n",
       "50%       34396.500000\n",
       "75%       52598.000000\n",
       "max      654275.000000\n",
       "Name: ParentId, dtype: float64"
      ]
     },
     "execution_count": 33,
     "metadata": {},
     "output_type": "execute_result"
    }
   ],
   "execution_count": 33
  },
  {
   "metadata": {
    "ExecuteTime": {
     "end_time": "2025-03-10T13:58:08.232945Z",
     "start_time": "2025-03-10T13:58:08.220946Z"
    }
   },
   "cell_type": "code",
   "source": "so_df['ParentId'].quantile(0.95)",
   "id": "6da0759bad0e3c6e",
   "outputs": [
    {
     "data": {
      "text/plain": [
       "66164.04999999999"
      ]
     },
     "execution_count": 38,
     "metadata": {},
     "output_type": "execute_result"
    }
   ],
   "execution_count": 38
  },
  {
   "metadata": {
    "ExecuteTime": {
     "end_time": "2025-03-10T14:05:43.976450Z",
     "start_time": "2025-03-10T14:05:43.832354Z"
    }
   },
   "cell_type": "code",
   "source": "so_df['ParentId'].loc[lambda x: x < 100000].hist()",
   "id": "71090f14079cdd3e",
   "outputs": [
    {
     "data": {
      "text/plain": [
       "<AxesSubplot:>"
      ]
     },
     "execution_count": 42,
     "metadata": {},
     "output_type": "execute_result"
    },
    {
     "data": {
      "text/plain": [
       "<Figure size 432x288 with 1 Axes>"
      ],
      "image/png": "[encoded data removed]"
     },
     "metadata": {
      "needs_background": "light"
     },
     "output_type": "display_data"
    }
   ],
   "execution_count": 42
  },
  {
   "metadata": {
    "ExecuteTime": {
     "end_time": "2025-03-10T14:08:04.213309Z",
     "start_time": "2025-03-10T14:08:03.970279Z"
    }
   },
   "cell_type": "code",
   "source": "sns.violinplot(data=so_df[so_df['ParentId'] < 100000], x='ParentId')",
   "id": "7c5c294c3973de68",
   "outputs": [
    {
     "data": {
      "text/plain": [
       "<AxesSubplot:xlabel='ParentId'>"
      ]
     },
     "execution_count": 46,
     "metadata": {},
     "output_type": "execute_result"
    },
    {
     "data": {
      "text/plain": [
       "<Figure size 432x288 with 1 Axes>"
      ],
      "image/png": "[encoded data removed]"
     },
     "metadata": {
      "needs_background": "light"
     },
     "output_type": "display_data"
    }
   ],
   "execution_count": 46
  },
  {
   "metadata": {},
   "cell_type": "markdown",
   "source": "### Numeric columns only",
   "id": "bb2a64d6e183815c"
  },
  {
   "metadata": {
    "ExecuteTime": {
     "end_time": "2025-03-18T11:44:13.222224Z",
     "start_time": "2025-03-18T11:44:13.206594Z"
    }
   },
   "cell_type": "code",
   "source": [
    "from src.utils import get_all_csv_files\n",
    "import pandas as pd\n",
    "from tqdm import tqdm"
   ],
   "id": "2a2542115a11371",
   "outputs": [],
   "execution_count": 85
  },
  {
   "metadata": {
    "ExecuteTime": {
     "end_time": "2025-03-18T11:50:49.485945Z",
     "start_time": "2025-03-18T11:49:19.548310Z"
    }
   },
   "cell_type": "code",
   "source": [
    "csv_files = get_all_csv_files('data/dalip_stackoverflow')\n",
    "\n",
    "so_numeric = []\n",
    "for file in tqdm(csv_files):\n",
    "    so_data = pd.read_csv(file)\n",
    "    so_numeric.append(so_data.select_dtypes(exclude=['object']))\n",
    "so_numeric_df = pd.concat(so_numeric)"
   ],
   "id": "18f91e7447ea7d",
   "outputs": [
    {
     "name": "stderr",
     "output_type": "stream",
     "text": [
      " 92%|█████████▏| 159/172 [01:22<00:07,  1.86it/s]<ipython-input-93-723a16981bbd>:5: DtypeWarning: Columns (11) have mixed types. Specify dtype option on import or set low_memory=False.\n",
      "  so_data = pd.read_csv(file)\n",
      " 95%|█████████▌| 164/172 [01:25<00:04,  1.77it/s]<ipython-input-93-723a16981bbd>:5: DtypeWarning: Columns (11) have mixed types. Specify dtype option on import or set low_memory=False.\n",
      "  so_data = pd.read_csv(file)\n",
      " 97%|█████████▋| 166/172 [01:26<00:03,  1.78it/s]<ipython-input-93-723a16981bbd>:5: DtypeWarning: Columns (11) have mixed types. Specify dtype option on import or set low_memory=False.\n",
      "  so_data = pd.read_csv(file)\n",
      "100%|██████████| 172/172 [01:29<00:00,  1.92it/s]\n"
     ]
    }
   ],
   "execution_count": 93
  },
  {
   "metadata": {
    "ExecuteTime": {
     "end_time": "2025-03-18T11:52:19.819021Z",
     "start_time": "2025-03-18T11:51:42.785793Z"
    }
   },
   "cell_type": "code",
   "source": "so_numeric_df.to_csv('data/dalip_stackoverflow_samples/dalip_stackoverflow_numeric.csv', index=False)",
   "id": "8dc7ea0e5ac1cd8a",
   "outputs": [],
   "execution_count": 95
  },
  {
   "metadata": {},
   "cell_type": "markdown",
   "source": "### User scores",
   "id": "c4aa248b3bb056b2"
  },
  {
   "metadata": {
    "ExecuteTime": {
     "end_time": "2025-04-29T20:42:35.385790Z",
     "start_time": "2025-04-29T20:42:35.352628Z"
    }
   },
   "cell_type": "code",
   "source": "import pandas as pd",
   "id": "62bc5d5533949339",
   "outputs": [],
   "execution_count": 75
  },
  {
   "metadata": {
    "ExecuteTime": {
     "end_time": "2025-04-29T20:42:46.867972Z",
     "start_time": "2025-04-29T20:42:36.099268Z"
    }
   },
   "cell_type": "code",
   "source": "so_numeric_df = pd.read_csv('data/dalip_stackoverflow_samples/dalip_stackoverflow_numeric.csv')",
   "id": "2fd7f2e84108507c",
   "outputs": [],
   "execution_count": 76
  },
  {
   "metadata": {
    "ExecuteTime": {
     "end_time": "2025-04-29T20:42:48.182882Z",
     "start_time": "2025-04-29T20:42:47.932957Z"
    }
   },
   "cell_type": "code",
   "source": "so_numeric_df['Score'].describe()",
   "id": "67d021ee2f7e54a6",
   "outputs": [
    {
     "data": {
      "text/plain": [
       "count    8.575280e+06\n",
       "mean     1.702098e+00\n",
       "std      6.154922e+00\n",
       "min     -1.660000e+02\n",
       "25%      0.000000e+00\n",
       "50%      1.000000e+00\n",
       "75%      2.000000e+00\n",
       "max      4.435000e+03\n",
       "Name: Score, dtype: float64"
      ]
     },
     "execution_count": 77,
     "metadata": {},
     "output_type": "execute_result"
    }
   ],
   "execution_count": 77
  },
  {
   "metadata": {},
   "cell_type": "markdown",
   "source": "### Answers number ",
   "id": "b0d6a4179a4c931a"
  },
  {
   "metadata": {
    "ExecuteTime": {
     "end_time": "2025-03-17T13:55:33.527898Z",
     "start_time": "2025-03-17T13:55:33.497701Z"
    }
   },
   "cell_type": "code",
   "source": [
    "from src.utils.file_io import get_all_csv_files\n",
    "import pandas as pd\n",
    "from tqdm import tqdm"
   ],
   "id": "1e7017ef8bf563ea",
   "outputs": [],
   "execution_count": 1
  },
  {
   "metadata": {
    "ExecuteTime": {
     "end_time": "2025-03-17T14:01:17.781135Z",
     "start_time": "2025-03-17T13:59:06.528916Z"
    }
   },
   "cell_type": "code",
   "source": [
    "csv_files = get_all_csv_files('data')\n",
    "\n",
    "parent_counts = pd.Series(dtype=int)\n",
    "post_type_counts = pd.Series(dtype=int)\n",
    "for file in tqdm(csv_files):\n",
    "    so_data = pd.read_csv(file)\n",
    "    parent_counts = parent_counts.add(so_data['ParentId'].value_counts(), fill_value=0)\n",
    "    post_type_counts = post_type_counts.add(so_data['PostTypeId'].value_counts(), fill_value=0)"
   ],
   "id": "44d9b14f24430ff5",
   "outputs": [
    {
     "name": "stderr",
     "output_type": "stream",
     "text": [
      " 92%|█████████▏| 159/172 [01:57<00:13,  1.02s/it]<ipython-input-5-248317d4dbba>:6: DtypeWarning: Columns (11) have mixed types. Specify dtype option on import or set low_memory=False.\n",
      "  so_data = pd.read_csv(file)\n",
      " 95%|█████████▌| 164/172 [02:02<00:08,  1.05s/it]<ipython-input-5-248317d4dbba>:6: DtypeWarning: Columns (11) have mixed types. Specify dtype option on import or set low_memory=False.\n",
      "  so_data = pd.read_csv(file)\n",
      " 97%|█████████▋| 166/172 [02:05<00:06,  1.07s/it]<ipython-input-5-248317d4dbba>:6: DtypeWarning: Columns (11) have mixed types. Specify dtype option on import or set low_memory=False.\n",
      "  so_data = pd.read_csv(file)\n",
      "100%|██████████| 172/172 [02:11<00:00,  1.31it/s]\n"
     ]
    }
   ],
   "execution_count": 5
  },
  {
   "metadata": {
    "ExecuteTime": {
     "end_time": "2025-03-17T14:01:36.945822Z",
     "start_time": "2025-03-17T14:01:36.930212Z"
    }
   },
   "cell_type": "code",
   "source": "len(parent_counts)",
   "id": "b6cbb2f0f778833a",
   "outputs": [
    {
     "data": {
      "text/plain": [
       "2558752"
      ]
     },
     "execution_count": 8,
     "metadata": {},
     "output_type": "execute_result"
    }
   ],
   "execution_count": 8
  },
  {
   "metadata": {
    "ExecuteTime": {
     "end_time": "2025-03-17T14:01:17.914725Z",
     "start_time": "2025-03-17T14:01:17.899097Z"
    }
   },
   "cell_type": "code",
   "source": "post_type_counts",
   "id": "ad5e173c9ed4c6fd",
   "outputs": [
    {
     "data": {
      "text/plain": [
       "1    2785896.0\n",
       "2    5769773.0\n",
       "3        167.0\n",
       "4       9662.0\n",
       "5       9662.0\n",
       "6        119.0\n",
       "7          1.0\n",
       "dtype: float64"
      ]
     },
     "execution_count": 7,
     "metadata": {},
     "output_type": "execute_result"
    }
   ],
   "execution_count": 7
  },
  {
   "metadata": {
    "ExecuteTime": {
     "end_time": "2025-03-17T16:16:43.818535Z",
     "start_time": "2025-03-17T16:16:43.787267Z"
    }
   },
   "cell_type": "code",
   "source": "(parent_counts >= 4).value_counts()",
   "id": "32115180b240e3ad",
   "outputs": [
    {
     "data": {
      "text/plain": [
       "False    2163093\n",
       "True      395659\n",
       "dtype: int64"
      ]
     },
     "execution_count": 17,
     "metadata": {},
     "output_type": "execute_result"
    }
   ],
   "execution_count": 17
  },
  {
   "metadata": {},
   "cell_type": "markdown",
   "source": "## Dalip dataset",
   "id": "b97a2bdf16ddab89"
  },
  {
   "metadata": {},
   "cell_type": "markdown",
   "source": "### Dataset recreation",
   "id": "98b7a687a9e20e78"
  },
  {
   "metadata": {
    "ExecuteTime": {
     "end_time": "2025-03-17T16:40:43.361986Z",
     "start_time": "2025-03-17T16:40:43.346360Z"
    }
   },
   "cell_type": "code",
   "source": [
    "import pandas as pd\n",
    "import numpy as np"
   ],
   "id": "6ba3fbc3dd652261",
   "outputs": [],
   "execution_count": 46
  },
  {
   "metadata": {
    "ExecuteTime": {
     "end_time": "2025-03-17T16:19:43.015250Z",
     "start_time": "2025-03-17T16:19:42.973217Z"
    }
   },
   "cell_type": "code",
   "source": "dalip_results = pd.read_csv('data/dalip_stackoverflow_results/MV_results_stack.txt')",
   "id": "799876015e87bd1e",
   "outputs": [],
   "execution_count": 19
  },
  {
   "metadata": {
    "ExecuteTime": {
     "end_time": "2025-03-17T17:03:19.315665Z",
     "start_time": "2025-03-17T17:03:19.300007Z"
    }
   },
   "cell_type": "code",
   "source": "dalip_results['fold'].value_counts()",
   "id": "1948f6082ce34ea2",
   "outputs": [
    {
     "data": {
      "text/plain": [
       "3    10803\n",
       "4    10728\n",
       "1    10662\n",
       "0    10563\n",
       "2    10507\n",
       "Name: fold, dtype: int64"
      ]
     },
     "execution_count": 82,
     "metadata": {},
     "output_type": "execute_result"
    }
   ],
   "execution_count": 82
  },
  {
   "metadata": {
    "ExecuteTime": {
     "end_time": "2025-03-17T16:53:13.316146Z",
     "start_time": "2025-03-17T16:53:13.309125Z"
    }
   },
   "cell_type": "code",
   "source": [
    "dalip_post_ids = np.hstack([dalip_results['id'], dalip_results['qid'].unique()])\n",
    "dalip_post_ids = pd.DataFrame({'Id': dalip_post_ids})"
   ],
   "id": "2b2f099f085aa6c0",
   "outputs": [],
   "execution_count": 66
  },
  {
   "metadata": {
    "ExecuteTime": {
     "end_time": "2025-03-17T16:58:42.362723Z",
     "start_time": "2025-03-17T16:57:07.178011Z"
    }
   },
   "cell_type": "code",
   "source": [
    "csv_files = get_all_csv_files('data/dalip_stackoverflow')\n",
    "\n",
    "dalip_dataset = []\n",
    "for file in tqdm(csv_files):\n",
    "    so_data = pd.read_csv(file)\n",
    "    dalip_dataset.append(so_data.merge(dalip_post_ids, on='Id'))\n",
    "dalip_dataset_df = pd.concat(dalip_dataset)"
   ],
   "id": "ed680a3aada5e071",
   "outputs": [
    {
     "name": "stderr",
     "output_type": "stream",
     "text": [
      " 92%|█████████▏| 159/172 [01:27<00:08,  1.62it/s]<ipython-input-76-d47b64a1e4d2>:5: DtypeWarning: Columns (11) have mixed types. Specify dtype option on import or set low_memory=False.\n",
      "  so_data = pd.read_csv(file)\n",
      " 95%|█████████▌| 164/172 [01:30<00:04,  1.65it/s]<ipython-input-76-d47b64a1e4d2>:5: DtypeWarning: Columns (11) have mixed types. Specify dtype option on import or set low_memory=False.\n",
      "  so_data = pd.read_csv(file)\n",
      " 97%|█████████▋| 166/172 [01:32<00:03,  1.61it/s]<ipython-input-76-d47b64a1e4d2>:5: DtypeWarning: Columns (11) have mixed types. Specify dtype option on import or set low_memory=False.\n",
      "  so_data = pd.read_csv(file)\n",
      "100%|██████████| 172/172 [01:35<00:00,  1.81it/s]\n"
     ]
    }
   ],
   "execution_count": 76
  },
  {
   "metadata": {
    "ExecuteTime": {
     "end_time": "2025-03-17T16:58:44.781343Z",
     "start_time": "2025-03-17T16:58:43.543039Z"
    }
   },
   "cell_type": "code",
   "source": "dalip_dataset_df.to_csv('data/dalip_stackoverflow_dataset/dalip_stackoverflow_dataset.csv', index=False)",
   "id": "9d11f8f775c2739a",
   "outputs": [],
   "execution_count": 77
  },
  {
   "metadata": {},
   "cell_type": "markdown",
   "source": "### Huggingface dataset creation",
   "id": "ffad50f5ae092f3f"
  },
  {
   "metadata": {
    "ExecuteTime": {
     "end_time": "2025-04-09T11:47:00.896498Z",
     "start_time": "2025-04-09T11:46:59.325917Z"
    }
   },
   "cell_type": "code",
   "source": [
    "import pandas as pd\n",
    "from src.utils.config_management import CONFIG\n",
    "from src.data_management import dalip_dataset_to_huggingface"
   ],
   "id": "c65f8ac44571e8e6",
   "outputs": [],
   "execution_count": 1
  },
  {
   "metadata": {
    "ExecuteTime": {
     "end_time": "2025-04-09T11:47:01.613708Z",
     "start_time": "2025-04-09T11:47:00.912019Z"
    }
   },
   "cell_type": "code",
   "source": "dalip_dataset_df = pd.read_csv(CONFIG['paths']['data']['dalip_stackoverflow_dataset'])",
   "id": "6f4486e09200522c",
   "outputs": [],
   "execution_count": 2
  },
  {
   "metadata": {
    "ExecuteTime": {
     "end_time": "2025-04-09T11:47:03.205200Z",
     "start_time": "2025-04-09T11:47:03.149133Z"
    }
   },
   "cell_type": "code",
   "source": [
    "results_df = pd.read_csv(CONFIG['paths']['data']['dalip_stackoverflow_mv_feat_mv_results'])\n",
    "test_question_ids = results_df[results_df['fold'] == 0]['qid'].unique()"
   ],
   "id": "7ad3530c0f7bf39d",
   "outputs": [],
   "execution_count": 3
  },
  {
   "metadata": {
    "ExecuteTime": {
     "end_time": "2025-04-09T11:47:32.189022Z",
     "start_time": "2025-04-09T11:47:32.134546Z"
    }
   },
   "cell_type": "code",
   "source": "results_df[results_df['fold'] == 0].to_csv('fold_0.csv', index=False)",
   "id": "c029ada15f922eaa",
   "outputs": [],
   "execution_count": 5
  },
  {
   "metadata": {
    "ExecuteTime": {
     "end_time": "2025-04-08T21:49:38.962196Z",
     "start_time": "2025-04-08T21:49:37.947159Z"
    }
   },
   "cell_type": "code",
   "source": "hf_dataset = dalip_dataset_to_huggingface(dalip_dataset_df, test_question_ids=test_question_ids)",
   "id": "9cdb535127e1cb78",
   "outputs": [
    {
     "data": {
      "text/plain": [
       "Casting the dataset:   0%|          | 0/42700 [00:00<?, ? examples/s]"
      ],
      "application/vnd.jupyter.widget-view+json": {
       "version_major": 2,
       "version_minor": 0,
       "model_id": "6a309fd38f34498eaccbc9a3e1b19bae"
      }
     },
     "metadata": {},
     "output_type": "display_data"
    },
    {
     "data": {
      "text/plain": [
       "Casting the dataset:   0%|          | 0/10563 [00:00<?, ? examples/s]"
      ],
      "application/vnd.jupyter.widget-view+json": {
       "version_major": 2,
       "version_minor": 0,
       "model_id": "601eac6c3a04406aab3e7de8cc4838a7"
      }
     },
     "metadata": {},
     "output_type": "display_data"
    }
   ],
   "execution_count": 4
  },
  {
   "metadata": {
    "ExecuteTime": {
     "end_time": "2025-04-08T21:49:41.400730Z",
     "start_time": "2025-04-08T21:49:41.366889Z"
    }
   },
   "cell_type": "code",
   "source": "len(hf_dataset['train']) + len(hf_dataset['test'])",
   "id": "7816b1b9f048c956",
   "outputs": [
    {
     "data": {
      "text/plain": [
       "53263"
      ]
     },
     "execution_count": 5,
     "metadata": {},
     "output_type": "execute_result"
    }
   ],
   "execution_count": 5
  },
  {
   "metadata": {
    "ExecuteTime": {
     "end_time": "2025-04-08T21:49:42.902714Z",
     "start_time": "2025-04-08T21:49:42.743994Z"
    }
   },
   "cell_type": "code",
   "source": "hf_dataset.save_to_disk(CONFIG['paths']['data']['dalip_hf_dataset'])",
   "id": "a9eb93487ecc2a84",
   "outputs": [
    {
     "data": {
      "text/plain": [
       "Saving the dataset (0/1 shards):   0%|          | 0/42700 [00:00<?, ? examples/s]"
      ],
      "application/vnd.jupyter.widget-view+json": {
       "version_major": 2,
       "version_minor": 0,
       "model_id": "33a9c3cdff0e4e308f5b218a6235286b"
      }
     },
     "metadata": {},
     "output_type": "display_data"
    },
    {
     "data": {
      "text/plain": [
       "Saving the dataset (0/1 shards):   0%|          | 0/10563 [00:00<?, ? examples/s]"
      ],
      "application/vnd.jupyter.widget-view+json": {
       "version_major": 2,
       "version_minor": 0,
       "model_id": "8bfd517f1f5a4c5eb64f7d468596138e"
      }
     },
     "metadata": {},
     "output_type": "display_data"
    }
   ],
   "execution_count": 6
  },
  {
   "metadata": {
    "ExecuteTime": {
     "end_time": "2025-04-08T21:49:44.885122Z",
     "start_time": "2025-04-08T21:49:44.283193Z"
    }
   },
   "cell_type": "code",
   "source": "hf_dataset['test'].to_csv('hf_dataset_test.csv')",
   "id": "557fbeb88e286a15",
   "outputs": [
    {
     "data": {
      "text/plain": [
       "Creating CSV from Arrow format:   0%|          | 0/11 [00:00<?, ?ba/s]"
      ],
      "application/vnd.jupyter.widget-view+json": {
       "version_major": 2,
       "version_minor": 0,
       "model_id": "21c908c3a44e4ee0ab5c158bea796b10"
      }
     },
     "metadata": {},
     "output_type": "display_data"
    },
    {
     "data": {
      "text/plain": [
       "19037700"
      ]
     },
     "execution_count": 7,
     "metadata": {},
     "output_type": "execute_result"
    }
   ],
   "execution_count": 7
  },
  {
   "metadata": {
    "ExecuteTime": {
     "end_time": "2025-04-08T21:49:46.546681Z",
     "start_time": "2025-04-08T21:49:46.531064Z"
    }
   },
   "cell_type": "code",
   "source": "pd.Series(hf_dataset['test']['question_id']).isin(test_question_ids).value_counts()",
   "id": "ab0ea82faad5c554",
   "outputs": [
    {
     "data": {
      "text/plain": [
       "True    10563\n",
       "dtype: int64"
      ]
     },
     "execution_count": 8,
     "metadata": {},
     "output_type": "execute_result"
    }
   ],
   "execution_count": 8
  },
  {
   "metadata": {},
   "cell_type": "markdown",
   "source": "### Dataset analysis",
   "id": "d78429705c2fcff7"
  },
  {
   "metadata": {
    "ExecuteTime": {
     "end_time": "2025-05-26T16:21:37.723758Z",
     "start_time": "2025-05-26T16:21:37.631203Z"
    }
   },
   "cell_type": "code",
   "source": [
    "import pandas as pd\n",
    "from src.utils.config_management import CONFIG\n",
    "import seaborn as sns\n",
    "import numpy as np"
   ],
   "id": "d682be01a7bace6b",
   "outputs": [],
   "execution_count": 1
  },
  {
   "metadata": {
    "ExecuteTime": {
     "end_time": "2025-05-26T16:21:37.755174Z",
     "start_time": "2025-05-26T16:21:37.747114Z"
    }
   },
   "cell_type": "code",
   "source": [
    "sns.set_style('whitegrid')\n",
    "sns.set_context('notebook')"
   ],
   "id": "5763ce4e91d9e36",
   "outputs": [],
   "execution_count": 2
  },
  {
   "metadata": {
    "ExecuteTime": {
     "end_time": "2025-05-26T16:21:38.510050Z",
     "start_time": "2025-05-26T16:21:37.768397Z"
    }
   },
   "cell_type": "code",
   "source": "dalip_dataset_df = pd.read_csv(CONFIG['paths']['data']['dalip_stackoverflow_dataset'])",
   "id": "7fca630f8ac76b9",
   "outputs": [],
   "execution_count": 3
  },
  {
   "metadata": {},
   "cell_type": "markdown",
   "source": "#### Answer scores distribution",
   "id": "76303f8dd6ce4c83"
  },
  {
   "metadata": {
    "ExecuteTime": {
     "end_time": "2025-05-26T16:21:39.708907Z",
     "start_time": "2025-05-26T16:21:39.694560Z"
    }
   },
   "cell_type": "code",
   "source": [
    "answer_scores = dalip_dataset_df[dalip_dataset_df['PostTypeId'] == 2]['Score']\n",
    "answer_normalized_scores = answer_scores - answer_scores.min()"
   ],
   "id": "7fce81db8648c370",
   "outputs": [],
   "execution_count": 4
  },
  {
   "metadata": {
    "ExecuteTime": {
     "end_time": "2025-05-26T16:27:09.851812Z",
     "start_time": "2025-05-26T16:27:09.820535Z"
    }
   },
   "cell_type": "code",
   "source": "31656 / len(answer_scores)",
   "id": "f1cd1b3e45948431",
   "outputs": [
    {
     "data": {
      "text/plain": [
       "0.5943337776693014"
      ]
     },
     "execution_count": 19,
     "metadata": {},
     "output_type": "execute_result"
    }
   ],
   "execution_count": 19
  },
  {
   "metadata": {
    "ExecuteTime": {
     "end_time": "2025-05-26T16:26:49.008837Z",
     "start_time": "2025-05-26T16:26:48.993211Z"
    }
   },
   "cell_type": "code",
   "source": "answer_scores[answer_scores.isin([0, 1])]",
   "id": "496817ff0bf87eb4",
   "outputs": [
    {
     "data": {
      "text/plain": [
       "0        0\n",
       "1        1\n",
       "3        1\n",
       "6        1\n",
       "8        1\n",
       "        ..\n",
       "62971    1\n",
       "62975    0\n",
       "62976    0\n",
       "62979    0\n",
       "62982    1\n",
       "Name: Score, Length: 31656, dtype: int64"
      ]
     },
     "execution_count": 17,
     "metadata": {},
     "output_type": "execute_result"
    }
   ],
   "execution_count": 17
  },
  {
   "metadata": {
    "ExecuteTime": {
     "end_time": "2025-05-12T17:35:42.083507Z",
     "start_time": "2025-05-12T17:35:42.067843Z"
    }
   },
   "cell_type": "code",
   "source": "answer_scores.describe()",
   "id": "45a53473bc14dc2d",
   "outputs": [
    {
     "data": {
      "text/plain": [
       "count    53263.000000\n",
       "mean         2.497099\n",
       "std          7.808388\n",
       "min        -16.000000\n",
       "25%          0.000000\n",
       "50%          1.000000\n",
       "75%          3.000000\n",
       "max        505.000000\n",
       "Name: Score, dtype: float64"
      ]
     },
     "execution_count": 5,
     "metadata": {},
     "output_type": "execute_result"
    }
   ],
   "execution_count": 5
  },
  {
   "metadata": {
    "ExecuteTime": {
     "end_time": "2025-05-12T17:35:44.044879Z",
     "start_time": "2025-05-12T17:35:43.788086Z"
    }
   },
   "cell_type": "code",
   "source": "answer_scores.hist(bins=100)",
   "id": "5af31d9b585503e0",
   "outputs": [
    {
     "data": {
      "text/plain": [
       "<AxesSubplot:>"
      ]
     },
     "execution_count": 6,
     "metadata": {},
     "output_type": "execute_result"
    },
    {
     "data": {
      "text/plain": [
       "<Figure size 432x288 with 1 Axes>"
      ],
      "image/png": "[encoded data removed]"
     },
     "metadata": {},
     "output_type": "display_data"
    }
   ],
   "execution_count": 6
  },
  {
   "metadata": {
    "ExecuteTime": {
     "end_time": "2025-05-12T18:07:42.360823Z",
     "start_time": "2025-05-12T18:07:41.166433Z"
    }
   },
   "cell_type": "code",
   "source": [
    "plot = sns.displot(answer_scores[answer_scores >= 0] + 1, log_scale=True)\n",
    "plot.savefig('outputs/images/answer_scores.pdf')"
   ],
   "id": "b43763921c2a202e",
   "outputs": [
    {
     "data": {
      "text/plain": [
       "<Figure size 360x360 with 1 Axes>"
      ],
      "image/png": "[encoded data removed]"
     },
     "metadata": {},
     "output_type": "display_data"
    }
   ],
   "execution_count": 27
  },
  {
   "metadata": {
    "ExecuteTime": {
     "end_time": "2025-05-12T17:53:01.343237Z",
     "start_time": "2025-05-12T17:53:01.311985Z"
    }
   },
   "cell_type": "code",
   "source": "answer_normalized_scores.describe()",
   "id": "3e3afb2742ec7cb4",
   "outputs": [
    {
     "data": {
      "text/plain": [
       "count    53263.000000\n",
       "mean        18.497099\n",
       "std          7.808388\n",
       "min          0.000000\n",
       "25%         16.000000\n",
       "50%         17.000000\n",
       "75%         19.000000\n",
       "max        521.000000\n",
       "Name: Score, dtype: float64"
      ]
     },
     "execution_count": 22,
     "metadata": {},
     "output_type": "execute_result"
    }
   ],
   "execution_count": 22
  },
  {
   "metadata": {},
   "cell_type": "code",
   "outputs": [],
   "execution_count": 20,
   "source": "answer_log_normalized_scores = np.log1p(answer_normalized_scores)",
   "id": "8bd713db7752229b"
  },
  {
   "metadata": {
    "ExecuteTime": {
     "end_time": "2025-04-08T21:51:47.134285Z",
     "start_time": "2025-04-08T21:51:46.916627Z"
    }
   },
   "cell_type": "code",
   "source": "answer_log_normalized_scores.hist(bins=100)",
   "id": "6aef6912a6fded78",
   "outputs": [
    {
     "data": {
      "text/plain": [
       "<AxesSubplot:>"
      ]
     },
     "execution_count": 21,
     "metadata": {},
     "output_type": "execute_result"
    },
    {
     "data": {
      "text/plain": [
       "<Figure size 432x288 with 1 Axes>"
      ],
      "image/png": "[encoded data removed]"
     },
     "metadata": {},
     "output_type": "display_data"
    }
   ],
   "execution_count": 21
  },
  {
   "metadata": {},
   "cell_type": "markdown",
   "source": "#### What is the rank of the accepted answers?",
   "id": "cd5296f64e24722d"
  },
  {
   "metadata": {
    "ExecuteTime": {
     "end_time": "2025-04-15T13:18:05.381445Z",
     "start_time": "2025-04-15T13:18:04.778540Z"
    }
   },
   "cell_type": "code",
   "source": "import datasets",
   "id": "27979ea4dec656f4",
   "outputs": [],
   "execution_count": 4
  },
  {
   "metadata": {
    "ExecuteTime": {
     "end_time": "2025-04-15T13:18:05.419709Z",
     "start_time": "2025-04-15T13:18:05.381445Z"
    }
   },
   "cell_type": "code",
   "source": "hf_dataset = datasets.load_from_disk(CONFIG['paths']['data']['dalip_hf_dataset'])",
   "id": "2766c52ac868ff48",
   "outputs": [],
   "execution_count": 5
  },
  {
   "metadata": {
    "ExecuteTime": {
     "end_time": "2025-04-09T16:05:08.229114Z",
     "start_time": "2025-04-09T16:05:08.108857Z"
    }
   },
   "cell_type": "code",
   "source": "dataset_df = pd.concat([hf_dataset['train'].to_pandas(), hf_dataset['test'].to_pandas()])",
   "id": "b8b651467ede72d0",
   "outputs": [],
   "execution_count": 15
  },
  {
   "metadata": {
    "ExecuteTime": {
     "end_time": "2025-04-09T16:19:17.405090Z",
     "start_time": "2025-04-09T16:19:17.392081Z"
    }
   },
   "cell_type": "code",
   "source": "dataset_df['answer_rank'] = dataset_df.groupby('question_id')['answer_score'].rank(method='average', ascending=False)",
   "id": "e30d8775fc36d15a",
   "outputs": [],
   "execution_count": 24
  },
  {
   "metadata": {
    "ExecuteTime": {
     "end_time": "2025-04-09T16:22:03.135800Z",
     "start_time": "2025-04-09T16:22:02.981765Z"
    }
   },
   "cell_type": "code",
   "source": "dataset_df[dataset_df['answer_accepted'] == True]['answer_rank'].hist(bins=30)",
   "id": "818f5e097a4a79f5",
   "outputs": [
    {
     "data": {
      "text/plain": [
       "<AxesSubplot:>"
      ]
     },
     "execution_count": 32,
     "metadata": {},
     "output_type": "execute_result"
    },
    {
     "data": {
      "text/plain": [
       "<Figure size 432x288 with 1 Axes>"
      ],
      "image/png": "[encoded data removed]"
     },
     "metadata": {},
     "output_type": "display_data"
    }
   ],
   "execution_count": 32
  },
  {
   "metadata": {
    "ExecuteTime": {
     "end_time": "2025-04-09T16:20:53.130134Z",
     "start_time": "2025-04-09T16:20:53.114511Z"
    }
   },
   "cell_type": "code",
   "source": "dataset_df[dataset_df['answer_accepted'] == True]['answer_rank'].value_counts(normalize=True)",
   "id": "555e9a2f97c69f5a",
   "outputs": [
    {
     "data": {
      "text/plain": [
       "1.0     0.561891\n",
       "2.0     0.133129\n",
       "1.5     0.104019\n",
       "3.0     0.059688\n",
       "2.5     0.053278\n",
       "3.5     0.035252\n",
       "4.0     0.024169\n",
       "4.5     0.011350\n",
       "5.0     0.006944\n",
       "6.0     0.002938\n",
       "5.5     0.002537\n",
       "6.5     0.001869\n",
       "7.0     0.001602\n",
       "9.0     0.000401\n",
       "7.5     0.000267\n",
       "8.0     0.000267\n",
       "8.5     0.000134\n",
       "9.5     0.000134\n",
       "10.0    0.000134\n",
       "Name: answer_rank, dtype: float64"
      ]
     },
     "execution_count": 28,
     "metadata": {},
     "output_type": "execute_result"
    }
   ],
   "execution_count": 28
  },
  {
   "metadata": {},
   "cell_type": "markdown",
   "source": "#### How many questions have answers with uniform scores?",
   "id": "e3aa15ff528706bb"
  },
  {
   "metadata": {
    "ExecuteTime": {
     "end_time": "2025-03-27T13:13:18.082803Z",
     "start_time": "2025-03-27T13:13:18.044772Z"
    }
   },
   "cell_type": "code",
   "source": [
    "unique_answer_score_counts = dalip_dataset_df[dalip_dataset_df['PostTypeId'] == 2].groupby('ParentId')[\n",
    "    'Score'].nunique().reset_index(name='unique_answer_score_count')\n",
    "uniform_questions = unique_answer_score_counts['ParentId'][unique_answer_score_counts['unique_answer_score_count'] == 1]\n",
    "len(uniform_questions)"
   ],
   "id": "90e104e12a668963",
   "outputs": [
    {
     "data": {
      "text/plain": [
       "75"
      ]
     },
     "execution_count": 61,
     "metadata": {},
     "output_type": "execute_result"
    }
   ],
   "execution_count": 61
  },
  {
   "metadata": {},
   "cell_type": "markdown",
   "source": "#### What answer scores are uniform?",
   "id": "83399221d34079ae"
  },
  {
   "metadata": {
    "ExecuteTime": {
     "end_time": "2025-03-27T13:27:05.773043Z",
     "start_time": "2025-03-27T13:27:05.741830Z"
    }
   },
   "cell_type": "code",
   "source": "dalip_dataset_df[dalip_dataset_df['ParentId'].isin(uniform_questions)].groupby('ParentId')['Score'].unique().value_counts()",
   "id": "3abfc2806df6d5ad",
   "outputs": [
    {
     "data": {
      "text/plain": [
       "[1]    72\n",
       "[2]     3\n",
       "Name: Score, dtype: int64"
      ]
     },
     "execution_count": 77,
     "metadata": {},
     "output_type": "execute_result"
    }
   ],
   "execution_count": 77
  },
  {
   "metadata": {
    "ExecuteTime": {
     "end_time": "2025-03-22T12:06:34.443674Z",
     "start_time": "2025-03-22T12:06:34.421664Z"
    }
   },
   "cell_type": "code",
   "source": "dalip_dataset_df[dalip_dataset_df['PostTypeId'] == 2]['Title'].isna().value_counts()",
   "id": "949a8df8f759c336",
   "outputs": [
    {
     "data": {
      "text/plain": [
       "True    53263\n",
       "Name: Title, dtype: int64"
      ]
     },
     "execution_count": 20,
     "metadata": {},
     "output_type": "execute_result"
    }
   ],
   "execution_count": 20
  },
  {
   "metadata": {
    "ExecuteTime": {
     "end_time": "2025-03-25T16:36:13.750667Z",
     "start_time": "2025-03-25T16:36:13.662669Z"
    }
   },
   "cell_type": "code",
   "source": "dalip_dataset_df.groupby('PostTypeId').apply(lambda x: x.notna().sum())",
   "id": "ac1d58d3953d10e6",
   "outputs": [
    {
     "data": {
      "text/plain": [
       "               Id  PostTypeId  AcceptedAnswerId  ParentId  CreationDate  \\\n",
       "PostTypeId                                                                \n",
       "1            9721        9721              7489         0          9721   \n",
       "2           53263       53263                 0     53263         53263   \n",
       "\n",
       "            Score  ViewCount   Body  OwnerUserId  OwnerDisplayName  ...  \\\n",
       "PostTypeId                                                          ...   \n",
       "1            9721       9721   9721         9414              1531  ...   \n",
       "2           53263          0  53263        52454              8699  ...   \n",
       "\n",
       "            LastEditDate  LastActivityDate  Title  Tags  AnswerCount  \\\n",
       "PostTypeId                                                             \n",
       "1                   5647              9721   9721  9721         9721   \n",
       "2                  11299             53263      0     1            0   \n",
       "\n",
       "            CommentCount  FavoriteCount  ClosedDate  CommunityOwnedDate  \\\n",
       "PostTypeId                                                                \n",
       "1                   5759           4475         294                 174   \n",
       "2                  22349              0           0                1928   \n",
       "\n",
       "            RowNum  \n",
       "PostTypeId          \n",
       "1             9721  \n",
       "2            53263  \n",
       "\n",
       "[2 rows x 22 columns]"
      ],
      "text/html": [
       "<div>\n",
       "<style scoped>\n",
       "    .dataframe tbody tr th:only-of-type {\n",
       "        vertical-align: middle;\n",
       "    }\n",
       "\n",
       "    .dataframe tbody tr th {\n",
       "        vertical-align: top;\n",
       "    }\n",
       "\n",
       "    .dataframe thead th {\n",
       "        text-align: right;\n",
       "    }\n",
       "</style>\n",
       "<table border=\"1\" class=\"dataframe\">\n",
       "  <thead>\n",
       "    <tr style=\"text-align: right;\">\n",
       "      <th></th>\n",
       "      <th>Id</th>\n",
       "      <th>PostTypeId</th>\n",
       "      <th>AcceptedAnswerId</th>\n",
       "      <th>ParentId</th>\n",
       "      <th>CreationDate</th>\n",
       "      <th>Score</th>\n",
       "      <th>ViewCount</th>\n",
       "      <th>Body</th>\n",
       "      <th>OwnerUserId</th>\n",
       "      <th>OwnerDisplayName</th>\n",
       "      <th>...</th>\n",
       "      <th>LastEditDate</th>\n",
       "      <th>LastActivityDate</th>\n",
       "      <th>Title</th>\n",
       "      <th>Tags</th>\n",
       "      <th>AnswerCount</th>\n",
       "      <th>CommentCount</th>\n",
       "      <th>FavoriteCount</th>\n",
       "      <th>ClosedDate</th>\n",
       "      <th>CommunityOwnedDate</th>\n",
       "      <th>RowNum</th>\n",
       "    </tr>\n",
       "    <tr>\n",
       "      <th>PostTypeId</th>\n",
       "      <th></th>\n",
       "      <th></th>\n",
       "      <th></th>\n",
       "      <th></th>\n",
       "      <th></th>\n",
       "      <th></th>\n",
       "      <th></th>\n",
       "      <th></th>\n",
       "      <th></th>\n",
       "      <th></th>\n",
       "      <th></th>\n",
       "      <th></th>\n",
       "      <th></th>\n",
       "      <th></th>\n",
       "      <th></th>\n",
       "      <th></th>\n",
       "      <th></th>\n",
       "      <th></th>\n",
       "      <th></th>\n",
       "      <th></th>\n",
       "      <th></th>\n",
       "    </tr>\n",
       "  </thead>\n",
       "  <tbody>\n",
       "    <tr>\n",
       "      <th>1</th>\n",
       "      <td>9721</td>\n",
       "      <td>9721</td>\n",
       "      <td>7489</td>\n",
       "      <td>0</td>\n",
       "      <td>9721</td>\n",
       "      <td>9721</td>\n",
       "      <td>9721</td>\n",
       "      <td>9721</td>\n",
       "      <td>9414</td>\n",
       "      <td>1531</td>\n",
       "      <td>...</td>\n",
       "      <td>5647</td>\n",
       "      <td>9721</td>\n",
       "      <td>9721</td>\n",
       "      <td>9721</td>\n",
       "      <td>9721</td>\n",
       "      <td>5759</td>\n",
       "      <td>4475</td>\n",
       "      <td>294</td>\n",
       "      <td>174</td>\n",
       "      <td>9721</td>\n",
       "    </tr>\n",
       "    <tr>\n",
       "      <th>2</th>\n",
       "      <td>53263</td>\n",
       "      <td>53263</td>\n",
       "      <td>0</td>\n",
       "      <td>53263</td>\n",
       "      <td>53263</td>\n",
       "      <td>53263</td>\n",
       "      <td>0</td>\n",
       "      <td>53263</td>\n",
       "      <td>52454</td>\n",
       "      <td>8699</td>\n",
       "      <td>...</td>\n",
       "      <td>11299</td>\n",
       "      <td>53263</td>\n",
       "      <td>0</td>\n",
       "      <td>1</td>\n",
       "      <td>0</td>\n",
       "      <td>22349</td>\n",
       "      <td>0</td>\n",
       "      <td>0</td>\n",
       "      <td>1928</td>\n",
       "      <td>53263</td>\n",
       "    </tr>\n",
       "  </tbody>\n",
       "</table>\n",
       "<p>2 rows × 22 columns</p>\n",
       "</div>"
      ]
     },
     "execution_count": 19,
     "metadata": {},
     "output_type": "execute_result"
    }
   ],
   "execution_count": 19
  },
  {
   "metadata": {},
   "cell_type": "markdown",
   "source": "#### Number of answers per question",
   "id": "465d957402328c3c"
  },
  {
   "metadata": {
    "ExecuteTime": {
     "end_time": "2025-05-12T18:01:08.095477Z",
     "start_time": "2025-05-12T18:01:08.064330Z"
    }
   },
   "cell_type": "code",
   "source": "dalip_dataset_df['ParentId'].value_counts().describe()",
   "id": "ebd663ac3e9041a3",
   "outputs": [
    {
     "data": {
      "text/plain": [
       "count    9721.000000\n",
       "mean        5.479169\n",
       "std         3.068793\n",
       "min         4.000000\n",
       "25%         4.000000\n",
       "50%         5.000000\n",
       "75%         6.000000\n",
       "max        92.000000\n",
       "Name: ParentId, dtype: float64"
      ]
     },
     "execution_count": 23,
     "metadata": {},
     "output_type": "execute_result"
    }
   ],
   "execution_count": 23
  },
  {
   "metadata": {
    "ExecuteTime": {
     "end_time": "2025-05-12T18:01:22.189900Z",
     "start_time": "2025-05-12T18:01:22.174311Z"
    }
   },
   "cell_type": "code",
   "source": "dalip_dataset_df['ParentId'].value_counts().quantile(0.95)",
   "id": "2ae8f98e06993759",
   "outputs": [
    {
     "data": {
      "text/plain": [
       "10.0"
      ]
     },
     "execution_count": 24,
     "metadata": {},
     "output_type": "execute_result"
    }
   ],
   "execution_count": 24
  },
  {
   "metadata": {},
   "cell_type": "markdown",
   "source": "#### Tokenized dataset analysis",
   "id": "c6df3caa8d0e37bc"
  },
  {
   "metadata": {
    "ExecuteTime": {
     "end_time": "2025-05-30T11:39:44.669362Z",
     "start_time": "2025-05-30T11:39:33.985963Z"
    }
   },
   "cell_type": "code",
   "source": [
    "from datasets import load_from_disk, concatenate_datasets\n",
    "from transformers import PreTrainedTokenizerFast\n",
    "from src.utils.text_preprocessing import Preprocessor\n",
    "from src.utils.config_management import CONFIG\n",
    "import seaborn as sns"
   ],
   "id": "4adacc2123c9f501",
   "outputs": [],
   "execution_count": 1
  },
  {
   "metadata": {
    "ExecuteTime": {
     "end_time": "2025-05-30T11:39:44.715944Z",
     "start_time": "2025-05-30T11:39:44.699536Z"
    }
   },
   "cell_type": "code",
   "source": [
    "sns.set_style('whitegrid')\n",
    "sns.set_context('notebook')"
   ],
   "id": "d004846c7d64add9",
   "outputs": [],
   "execution_count": 2
  },
  {
   "metadata": {
    "ExecuteTime": {
     "end_time": "2025-05-20T11:31:38.352263Z",
     "start_time": "2025-05-20T11:31:37.590928Z"
    }
   },
   "cell_type": "code",
   "source": [
    "hf_dataset = load_from_disk(CONFIG['paths']['data']['dalip_hf_dataset'])\n",
    "full_hf_dataset = concatenate_datasets([hf_dataset['train'], hf_dataset['test']])"
   ],
   "id": "45b6ec0889adf265",
   "outputs": [],
   "execution_count": 9
  },
  {
   "metadata": {
    "ExecuteTime": {
     "end_time": "2025-05-20T16:56:25.155872Z",
     "start_time": "2025-05-20T16:56:08.329864Z"
    }
   },
   "cell_type": "code",
   "source": [
    "train_df = pd.DataFrame(hf_dataset['train'])\n",
    "test_df = pd.DataFrame(hf_dataset['test'])"
   ],
   "id": "595bcee8f4b11865",
   "outputs": [],
   "execution_count": 74
  },
  {
   "metadata": {
    "ExecuteTime": {
     "end_time": "2025-05-20T16:58:00.308654Z",
     "start_time": "2025-05-20T16:58:00.293027Z"
    }
   },
   "cell_type": "code",
   "source": "len(test_df)",
   "id": "9351ca06c3874a0d",
   "outputs": [
    {
     "data": {
      "text/plain": [
       "10563"
      ]
     },
     "execution_count": 79,
     "metadata": {},
     "output_type": "execute_result"
    }
   ],
   "execution_count": 79
  },
  {
   "metadata": {
    "ExecuteTime": {
     "end_time": "2025-05-20T11:31:39.513036Z",
     "start_time": "2025-05-20T11:31:39.497395Z"
    }
   },
   "cell_type": "code",
   "source": "preprocessor = Preprocessor(preserve_html_tags=['code'])",
   "id": "d5b1d5ac98b0fa7f",
   "outputs": [],
   "execution_count": 10
  },
  {
   "metadata": {
    "ExecuteTime": {
     "end_time": "2025-05-20T11:31:40.623846Z",
     "start_time": "2025-05-20T11:31:39.887468Z"
    }
   },
   "cell_type": "code",
   "source": "full_hf_dataset = full_hf_dataset.map(preprocessor, batched=True)",
   "id": "fd5715d78a5f3259",
   "outputs": [],
   "execution_count": 11
  },
  {
   "metadata": {
    "ExecuteTime": {
     "end_time": "2025-05-20T11:32:14.008534Z",
     "start_time": "2025-05-20T11:31:42.966009Z"
    }
   },
   "cell_type": "code",
   "source": "full_hf_dataset_df = pd.DataFrame(full_hf_dataset)",
   "id": "ca2493936ddaf690",
   "outputs": [],
   "execution_count": 12
  },
  {
   "metadata": {
    "ExecuteTime": {
     "end_time": "2025-05-20T11:32:15.002091Z",
     "start_time": "2025-05-20T11:32:14.060451Z"
    }
   },
   "cell_type": "code",
   "source": "tokenizer = PreTrainedTokenizerFast.from_pretrained('mmukh/SOBertBase')",
   "id": "6c774b04d4cfd88c",
   "outputs": [],
   "execution_count": 13
  },
  {
   "metadata": {
    "ExecuteTime": {
     "end_time": "2025-05-20T11:33:40.426970Z",
     "start_time": "2025-05-20T11:32:15.083383Z"
    }
   },
   "cell_type": "code",
   "source": [
    "full_hf_dataset_df['tokenized_question_text'] = full_hf_dataset_df['question_text'].apply(lambda x: tokenizer(x)['input_ids'])\n",
    "full_hf_dataset_df['tokenized_answer_text'] = full_hf_dataset_df['answer_text'].apply(lambda x: tokenizer(x)['input_ids'])"
   ],
   "id": "3f2dbf88b1434c49",
   "outputs": [
    {
     "name": "stderr",
     "output_type": "stream",
     "text": [
      "Token indices sequence length is longer than the specified maximum sequence length for this model (2103 > 2048). Running this sequence through the model will result in indexing errors\n"
     ]
    }
   ],
   "execution_count": 14
  },
  {
   "metadata": {
    "ExecuteTime": {
     "end_time": "2025-05-20T11:33:40.762835Z",
     "start_time": "2025-05-20T11:33:40.577346Z"
    }
   },
   "cell_type": "code",
   "source": [
    "full_hf_dataset_df['tokenized_question_text_len'] = full_hf_dataset_df['tokenized_question_text'].apply(len)\n",
    "full_hf_dataset_df['tokenized_answer_text_len'] = full_hf_dataset_df['tokenized_answer_text'].apply(len)\n",
    "\n",
    "full_hf_dataset_df['answer_question_len_delta'] = full_hf_dataset_df['tokenized_answer_text_len'] - \\\n",
    "                                                  full_hf_dataset_df['tokenized_question_text_len']\n",
    "\n",
    "MAX_LENGTH = 1024\n",
    "full_hf_dataset_df['question_text_len_extra'] = full_hf_dataset_df['tokenized_question_text_len'].apply(\n",
    "    lambda x: max(0, x - MAX_LENGTH))\n",
    "full_hf_dataset_df['answer_text_len_extra'] = full_hf_dataset_df['tokenized_answer_text_len'].apply(\n",
    "    lambda x: max(0, x - MAX_LENGTH))"
   ],
   "id": "ad0f29bd0cb1d20a",
   "outputs": [],
   "execution_count": 15
  },
  {
   "metadata": {
    "ExecuteTime": {
     "end_time": "2025-05-20T12:23:34.385860Z",
     "start_time": "2025-05-20T12:23:30.796635Z"
    }
   },
   "cell_type": "code",
   "source": [
    "ax = sns.histplot(data=full_hf_dataset_df[(full_hf_dataset_df['tokenized_question_text_len'] <= 2048) &\n",
    "                                     (full_hf_dataset_df['tokenized_answer_text_len'] <= 2048)],\n",
    "             x='tokenized_question_text_len', y='tokenized_answer_text_len',\n",
    "             cbar=True)\n",
    "ax.get_figure().savefig('outputs/images/tokenized_qa_len.pdf')"
   ],
   "id": "cb862a600e4b13b0",
   "outputs": [
    {
     "data": {
      "text/plain": [
       "<Figure size 432x288 with 2 Axes>"
      ],
      "image/png": "[encoded data removed]"
     },
     "metadata": {},
     "output_type": "display_data"
    }
   ],
   "execution_count": 62
  },
  {
   "metadata": {
    "ExecuteTime": {
     "end_time": "2025-05-20T11:48:15.896442Z",
     "start_time": "2025-05-20T11:48:14.969562Z"
    }
   },
   "cell_type": "code",
   "source": [
    "plot = sns.scatterplot(data=full_hf_dataset_df[full_hf_dataset_df['tokenized_question_text_len'] <= 1024],\n",
    "                x='tokenized_question_text_len', y='tokenized_answer_text_len')"
   ],
   "id": "d1af4af3a76984cf",
   "outputs": [
    {
     "data": {
      "text/plain": [
       "<Figure size 432x288 with 1 Axes>"
      ],
      "image/png": "[encoded data removed]"
     },
     "metadata": {
      "needs_background": "light"
     },
     "output_type": "display_data"
    }
   ],
   "execution_count": 25
  },
  {
   "metadata": {
    "ExecuteTime": {
     "end_time": "2025-04-30T17:47:47.032653Z",
     "start_time": "2025-04-30T17:47:46.819711Z"
    }
   },
   "cell_type": "code",
   "source": [
    "sns.scatterplot(data=full_hf_dataset_df,\n",
    "                x='tokenized_question_text_len', y='answer_question_len_delta')"
   ],
   "id": "4f299902f808e19e",
   "outputs": [
    {
     "data": {
      "text/plain": [
       "<AxesSubplot:xlabel='tokenized_question_text_len', ylabel='answer_question_len_delta'>"
      ]
     },
     "execution_count": 71,
     "metadata": {},
     "output_type": "execute_result"
    },
    {
     "data": {
      "text/plain": [
       "<Figure size 432x288 with 1 Axes>"
      ],
      "image/png": "[encoded data removed]"
     },
     "metadata": {},
     "output_type": "display_data"
    }
   ],
   "execution_count": 71
  },
  {
   "metadata": {
    "ExecuteTime": {
     "end_time": "2025-05-20T11:45:22.958294Z",
     "start_time": "2025-05-20T11:45:22.598720Z"
    }
   },
   "cell_type": "code",
   "source": [
    "sns.scatterplot(data=full_hf_dataset_df,\n",
    "                x='question_text_len_extra', y='answer_text_len_extra')"
   ],
   "id": "bada49c9abb97605",
   "outputs": [
    {
     "data": {
      "text/plain": [
       "<Axes: xlabel='question_text_len_extra', ylabel='answer_text_len_extra'>"
      ]
     },
     "execution_count": 20,
     "metadata": {},
     "output_type": "execute_result"
    },
    {
     "data": {
      "text/plain": [
       "<Figure size 432x288 with 1 Axes>"
      ],
      "image/png": "[encoded data removed]"
     },
     "metadata": {
      "needs_background": "light"
     },
     "output_type": "display_data"
    }
   ],
   "execution_count": 20
  },
  {
   "metadata": {
    "ExecuteTime": {
     "end_time": "2025-05-20T12:31:26.255904Z",
     "start_time": "2025-05-20T12:31:25.664636Z"
    }
   },
   "cell_type": "code",
   "source": [
    "ax = sns.histplot(data=full_hf_dataset_df[full_hf_dataset_df['tokenized_answer_text_len'] <= 2048],\n",
    "             x='tokenized_answer_text_len',\n",
    "            bins=100)\n",
    "ax.get_figure().savefig('outputs/images/tokenized_answer_len.pdf')"
   ],
   "id": "98cff663c0a10a27",
   "outputs": [
    {
     "data": {
      "text/plain": [
       "<Figure size 432x288 with 1 Axes>"
      ],
      "image/png": "[encoded data removed]"
     },
     "metadata": {},
     "output_type": "display_data"
    }
   ],
   "execution_count": 71
  },
  {
   "metadata": {
    "ExecuteTime": {
     "end_time": "2025-04-30T17:50:43.539760Z",
     "start_time": "2025-04-30T17:50:43.508509Z"
    }
   },
   "cell_type": "code",
   "source": "full_hf_dataset_df['tokenized_answer_text_len'].describe()",
   "id": "a44ad5a8d5aa4067",
   "outputs": [
    {
     "data": {
      "text/plain": [
       "count    53263.000000\n",
       "mean       153.416067\n",
       "std        237.140817\n",
       "min          2.000000\n",
       "25%         50.000000\n",
       "50%         94.000000\n",
       "75%        177.000000\n",
       "max      12990.000000\n",
       "Name: tokenized_answer_text_len, dtype: float64"
      ]
     },
     "execution_count": 72,
     "metadata": {},
     "output_type": "execute_result"
    }
   ],
   "execution_count": 72
  },
  {
   "metadata": {
    "ExecuteTime": {
     "end_time": "2025-04-30T17:50:53.298327Z",
     "start_time": "2025-04-30T17:50:53.282704Z"
    }
   },
   "cell_type": "code",
   "source": "full_hf_dataset_df['tokenized_answer_text_len'].quantile(0.95)",
   "id": "8df246e100db649a",
   "outputs": [
    {
     "data": {
      "text/plain": [
       "458.0"
      ]
     },
     "execution_count": 73,
     "metadata": {},
     "output_type": "execute_result"
    }
   ],
   "execution_count": 73
  },
  {
   "metadata": {
    "ExecuteTime": {
     "end_time": "2025-05-20T12:13:11.062499Z",
     "start_time": "2025-05-20T12:13:06.609145Z"
    }
   },
   "cell_type": "code",
   "source": [
    "tokenized_question_texts = pd.Series(full_hf_dataset_df['question_text'].unique()).apply(lambda x: tokenizer(x)['input_ids'])\n",
    "tokenized_question_lens_df = pd.DataFrame({'tokenized_question_text_len': tokenized_question_texts.apply(len)})"
   ],
   "id": "81a6862d2c188821",
   "outputs": [],
   "execution_count": 50
  },
  {
   "metadata": {
    "ExecuteTime": {
     "end_time": "2025-05-20T12:32:23.911140Z",
     "start_time": "2025-05-20T12:32:23.436005Z"
    }
   },
   "cell_type": "code",
   "source": [
    "ax = sns.histplot(data=tokenized_question_lens_df[tokenized_question_lens_df['tokenized_question_text_len'] <= 2048],\n",
    "             x='tokenized_question_text_len',\n",
    "            bins=100)\n",
    "ax.get_figure().savefig('outputs/images/tokenized_question_len.pdf')"
   ],
   "id": "99a6edf6250d57a4",
   "outputs": [
    {
     "data": {
      "text/plain": [
       "<Figure size 432x288 with 1 Axes>"
      ],
      "image/png": "[encoded data removed]"
     },
     "metadata": {},
     "output_type": "display_data"
    }
   ],
   "execution_count": 72
  },
  {
   "metadata": {
    "ExecuteTime": {
     "end_time": "2025-04-30T17:32:17.304314Z",
     "start_time": "2025-04-30T17:32:17.288659Z"
    }
   },
   "cell_type": "code",
   "source": "tokenized_question_texts.apply(len).describe()",
   "id": "4fda24c1e19bead9",
   "outputs": [
    {
     "data": {
      "text/plain": [
       "count     9721.000000\n",
       "mean       259.174365\n",
       "std        378.331916\n",
       "min         14.000000\n",
       "25%         95.000000\n",
       "50%        166.000000\n",
       "75%        292.000000\n",
       "max      11625.000000\n",
       "dtype: float64"
      ]
     },
     "execution_count": 52,
     "metadata": {},
     "output_type": "execute_result"
    }
   ],
   "execution_count": 52
  },
  {
   "metadata": {
    "ExecuteTime": {
     "end_time": "2025-04-30T17:32:33.005404Z",
     "start_time": "2025-04-30T17:32:32.989768Z"
    }
   },
   "cell_type": "code",
   "source": "tokenized_question_texts.apply(len).quantile(0.95)",
   "id": "380e99088241bc29",
   "outputs": [
    {
     "data": {
      "text/plain": [
       "744.0"
      ]
     },
     "execution_count": 53,
     "metadata": {},
     "output_type": "execute_result"
    }
   ],
   "execution_count": 53
  },
  {
   "metadata": {},
   "cell_type": "markdown",
   "source": "#### Posts creation date",
   "id": "21b87f14cefd10bc"
  },
  {
   "metadata": {
    "ExecuteTime": {
     "end_time": "2025-04-29T21:10:33.645552Z",
     "start_time": "2025-04-29T21:10:33.598702Z"
    }
   },
   "cell_type": "code",
   "source": "pd.to_datetime(dalip_dataset_df['CreationDate']).describe(datetime_is_numeric=True)",
   "id": "7f63d06df956949a",
   "outputs": [
    {
     "data": {
      "text/plain": [
       "count                            62984\n",
       "mean     2010-06-12 00:55:32.440079872\n",
       "min                2008-08-03 11:50:33\n",
       "25%         2009-07-24 16:30:17.500000\n",
       "50%                2010-06-15 21:35:22\n",
       "75%      2011-05-04 14:56:59.750000128\n",
       "max                2012-03-14 01:22:07\n",
       "Name: CreationDate, dtype: object"
      ]
     },
     "execution_count": 12,
     "metadata": {},
     "output_type": "execute_result"
    }
   ],
   "execution_count": 12
  },
  {
   "metadata": {},
   "cell_type": "markdown",
   "source": "#### Intra-question scores distribution",
   "id": "8d2da93c9986399c"
  },
  {
   "metadata": {
    "ExecuteTime": {
     "end_time": "2025-05-30T11:40:09.976158Z",
     "start_time": "2025-05-30T11:40:09.968061Z"
    }
   },
   "cell_type": "code",
   "source": [
    "from datasets import load_from_disk, concatenate_datasets\n",
    "from src.utils.config_management import CONFIG\n",
    "import pandas as pd\n",
    "import seaborn as sns"
   ],
   "id": "323b13743bd35e09",
   "outputs": [],
   "execution_count": 6
  },
  {
   "metadata": {
    "ExecuteTime": {
     "end_time": "2025-05-30T11:44:17.933208Z",
     "start_time": "2025-05-30T11:44:17.901957Z"
    }
   },
   "cell_type": "code",
   "source": [
    "sns.set_style('whitegrid')\n",
    "sns.set_context('notebook')"
   ],
   "id": "2bc1d1d7c8373c62",
   "outputs": [],
   "execution_count": 24
  },
  {
   "metadata": {
    "ExecuteTime": {
     "end_time": "2025-05-30T11:40:21.973789Z",
     "start_time": "2025-05-30T11:40:10.685259Z"
    }
   },
   "cell_type": "code",
   "source": [
    "hf_dataset = load_from_disk(CONFIG['paths']['data']['dalip_hf_dataset'])\n",
    "full_hf_dataset = concatenate_datasets([hf_dataset['train'], hf_dataset['test']])\n",
    "full_hf_dataset_df = pd.DataFrame(full_hf_dataset)\n",
    "full_hf_dataset_df = full_hf_dataset_df.select_dtypes(exclude=['object'])"
   ],
   "id": "af2697aa391684a6",
   "outputs": [],
   "execution_count": 7
  },
  {
   "metadata": {
    "ExecuteTime": {
     "end_time": "2025-05-30T11:40:22.036310Z",
     "start_time": "2025-05-30T11:40:22.005035Z"
    }
   },
   "cell_type": "code",
   "source": "full_hf_dataset_df['answer_rank'] = full_hf_dataset_df.groupby('question_id')['answer_score'].rank(method='dense', ascending=False).astype(int)",
   "id": "7c85fa27225575af",
   "outputs": [],
   "execution_count": 8
  },
  {
   "metadata": {
    "ExecuteTime": {
     "end_time": "2025-05-30T11:40:22.160811Z",
     "start_time": "2025-05-30T11:40:22.092293Z"
    }
   },
   "cell_type": "code",
   "source": "full_hf_dataset_df.groupby('answer_rank')['answer_score'].describe()",
   "id": "c7af8429576c974c",
   "outputs": [
    {
     "data": {
      "text/plain": [
       "               count      mean        std   min   25%  50%  75%    max\n",
       "answer_rank                                                           \n",
       "1            12217.0  6.005075  13.678552   0.0  2.00  3.0  6.0  505.0\n",
       "2            16720.0  1.931340   5.465809  -4.0  0.00  1.0  2.0  269.0\n",
       "3            12350.0  1.099676   3.180156  -7.0  0.00  0.0  1.0  137.0\n",
       "4             6002.0  0.917194   3.008067  -9.0  0.00  0.0  1.0   95.0\n",
       "5             2424.0  1.145215   3.689165  -7.0  0.00  0.0  1.0   91.0\n",
       "6             1166.0  1.314751   3.626025  -7.0  0.00  0.0  1.0   53.0\n",
       "7              690.0  1.443478   3.964336  -5.0  0.00  0.0  2.0   51.0\n",
       "8              407.0  1.651106   4.417402 -16.0  0.00  1.0  2.0   44.0\n",
       "9              259.0  1.868726   4.103098  -5.0  0.00  1.0  2.0   28.0\n",
       "10             192.0  2.057292   3.645531  -7.0  0.00  1.0  2.0   23.0\n",
       "11             173.0  1.624277   3.164647  -3.0  0.00  0.0  2.0   19.0\n",
       "12             113.0  1.982301   3.275947  -2.0  0.00  1.0  2.0   16.0\n",
       "13             106.0  1.660377   3.236361  -8.0  0.00  0.0  2.0   14.0\n",
       "14              72.0  2.236111   3.110605   0.0  0.00  1.0  3.0   13.0\n",
       "15              49.0  2.408163   2.900563   0.0  0.00  2.0  3.0   11.0\n",
       "16              38.0  2.842105   2.716579  -6.0  1.25  2.0  5.0   10.0\n",
       "17              49.0  1.755102   2.174958   0.0  1.00  1.0  2.0    9.0\n",
       "18              37.0  1.081081   2.203260  -1.0  0.00  0.0  1.0    8.0\n",
       "19              27.0  2.888889   2.423179  -1.0  2.00  3.0  5.0    7.0\n",
       "20              21.0  1.333333   2.198484  -4.0  1.00  1.0  3.0    6.0\n",
       "21              37.0  1.135135   1.436859  -4.0  1.00  1.0  2.0    5.0\n",
       "22              29.0  1.068966   1.099709   0.0  1.00  1.0  1.0    4.0\n",
       "23              28.0  0.285714   0.975900  -1.0  0.00  0.0  0.0    3.0\n",
       "24              10.0  1.000000   2.108185  -3.0  2.00  2.0  2.0    2.0\n",
       "25              20.0  0.750000   1.118034  -4.0  1.00  1.0  1.0    1.0\n",
       "26              26.0  0.000000   0.000000   0.0  0.00  0.0  0.0    0.0\n",
       "27               1.0 -1.000000        NaN  -1.0 -1.00 -1.0 -1.0   -1.0"
      ],
      "text/html": [
       "<div>\n",
       "<style scoped>\n",
       "    .dataframe tbody tr th:only-of-type {\n",
       "        vertical-align: middle;\n",
       "    }\n",
       "\n",
       "    .dataframe tbody tr th {\n",
       "        vertical-align: top;\n",
       "    }\n",
       "\n",
       "    .dataframe thead th {\n",
       "        text-align: right;\n",
       "    }\n",
       "</style>\n",
       "<table border=\"1\" class=\"dataframe\">\n",
       "  <thead>\n",
       "    <tr style=\"text-align: right;\">\n",
       "      <th></th>\n",
       "      <th>count</th>\n",
       "      <th>mean</th>\n",
       "      <th>std</th>\n",
       "      <th>min</th>\n",
       "      <th>25%</th>\n",
       "      <th>50%</th>\n",
       "      <th>75%</th>\n",
       "      <th>max</th>\n",
       "    </tr>\n",
       "    <tr>\n",
       "      <th>answer_rank</th>\n",
       "      <th></th>\n",
       "      <th></th>\n",
       "      <th></th>\n",
       "      <th></th>\n",
       "      <th></th>\n",
       "      <th></th>\n",
       "      <th></th>\n",
       "      <th></th>\n",
       "    </tr>\n",
       "  </thead>\n",
       "  <tbody>\n",
       "    <tr>\n",
       "      <th>1</th>\n",
       "      <td>12217.0</td>\n",
       "      <td>6.005075</td>\n",
       "      <td>13.678552</td>\n",
       "      <td>0.0</td>\n",
       "      <td>2.00</td>\n",
       "      <td>3.0</td>\n",
       "      <td>6.0</td>\n",
       "      <td>505.0</td>\n",
       "    </tr>\n",
       "    <tr>\n",
       "      <th>2</th>\n",
       "      <td>16720.0</td>\n",
       "      <td>1.931340</td>\n",
       "      <td>5.465809</td>\n",
       "      <td>-4.0</td>\n",
       "      <td>0.00</td>\n",
       "      <td>1.0</td>\n",
       "      <td>2.0</td>\n",
       "      <td>269.0</td>\n",
       "    </tr>\n",
       "    <tr>\n",
       "      <th>3</th>\n",
       "      <td>12350.0</td>\n",
       "      <td>1.099676</td>\n",
       "      <td>3.180156</td>\n",
       "      <td>-7.0</td>\n",
       "      <td>0.00</td>\n",
       "      <td>0.0</td>\n",
       "      <td>1.0</td>\n",
       "      <td>137.0</td>\n",
       "    </tr>\n",
       "    <tr>\n",
       "      <th>4</th>\n",
       "      <td>6002.0</td>\n",
       "      <td>0.917194</td>\n",
       "      <td>3.008067</td>\n",
       "      <td>-9.0</td>\n",
       "      <td>0.00</td>\n",
       "      <td>0.0</td>\n",
       "      <td>1.0</td>\n",
       "      <td>95.0</td>\n",
       "    </tr>\n",
       "    <tr>\n",
       "      <th>5</th>\n",
       "      <td>2424.0</td>\n",
       "      <td>1.145215</td>\n",
       "      <td>3.689165</td>\n",
       "      <td>-7.0</td>\n",
       "      <td>0.00</td>\n",
       "      <td>0.0</td>\n",
       "      <td>1.0</td>\n",
       "      <td>91.0</td>\n",
       "    </tr>\n",
       "    <tr>\n",
       "      <th>6</th>\n",
       "      <td>1166.0</td>\n",
       "      <td>1.314751</td>\n",
       "      <td>3.626025</td>\n",
       "      <td>-7.0</td>\n",
       "      <td>0.00</td>\n",
       "      <td>0.0</td>\n",
       "      <td>1.0</td>\n",
       "      <td>53.0</td>\n",
       "    </tr>\n",
       "    <tr>\n",
       "      <th>7</th>\n",
       "      <td>690.0</td>\n",
       "      <td>1.443478</td>\n",
       "      <td>3.964336</td>\n",
       "      <td>-5.0</td>\n",
       "      <td>0.00</td>\n",
       "      <td>0.0</td>\n",
       "      <td>2.0</td>\n",
       "      <td>51.0</td>\n",
       "    </tr>\n",
       "    <tr>\n",
       "      <th>8</th>\n",
       "      <td>407.0</td>\n",
       "      <td>1.651106</td>\n",
       "      <td>4.417402</td>\n",
       "      <td>-16.0</td>\n",
       "      <td>0.00</td>\n",
       "      <td>1.0</td>\n",
       "      <td>2.0</td>\n",
       "      <td>44.0</td>\n",
       "    </tr>\n",
       "    <tr>\n",
       "      <th>9</th>\n",
       "      <td>259.0</td>\n",
       "      <td>1.868726</td>\n",
       "      <td>4.103098</td>\n",
       "      <td>-5.0</td>\n",
       "      <td>0.00</td>\n",
       "      <td>1.0</td>\n",
       "      <td>2.0</td>\n",
       "      <td>28.0</td>\n",
       "    </tr>\n",
       "    <tr>\n",
       "      <th>10</th>\n",
       "      <td>192.0</td>\n",
       "      <td>2.057292</td>\n",
       "      <td>3.645531</td>\n",
       "      <td>-7.0</td>\n",
       "      <td>0.00</td>\n",
       "      <td>1.0</td>\n",
       "      <td>2.0</td>\n",
       "      <td>23.0</td>\n",
       "    </tr>\n",
       "    <tr>\n",
       "      <th>11</th>\n",
       "      <td>173.0</td>\n",
       "      <td>1.624277</td>\n",
       "      <td>3.164647</td>\n",
       "      <td>-3.0</td>\n",
       "      <td>0.00</td>\n",
       "      <td>0.0</td>\n",
       "      <td>2.0</td>\n",
       "      <td>19.0</td>\n",
       "    </tr>\n",
       "    <tr>\n",
       "      <th>12</th>\n",
       "      <td>113.0</td>\n",
       "      <td>1.982301</td>\n",
       "      <td>3.275947</td>\n",
       "      <td>-2.0</td>\n",
       "      <td>0.00</td>\n",
       "      <td>1.0</td>\n",
       "      <td>2.0</td>\n",
       "      <td>16.0</td>\n",
       "    </tr>\n",
       "    <tr>\n",
       "      <th>13</th>\n",
       "      <td>106.0</td>\n",
       "      <td>1.660377</td>\n",
       "      <td>3.236361</td>\n",
       "      <td>-8.0</td>\n",
       "      <td>0.00</td>\n",
       "      <td>0.0</td>\n",
       "      <td>2.0</td>\n",
       "      <td>14.0</td>\n",
       "    </tr>\n",
       "    <tr>\n",
       "      <th>14</th>\n",
       "      <td>72.0</td>\n",
       "      <td>2.236111</td>\n",
       "      <td>3.110605</td>\n",
       "      <td>0.0</td>\n",
       "      <td>0.00</td>\n",
       "      <td>1.0</td>\n",
       "      <td>3.0</td>\n",
       "      <td>13.0</td>\n",
       "    </tr>\n",
       "    <tr>\n",
       "      <th>15</th>\n",
       "      <td>49.0</td>\n",
       "      <td>2.408163</td>\n",
       "      <td>2.900563</td>\n",
       "      <td>0.0</td>\n",
       "      <td>0.00</td>\n",
       "      <td>2.0</td>\n",
       "      <td>3.0</td>\n",
       "      <td>11.0</td>\n",
       "    </tr>\n",
       "    <tr>\n",
       "      <th>16</th>\n",
       "      <td>38.0</td>\n",
       "      <td>2.842105</td>\n",
       "      <td>2.716579</td>\n",
       "      <td>-6.0</td>\n",
       "      <td>1.25</td>\n",
       "      <td>2.0</td>\n",
       "      <td>5.0</td>\n",
       "      <td>10.0</td>\n",
       "    </tr>\n",
       "    <tr>\n",
       "      <th>17</th>\n",
       "      <td>49.0</td>\n",
       "      <td>1.755102</td>\n",
       "      <td>2.174958</td>\n",
       "      <td>0.0</td>\n",
       "      <td>1.00</td>\n",
       "      <td>1.0</td>\n",
       "      <td>2.0</td>\n",
       "      <td>9.0</td>\n",
       "    </tr>\n",
       "    <tr>\n",
       "      <th>18</th>\n",
       "      <td>37.0</td>\n",
       "      <td>1.081081</td>\n",
       "      <td>2.203260</td>\n",
       "      <td>-1.0</td>\n",
       "      <td>0.00</td>\n",
       "      <td>0.0</td>\n",
       "      <td>1.0</td>\n",
       "      <td>8.0</td>\n",
       "    </tr>\n",
       "    <tr>\n",
       "      <th>19</th>\n",
       "      <td>27.0</td>\n",
       "      <td>2.888889</td>\n",
       "      <td>2.423179</td>\n",
       "      <td>-1.0</td>\n",
       "      <td>2.00</td>\n",
       "      <td>3.0</td>\n",
       "      <td>5.0</td>\n",
       "      <td>7.0</td>\n",
       "    </tr>\n",
       "    <tr>\n",
       "      <th>20</th>\n",
       "      <td>21.0</td>\n",
       "      <td>1.333333</td>\n",
       "      <td>2.198484</td>\n",
       "      <td>-4.0</td>\n",
       "      <td>1.00</td>\n",
       "      <td>1.0</td>\n",
       "      <td>3.0</td>\n",
       "      <td>6.0</td>\n",
       "    </tr>\n",
       "    <tr>\n",
       "      <th>21</th>\n",
       "      <td>37.0</td>\n",
       "      <td>1.135135</td>\n",
       "      <td>1.436859</td>\n",
       "      <td>-4.0</td>\n",
       "      <td>1.00</td>\n",
       "      <td>1.0</td>\n",
       "      <td>2.0</td>\n",
       "      <td>5.0</td>\n",
       "    </tr>\n",
       "    <tr>\n",
       "      <th>22</th>\n",
       "      <td>29.0</td>\n",
       "      <td>1.068966</td>\n",
       "      <td>1.099709</td>\n",
       "      <td>0.0</td>\n",
       "      <td>1.00</td>\n",
       "      <td>1.0</td>\n",
       "      <td>1.0</td>\n",
       "      <td>4.0</td>\n",
       "    </tr>\n",
       "    <tr>\n",
       "      <th>23</th>\n",
       "      <td>28.0</td>\n",
       "      <td>0.285714</td>\n",
       "      <td>0.975900</td>\n",
       "      <td>-1.0</td>\n",
       "      <td>0.00</td>\n",
       "      <td>0.0</td>\n",
       "      <td>0.0</td>\n",
       "      <td>3.0</td>\n",
       "    </tr>\n",
       "    <tr>\n",
       "      <th>24</th>\n",
       "      <td>10.0</td>\n",
       "      <td>1.000000</td>\n",
       "      <td>2.108185</td>\n",
       "      <td>-3.0</td>\n",
       "      <td>2.00</td>\n",
       "      <td>2.0</td>\n",
       "      <td>2.0</td>\n",
       "      <td>2.0</td>\n",
       "    </tr>\n",
       "    <tr>\n",
       "      <th>25</th>\n",
       "      <td>20.0</td>\n",
       "      <td>0.750000</td>\n",
       "      <td>1.118034</td>\n",
       "      <td>-4.0</td>\n",
       "      <td>1.00</td>\n",
       "      <td>1.0</td>\n",
       "      <td>1.0</td>\n",
       "      <td>1.0</td>\n",
       "    </tr>\n",
       "    <tr>\n",
       "      <th>26</th>\n",
       "      <td>26.0</td>\n",
       "      <td>0.000000</td>\n",
       "      <td>0.000000</td>\n",
       "      <td>0.0</td>\n",
       "      <td>0.00</td>\n",
       "      <td>0.0</td>\n",
       "      <td>0.0</td>\n",
       "      <td>0.0</td>\n",
       "    </tr>\n",
       "    <tr>\n",
       "      <th>27</th>\n",
       "      <td>1.0</td>\n",
       "      <td>-1.000000</td>\n",
       "      <td>NaN</td>\n",
       "      <td>-1.0</td>\n",
       "      <td>-1.00</td>\n",
       "      <td>-1.0</td>\n",
       "      <td>-1.0</td>\n",
       "      <td>-1.0</td>\n",
       "    </tr>\n",
       "  </tbody>\n",
       "</table>\n",
       "</div>"
      ]
     },
     "execution_count": 9,
     "metadata": {},
     "output_type": "execute_result"
    }
   ],
   "execution_count": 9
  },
  {
   "metadata": {
    "ExecuteTime": {
     "end_time": "2025-05-30T11:44:25.550293Z",
     "start_time": "2025-05-30T11:44:23.200894Z"
    }
   },
   "cell_type": "code",
   "source": [
    "ax = sns.boxplot(data=full_hf_dataset_df[(full_hf_dataset_df['answer_rank'] <= 10) & (full_hf_dataset_df['answer_score'] <= 100)],\n",
    "                 x='answer_rank', y='answer_score')\n",
    "ax.get_figure().savefig('outputs/images/answer_scores_by_rank.pdf')"
   ],
   "id": "daf559027ac529ef",
   "outputs": [
    {
     "data": {
      "text/plain": [
       "<Figure size 432x288 with 1 Axes>"
      ],
      "image/png": "[encoded data removed]"
     },
     "metadata": {},
     "output_type": "display_data"
    }
   ],
   "execution_count": 25
  },
  {
   "metadata": {},
   "cell_type": "markdown",
   "source": "#### How many questions have accepted answers?",
   "id": "25a6d8edf3c10f20"
  },
  {
   "metadata": {
    "ExecuteTime": {
     "end_time": "2025-05-30T11:39:46.444339Z",
     "start_time": "2025-05-30T11:39:46.438340Z"
    }
   },
   "cell_type": "code",
   "source": [
    "from datasets import load_from_disk, concatenate_datasets\n",
    "from src.utils.config_management import CONFIG\n",
    "import pandas as pd\n",
    "import seaborn as sns"
   ],
   "id": "40a7b2e9ba3e7746",
   "outputs": [],
   "execution_count": 3
  },
  {
   "metadata": {
    "ExecuteTime": {
     "end_time": "2025-05-30T11:40:02.031579Z",
     "start_time": "2025-05-30T11:39:50.520280Z"
    }
   },
   "cell_type": "code",
   "source": [
    "hf_dataset = load_from_disk(CONFIG['paths']['data']['dalip_hf_dataset'])\n",
    "full_hf_dataset = concatenate_datasets([hf_dataset['train'], hf_dataset['test']])\n",
    "full_hf_dataset_df = pd.DataFrame(full_hf_dataset)\n",
    "full_hf_dataset_df = full_hf_dataset_df.select_dtypes(exclude=['object'])"
   ],
   "id": "5dddcc6217ed84e5",
   "outputs": [],
   "execution_count": 4
  },
  {
   "metadata": {
    "ExecuteTime": {
     "end_time": "2025-05-30T11:40:02.122907Z",
     "start_time": "2025-05-30T11:40:02.093417Z"
    }
   },
   "cell_type": "code",
   "source": "full_hf_dataset_df.groupby('question_id')['answer_accepted'].sum().value_counts()",
   "id": "4f2ddfaef9023d34",
   "outputs": [
    {
     "data": {
      "text/plain": [
       "1    7489\n",
       "0    2232\n",
       "Name: answer_accepted, dtype: int64"
      ]
     },
     "execution_count": 5,
     "metadata": {},
     "output_type": "execute_result"
    }
   ],
   "execution_count": 5
  },
  {
   "metadata": {},
   "cell_type": "markdown",
   "source": "#### Test dataset: answer scores within question",
   "id": "b62f36d52e274d34"
  },
  {
   "metadata": {
    "ExecuteTime": {
     "end_time": "2025-05-03T12:18:22.157818Z",
     "start_time": "2025-05-03T12:18:20.126279Z"
    }
   },
   "cell_type": "code",
   "source": [
    "from src.utils.config_management import CONFIG\n",
    "from datasets import load_from_disk\n",
    "import pandas as pd\n",
    "import numpy as np\n",
    "from scipy.special import softmax\n",
    "from scipy.stats import entropy"
   ],
   "id": "abefece1af9375ec",
   "outputs": [],
   "execution_count": 1
  },
  {
   "metadata": {
    "ExecuteTime": {
     "end_time": "2025-05-03T12:18:25.835025Z",
     "start_time": "2025-05-03T12:18:22.180210Z"
    }
   },
   "cell_type": "code",
   "source": [
    "hf_dataset = load_from_disk(CONFIG['paths']['data']['dalip_hf_dataset'])\n",
    "test_dataset_df = pd.DataFrame(hf_dataset['test'])\n",
    "test_dataset_df['answer_rank'] = test_dataset_df.groupby('question_id')['answer_score'].rank(method='dense', ascending=False).astype(int)"
   ],
   "id": "5662eef7b01403a8",
   "outputs": [],
   "execution_count": 2
  },
  {
   "metadata": {
    "ExecuteTime": {
     "end_time": "2025-05-03T12:18:27.364642Z",
     "start_time": "2025-05-03T12:18:27.355337Z"
    }
   },
   "cell_type": "code",
   "source": "test_questions_df = pd.DataFrame({'question_id': np.sort(test_dataset_df['question_id'].unique())})",
   "id": "b435477003083c17",
   "outputs": [],
   "execution_count": 3
  },
  {
   "metadata": {
    "ExecuteTime": {
     "end_time": "2025-05-03T12:18:27.593419Z",
     "start_time": "2025-05-03T12:18:27.397461Z"
    }
   },
   "cell_type": "code",
   "source": [
    "test_questions_df['answer_scores_range'] = test_dataset_df.groupby('question_id')['answer_normalized_score'].agg(\n",
    "    lambda x: x.max() - x.min()).values\n",
    "test_questions_df['answer_scores_std'] = test_dataset_df.groupby('question_id')['answer_normalized_score'].std().values"
   ],
   "id": "a5eab92d6b3d0bbe",
   "outputs": [],
   "execution_count": 4
  },
  {
   "metadata": {
    "ExecuteTime": {
     "end_time": "2025-05-03T12:18:27.655922Z",
     "start_time": "2025-05-03T12:18:27.640298Z"
    }
   },
   "cell_type": "code",
   "source": [
    "def calculate_score_gaps(group, pct=False):\n",
    "    group = group.sort_values('answer_normalized_score', ascending=False)\n",
    "\n",
    "    if pct:\n",
    "        gaps = group['answer_normalized_score'].pct_change(-1)\n",
    "    else:\n",
    "        gaps = group['answer_normalized_score'].diff(-1)\n",
    "\n",
    "    return gaps[:4].tolist()"
   ],
   "id": "fd18d4d3d1e82b1a",
   "outputs": [],
   "execution_count": 5
  },
  {
   "metadata": {
    "ExecuteTime": {
     "end_time": "2025-05-03T12:18:29.569090Z",
     "start_time": "2025-05-03T12:18:27.689628Z"
    }
   },
   "cell_type": "code",
   "source": [
    "diff_gaps = test_dataset_df.groupby('question_id').apply(calculate_score_gaps, pct=False)\n",
    "pct_gaps = test_dataset_df.groupby('question_id').apply(calculate_score_gaps, pct=True)"
   ],
   "id": "aae79b4aaccc15b1",
   "outputs": [],
   "execution_count": 6
  },
  {
   "metadata": {
    "ExecuteTime": {
     "end_time": "2025-05-03T12:18:29.636161Z",
     "start_time": "2025-05-03T12:18:29.631592Z"
    }
   },
   "cell_type": "code",
   "source": [
    "def create_gaps_df(gaps, gap_name):\n",
    "    return pd.DataFrame(gaps.tolist(), columns=[f'{gap_name}_gap_{i}' for i in range(1, 5)], index=gaps.index)"
   ],
   "id": "eb65f9cfc9aae03",
   "outputs": [],
   "execution_count": 7
  },
  {
   "metadata": {
    "ExecuteTime": {
     "end_time": "2025-05-03T12:18:29.714480Z",
     "start_time": "2025-05-03T12:18:29.698858Z"
    }
   },
   "cell_type": "code",
   "source": [
    "diff_gaps_df = create_gaps_df(diff_gaps, 'diff')\n",
    "pct_gaps_df = create_gaps_df(pct_gaps, 'pct')\n",
    "\n",
    "test_questions_df = test_questions_df.join(diff_gaps_df, on='question_id')\n",
    "test_questions_df = test_questions_df.join(pct_gaps_df, on='question_id')"
   ],
   "id": "9d9bac979f4281a2",
   "outputs": [],
   "execution_count": 8
  },
  {
   "metadata": {
    "ExecuteTime": {
     "end_time": "2025-05-03T12:31:25.272123Z",
     "start_time": "2025-05-03T12:31:25.256526Z"
    }
   },
   "cell_type": "code",
   "source": [
    "def calculate_entropy(group, normalize=False):\n",
    "    group = group.sort_values('answer_normalized_score', ascending=False)\n",
    "\n",
    "    entropy_value = entropy(softmax(group['answer_normalized_score'][:4]))\n",
    "\n",
    "    if normalize:\n",
    "        maximum_entropy = np.log(4)\n",
    "        return entropy_value / maximum_entropy\n",
    "    else:\n",
    "        return entropy_value"
   ],
   "id": "e344e8797c5fda81",
   "outputs": [],
   "execution_count": 29
  },
  {
   "metadata": {
    "ExecuteTime": {
     "end_time": "2025-05-03T12:33:34.411703Z",
     "start_time": "2025-05-03T12:33:33.413401Z"
    }
   },
   "cell_type": "code",
   "source": "test_questions_df['answer_scores_entropy'] = test_dataset_df.groupby('question_id').apply(calculate_entropy, normalize=True).values",
   "id": "94133e98863fab8a",
   "outputs": [],
   "execution_count": 35
  },
  {
   "metadata": {
    "ExecuteTime": {
     "end_time": "2025-05-03T12:39:48.311726Z",
     "start_time": "2025-05-03T12:39:48.264822Z"
    }
   },
   "cell_type": "code",
   "source": "test_questions_df.describe()",
   "id": "58354acb86394c47",
   "outputs": [
    {
     "data": {
      "text/plain": [
       "        question_id  answer_scores_range  answer_scores_std   diff_gap_1  \\\n",
       "count  1.945000e+03          1945.000000        1945.000000  1945.000000   \n",
       "mean   3.676443e+06             6.758355           2.613561     3.791260   \n",
       "std    2.732398e+06            13.690705           4.353918     9.233016   \n",
       "min    6.960000e+02             0.000000           0.000000     0.000000   \n",
       "25%    1.260040e+06             2.000000           0.957427     1.000000   \n",
       "50%    3.072421e+06             4.000000           1.567021     2.000000   \n",
       "75%    5.861428e+06             7.000000           2.786874     4.000000   \n",
       "max    9.692987e+06           230.000000         100.811706   180.000000   \n",
       "\n",
       "        diff_gap_2   diff_gap_3   diff_gap_4    pct_gap_1    pct_gap_2  \\\n",
       "count  1945.000000  1945.000000  1012.000000  1945.000000  1945.000000   \n",
       "mean      1.493573     0.770694     0.581028     0.173825     0.078406   \n",
       "std       3.368195     1.444040     1.321793     0.276121     0.143548   \n",
       "min       0.000000     0.000000     0.000000     0.000000     0.000000   \n",
       "25%       0.000000     0.000000     0.000000     0.052632     0.000000   \n",
       "50%       1.000000     0.000000     0.000000     0.111111     0.058824   \n",
       "75%       2.000000     1.000000     1.000000     0.200000     0.105263   \n",
       "max      75.000000    22.000000    28.000000     3.578947     3.409091   \n",
       "\n",
       "         pct_gap_3    pct_gap_4  answer_scores_entropy  \n",
       "count  1945.000000  1012.000000           1.945000e+03  \n",
       "mean      0.043967     0.032925           4.876552e-01  \n",
       "std       0.071631     0.057148           3.386092e-01  \n",
       "min       0.000000     0.000000           8.717926e-77  \n",
       "25%       0.000000     0.000000           1.475111e-01  \n",
       "50%       0.000000     0.000000           5.207514e-01  \n",
       "75%       0.062500     0.062500           7.635327e-01  \n",
       "max       0.789474     0.600000           1.000000e+00  "
      ],
      "text/html": [
       "<div>\n",
       "<style scoped>\n",
       "    .dataframe tbody tr th:only-of-type {\n",
       "        vertical-align: middle;\n",
       "    }\n",
       "\n",
       "    .dataframe tbody tr th {\n",
       "        vertical-align: top;\n",
       "    }\n",
       "\n",
       "    .dataframe thead th {\n",
       "        text-align: right;\n",
       "    }\n",
       "</style>\n",
       "<table border=\"1\" class=\"dataframe\">\n",
       "  <thead>\n",
       "    <tr style=\"text-align: right;\">\n",
       "      <th></th>\n",
       "      <th>question_id</th>\n",
       "      <th>answer_scores_range</th>\n",
       "      <th>answer_scores_std</th>\n",
       "      <th>diff_gap_1</th>\n",
       "      <th>diff_gap_2</th>\n",
       "      <th>diff_gap_3</th>\n",
       "      <th>diff_gap_4</th>\n",
       "      <th>pct_gap_1</th>\n",
       "      <th>pct_gap_2</th>\n",
       "      <th>pct_gap_3</th>\n",
       "      <th>pct_gap_4</th>\n",
       "      <th>answer_scores_entropy</th>\n",
       "    </tr>\n",
       "  </thead>\n",
       "  <tbody>\n",
       "    <tr>\n",
       "      <th>count</th>\n",
       "      <td>1.945000e+03</td>\n",
       "      <td>1945.000000</td>\n",
       "      <td>1945.000000</td>\n",
       "      <td>1945.000000</td>\n",
       "      <td>1945.000000</td>\n",
       "      <td>1945.000000</td>\n",
       "      <td>1012.000000</td>\n",
       "      <td>1945.000000</td>\n",
       "      <td>1945.000000</td>\n",
       "      <td>1945.000000</td>\n",
       "      <td>1012.000000</td>\n",
       "      <td>1.945000e+03</td>\n",
       "    </tr>\n",
       "    <tr>\n",
       "      <th>mean</th>\n",
       "      <td>3.676443e+06</td>\n",
       "      <td>6.758355</td>\n",
       "      <td>2.613561</td>\n",
       "      <td>3.791260</td>\n",
       "      <td>1.493573</td>\n",
       "      <td>0.770694</td>\n",
       "      <td>0.581028</td>\n",
       "      <td>0.173825</td>\n",
       "      <td>0.078406</td>\n",
       "      <td>0.043967</td>\n",
       "      <td>0.032925</td>\n",
       "      <td>4.876552e-01</td>\n",
       "    </tr>\n",
       "    <tr>\n",
       "      <th>std</th>\n",
       "      <td>2.732398e+06</td>\n",
       "      <td>13.690705</td>\n",
       "      <td>4.353918</td>\n",
       "      <td>9.233016</td>\n",
       "      <td>3.368195</td>\n",
       "      <td>1.444040</td>\n",
       "      <td>1.321793</td>\n",
       "      <td>0.276121</td>\n",
       "      <td>0.143548</td>\n",
       "      <td>0.071631</td>\n",
       "      <td>0.057148</td>\n",
       "      <td>3.386092e-01</td>\n",
       "    </tr>\n",
       "    <tr>\n",
       "      <th>min</th>\n",
       "      <td>6.960000e+02</td>\n",
       "      <td>0.000000</td>\n",
       "      <td>0.000000</td>\n",
       "      <td>0.000000</td>\n",
       "      <td>0.000000</td>\n",
       "      <td>0.000000</td>\n",
       "      <td>0.000000</td>\n",
       "      <td>0.000000</td>\n",
       "      <td>0.000000</td>\n",
       "      <td>0.000000</td>\n",
       "      <td>0.000000</td>\n",
       "      <td>8.717926e-77</td>\n",
       "    </tr>\n",
       "    <tr>\n",
       "      <th>25%</th>\n",
       "      <td>1.260040e+06</td>\n",
       "      <td>2.000000</td>\n",
       "      <td>0.957427</td>\n",
       "      <td>1.000000</td>\n",
       "      <td>0.000000</td>\n",
       "      <td>0.000000</td>\n",
       "      <td>0.000000</td>\n",
       "      <td>0.052632</td>\n",
       "      <td>0.000000</td>\n",
       "      <td>0.000000</td>\n",
       "      <td>0.000000</td>\n",
       "      <td>1.475111e-01</td>\n",
       "    </tr>\n",
       "    <tr>\n",
       "      <th>50%</th>\n",
       "      <td>3.072421e+06</td>\n",
       "      <td>4.000000</td>\n",
       "      <td>1.567021</td>\n",
       "      <td>2.000000</td>\n",
       "      <td>1.000000</td>\n",
       "      <td>0.000000</td>\n",
       "      <td>0.000000</td>\n",
       "      <td>0.111111</td>\n",
       "      <td>0.058824</td>\n",
       "      <td>0.000000</td>\n",
       "      <td>0.000000</td>\n",
       "      <td>5.207514e-01</td>\n",
       "    </tr>\n",
       "    <tr>\n",
       "      <th>75%</th>\n",
       "      <td>5.861428e+06</td>\n",
       "      <td>7.000000</td>\n",
       "      <td>2.786874</td>\n",
       "      <td>4.000000</td>\n",
       "      <td>2.000000</td>\n",
       "      <td>1.000000</td>\n",
       "      <td>1.000000</td>\n",
       "      <td>0.200000</td>\n",
       "      <td>0.105263</td>\n",
       "      <td>0.062500</td>\n",
       "      <td>0.062500</td>\n",
       "      <td>7.635327e-01</td>\n",
       "    </tr>\n",
       "    <tr>\n",
       "      <th>max</th>\n",
       "      <td>9.692987e+06</td>\n",
       "      <td>230.000000</td>\n",
       "      <td>100.811706</td>\n",
       "      <td>180.000000</td>\n",
       "      <td>75.000000</td>\n",
       "      <td>22.000000</td>\n",
       "      <td>28.000000</td>\n",
       "      <td>3.578947</td>\n",
       "      <td>3.409091</td>\n",
       "      <td>0.789474</td>\n",
       "      <td>0.600000</td>\n",
       "      <td>1.000000e+00</td>\n",
       "    </tr>\n",
       "  </tbody>\n",
       "</table>\n",
       "</div>"
      ]
     },
     "execution_count": 46,
     "metadata": {},
     "output_type": "execute_result"
    }
   ],
   "execution_count": 46
  },
  {
   "metadata": {
    "ExecuteTime": {
     "end_time": "2025-05-03T12:38:51.221091Z",
     "start_time": "2025-05-03T12:38:51.189832Z"
    }
   },
   "cell_type": "code",
   "source": "test_questions_df.to_csv('data/dalip_stackoverflow_dataset/test_answer_scores_distribution.csv', index=False)",
   "id": "f538ce29a58f5c34",
   "outputs": [],
   "execution_count": 45
  },
  {
   "metadata": {},
   "cell_type": "markdown",
   "source": "## Dalip results analysis",
   "id": "44f231ecc4c543ab"
  },
  {
   "metadata": {
    "ExecuteTime": {
     "end_time": "2025-05-16T14:07:19.888856Z",
     "start_time": "2025-05-16T14:07:16.870709Z"
    }
   },
   "cell_type": "code",
   "source": [
    "import pandas as pd\n",
    "from src.utils.config_management import CONFIG\n",
    "from src.evaluation import RankingEvaluator\n",
    "from collections import defaultdict\n",
    "import numpy as np"
   ],
   "id": "becf93890628633e",
   "outputs": [],
   "execution_count": 1
  },
  {
   "metadata": {
    "ExecuteTime": {
     "end_time": "2025-05-16T14:07:21.139855Z",
     "start_time": "2025-05-16T14:07:21.124221Z"
    }
   },
   "cell_type": "code",
   "source": "dalip_model_name = 'mv'",
   "id": "452319340fe07899",
   "outputs": [],
   "execution_count": 2
  },
  {
   "metadata": {
    "ExecuteTime": {
     "end_time": "2025-05-16T14:07:21.273274Z",
     "start_time": "2025-05-16T14:07:21.174219Z"
    }
   },
   "cell_type": "code",
   "source": [
    "results_df = pd.read_csv(CONFIG['paths']['data'][f'dalip_stackoverflow_{dalip_model_name}_results'])\n",
    "results_df.head()"
   ],
   "id": "b7a8f670e65e8518",
   "outputs": [
    {
     "data": {
      "text/plain": [
       "   fold       id      qid  predictedResult  targetResult\n",
       "0     0   458759   458721         0.957833          22.0\n",
       "1     0  7258223  7258095         0.718945          16.0\n",
       "2     0   212993   212860         1.114616         111.0\n",
       "3     0  3473456  3473334         0.712420          16.0\n",
       "4     0  2883626  2879420         0.792077          16.0"
      ],
      "text/html": [
       "<div>\n",
       "<style scoped>\n",
       "    .dataframe tbody tr th:only-of-type {\n",
       "        vertical-align: middle;\n",
       "    }\n",
       "\n",
       "    .dataframe tbody tr th {\n",
       "        vertical-align: top;\n",
       "    }\n",
       "\n",
       "    .dataframe thead th {\n",
       "        text-align: right;\n",
       "    }\n",
       "</style>\n",
       "<table border=\"1\" class=\"dataframe\">\n",
       "  <thead>\n",
       "    <tr style=\"text-align: right;\">\n",
       "      <th></th>\n",
       "      <th>fold</th>\n",
       "      <th>id</th>\n",
       "      <th>qid</th>\n",
       "      <th>predictedResult</th>\n",
       "      <th>targetResult</th>\n",
       "    </tr>\n",
       "  </thead>\n",
       "  <tbody>\n",
       "    <tr>\n",
       "      <th>0</th>\n",
       "      <td>0</td>\n",
       "      <td>458759</td>\n",
       "      <td>458721</td>\n",
       "      <td>0.957833</td>\n",
       "      <td>22.0</td>\n",
       "    </tr>\n",
       "    <tr>\n",
       "      <th>1</th>\n",
       "      <td>0</td>\n",
       "      <td>7258223</td>\n",
       "      <td>7258095</td>\n",
       "      <td>0.718945</td>\n",
       "      <td>16.0</td>\n",
       "    </tr>\n",
       "    <tr>\n",
       "      <th>2</th>\n",
       "      <td>0</td>\n",
       "      <td>212993</td>\n",
       "      <td>212860</td>\n",
       "      <td>1.114616</td>\n",
       "      <td>111.0</td>\n",
       "    </tr>\n",
       "    <tr>\n",
       "      <th>3</th>\n",
       "      <td>0</td>\n",
       "      <td>3473456</td>\n",
       "      <td>3473334</td>\n",
       "      <td>0.712420</td>\n",
       "      <td>16.0</td>\n",
       "    </tr>\n",
       "    <tr>\n",
       "      <th>4</th>\n",
       "      <td>0</td>\n",
       "      <td>2883626</td>\n",
       "      <td>2879420</td>\n",
       "      <td>0.792077</td>\n",
       "      <td>16.0</td>\n",
       "    </tr>\n",
       "  </tbody>\n",
       "</table>\n",
       "</div>"
      ]
     },
     "execution_count": 3,
     "metadata": {},
     "output_type": "execute_result"
    }
   ],
   "execution_count": 3
  },
  {
   "metadata": {
    "ExecuteTime": {
     "end_time": "2025-05-16T14:07:21.456669Z",
     "start_time": "2025-05-16T14:07:21.441024Z"
    }
   },
   "cell_type": "code",
   "source": [
    "evaluator = RankingEvaluator(ndcg_k=list(range(1, 11)),\n",
    "                             ndcg_gain_func='linear', ndcg_discount_func='logarithmic')"
   ],
   "id": "1b3f216e429ec306",
   "outputs": [],
   "execution_count": 4
  },
  {
   "metadata": {
    "ExecuteTime": {
     "end_time": "2025-05-02T17:21:11.290879Z",
     "start_time": "2025-05-02T17:21:08.724689Z"
    }
   },
   "cell_type": "code",
   "source": [
    "folds_metrics_df = []\n",
    "\n",
    "for fold_n in range(5):\n",
    "    fold_df = results_df[results_df['fold'] == fold_n]\n",
    "\n",
    "    targets = fold_df['targetResult']\n",
    "    predictions = fold_df['predictedResult']\n",
    "\n",
    "    metrics = evaluator(targets, predictions, fold_df['qid'])\n",
    "    metrics['fold'] = fold_n\n",
    "\n",
    "    folds_metrics_df.append(metrics)\n",
    "\n",
    "folds_metrics_df_mv_feat_mv = pd.DataFrame(folds_metrics_df)\n",
    "folds_metrics_df_mv_feat_mv['model'] = 'mv_feat_mv'"
   ],
   "id": "9346d4cceacfb482",
   "outputs": [],
   "execution_count": 5
  },
  {
   "metadata": {
    "ExecuteTime": {
     "end_time": "2025-05-02T17:09:55.553601Z",
     "start_time": "2025-05-02T17:09:53.330975Z"
    }
   },
   "cell_type": "code",
   "source": [
    "folds_metrics_df = []\n",
    "\n",
    "for fold_n in range(5):\n",
    "    fold_df = results_df[results_df['fold'] == fold_n]\n",
    "\n",
    "    targets = fold_df['targetResult']\n",
    "    predictions = fold_df['predictedResult']\n",
    "\n",
    "    metrics = evaluator(targets, predictions, fold_df['qid'])\n",
    "    metrics['fold'] = fold_n\n",
    "\n",
    "    folds_metrics_df.append(metrics)\n",
    "\n",
    "folds_metrics_df_mv = pd.DataFrame(folds_metrics_df)\n",
    "folds_metrics_df_mv['model'] = 'mv'"
   ],
   "id": "58e4b8d31dcd62c",
   "outputs": [],
   "execution_count": 77
  },
  {
   "metadata": {
    "ExecuteTime": {
     "end_time": "2025-05-02T17:09:55.600477Z",
     "start_time": "2025-05-02T17:09:55.584850Z"
    }
   },
   "cell_type": "code",
   "source": "folds_metrics_df_mv.mean()",
   "id": "2e4be0d625c2769b",
   "outputs": [
    {
     "name": "stderr",
     "output_type": "stream",
     "text": [
      "<ipython-input-78-acc790fce956>:1: FutureWarning: Dropping of nuisance columns in DataFrame reductions (with 'numeric_only=None') is deprecated; in a future version this will raise TypeError.  Select only valid columns before calling the reduction.\n",
      "  folds_metrics_df_mv.mean()\n"
     ]
    },
    {
     "data": {
      "text/plain": [
       "ndcg@1_g.linear_d.logarithmic      0.908620\n",
       "ndcg@2_g.linear_d.logarithmic      0.934557\n",
       "ndcg@3_g.linear_d.logarithmic      0.952068\n",
       "ndcg@4_g.linear_d.logarithmic      0.965055\n",
       "ndcg@5_g.linear_d.logarithmic      0.970911\n",
       "ndcg@6_g.linear_d.logarithmic      0.973736\n",
       "ndcg@7_g.linear_d.logarithmic      0.975199\n",
       "ndcg@8_g.linear_d.logarithmic      0.976029\n",
       "ndcg@9_g.linear_d.logarithmic      0.976508\n",
       "ndcg@10_g.linear_d.logarithmic     0.976793\n",
       "mae                               16.990574\n",
       "fold                               2.000000\n",
       "dtype: float64"
      ]
     },
     "execution_count": 78,
     "metadata": {},
     "output_type": "execute_result"
    }
   ],
   "execution_count": 78
  },
  {
   "metadata": {
    "ExecuteTime": {
     "end_time": "2025-04-29T17:51:37.881807Z",
     "start_time": "2025-04-29T17:51:37.866192Z"
    }
   },
   "cell_type": "code",
   "source": "folds_metrics_mean_df = pd.concat([folds_metrics_df_mv, folds_metrics_df_mv_feat_mv])",
   "id": "b9fba353e4c49ef4",
   "outputs": [],
   "execution_count": 72
  },
  {
   "metadata": {
    "ExecuteTime": {
     "end_time": "2025-04-29T17:51:40.449696Z",
     "start_time": "2025-04-29T17:51:40.425921Z"
    }
   },
   "cell_type": "code",
   "source": "folds_metrics_mean_df",
   "id": "ff59c85b3be99bad",
   "outputs": [
    {
     "data": {
      "text/plain": [
       "   ndcg@1_g.linear_d.logarithmic  ndcg@2_g.linear_d.logarithmic  \\\n",
       "0                       0.916720                       0.940118   \n",
       "1                       0.908505                       0.933744   \n",
       "2                       0.901643                       0.929408   \n",
       "3                       0.910709                       0.936680   \n",
       "4                       0.905521                       0.932838   \n",
       "0                       0.894206                       0.918994   \n",
       "1                       0.890921                       0.915456   \n",
       "2                       0.890801                       0.915508   \n",
       "3                       0.895528                       0.922122   \n",
       "4                       0.891002                       0.916712   \n",
       "\n",
       "   ndcg@3_g.linear_d.logarithmic  ndcg@4_g.linear_d.logarithmic  \\\n",
       "0                       0.956976                       0.968047   \n",
       "1                       0.951165                       0.964279   \n",
       "2                       0.948073                       0.963035   \n",
       "3                       0.953864                       0.966158   \n",
       "4                       0.950260                       0.963756   \n",
       "0                       0.939008                       0.955264   \n",
       "1                       0.935021                       0.952770   \n",
       "2                       0.936031                       0.953356   \n",
       "3                       0.941187                       0.957094   \n",
       "4                       0.936621                       0.953702   \n",
       "\n",
       "   ndcg@5_g.linear_d.logarithmic  ndcg@6_g.linear_d.logarithmic  \\\n",
       "0                       0.973540                       0.975808   \n",
       "1                       0.970582                       0.973510   \n",
       "2                       0.968894                       0.971696   \n",
       "3                       0.971949                       0.975017   \n",
       "4                       0.969589                       0.972649   \n",
       "0                       0.962952                       0.966582   \n",
       "1                       0.960787                       0.965200   \n",
       "2                       0.961186                       0.965136   \n",
       "3                       0.964125                       0.967919   \n",
       "4                       0.961744                       0.965394   \n",
       "\n",
       "   ndcg@7_g.linear_d.logarithmic  ndcg@8_g.linear_d.logarithmic  \\\n",
       "0                       0.977117                       0.977884   \n",
       "1                       0.975010                       0.975941   \n",
       "2                       0.973169                       0.973943   \n",
       "3                       0.976432                       0.977237   \n",
       "4                       0.974267                       0.975139   \n",
       "0                       0.968631                       0.969818   \n",
       "1                       0.967461                       0.968742   \n",
       "2                       0.967647                       0.968874   \n",
       "3                       0.969845                       0.971024   \n",
       "4                       0.967736                       0.968903   \n",
       "\n",
       "   ndcg@9_g.linear_d.logarithmic  ndcg@10_g.linear_d.logarithmic        mae  \\\n",
       "0                       0.978471                        0.978841  17.685790   \n",
       "1                       0.976422                        0.976685  16.290749   \n",
       "2                       0.974431                        0.974725  17.359555   \n",
       "3                       0.977582                        0.977804  16.265490   \n",
       "4                       0.975633                        0.975911  17.351286   \n",
       "0                       0.970570                        0.971168  20.082100   \n",
       "1                       0.969507                        0.969998  19.972369   \n",
       "2                       0.969610                        0.970166  20.749873   \n",
       "3                       0.971663                        0.972141  19.930663   \n",
       "4                       0.969447                        0.969996  21.080119   \n",
       "\n",
       "   hit_rate@1  fold       model  \n",
       "0    0.510540     0          mv  \n",
       "1    0.476852     1          mv  \n",
       "2    0.448560     2          mv  \n",
       "3    0.467078     3          mv  \n",
       "4    0.467078     4          mv  \n",
       "0    0.394344     0  mv_feat_mv  \n",
       "1    0.373971     1  mv_feat_mv  \n",
       "2    0.366255     2  mv_feat_mv  \n",
       "3    0.389403     3  mv_feat_mv  \n",
       "4    0.398148     4  mv_feat_mv  "
      ],
      "text/html": [
       "<div>\n",
       "<style scoped>\n",
       "    .dataframe tbody tr th:only-of-type {\n",
       "        vertical-align: middle;\n",
       "    }\n",
       "\n",
       "    .dataframe tbody tr th {\n",
       "        vertical-align: top;\n",
       "    }\n",
       "\n",
       "    .dataframe thead th {\n",
       "        text-align: right;\n",
       "    }\n",
       "</style>\n",
       "<table border=\"1\" class=\"dataframe\">\n",
       "  <thead>\n",
       "    <tr style=\"text-align: right;\">\n",
       "      <th></th>\n",
       "      <th>ndcg@1_g.linear_d.logarithmic</th>\n",
       "      <th>ndcg@2_g.linear_d.logarithmic</th>\n",
       "      <th>ndcg@3_g.linear_d.logarithmic</th>\n",
       "      <th>ndcg@4_g.linear_d.logarithmic</th>\n",
       "      <th>ndcg@5_g.linear_d.logarithmic</th>\n",
       "      <th>ndcg@6_g.linear_d.logarithmic</th>\n",
       "      <th>ndcg@7_g.linear_d.logarithmic</th>\n",
       "      <th>ndcg@8_g.linear_d.logarithmic</th>\n",
       "      <th>ndcg@9_g.linear_d.logarithmic</th>\n",
       "      <th>ndcg@10_g.linear_d.logarithmic</th>\n",
       "      <th>mae</th>\n",
       "      <th>hit_rate@1</th>\n",
       "      <th>fold</th>\n",
       "      <th>model</th>\n",
       "    </tr>\n",
       "  </thead>\n",
       "  <tbody>\n",
       "    <tr>\n",
       "      <th>0</th>\n",
       "      <td>0.916720</td>\n",
       "      <td>0.940118</td>\n",
       "      <td>0.956976</td>\n",
       "      <td>0.968047</td>\n",
       "      <td>0.973540</td>\n",
       "      <td>0.975808</td>\n",
       "      <td>0.977117</td>\n",
       "      <td>0.977884</td>\n",
       "      <td>0.978471</td>\n",
       "      <td>0.978841</td>\n",
       "      <td>17.685790</td>\n",
       "      <td>0.510540</td>\n",
       "      <td>0</td>\n",
       "      <td>mv</td>\n",
       "    </tr>\n",
       "    <tr>\n",
       "      <th>1</th>\n",
       "      <td>0.908505</td>\n",
       "      <td>0.933744</td>\n",
       "      <td>0.951165</td>\n",
       "      <td>0.964279</td>\n",
       "      <td>0.970582</td>\n",
       "      <td>0.973510</td>\n",
       "      <td>0.975010</td>\n",
       "      <td>0.975941</td>\n",
       "      <td>0.976422</td>\n",
       "      <td>0.976685</td>\n",
       "      <td>16.290749</td>\n",
       "      <td>0.476852</td>\n",
       "      <td>1</td>\n",
       "      <td>mv</td>\n",
       "    </tr>\n",
       "    <tr>\n",
       "      <th>2</th>\n",
       "      <td>0.901643</td>\n",
       "      <td>0.929408</td>\n",
       "      <td>0.948073</td>\n",
       "      <td>0.963035</td>\n",
       "      <td>0.968894</td>\n",
       "      <td>0.971696</td>\n",
       "      <td>0.973169</td>\n",
       "      <td>0.973943</td>\n",
       "      <td>0.974431</td>\n",
       "      <td>0.974725</td>\n",
       "      <td>17.359555</td>\n",
       "      <td>0.448560</td>\n",
       "      <td>2</td>\n",
       "      <td>mv</td>\n",
       "    </tr>\n",
       "    <tr>\n",
       "      <th>3</th>\n",
       "      <td>0.910709</td>\n",
       "      <td>0.936680</td>\n",
       "      <td>0.953864</td>\n",
       "      <td>0.966158</td>\n",
       "      <td>0.971949</td>\n",
       "      <td>0.975017</td>\n",
       "      <td>0.976432</td>\n",
       "      <td>0.977237</td>\n",
       "      <td>0.977582</td>\n",
       "      <td>0.977804</td>\n",
       "      <td>16.265490</td>\n",
       "      <td>0.467078</td>\n",
       "      <td>3</td>\n",
       "      <td>mv</td>\n",
       "    </tr>\n",
       "    <tr>\n",
       "      <th>4</th>\n",
       "      <td>0.905521</td>\n",
       "      <td>0.932838</td>\n",
       "      <td>0.950260</td>\n",
       "      <td>0.963756</td>\n",
       "      <td>0.969589</td>\n",
       "      <td>0.972649</td>\n",
       "      <td>0.974267</td>\n",
       "      <td>0.975139</td>\n",
       "      <td>0.975633</td>\n",
       "      <td>0.975911</td>\n",
       "      <td>17.351286</td>\n",
       "      <td>0.467078</td>\n",
       "      <td>4</td>\n",
       "      <td>mv</td>\n",
       "    </tr>\n",
       "    <tr>\n",
       "      <th>0</th>\n",
       "      <td>0.894206</td>\n",
       "      <td>0.918994</td>\n",
       "      <td>0.939008</td>\n",
       "      <td>0.955264</td>\n",
       "      <td>0.962952</td>\n",
       "      <td>0.966582</td>\n",
       "      <td>0.968631</td>\n",
       "      <td>0.969818</td>\n",
       "      <td>0.970570</td>\n",
       "      <td>0.971168</td>\n",
       "      <td>20.082100</td>\n",
       "      <td>0.394344</td>\n",
       "      <td>0</td>\n",
       "      <td>mv_feat_mv</td>\n",
       "    </tr>\n",
       "    <tr>\n",
       "      <th>1</th>\n",
       "      <td>0.890921</td>\n",
       "      <td>0.915456</td>\n",
       "      <td>0.935021</td>\n",
       "      <td>0.952770</td>\n",
       "      <td>0.960787</td>\n",
       "      <td>0.965200</td>\n",
       "      <td>0.967461</td>\n",
       "      <td>0.968742</td>\n",
       "      <td>0.969507</td>\n",
       "      <td>0.969998</td>\n",
       "      <td>19.972369</td>\n",
       "      <td>0.373971</td>\n",
       "      <td>1</td>\n",
       "      <td>mv_feat_mv</td>\n",
       "    </tr>\n",
       "    <tr>\n",
       "      <th>2</th>\n",
       "      <td>0.890801</td>\n",
       "      <td>0.915508</td>\n",
       "      <td>0.936031</td>\n",
       "      <td>0.953356</td>\n",
       "      <td>0.961186</td>\n",
       "      <td>0.965136</td>\n",
       "      <td>0.967647</td>\n",
       "      <td>0.968874</td>\n",
       "      <td>0.969610</td>\n",
       "      <td>0.970166</td>\n",
       "      <td>20.749873</td>\n",
       "      <td>0.366255</td>\n",
       "      <td>2</td>\n",
       "      <td>mv_feat_mv</td>\n",
       "    </tr>\n",
       "    <tr>\n",
       "      <th>3</th>\n",
       "      <td>0.895528</td>\n",
       "      <td>0.922122</td>\n",
       "      <td>0.941187</td>\n",
       "      <td>0.957094</td>\n",
       "      <td>0.964125</td>\n",
       "      <td>0.967919</td>\n",
       "      <td>0.969845</td>\n",
       "      <td>0.971024</td>\n",
       "      <td>0.971663</td>\n",
       "      <td>0.972141</td>\n",
       "      <td>19.930663</td>\n",
       "      <td>0.389403</td>\n",
       "      <td>3</td>\n",
       "      <td>mv_feat_mv</td>\n",
       "    </tr>\n",
       "    <tr>\n",
       "      <th>4</th>\n",
       "      <td>0.891002</td>\n",
       "      <td>0.916712</td>\n",
       "      <td>0.936621</td>\n",
       "      <td>0.953702</td>\n",
       "      <td>0.961744</td>\n",
       "      <td>0.965394</td>\n",
       "      <td>0.967736</td>\n",
       "      <td>0.968903</td>\n",
       "      <td>0.969447</td>\n",
       "      <td>0.969996</td>\n",
       "      <td>21.080119</td>\n",
       "      <td>0.398148</td>\n",
       "      <td>4</td>\n",
       "      <td>mv_feat_mv</td>\n",
       "    </tr>\n",
       "  </tbody>\n",
       "</table>\n",
       "</div>"
      ]
     },
     "execution_count": 73,
     "metadata": {},
     "output_type": "execute_result"
    }
   ],
   "execution_count": 73
  },
  {
   "metadata": {
    "ExecuteTime": {
     "end_time": "2025-05-16T14:07:26.144068Z",
     "start_time": "2025-05-16T14:07:26.128405Z"
    }
   },
   "cell_type": "code",
   "source": [
    "fold_0_df = results_df[results_df['fold'] == 0]\n",
    "targets = fold_0_df['targetResult']\n",
    "predictions = fold_0_df['predictedResult']"
   ],
   "id": "51420b702935b631",
   "outputs": [],
   "execution_count": 5
  },
  {
   "metadata": {},
   "cell_type": "markdown",
   "source": "### Log to WandB",
   "id": "e0e05dd4459c822"
  },
  {
   "metadata": {
    "ExecuteTime": {
     "end_time": "2025-04-20T18:34:30.194788Z",
     "start_time": "2025-04-20T18:34:30.179137Z"
    }
   },
   "cell_type": "code",
   "source": "import wandb",
   "id": "17255fd512d5a297",
   "outputs": [],
   "execution_count": 118
  },
  {
   "metadata": {
    "ExecuteTime": {
     "end_time": "2025-04-11T16:26:21.117111Z",
     "start_time": "2025-04-11T16:26:21.101680Z"
    }
   },
   "cell_type": "code",
   "source": [
    "wandb_config = defaultdict(dict)\n",
    "\n",
    "wandb_config['dalip']['model_name'] = dalip_model_name"
   ],
   "id": "78c8ed814e094634",
   "outputs": [],
   "execution_count": 16
  },
  {
   "metadata": {
    "ExecuteTime": {
     "end_time": "2025-04-11T16:26:28.373640Z",
     "start_time": "2025-04-11T16:26:26.624093Z"
    }
   },
   "cell_type": "code",
   "source": [
    "run = wandb.init(\n",
    "    project='dalip-stackoverflow-answer-ranking',\n",
    "    config=wandb_config,\n",
    "    tags=['dalip', 'baseline']\n",
    ")"
   ],
   "id": "a99ef6d78b9b8888",
   "outputs": [
    {
     "data": {
      "text/plain": [
       "<IPython.core.display.HTML object>"
      ],
      "text/html": [
       "Tracking run with wandb version 0.19.9"
      ]
     },
     "metadata": {},
     "output_type": "display_data"
    },
    {
     "data": {
      "text/plain": [
       "<IPython.core.display.HTML object>"
      ],
      "text/html": [
       "Run data is saved locally in <code>C:\\Users\\User\\Женя\\GitHub\\stack-overflow-answers-assessment\\experiments\\dalip\\wandb\\run-20250411_192626-z8zgxkdj</code>"
      ]
     },
     "metadata": {},
     "output_type": "display_data"
    },
    {
     "data": {
      "text/plain": [
       "<IPython.core.display.HTML object>"
      ],
      "text/html": [
       "Syncing run <strong><a href='https://wandb.ai/bunnynobugs/dalip-stackoverflow-answer-ranking/runs/z8zgxkdj' target=\"_blank\">dry-deluge-2</a></strong> to <a href='https://wandb.ai/bunnynobugs/dalip-stackoverflow-answer-ranking' target=\"_blank\">Weights & Biases</a> (<a href='https://wandb.me/developer-guide' target=\"_blank\">docs</a>)<br>"
      ]
     },
     "metadata": {},
     "output_type": "display_data"
    },
    {
     "data": {
      "text/plain": [
       "<IPython.core.display.HTML object>"
      ],
      "text/html": [
       " View project at <a href='https://wandb.ai/bunnynobugs/dalip-stackoverflow-answer-ranking' target=\"_blank\">https://wandb.ai/bunnynobugs/dalip-stackoverflow-answer-ranking</a>"
      ]
     },
     "metadata": {},
     "output_type": "display_data"
    },
    {
     "data": {
      "text/plain": [
       "<IPython.core.display.HTML object>"
      ],
      "text/html": [
       " View run at <a href='https://wandb.ai/bunnynobugs/dalip-stackoverflow-answer-ranking/runs/z8zgxkdj' target=\"_blank\">https://wandb.ai/bunnynobugs/dalip-stackoverflow-answer-ranking/runs/z8zgxkdj</a>"
      ]
     },
     "metadata": {},
     "output_type": "display_data"
    }
   ],
   "execution_count": 17
  },
  {
   "metadata": {},
   "cell_type": "code",
   "outputs": [],
   "execution_count": 5,
   "source": [
    "evaluator = RankingEvaluator(ndcg_k=list(range(1, 11)),\n",
    "                             ndcg_gain_func='exponential', ndcg_discount_func='logarithmic')"
   ],
   "id": "123361282d54c85"
  },
  {
   "metadata": {
    "ExecuteTime": {
     "end_time": "2025-04-11T16:26:31.531120Z",
     "start_time": "2025-04-11T16:26:30.963537Z"
    }
   },
   "cell_type": "code",
   "source": [
    "metrics = evaluator(targets, predictions, fold_0_df['qid'])\n",
    "metrics"
   ],
   "id": "b35c789b083813fa",
   "outputs": [
    {
     "data": {
      "text/plain": [
       "{'ndcg@1_g.exponential_d.logarithmic': 0.5203912190034004,\n",
       " 'ndcg@2_g.exponential_d.logarithmic': 0.6017593996727593,\n",
       " 'ndcg@3_g.exponential_d.logarithmic': 0.6762408428616449,\n",
       " 'ndcg@4_g.exponential_d.logarithmic': 0.742700439983459,\n",
       " 'ndcg@5_g.exponential_d.logarithmic': 0.7693187415585254,\n",
       " 'ndcg@6_g.exponential_d.logarithmic': 0.7804146708806871,\n",
       " 'ndcg@7_g.exponential_d.logarithmic': 0.7860235063831869,\n",
       " 'ndcg@8_g.exponential_d.logarithmic': 0.7882638198010732,\n",
       " 'ndcg@9_g.exponential_d.logarithmic': 0.7896800370837948,\n",
       " 'ndcg@10_g.exponential_d.logarithmic': 0.7907891111065651,\n",
       " 'mae': 20.082100370597168,\n",
       " 'hit_rate@1': 0.3943444730077121}"
      ]
     },
     "execution_count": 19,
     "metadata": {},
     "output_type": "execute_result"
    }
   ],
   "execution_count": 19
  },
  {
   "metadata": {
    "ExecuteTime": {
     "end_time": "2025-04-11T16:27:50.719342Z",
     "start_time": "2025-04-11T16:27:50.696313Z"
    }
   },
   "cell_type": "code",
   "source": "wandb.log(metrics)",
   "id": "a06f0ccde228c916",
   "outputs": [],
   "execution_count": 20
  },
  {
   "metadata": {
    "ExecuteTime": {
     "end_time": "2025-04-11T16:27:52.416866Z",
     "start_time": "2025-04-11T16:27:52.374440Z"
    }
   },
   "cell_type": "code",
   "source": [
    "predictions_df = pd.DataFrame()\n",
    "predictions_df['answer_id'] = fold_0_df['id']\n",
    "predictions_df['answer_normalized_score'] = fold_0_df['targetResult']\n",
    "predictions_df['predicted_score'] = fold_0_df['predictedResult']"
   ],
   "id": "413de15b25150f1d",
   "outputs": [],
   "execution_count": 21
  },
  {
   "metadata": {
    "ExecuteTime": {
     "end_time": "2025-04-11T16:27:54.043681Z",
     "start_time": "2025-04-11T16:27:52.635115Z"
    }
   },
   "cell_type": "code",
   "source": "wandb.log({'predictions_table': wandb.Table(dataframe=predictions_df)})",
   "id": "a57d0c020f42a987",
   "outputs": [],
   "execution_count": 22
  },
  {
   "metadata": {
    "ExecuteTime": {
     "end_time": "2025-04-11T16:28:01.045263Z",
     "start_time": "2025-04-11T16:27:54.063911Z"
    }
   },
   "cell_type": "code",
   "source": "run.finish()",
   "id": "f5c0aaaea6c10125",
   "outputs": [
    {
     "data": {
      "text/plain": [
       "<IPython.core.display.HTML object>"
      ],
      "text/html": []
     },
     "metadata": {},
     "output_type": "display_data"
    },
    {
     "data": {
      "text/plain": [
       "<IPython.core.display.HTML object>"
      ],
      "text/html": [
       "<br>    <style><br>        .wandb-row {<br>            display: flex;<br>            flex-direction: row;<br>            flex-wrap: wrap;<br>            justify-content: flex-start;<br>            width: 100%;<br>        }<br>        .wandb-col {<br>            display: flex;<br>            flex-direction: column;<br>            flex-basis: 100%;<br>            flex: 1;<br>            padding: 10px;<br>        }<br>    </style><br><div class=\"wandb-row\"><div class=\"wandb-col\"><h3>Run history:</h3><br/><table class=\"wandb\"><tr><td>hit_rate@1</td><td>▁</td></tr><tr><td>mae</td><td>▁</td></tr><tr><td>ndcg@10_g.exponential_d.logarithmic</td><td>▁</td></tr><tr><td>ndcg@1_g.exponential_d.logarithmic</td><td>▁</td></tr><tr><td>ndcg@2_g.exponential_d.logarithmic</td><td>▁</td></tr><tr><td>ndcg@3_g.exponential_d.logarithmic</td><td>▁</td></tr><tr><td>ndcg@4_g.exponential_d.logarithmic</td><td>▁</td></tr><tr><td>ndcg@5_g.exponential_d.logarithmic</td><td>▁</td></tr><tr><td>ndcg@6_g.exponential_d.logarithmic</td><td>▁</td></tr><tr><td>ndcg@7_g.exponential_d.logarithmic</td><td>▁</td></tr><tr><td>ndcg@8_g.exponential_d.logarithmic</td><td>▁</td></tr><tr><td>ndcg@9_g.exponential_d.logarithmic</td><td>▁</td></tr></table><br/></div><div class=\"wandb-col\"><h3>Run summary:</h3><br/><table class=\"wandb\"><tr><td>hit_rate@1</td><td>0.39434</td></tr><tr><td>mae</td><td>20.0821</td></tr><tr><td>ndcg@10_g.exponential_d.logarithmic</td><td>0.79079</td></tr><tr><td>ndcg@1_g.exponential_d.logarithmic</td><td>0.52039</td></tr><tr><td>ndcg@2_g.exponential_d.logarithmic</td><td>0.60176</td></tr><tr><td>ndcg@3_g.exponential_d.logarithmic</td><td>0.67624</td></tr><tr><td>ndcg@4_g.exponential_d.logarithmic</td><td>0.7427</td></tr><tr><td>ndcg@5_g.exponential_d.logarithmic</td><td>0.76932</td></tr><tr><td>ndcg@6_g.exponential_d.logarithmic</td><td>0.78041</td></tr><tr><td>ndcg@7_g.exponential_d.logarithmic</td><td>0.78602</td></tr><tr><td>ndcg@8_g.exponential_d.logarithmic</td><td>0.78826</td></tr><tr><td>ndcg@9_g.exponential_d.logarithmic</td><td>0.78968</td></tr></table><br/></div></div>"
      ]
     },
     "metadata": {},
     "output_type": "display_data"
    },
    {
     "data": {
      "text/plain": [
       "<IPython.core.display.HTML object>"
      ],
      "text/html": [
       " View run <strong style=\"color:#cdcd00\">dry-deluge-2</strong> at: <a href='https://wandb.ai/bunnynobugs/dalip-stackoverflow-answer-ranking/runs/z8zgxkdj' target=\"_blank\">https://wandb.ai/bunnynobugs/dalip-stackoverflow-answer-ranking/runs/z8zgxkdj</a><br> View project at: <a href='https://wandb.ai/bunnynobugs/dalip-stackoverflow-answer-ranking' target=\"_blank\">https://wandb.ai/bunnynobugs/dalip-stackoverflow-answer-ranking</a><br>Synced 5 W&B file(s), 1 media file(s), 2 artifact file(s) and 0 other file(s)"
      ]
     },
     "metadata": {},
     "output_type": "display_data"
    },
    {
     "data": {
      "text/plain": [
       "<IPython.core.display.HTML object>"
      ],
      "text/html": [
       "Find logs at: <code>.\\wandb\\run-20250411_192626-z8zgxkdj\\logs</code>"
      ]
     },
     "metadata": {},
     "output_type": "display_data"
    }
   ],
   "execution_count": 23
  },
  {
   "metadata": {},
   "cell_type": "markdown",
   "source": "### Analyze NDCG variants",
   "id": "ce765b4ee8487d7f"
  },
  {
   "metadata": {
    "ExecuteTime": {
     "end_time": "2025-05-16T15:48:35.687088Z",
     "start_time": "2025-05-16T15:48:35.671488Z"
    }
   },
   "cell_type": "code",
   "source": "import seaborn as sns",
   "id": "43f2c0e5385c368f",
   "outputs": [],
   "execution_count": 60
  },
  {
   "metadata": {
    "ExecuteTime": {
     "end_time": "2025-05-16T15:48:53.561336Z",
     "start_time": "2025-05-16T15:48:53.545693Z"
    }
   },
   "cell_type": "code",
   "source": [
    "sns.set_style('whitegrid')\n",
    "sns.set_context('notebook')\n",
    "\n",
    "cmap = sns.cubehelix_palette(reverse=True, as_cmap=True)"
   ],
   "id": "a59594a663d45f49",
   "outputs": [],
   "execution_count": 63
  },
  {
   "metadata": {
    "ExecuteTime": {
     "end_time": "2025-05-16T15:51:54.270775Z",
     "start_time": "2025-05-16T15:51:50.140115Z"
    }
   },
   "cell_type": "code",
   "source": [
    "evaluator = RankingEvaluator(ndcg_k=list(range(1, 10)),\n",
    "                             ndcg_gain_func='linear', ndcg_discount_func='logarithmic')\n",
    "\n",
    "metrics_with_random_df = []\n",
    "\n",
    "for frac in np.arange(0.0, 1.1, 0.1):\n",
    "    predictions_with_random = predictions.copy()\n",
    "    predictions_with_random[predictions.sample(frac=frac).index] = predictions.sample(frac=frac)\n",
    "    metrics = evaluator(targets, predictions_with_random, fold_0_df['qid'])\n",
    "    for metric_name in metrics:\n",
    "        if 'ndcg' in metric_name:\n",
    "            k = metric_name.split('@')[1][0]\n",
    "            metrics_with_random_df.append({'random fraction': frac, 'k': k, 'NDCG@k': metrics[metric_name]})\n",
    "\n",
    "metrics_with_random_df = pd.DataFrame(metrics_with_random_df)"
   ],
   "id": "1f1ce0abd0598e0a",
   "outputs": [],
   "execution_count": 76
  },
  {
   "metadata": {
    "ExecuteTime": {
     "end_time": "2025-05-16T15:51:54.913241Z",
     "start_time": "2025-05-16T15:51:54.313878Z"
    }
   },
   "cell_type": "code",
   "source": [
    "plot = sns.relplot(x='k', y='NDCG@k', hue='random fraction', data=metrics_with_random_df,\n",
    "            kind='line', palette=cmap)\n",
    "plot.savefig('outputs/images/ndcg_linear.pdf')"
   ],
   "id": "4ed55095ec39b5bd",
   "outputs": [
    {
     "data": {
      "text/plain": [
       "<Figure size 451.925x360 with 1 Axes>"
      ],
      "image/png": "[encoded data removed]"
     },
     "metadata": {},
     "output_type": "display_data"
    }
   ],
   "execution_count": 77
  },
  {
   "metadata": {
    "ExecuteTime": {
     "end_time": "2025-05-16T15:52:02.579639Z",
     "start_time": "2025-05-16T15:51:58.089094Z"
    }
   },
   "cell_type": "code",
   "source": [
    "evaluator = RankingEvaluator(ndcg_k=list(range(1, 10)),\n",
    "                             ndcg_gain_func='exponential', ndcg_discount_func='logarithmic')\n",
    "\n",
    "metrics_with_random_df = []\n",
    "\n",
    "for frac in np.arange(0.0, 1.1, 0.1):\n",
    "    predictions_with_random = predictions.copy()\n",
    "    predictions_with_random[predictions.sample(frac=frac).index] = predictions.sample(frac=frac)\n",
    "    metrics = evaluator(targets, predictions_with_random, fold_0_df['qid'])\n",
    "    for metric_name in metrics:\n",
    "        if 'ndcg' in metric_name:\n",
    "            k = metric_name.split('@')[1][0]\n",
    "            metrics_with_random_df.append({'random fraction': frac, 'k': k, 'NDCG@k': metrics[metric_name]})\n",
    "\n",
    "metrics_with_random_df = pd.DataFrame(metrics_with_random_df)"
   ],
   "id": "c016cac85f98944f",
   "outputs": [],
   "execution_count": 78
  },
  {
   "metadata": {
    "ExecuteTime": {
     "end_time": "2025-05-16T15:52:03.169355Z",
     "start_time": "2025-05-16T15:52:02.599821Z"
    }
   },
   "cell_type": "code",
   "source": [
    "plot = sns.relplot(x='k', y='NDCG@k', hue='random fraction', data=metrics_with_random_df,\n",
    "            kind='line', palette=cmap)\n",
    "plot.savefig('outputs/images/ndcg_exponential.pdf')"
   ],
   "id": "ae788aed4d57d2a3",
   "outputs": [
    {
     "data": {
      "text/plain": [
       "<Figure size 451.925x360 with 1 Axes>"
      ],
      "image/png": "[encoded data removed]"
     },
     "metadata": {},
     "output_type": "display_data"
    }
   ],
   "execution_count": 79
  },
  {
   "metadata": {},
   "cell_type": "code",
   "outputs": [],
   "execution_count": null,
   "source": "",
   "id": "9aeb64f523f1e9a4"
  }
 ],
 "metadata": {
  "kernelspec": {
   "display_name": "Python 3",
   "language": "python",
   "name": "python3"
  },
  "language_info": {
   "codemirror_mode": {
    "name": "ipython",
    "version": 2
   },
   "file_extension": ".py",
   "mimetype": "text/x-python",
   "name": "python",
   "nbconvert_exporter": "python",
   "pygments_lexer": "ipython2",
   "version": "2.7.6"
  }
 },
 "nbformat": 4,
 "nbformat_minor": 5
}
